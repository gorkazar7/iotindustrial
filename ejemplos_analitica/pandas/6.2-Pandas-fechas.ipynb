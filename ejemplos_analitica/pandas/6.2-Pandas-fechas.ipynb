{
 "cells": [
  {
   "cell_type": "markdown",
   "metadata": {},
   "source": [
    "   \n",
    "# Fechas con pandas**\n",
    "\n",
    "### Pandas también incluye sus propias funciones para trabajar con fechas.\n"
   ]
  },
  {
   "cell_type": "code",
   "execution_count": 1,
   "metadata": {
    "ExecuteTime": {
     "end_time": "2023-11-29T20:09:36.990668327Z",
     "start_time": "2023-11-29T20:09:36.473753500Z"
    }
   },
   "outputs": [],
   "source": [
    "import numpy as np\n",
    "import pandas as pd\n",
    "import datetime"
   ]
  },
  {
   "cell_type": "markdown",
   "metadata": {},
   "source": [
    "## <font color=#003d5c>_.to_datetime()_ </font>"
   ]
  },
  {
   "cell_type": "code",
   "execution_count": 2,
   "metadata": {
    "ExecuteTime": {
     "end_time": "2023-11-29T20:09:40.377635627Z",
     "start_time": "2023-11-29T20:09:40.360794999Z"
    }
   },
   "outputs": [
    {
     "name": "stdout",
     "output_type": "stream",
     "text": [
      "2020-04-24 00:00:00\n",
      "<class 'pandas._libs.tslibs.timestamps.Timestamp'>\n"
     ]
    }
   ],
   "source": [
    "fecha = pd.to_datetime('24th April, 2020')\n",
    "\n",
    "print(fecha)\n",
    "print(type(fecha))"
   ]
  },
  {
   "cell_type": "code",
   "execution_count": 3,
   "metadata": {
    "ExecuteTime": {
     "end_time": "2023-11-29T20:09:43.204730661Z",
     "start_time": "2023-11-29T20:09:43.162956052Z"
    }
   },
   "outputs": [
    {
     "data": {
      "text/plain": "(0, 0, 0)"
     },
     "execution_count": 3,
     "metadata": {},
     "output_type": "execute_result"
    }
   ],
   "source": [
    "fecha.hour, fecha.minute, fecha.second"
   ]
  },
  {
   "cell_type": "markdown",
   "metadata": {},
   "source": [
    "## <font color=#003d5c>_.to_timedelta()_ </font>\n",
    "### Esta función nos permite calcular los días antes o después de una fecha determinada."
   ]
  },
  {
   "cell_type": "code",
   "execution_count": 4,
   "metadata": {
    "ExecuteTime": {
     "end_time": "2023-11-29T20:09:47.492422968Z",
     "start_time": "2023-11-29T20:09:47.423575004Z"
    }
   },
   "outputs": [
    {
     "name": "stdout",
     "output_type": "stream",
     "text": [
      "2023-11-29 21:09:47.422188\n"
     ]
    }
   ],
   "source": [
    "fecha = datetime.datetime.now()\n",
    "\n",
    "print(fecha)"
   ]
  },
  {
   "cell_type": "markdown",
   "metadata": {},
   "source": [
    "### La fecha del día siguiente"
   ]
  },
  {
   "cell_type": "code",
   "execution_count": 5,
   "metadata": {
    "ExecuteTime": {
     "end_time": "2023-11-29T20:09:50.179288411Z",
     "start_time": "2023-11-29T20:09:50.134929260Z"
    }
   },
   "outputs": [
    {
     "name": "stdout",
     "output_type": "stream",
     "text": [
      "La fecha de hoy es:  2023-11-29 21:09:47.422188\n",
      "Y la fecha en 4 días será:  2023-12-03 21:09:47.422188\n"
     ]
    }
   ],
   "source": [
    "print('La fecha de hoy es: ', fecha)\n",
    "\n",
    "print('Y la fecha en 4 días será: ', fecha + pd.to_timedelta(4,unit='D'))\n"
   ]
  },
  {
   "cell_type": "markdown",
   "metadata": {},
   "source": [
    "## <font color=#003d5c>_.date_range()_ </font>\n",
    "### Este método nos permite generar un rango de fechas."
   ]
  },
  {
   "cell_type": "code",
   "execution_count": 6,
   "metadata": {
    "ExecuteTime": {
     "end_time": "2023-11-29T20:09:52.095260349Z",
     "start_time": "2023-11-29T20:09:52.043982399Z"
    }
   },
   "outputs": [
    {
     "data": {
      "text/plain": "DatetimeIndex(['2020-04-24', '2020-04-25', '2020-04-26', '2020-04-27',\n               '2020-04-28', '2020-04-29', '2020-04-30', '2020-05-01',\n               '2020-05-02', '2020-05-03', '2020-05-04', '2020-05-05',\n               '2020-05-06', '2020-05-07', '2020-05-08', '2020-05-09',\n               '2020-05-10', '2020-05-11', '2020-05-12', '2020-05-13',\n               '2020-05-14', '2020-05-15', '2020-05-16', '2020-05-17',\n               '2020-05-18', '2020-05-19', '2020-05-20', '2020-05-21',\n               '2020-05-22', '2020-05-23', '2020-05-24'],\n              dtype='datetime64[ns]', freq='D')"
     },
     "execution_count": 6,
     "metadata": {},
     "output_type": "execute_result"
    }
   ],
   "source": [
    "fechas_inicio = pd.date_range(start='24/4/2020', end='24/5/2020', freq='D')\n",
    "fechas_inicio"
   ]
  },
  {
   "cell_type": "code",
   "execution_count": 7,
   "metadata": {
    "ExecuteTime": {
     "end_time": "2023-11-29T20:10:20.725645568Z",
     "start_time": "2023-11-29T20:10:20.657370728Z"
    }
   },
   "outputs": [
    {
     "data": {
      "text/plain": "DatetimeIndex(['2020-05-24', '2020-05-25', '2020-05-26', '2020-05-27',\n               '2020-05-28', '2020-05-29', '2020-05-30', '2020-05-31',\n               '2020-06-01', '2020-06-02', '2020-06-03', '2020-06-04',\n               '2020-06-05', '2020-06-06', '2020-06-07', '2020-06-08',\n               '2020-06-09', '2020-06-10', '2020-06-11', '2020-06-12',\n               '2020-06-13', '2020-06-14', '2020-06-15', '2020-06-16',\n               '2020-06-17', '2020-06-18', '2020-06-19', '2020-06-20',\n               '2020-06-21', '2020-06-22', '2020-06-23', '2020-06-24'],\n              dtype='datetime64[ns]', freq='D')"
     },
     "execution_count": 7,
     "metadata": {},
     "output_type": "execute_result"
    }
   ],
   "source": [
    "fechas_fin = pd.date_range(start='24/5/2020', end='24/6/2020', freq='D')\n",
    "fechas_fin"
   ]
  },
  {
   "cell_type": "code",
   "execution_count": 22,
   "metadata": {
    "ExecuteTime": {
     "end_time": "2023-11-29T20:15:15.489794626Z",
     "start_time": "2023-11-29T20:15:15.441404119Z"
    }
   },
   "outputs": [
    {
     "data": {
      "text/plain": "   Inicio_campaña Fin_campaña  Target\n0      2020-04-24  2020-05-24       0\n1      2020-04-25  2020-05-25       1\n2      2020-04-26  2020-05-26       1\n3      2020-04-27  2020-05-27       1\n4      2020-04-28  2020-05-28       1\n5      2020-04-29  2020-05-29       1\n6      2020-04-30  2020-05-30       1\n7      2020-05-01  2020-05-31       0\n8      2020-05-02  2020-06-01       0\n9      2020-05-03  2020-06-02       0\n10     2020-05-04  2020-06-03       1\n11     2020-05-05  2020-06-04       1\n12     2020-05-06  2020-06-05       1\n13     2020-05-07  2020-06-06       1\n14     2020-05-08  2020-06-07       0",
      "text/html": "<div>\n<style scoped>\n    .dataframe tbody tr th:only-of-type {\n        vertical-align: middle;\n    }\n\n    .dataframe tbody tr th {\n        vertical-align: top;\n    }\n\n    .dataframe thead th {\n        text-align: right;\n    }\n</style>\n<table border=\"1\" class=\"dataframe\">\n  <thead>\n    <tr style=\"text-align: right;\">\n      <th></th>\n      <th>Inicio_campaña</th>\n      <th>Fin_campaña</th>\n      <th>Target</th>\n    </tr>\n  </thead>\n  <tbody>\n    <tr>\n      <th>0</th>\n      <td>2020-04-24</td>\n      <td>2020-05-24</td>\n      <td>0</td>\n    </tr>\n    <tr>\n      <th>1</th>\n      <td>2020-04-25</td>\n      <td>2020-05-25</td>\n      <td>1</td>\n    </tr>\n    <tr>\n      <th>2</th>\n      <td>2020-04-26</td>\n      <td>2020-05-26</td>\n      <td>1</td>\n    </tr>\n    <tr>\n      <th>3</th>\n      <td>2020-04-27</td>\n      <td>2020-05-27</td>\n      <td>1</td>\n    </tr>\n    <tr>\n      <th>4</th>\n      <td>2020-04-28</td>\n      <td>2020-05-28</td>\n      <td>1</td>\n    </tr>\n    <tr>\n      <th>5</th>\n      <td>2020-04-29</td>\n      <td>2020-05-29</td>\n      <td>1</td>\n    </tr>\n    <tr>\n      <th>6</th>\n      <td>2020-04-30</td>\n      <td>2020-05-30</td>\n      <td>1</td>\n    </tr>\n    <tr>\n      <th>7</th>\n      <td>2020-05-01</td>\n      <td>2020-05-31</td>\n      <td>0</td>\n    </tr>\n    <tr>\n      <th>8</th>\n      <td>2020-05-02</td>\n      <td>2020-06-01</td>\n      <td>0</td>\n    </tr>\n    <tr>\n      <th>9</th>\n      <td>2020-05-03</td>\n      <td>2020-06-02</td>\n      <td>0</td>\n    </tr>\n    <tr>\n      <th>10</th>\n      <td>2020-05-04</td>\n      <td>2020-06-03</td>\n      <td>1</td>\n    </tr>\n    <tr>\n      <th>11</th>\n      <td>2020-05-05</td>\n      <td>2020-06-04</td>\n      <td>1</td>\n    </tr>\n    <tr>\n      <th>12</th>\n      <td>2020-05-06</td>\n      <td>2020-06-05</td>\n      <td>1</td>\n    </tr>\n    <tr>\n      <th>13</th>\n      <td>2020-05-07</td>\n      <td>2020-06-06</td>\n      <td>1</td>\n    </tr>\n    <tr>\n      <th>14</th>\n      <td>2020-05-08</td>\n      <td>2020-06-07</td>\n      <td>0</td>\n    </tr>\n  </tbody>\n</table>\n</div>"
     },
     "execution_count": 22,
     "metadata": {},
     "output_type": "execute_result"
    }
   ],
   "source": [
    "lista_equis = []\n",
    "\n",
    "for i in range(15):\n",
    "    lista_equis.append(np.random.randint(2))\n",
    "\n",
    "\n",
    "df = pd.DataFrame()\n",
    "\n",
    "df['Inicio_campaña'] = fechas_inicio[:15]\n",
    "df['Fin_campaña'] = fechas_fin[:15]\n",
    "df['Target'] = lista_equis\n",
    "\n",
    "df"
   ]
  },
  {
   "cell_type": "code",
   "execution_count": 31,
   "metadata": {
    "ExecuteTime": {
     "end_time": "2023-11-29T20:16:41.242564675Z",
     "start_time": "2023-11-29T20:16:41.195482373Z"
    }
   },
   "outputs": [],
   "source": [
    "df['Día de inicio'] = df['Inicio_campaña'].dt.day\n",
    "\n",
    "df['Mes de inicio'] = df['Inicio_campaña'].dt.month\n",
    "\n",
    "df['Año de inicio'] = df['Inicio_campaña'].dt.year\n",
    "\n",
    "df['Hora_inicio'] = df['Inicio_campaña'].dt.hour\n",
    "\n",
    "df['Minuto_inicio'] = df['Inicio_campaña'].dt.minute\n",
    "\n",
    "df['Segundo_inicio'] = df['Inicio_campaña'].dt.second\n",
    "\n",
    "\n",
    "df['Duracion'] = df['Fin_campaña']-df['Inicio_campaña']"
   ]
  },
  {
   "cell_type": "code",
   "execution_count": 32,
   "metadata": {
    "ExecuteTime": {
     "end_time": "2023-11-29T20:16:43.090471633Z",
     "start_time": "2023-11-29T20:16:42.995588760Z"
    }
   },
   "outputs": [
    {
     "ename": "ValueError",
     "evalue": "Length mismatch: Expected axis has 11 elements, new values have 10 elements",
     "output_type": "error",
     "traceback": [
      "\u001B[0;31m---------------------------------------------------------------------------\u001B[0m",
      "\u001B[0;31mValueError\u001B[0m                                Traceback (most recent call last)",
      "Cell \u001B[0;32mIn[32], line 1\u001B[0m\n\u001B[0;32m----> 1\u001B[0m \u001B[43mdf\u001B[49m\u001B[38;5;241;43m.\u001B[39;49m\u001B[43mcolumns\u001B[49m \u001B[38;5;241m=\u001B[39m [\u001B[38;5;124m'\u001B[39m\u001B[38;5;124mInicio_campaña\u001B[39m\u001B[38;5;124m'\u001B[39m, \u001B[38;5;124m'\u001B[39m\u001B[38;5;124mFin_campaña\u001B[39m\u001B[38;5;124m'\u001B[39m, \u001B[38;5;124m'\u001B[39m\u001B[38;5;124mTarget\u001B[39m\u001B[38;5;124m'\u001B[39m,\u001B[38;5;124m'\u001B[39m\u001B[38;5;124mDía de inicio\u001B[39m\u001B[38;5;124m'\u001B[39m,\u001B[38;5;124m'\u001B[39m\u001B[38;5;124mMes de inicio\u001B[39m\u001B[38;5;124m'\u001B[39m,\u001B[38;5;124m'\u001B[39m\u001B[38;5;124mAño de inicio\u001B[39m\u001B[38;5;124m'\u001B[39m,\u001B[38;5;124m'\u001B[39m\u001B[38;5;124mHora_inicio\u001B[39m\u001B[38;5;124m'\u001B[39m,\n\u001B[1;32m      2\u001B[0m               \u001B[38;5;124m'\u001B[39m\u001B[38;5;124mMinuto_inicio\u001B[39m\u001B[38;5;124m'\u001B[39m,\u001B[38;5;124m'\u001B[39m\u001B[38;5;124mSegundo_inicio\u001B[39m\u001B[38;5;124m'\u001B[39m,\u001B[38;5;124m'\u001B[39m\u001B[38;5;124mDuracion\u001B[39m\u001B[38;5;124m'\u001B[39m]\n",
      "File \u001B[0;32m~/.local/lib/python3.8/site-packages/pandas/core/generic.py:6002\u001B[0m, in \u001B[0;36mNDFrame.__setattr__\u001B[0;34m(self, name, value)\u001B[0m\n\u001B[1;32m   6000\u001B[0m \u001B[38;5;28;01mtry\u001B[39;00m:\n\u001B[1;32m   6001\u001B[0m     \u001B[38;5;28mobject\u001B[39m\u001B[38;5;241m.\u001B[39m\u001B[38;5;21m__getattribute__\u001B[39m(\u001B[38;5;28mself\u001B[39m, name)\n\u001B[0;32m-> 6002\u001B[0m     \u001B[38;5;28;01mreturn\u001B[39;00m \u001B[38;5;28;43mobject\u001B[39;49m\u001B[38;5;241;43m.\u001B[39;49m\u001B[38;5;21;43m__setattr__\u001B[39;49m\u001B[43m(\u001B[49m\u001B[38;5;28;43mself\u001B[39;49m\u001B[43m,\u001B[49m\u001B[43m \u001B[49m\u001B[43mname\u001B[49m\u001B[43m,\u001B[49m\u001B[43m \u001B[49m\u001B[43mvalue\u001B[49m\u001B[43m)\u001B[49m\n\u001B[1;32m   6003\u001B[0m \u001B[38;5;28;01mexcept\u001B[39;00m \u001B[38;5;167;01mAttributeError\u001B[39;00m:\n\u001B[1;32m   6004\u001B[0m     \u001B[38;5;28;01mpass\u001B[39;00m\n",
      "File \u001B[0;32m~/.local/lib/python3.8/site-packages/pandas/_libs/properties.pyx:69\u001B[0m, in \u001B[0;36mpandas._libs.properties.AxisProperty.__set__\u001B[0;34m()\u001B[0m\n",
      "File \u001B[0;32m~/.local/lib/python3.8/site-packages/pandas/core/generic.py:730\u001B[0m, in \u001B[0;36mNDFrame._set_axis\u001B[0;34m(self, axis, labels)\u001B[0m\n\u001B[1;32m    725\u001B[0m \u001B[38;5;124;03m\"\"\"\u001B[39;00m\n\u001B[1;32m    726\u001B[0m \u001B[38;5;124;03mThis is called from the cython code when we set the `index` attribute\u001B[39;00m\n\u001B[1;32m    727\u001B[0m \u001B[38;5;124;03mdirectly, e.g. `series.index = [1, 2, 3]`.\u001B[39;00m\n\u001B[1;32m    728\u001B[0m \u001B[38;5;124;03m\"\"\"\u001B[39;00m\n\u001B[1;32m    729\u001B[0m labels \u001B[38;5;241m=\u001B[39m ensure_index(labels)\n\u001B[0;32m--> 730\u001B[0m \u001B[38;5;28;43mself\u001B[39;49m\u001B[38;5;241;43m.\u001B[39;49m\u001B[43m_mgr\u001B[49m\u001B[38;5;241;43m.\u001B[39;49m\u001B[43mset_axis\u001B[49m\u001B[43m(\u001B[49m\u001B[43maxis\u001B[49m\u001B[43m,\u001B[49m\u001B[43m \u001B[49m\u001B[43mlabels\u001B[49m\u001B[43m)\u001B[49m\n\u001B[1;32m    731\u001B[0m \u001B[38;5;28mself\u001B[39m\u001B[38;5;241m.\u001B[39m_clear_item_cache()\n",
      "File \u001B[0;32m~/.local/lib/python3.8/site-packages/pandas/core/internals/managers.py:225\u001B[0m, in \u001B[0;36mBaseBlockManager.set_axis\u001B[0;34m(self, axis, new_labels)\u001B[0m\n\u001B[1;32m    223\u001B[0m \u001B[38;5;28;01mdef\u001B[39;00m \u001B[38;5;21mset_axis\u001B[39m(\u001B[38;5;28mself\u001B[39m, axis: AxisInt, new_labels: Index) \u001B[38;5;241m-\u001B[39m\u001B[38;5;241m>\u001B[39m \u001B[38;5;28;01mNone\u001B[39;00m:\n\u001B[1;32m    224\u001B[0m     \u001B[38;5;66;03m# Caller is responsible for ensuring we have an Index object.\u001B[39;00m\n\u001B[0;32m--> 225\u001B[0m     \u001B[38;5;28;43mself\u001B[39;49m\u001B[38;5;241;43m.\u001B[39;49m\u001B[43m_validate_set_axis\u001B[49m\u001B[43m(\u001B[49m\u001B[43maxis\u001B[49m\u001B[43m,\u001B[49m\u001B[43m \u001B[49m\u001B[43mnew_labels\u001B[49m\u001B[43m)\u001B[49m\n\u001B[1;32m    226\u001B[0m     \u001B[38;5;28mself\u001B[39m\u001B[38;5;241m.\u001B[39maxes[axis] \u001B[38;5;241m=\u001B[39m new_labels\n",
      "File \u001B[0;32m~/.local/lib/python3.8/site-packages/pandas/core/internals/base.py:70\u001B[0m, in \u001B[0;36mDataManager._validate_set_axis\u001B[0;34m(self, axis, new_labels)\u001B[0m\n\u001B[1;32m     67\u001B[0m     \u001B[38;5;28;01mpass\u001B[39;00m\n\u001B[1;32m     69\u001B[0m \u001B[38;5;28;01melif\u001B[39;00m new_len \u001B[38;5;241m!=\u001B[39m old_len:\n\u001B[0;32m---> 70\u001B[0m     \u001B[38;5;28;01mraise\u001B[39;00m \u001B[38;5;167;01mValueError\u001B[39;00m(\n\u001B[1;32m     71\u001B[0m         \u001B[38;5;124mf\u001B[39m\u001B[38;5;124m\"\u001B[39m\u001B[38;5;124mLength mismatch: Expected axis has \u001B[39m\u001B[38;5;132;01m{\u001B[39;00mold_len\u001B[38;5;132;01m}\u001B[39;00m\u001B[38;5;124m elements, new \u001B[39m\u001B[38;5;124m\"\u001B[39m\n\u001B[1;32m     72\u001B[0m         \u001B[38;5;124mf\u001B[39m\u001B[38;5;124m\"\u001B[39m\u001B[38;5;124mvalues have \u001B[39m\u001B[38;5;132;01m{\u001B[39;00mnew_len\u001B[38;5;132;01m}\u001B[39;00m\u001B[38;5;124m elements\u001B[39m\u001B[38;5;124m\"\u001B[39m\n\u001B[1;32m     73\u001B[0m     )\n",
      "\u001B[0;31mValueError\u001B[0m: Length mismatch: Expected axis has 11 elements, new values have 10 elements"
     ]
    }
   ],
   "source": [
    "df.columns = ['Inicio_campaña', 'Fin_campaña', 'Target','Día de inicio','Mes de inicio','Año de inicio','Hora_inicio',\n",
    "              'Minuto_inicio','Segundo_inicio','Duracion']"
   ]
  },
  {
   "cell_type": "code",
   "execution_count": 33,
   "metadata": {
    "ExecuteTime": {
     "end_time": "2023-11-29T20:16:46.702002820Z",
     "start_time": "2023-11-29T20:16:46.663271695Z"
    }
   },
   "outputs": [
    {
     "data": {
      "text/plain": "   Inicio_campaña Fin_campaña  Target  Día de inicio  Mes de inicio  \\\n0      2020-04-24  2020-05-24       0             24              4   \n1      2020-04-25  2020-05-25       1             25              4   \n2      2020-04-26  2020-05-26       1             26              4   \n3      2020-04-27  2020-05-27       1             27              4   \n4      2020-04-28  2020-05-28       1             28              4   \n5      2020-04-29  2020-05-29       1             29              4   \n6      2020-04-30  2020-05-30       1             30              4   \n7      2020-05-01  2020-05-31       0              1              5   \n8      2020-05-02  2020-06-01       0              2              5   \n9      2020-05-03  2020-06-02       0              3              5   \n10     2020-05-04  2020-06-03       1              4              5   \n11     2020-05-05  2020-06-04       1              5              5   \n12     2020-05-06  2020-06-05       1              6              5   \n13     2020-05-07  2020-06-06       1              7              5   \n14     2020-05-08  2020-06-07       0              8              5   \n\n    Año de inicio  Hora_inicio  Minuto_inicio  Segundo_inicio Duración  \\\n0            2020            0              0               0  30 days   \n1            2020            0              0               0  30 days   \n2            2020            0              0               0  30 days   \n3            2020            0              0               0  30 days   \n4            2020            0              0               0  30 days   \n5            2020            0              0               0  30 days   \n6            2020            0              0               0  30 days   \n7            2020            0              0               0  30 days   \n8            2020            0              0               0  30 days   \n9            2020            0              0               0  30 days   \n10           2020            0              0               0  30 days   \n11           2020            0              0               0  30 days   \n12           2020            0              0               0  30 days   \n13           2020            0              0               0  30 days   \n14           2020            0              0               0  30 days   \n\n   Duracion  \n0   30 days  \n1   30 days  \n2   30 days  \n3   30 days  \n4   30 days  \n5   30 days  \n6   30 days  \n7   30 days  \n8   30 days  \n9   30 days  \n10  30 days  \n11  30 days  \n12  30 days  \n13  30 days  \n14  30 days  ",
      "text/html": "<div>\n<style scoped>\n    .dataframe tbody tr th:only-of-type {\n        vertical-align: middle;\n    }\n\n    .dataframe tbody tr th {\n        vertical-align: top;\n    }\n\n    .dataframe thead th {\n        text-align: right;\n    }\n</style>\n<table border=\"1\" class=\"dataframe\">\n  <thead>\n    <tr style=\"text-align: right;\">\n      <th></th>\n      <th>Inicio_campaña</th>\n      <th>Fin_campaña</th>\n      <th>Target</th>\n      <th>Día de inicio</th>\n      <th>Mes de inicio</th>\n      <th>Año de inicio</th>\n      <th>Hora_inicio</th>\n      <th>Minuto_inicio</th>\n      <th>Segundo_inicio</th>\n      <th>Duración</th>\n      <th>Duracion</th>\n    </tr>\n  </thead>\n  <tbody>\n    <tr>\n      <th>0</th>\n      <td>2020-04-24</td>\n      <td>2020-05-24</td>\n      <td>0</td>\n      <td>24</td>\n      <td>4</td>\n      <td>2020</td>\n      <td>0</td>\n      <td>0</td>\n      <td>0</td>\n      <td>30 days</td>\n      <td>30 days</td>\n    </tr>\n    <tr>\n      <th>1</th>\n      <td>2020-04-25</td>\n      <td>2020-05-25</td>\n      <td>1</td>\n      <td>25</td>\n      <td>4</td>\n      <td>2020</td>\n      <td>0</td>\n      <td>0</td>\n      <td>0</td>\n      <td>30 days</td>\n      <td>30 days</td>\n    </tr>\n    <tr>\n      <th>2</th>\n      <td>2020-04-26</td>\n      <td>2020-05-26</td>\n      <td>1</td>\n      <td>26</td>\n      <td>4</td>\n      <td>2020</td>\n      <td>0</td>\n      <td>0</td>\n      <td>0</td>\n      <td>30 days</td>\n      <td>30 days</td>\n    </tr>\n    <tr>\n      <th>3</th>\n      <td>2020-04-27</td>\n      <td>2020-05-27</td>\n      <td>1</td>\n      <td>27</td>\n      <td>4</td>\n      <td>2020</td>\n      <td>0</td>\n      <td>0</td>\n      <td>0</td>\n      <td>30 days</td>\n      <td>30 days</td>\n    </tr>\n    <tr>\n      <th>4</th>\n      <td>2020-04-28</td>\n      <td>2020-05-28</td>\n      <td>1</td>\n      <td>28</td>\n      <td>4</td>\n      <td>2020</td>\n      <td>0</td>\n      <td>0</td>\n      <td>0</td>\n      <td>30 days</td>\n      <td>30 days</td>\n    </tr>\n    <tr>\n      <th>5</th>\n      <td>2020-04-29</td>\n      <td>2020-05-29</td>\n      <td>1</td>\n      <td>29</td>\n      <td>4</td>\n      <td>2020</td>\n      <td>0</td>\n      <td>0</td>\n      <td>0</td>\n      <td>30 days</td>\n      <td>30 days</td>\n    </tr>\n    <tr>\n      <th>6</th>\n      <td>2020-04-30</td>\n      <td>2020-05-30</td>\n      <td>1</td>\n      <td>30</td>\n      <td>4</td>\n      <td>2020</td>\n      <td>0</td>\n      <td>0</td>\n      <td>0</td>\n      <td>30 days</td>\n      <td>30 days</td>\n    </tr>\n    <tr>\n      <th>7</th>\n      <td>2020-05-01</td>\n      <td>2020-05-31</td>\n      <td>0</td>\n      <td>1</td>\n      <td>5</td>\n      <td>2020</td>\n      <td>0</td>\n      <td>0</td>\n      <td>0</td>\n      <td>30 days</td>\n      <td>30 days</td>\n    </tr>\n    <tr>\n      <th>8</th>\n      <td>2020-05-02</td>\n      <td>2020-06-01</td>\n      <td>0</td>\n      <td>2</td>\n      <td>5</td>\n      <td>2020</td>\n      <td>0</td>\n      <td>0</td>\n      <td>0</td>\n      <td>30 days</td>\n      <td>30 days</td>\n    </tr>\n    <tr>\n      <th>9</th>\n      <td>2020-05-03</td>\n      <td>2020-06-02</td>\n      <td>0</td>\n      <td>3</td>\n      <td>5</td>\n      <td>2020</td>\n      <td>0</td>\n      <td>0</td>\n      <td>0</td>\n      <td>30 days</td>\n      <td>30 days</td>\n    </tr>\n    <tr>\n      <th>10</th>\n      <td>2020-05-04</td>\n      <td>2020-06-03</td>\n      <td>1</td>\n      <td>4</td>\n      <td>5</td>\n      <td>2020</td>\n      <td>0</td>\n      <td>0</td>\n      <td>0</td>\n      <td>30 days</td>\n      <td>30 days</td>\n    </tr>\n    <tr>\n      <th>11</th>\n      <td>2020-05-05</td>\n      <td>2020-06-04</td>\n      <td>1</td>\n      <td>5</td>\n      <td>5</td>\n      <td>2020</td>\n      <td>0</td>\n      <td>0</td>\n      <td>0</td>\n      <td>30 days</td>\n      <td>30 days</td>\n    </tr>\n    <tr>\n      <th>12</th>\n      <td>2020-05-06</td>\n      <td>2020-06-05</td>\n      <td>1</td>\n      <td>6</td>\n      <td>5</td>\n      <td>2020</td>\n      <td>0</td>\n      <td>0</td>\n      <td>0</td>\n      <td>30 days</td>\n      <td>30 days</td>\n    </tr>\n    <tr>\n      <th>13</th>\n      <td>2020-05-07</td>\n      <td>2020-06-06</td>\n      <td>1</td>\n      <td>7</td>\n      <td>5</td>\n      <td>2020</td>\n      <td>0</td>\n      <td>0</td>\n      <td>0</td>\n      <td>30 days</td>\n      <td>30 days</td>\n    </tr>\n    <tr>\n      <th>14</th>\n      <td>2020-05-08</td>\n      <td>2020-06-07</td>\n      <td>0</td>\n      <td>8</td>\n      <td>5</td>\n      <td>2020</td>\n      <td>0</td>\n      <td>0</td>\n      <td>0</td>\n      <td>30 days</td>\n      <td>30 days</td>\n    </tr>\n  </tbody>\n</table>\n</div>"
     },
     "execution_count": 33,
     "metadata": {},
     "output_type": "execute_result"
    }
   ],
   "source": [
    "df"
   ]
  },
  {
   "cell_type": "code",
   "execution_count": 35,
   "outputs": [
    {
     "data": {
      "text/plain": "   Inicio_campaña Fin_campaña  Target  Día de inicio  Mes de inicio  \\\n0      2020-04-24  2020-05-24       0             24              4   \n1      2020-04-25  2020-05-25       1             25              4   \n2      2020-04-26  2020-05-26       1             26              4   \n3      2020-04-27  2020-05-27       1             27              4   \n4      2020-04-28  2020-05-28       1             28              4   \n5      2020-04-29  2020-05-29       1             29              4   \n6      2020-04-30  2020-05-30       1             30              4   \n7      2020-05-01  2020-05-31       0              1              5   \n8      2020-05-02  2020-06-01       0              2              5   \n9      2020-05-03  2020-06-02       0              3              5   \n10     2020-05-04  2020-06-03       1              4              5   \n11     2020-05-05  2020-06-04       1              5              5   \n12     2020-05-06  2020-06-05       1              6              5   \n13     2020-05-07  2020-06-06       1              7              5   \n14     2020-05-08  2020-06-07       0              8              5   \n\n    Año de inicio  Hora_inicio  Minuto_inicio  Segundo_inicio Duración  \\\n0            2020            0              0               0  30 days   \n1            2020            0              0               0  30 days   \n2            2020            0              0               0  30 days   \n3            2020            0              0               0  30 days   \n4            2020            0              0               0  30 days   \n5            2020            0              0               0  30 days   \n6            2020            0              0               0  30 days   \n7            2020            0              0               0  30 days   \n8            2020            0              0               0  30 days   \n9            2020            0              0               0  30 days   \n10           2020            0              0               0  30 days   \n11           2020            0              0               0  30 days   \n12           2020            0              0               0  30 days   \n13           2020            0              0               0  30 days   \n14           2020            0              0               0  30 days   \n\n   Duracion  Días de duración  Minutos de duración  Segundos de duración  \n0   30 days              30.0              43200.0             2592000.0  \n1   30 days              30.0              43200.0             2592000.0  \n2   30 days              30.0              43200.0             2592000.0  \n3   30 days              30.0              43200.0             2592000.0  \n4   30 days              30.0              43200.0             2592000.0  \n5   30 days              30.0              43200.0             2592000.0  \n6   30 days              30.0              43200.0             2592000.0  \n7   30 days              30.0              43200.0             2592000.0  \n8   30 days              30.0              43200.0             2592000.0  \n9   30 days              30.0              43200.0             2592000.0  \n10  30 days              30.0              43200.0             2592000.0  \n11  30 days              30.0              43200.0             2592000.0  \n12  30 days              30.0              43200.0             2592000.0  \n13  30 days              30.0              43200.0             2592000.0  \n14  30 days              30.0              43200.0             2592000.0  ",
      "text/html": "<div>\n<style scoped>\n    .dataframe tbody tr th:only-of-type {\n        vertical-align: middle;\n    }\n\n    .dataframe tbody tr th {\n        vertical-align: top;\n    }\n\n    .dataframe thead th {\n        text-align: right;\n    }\n</style>\n<table border=\"1\" class=\"dataframe\">\n  <thead>\n    <tr style=\"text-align: right;\">\n      <th></th>\n      <th>Inicio_campaña</th>\n      <th>Fin_campaña</th>\n      <th>Target</th>\n      <th>Día de inicio</th>\n      <th>Mes de inicio</th>\n      <th>Año de inicio</th>\n      <th>Hora_inicio</th>\n      <th>Minuto_inicio</th>\n      <th>Segundo_inicio</th>\n      <th>Duración</th>\n      <th>Duracion</th>\n      <th>Días de duración</th>\n      <th>Minutos de duración</th>\n      <th>Segundos de duración</th>\n    </tr>\n  </thead>\n  <tbody>\n    <tr>\n      <th>0</th>\n      <td>2020-04-24</td>\n      <td>2020-05-24</td>\n      <td>0</td>\n      <td>24</td>\n      <td>4</td>\n      <td>2020</td>\n      <td>0</td>\n      <td>0</td>\n      <td>0</td>\n      <td>30 days</td>\n      <td>30 days</td>\n      <td>30.0</td>\n      <td>43200.0</td>\n      <td>2592000.0</td>\n    </tr>\n    <tr>\n      <th>1</th>\n      <td>2020-04-25</td>\n      <td>2020-05-25</td>\n      <td>1</td>\n      <td>25</td>\n      <td>4</td>\n      <td>2020</td>\n      <td>0</td>\n      <td>0</td>\n      <td>0</td>\n      <td>30 days</td>\n      <td>30 days</td>\n      <td>30.0</td>\n      <td>43200.0</td>\n      <td>2592000.0</td>\n    </tr>\n    <tr>\n      <th>2</th>\n      <td>2020-04-26</td>\n      <td>2020-05-26</td>\n      <td>1</td>\n      <td>26</td>\n      <td>4</td>\n      <td>2020</td>\n      <td>0</td>\n      <td>0</td>\n      <td>0</td>\n      <td>30 days</td>\n      <td>30 days</td>\n      <td>30.0</td>\n      <td>43200.0</td>\n      <td>2592000.0</td>\n    </tr>\n    <tr>\n      <th>3</th>\n      <td>2020-04-27</td>\n      <td>2020-05-27</td>\n      <td>1</td>\n      <td>27</td>\n      <td>4</td>\n      <td>2020</td>\n      <td>0</td>\n      <td>0</td>\n      <td>0</td>\n      <td>30 days</td>\n      <td>30 days</td>\n      <td>30.0</td>\n      <td>43200.0</td>\n      <td>2592000.0</td>\n    </tr>\n    <tr>\n      <th>4</th>\n      <td>2020-04-28</td>\n      <td>2020-05-28</td>\n      <td>1</td>\n      <td>28</td>\n      <td>4</td>\n      <td>2020</td>\n      <td>0</td>\n      <td>0</td>\n      <td>0</td>\n      <td>30 days</td>\n      <td>30 days</td>\n      <td>30.0</td>\n      <td>43200.0</td>\n      <td>2592000.0</td>\n    </tr>\n    <tr>\n      <th>5</th>\n      <td>2020-04-29</td>\n      <td>2020-05-29</td>\n      <td>1</td>\n      <td>29</td>\n      <td>4</td>\n      <td>2020</td>\n      <td>0</td>\n      <td>0</td>\n      <td>0</td>\n      <td>30 days</td>\n      <td>30 days</td>\n      <td>30.0</td>\n      <td>43200.0</td>\n      <td>2592000.0</td>\n    </tr>\n    <tr>\n      <th>6</th>\n      <td>2020-04-30</td>\n      <td>2020-05-30</td>\n      <td>1</td>\n      <td>30</td>\n      <td>4</td>\n      <td>2020</td>\n      <td>0</td>\n      <td>0</td>\n      <td>0</td>\n      <td>30 days</td>\n      <td>30 days</td>\n      <td>30.0</td>\n      <td>43200.0</td>\n      <td>2592000.0</td>\n    </tr>\n    <tr>\n      <th>7</th>\n      <td>2020-05-01</td>\n      <td>2020-05-31</td>\n      <td>0</td>\n      <td>1</td>\n      <td>5</td>\n      <td>2020</td>\n      <td>0</td>\n      <td>0</td>\n      <td>0</td>\n      <td>30 days</td>\n      <td>30 days</td>\n      <td>30.0</td>\n      <td>43200.0</td>\n      <td>2592000.0</td>\n    </tr>\n    <tr>\n      <th>8</th>\n      <td>2020-05-02</td>\n      <td>2020-06-01</td>\n      <td>0</td>\n      <td>2</td>\n      <td>5</td>\n      <td>2020</td>\n      <td>0</td>\n      <td>0</td>\n      <td>0</td>\n      <td>30 days</td>\n      <td>30 days</td>\n      <td>30.0</td>\n      <td>43200.0</td>\n      <td>2592000.0</td>\n    </tr>\n    <tr>\n      <th>9</th>\n      <td>2020-05-03</td>\n      <td>2020-06-02</td>\n      <td>0</td>\n      <td>3</td>\n      <td>5</td>\n      <td>2020</td>\n      <td>0</td>\n      <td>0</td>\n      <td>0</td>\n      <td>30 days</td>\n      <td>30 days</td>\n      <td>30.0</td>\n      <td>43200.0</td>\n      <td>2592000.0</td>\n    </tr>\n    <tr>\n      <th>10</th>\n      <td>2020-05-04</td>\n      <td>2020-06-03</td>\n      <td>1</td>\n      <td>4</td>\n      <td>5</td>\n      <td>2020</td>\n      <td>0</td>\n      <td>0</td>\n      <td>0</td>\n      <td>30 days</td>\n      <td>30 days</td>\n      <td>30.0</td>\n      <td>43200.0</td>\n      <td>2592000.0</td>\n    </tr>\n    <tr>\n      <th>11</th>\n      <td>2020-05-05</td>\n      <td>2020-06-04</td>\n      <td>1</td>\n      <td>5</td>\n      <td>5</td>\n      <td>2020</td>\n      <td>0</td>\n      <td>0</td>\n      <td>0</td>\n      <td>30 days</td>\n      <td>30 days</td>\n      <td>30.0</td>\n      <td>43200.0</td>\n      <td>2592000.0</td>\n    </tr>\n    <tr>\n      <th>12</th>\n      <td>2020-05-06</td>\n      <td>2020-06-05</td>\n      <td>1</td>\n      <td>6</td>\n      <td>5</td>\n      <td>2020</td>\n      <td>0</td>\n      <td>0</td>\n      <td>0</td>\n      <td>30 days</td>\n      <td>30 days</td>\n      <td>30.0</td>\n      <td>43200.0</td>\n      <td>2592000.0</td>\n    </tr>\n    <tr>\n      <th>13</th>\n      <td>2020-05-07</td>\n      <td>2020-06-06</td>\n      <td>1</td>\n      <td>7</td>\n      <td>5</td>\n      <td>2020</td>\n      <td>0</td>\n      <td>0</td>\n      <td>0</td>\n      <td>30 days</td>\n      <td>30 days</td>\n      <td>30.0</td>\n      <td>43200.0</td>\n      <td>2592000.0</td>\n    </tr>\n    <tr>\n      <th>14</th>\n      <td>2020-05-08</td>\n      <td>2020-06-07</td>\n      <td>0</td>\n      <td>8</td>\n      <td>5</td>\n      <td>2020</td>\n      <td>0</td>\n      <td>0</td>\n      <td>0</td>\n      <td>30 days</td>\n      <td>30 days</td>\n      <td>30.0</td>\n      <td>43200.0</td>\n      <td>2592000.0</td>\n    </tr>\n  </tbody>\n</table>\n</div>"
     },
     "execution_count": 35,
     "metadata": {},
     "output_type": "execute_result"
    }
   ],
   "source": [
    "from datetime import timedelta\n",
    "\n",
    "df['Duracion']\n",
    "df['Días de duración'] = df['Duracion']/timedelta(days=1)\n",
    "df['Minutos de duración'] = df['Duracion']/timedelta(minutes=1)\n",
    "df['Segundos de duración'] = df['Duracion']/timedelta(seconds=1)\n",
    "\n",
    "df"
   ],
   "metadata": {
    "collapsed": false,
    "ExecuteTime": {
     "end_time": "2023-11-29T20:16:57.711022319Z",
     "start_time": "2023-11-29T20:16:57.669656754Z"
    }
   }
  },
  {
   "cell_type": "code",
   "execution_count": null,
   "outputs": [],
   "source": [],
   "metadata": {
    "collapsed": false
   }
  }
 ],
 "metadata": {
  "kernelspec": {
   "display_name": "Python 3",
   "language": "python",
   "name": "python3"
  },
  "language_info": {
   "codemirror_mode": {
    "name": "ipython",
    "version": 3
   },
   "file_extension": ".py",
   "mimetype": "text/x-python",
   "name": "python",
   "nbconvert_exporter": "python",
   "pygments_lexer": "ipython3",
   "version": "3.7.6"
  }
 },
 "nbformat": 4,
 "nbformat_minor": 4
}
