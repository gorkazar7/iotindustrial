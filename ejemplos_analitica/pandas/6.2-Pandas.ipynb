{
 "cells": [
  {
   "cell_type": "markdown",
   "metadata": {},
   "source": [
    "# Pandas\n",
    "\n",
    "Pandas provee herramientas analiticas y dos estructuras de datos: dataframes y series. De hecho Pandas está programado a través de Numpy.\n",
    "Con pandas podemos trabajar datos tabulados como hojas Excel o ficheros CSV, cosa que no trabajamos con Numpy.\n",
    "\n",
    "### Características:\n",
    "\n",
    "- Ofrece estructuras de datos flexibles y expresivas diseñadas para trabajar con datos tabulados y etiquetados, esta son: `Series` y  `DataFrame`.\n",
    "- Posee herramientas robustas de lectura/escritura de datos desde ficheros con formatos conocidos como: CSV, XLS. SQL, HDF5, entre otros.\n",
    "- Permite filtrar, agregar, o eliminar datos.\n",
    "- Combina las características de las matrices de alto rendimiento de `numpy` con capacidades de manipulación de datos tabulados."
   ]
  },
  {
   "cell_type": "code",
   "execution_count": 1,
   "metadata": {
    "ExecuteTime": {
     "end_time": "2023-11-21T15:05:44.485277189Z",
     "start_time": "2023-11-21T15:05:40.535050379Z"
    }
   },
   "outputs": [
    {
     "name": "stdout",
     "output_type": "stream",
     "text": [
      "Requirement already satisfied: pandas in /home/zarateadm/.local/lib/python3.8/site-packages (2.0.3)\r\n",
      "Requirement already satisfied: numpy>=1.20.3; python_version < \"3.10\" in /home/zarateadm/.local/lib/python3.8/site-packages (from pandas) (1.24.4)\r\n",
      "Requirement already satisfied: pytz>=2020.1 in /home/zarateadm/.local/lib/python3.8/site-packages (from pandas) (2023.3.post1)\r\n",
      "Requirement already satisfied: tzdata>=2022.1 in /home/zarateadm/.local/lib/python3.8/site-packages (from pandas) (2023.3)\r\n",
      "Requirement already satisfied: python-dateutil>=2.8.2 in /usr/local/lib/python3.8/dist-packages (from pandas) (2.8.2)\r\n",
      "Requirement already satisfied: six>=1.5 in /home/zarateadm/.local/lib/python3.8/site-packages (from python-dateutil>=2.8.2->pandas) (1.15.0)\r\n"
     ]
    }
   ],
   "source": [
    "!pip install pandas"
   ]
  },
  {
   "cell_type": "code",
   "execution_count": 2,
   "metadata": {
    "ExecuteTime": {
     "end_time": "2023-11-21T15:05:53.114238199Z",
     "start_time": "2023-11-21T15:05:51.938929721Z"
    }
   },
   "outputs": [],
   "source": [
    "import pandas as pd\n",
    "import numpy as np"
   ]
  },
  {
   "cell_type": "markdown",
   "metadata": {},
   "source": [
    "### <font color=#003d5c> _Series_ </font>\n",
    "\n",
    "Las funcionalidades de `pandas` se basan en dos estructuras de datos fundamentales: *Series* y *DataFrames*.\n",
    "\n",
    "Una `Series` es un objeto que contiene un `array` unidimensional de datos y un `array` de etiquetas, conocido como *índice*. Si no se especifica un índice o etiqueta, este se genera internamente como una secuencia ordenada de números enteros.\n",
    "\n",
    "```python\n",
    "s = pd.Series(data, index=index)\n",
    "```\n",
    "\n",
    "Los objetos instanciado de la clase pandas.Series son de una sola dimensión y pueden ser al ingresar como argumento de data objetos de tipo:\n",
    "\n",
    "* tuple\n",
    "* list\n",
    "* dict\n",
    "* numpy.ndarray"
   ]
  },
  {
   "cell_type": "code",
   "execution_count": 8,
   "metadata": {
    "ExecuteTime": {
     "end_time": "2023-11-21T15:07:08.565224708Z",
     "start_time": "2023-11-21T15:07:08.491769576Z"
    }
   },
   "outputs": [
    {
     "data": {
      "text/plain": "0    0.755787\n1    0.032022\n2    0.337353\n3    0.953341\n4    0.311161\n5    0.027462\n6    0.006721\n7    0.245380\ndtype: float64"
     },
     "execution_count": 8,
     "metadata": {},
     "output_type": "execute_result"
    }
   ],
   "source": [
    "serie_1 = pd.Series(np.random.rand(8))\n",
    "serie_1"
   ]
  },
  {
   "cell_type": "code",
   "execution_count": 16,
   "metadata": {
    "ExecuteTime": {
     "end_time": "2023-11-21T15:11:28.475963855Z",
     "start_time": "2023-11-21T15:11:28.385040703Z"
    }
   },
   "outputs": [
    {
     "data": {
      "text/plain": "array([0.24742797, 0.49731018, 0.61200869, 0.87162622, 0.04642436,\n       0.61183672, 0.85209334, 0.96532602])"
     },
     "execution_count": 16,
     "metadata": {},
     "output_type": "execute_result"
    }
   ],
   "source": [
    "serie_1 = pd.Series(np.random.rand(8), name = \"mi primer serie\")\n",
    "serie_1.values"
   ]
  },
  {
   "cell_type": "code",
   "execution_count": 17,
   "outputs": [
    {
     "data": {
      "text/plain": "RangeIndex(start=0, stop=8, step=1)"
     },
     "execution_count": 17,
     "metadata": {},
     "output_type": "execute_result"
    }
   ],
   "source": [
    "serie_1.index"
   ],
   "metadata": {
    "collapsed": false,
    "ExecuteTime": {
     "end_time": "2023-11-21T15:11:29.823468013Z",
     "start_time": "2023-11-21T15:11:29.774033509Z"
    }
   }
  },
  {
   "cell_type": "code",
   "execution_count": 18,
   "outputs": [
    {
     "data": {
      "text/plain": "4.7040535016567375"
     },
     "execution_count": 18,
     "metadata": {},
     "output_type": "execute_result"
    }
   ],
   "source": [
    "serie_1.values.sum()"
   ],
   "metadata": {
    "collapsed": false,
    "ExecuteTime": {
     "end_time": "2023-11-21T15:11:33.562787386Z",
     "start_time": "2023-11-21T15:11:33.494075128Z"
    }
   }
  },
  {
   "cell_type": "code",
   "execution_count": 19,
   "metadata": {
    "ExecuteTime": {
     "end_time": "2023-11-21T15:11:35.078277088Z",
     "start_time": "2023-11-21T15:11:35.045606107Z"
    }
   },
   "outputs": [
    {
     "data": {
      "text/plain": "0.04642436442090825"
     },
     "execution_count": 19,
     "metadata": {},
     "output_type": "execute_result"
    }
   ],
   "source": [
    "serie_1[4]"
   ]
  },
  {
   "cell_type": "code",
   "execution_count": 20,
   "metadata": {
    "ExecuteTime": {
     "end_time": "2023-11-21T15:11:44.815384247Z",
     "start_time": "2023-11-21T15:11:44.754096530Z"
    }
   },
   "outputs": [
    {
     "data": {
      "text/plain": "1    0.357082\n2    0.569661\n3    0.566536\n4    0.059284\n5    0.264092\n6    0.524267\n7    0.908178\n8    0.043754\nName: Mi segunda serie, dtype: float64"
     },
     "execution_count": 20,
     "metadata": {},
     "output_type": "execute_result"
    }
   ],
   "source": [
    "# Podemos especificar los valores de los índices\n",
    "serie_2 = pd.Series(np.random.rand(8),index = range(1,9),name = \"Mi segunda serie\")\n",
    "serie_2"
   ]
  },
  {
   "cell_type": "code",
   "execution_count": 21,
   "outputs": [
    {
     "data": {
      "text/plain": "RangeIndex(start=1, stop=9, step=1)"
     },
     "execution_count": 21,
     "metadata": {},
     "output_type": "execute_result"
    }
   ],
   "source": [
    "serie_2.index"
   ],
   "metadata": {
    "collapsed": false,
    "ExecuteTime": {
     "end_time": "2023-11-21T15:11:57.722078934Z",
     "start_time": "2023-11-21T15:11:57.646134506Z"
    }
   }
  },
  {
   "cell_type": "code",
   "execution_count": 22,
   "metadata": {
    "ExecuteTime": {
     "end_time": "2023-11-21T15:12:04.727045905Z",
     "start_time": "2023-11-21T15:12:04.668509924Z"
    }
   },
   "outputs": [
    {
     "data": {
      "text/plain": "4    0.961990\n6    0.859229\n1    0.647449\n2    0.990880\n8    0.105827\ndtype: float64"
     },
     "execution_count": 22,
     "metadata": {},
     "output_type": "execute_result"
    }
   ],
   "source": [
    "# Podemos especificar los valores de los índices mas generalmente\n",
    "serie_3 = pd.Series(np.random.rand(5),index = [4,6,1,2,8])\n",
    "serie_3"
   ]
  },
  {
   "cell_type": "code",
   "execution_count": 23,
   "outputs": [
    {
     "data": {
      "text/plain": "Index([4, 6, 1, 2, 8], dtype='int64')"
     },
     "execution_count": 23,
     "metadata": {},
     "output_type": "execute_result"
    }
   ],
   "source": [
    "serie_3.index"
   ],
   "metadata": {
    "collapsed": false,
    "ExecuteTime": {
     "end_time": "2023-11-21T15:12:16.668153766Z",
     "start_time": "2023-11-21T15:12:16.586127979Z"
    }
   }
  },
  {
   "cell_type": "code",
   "execution_count": 24,
   "metadata": {
    "ExecuteTime": {
     "end_time": "2023-11-21T15:12:36.143151384Z",
     "start_time": "2023-11-21T15:12:35.262894757Z"
    }
   },
   "outputs": [
    {
     "ename": "KeyError",
     "evalue": "0",
     "output_type": "error",
     "traceback": [
      "\u001B[0;31m---------------------------------------------------------------------------\u001B[0m",
      "\u001B[0;31mKeyError\u001B[0m                                  Traceback (most recent call last)",
      "File \u001B[0;32m~/.local/lib/python3.8/site-packages/pandas/core/indexes/base.py:3653\u001B[0m, in \u001B[0;36mIndex.get_loc\u001B[0;34m(self, key)\u001B[0m\n\u001B[1;32m   3652\u001B[0m \u001B[38;5;28;01mtry\u001B[39;00m:\n\u001B[0;32m-> 3653\u001B[0m     \u001B[38;5;28;01mreturn\u001B[39;00m \u001B[38;5;28;43mself\u001B[39;49m\u001B[38;5;241;43m.\u001B[39;49m\u001B[43m_engine\u001B[49m\u001B[38;5;241;43m.\u001B[39;49m\u001B[43mget_loc\u001B[49m\u001B[43m(\u001B[49m\u001B[43mcasted_key\u001B[49m\u001B[43m)\u001B[49m\n\u001B[1;32m   3654\u001B[0m \u001B[38;5;28;01mexcept\u001B[39;00m \u001B[38;5;167;01mKeyError\u001B[39;00m \u001B[38;5;28;01mas\u001B[39;00m err:\n",
      "File \u001B[0;32m~/.local/lib/python3.8/site-packages/pandas/_libs/index.pyx:147\u001B[0m, in \u001B[0;36mpandas._libs.index.IndexEngine.get_loc\u001B[0;34m()\u001B[0m\n",
      "File \u001B[0;32m~/.local/lib/python3.8/site-packages/pandas/_libs/index.pyx:176\u001B[0m, in \u001B[0;36mpandas._libs.index.IndexEngine.get_loc\u001B[0;34m()\u001B[0m\n",
      "File \u001B[0;32mpandas/_libs/hashtable_class_helper.pxi:2606\u001B[0m, in \u001B[0;36mpandas._libs.hashtable.Int64HashTable.get_item\u001B[0;34m()\u001B[0m\n",
      "File \u001B[0;32mpandas/_libs/hashtable_class_helper.pxi:2630\u001B[0m, in \u001B[0;36mpandas._libs.hashtable.Int64HashTable.get_item\u001B[0;34m()\u001B[0m\n",
      "\u001B[0;31mKeyError\u001B[0m: 0",
      "\nThe above exception was the direct cause of the following exception:\n",
      "\u001B[0;31mKeyError\u001B[0m                                  Traceback (most recent call last)",
      "Cell \u001B[0;32mIn[24], line 1\u001B[0m\n\u001B[0;32m----> 1\u001B[0m \u001B[43mserie_3\u001B[49m\u001B[43m[\u001B[49m\u001B[38;5;241;43m0\u001B[39;49m\u001B[43m]\u001B[49m\n",
      "File \u001B[0;32m~/.local/lib/python3.8/site-packages/pandas/core/series.py:1007\u001B[0m, in \u001B[0;36mSeries.__getitem__\u001B[0;34m(self, key)\u001B[0m\n\u001B[1;32m   1004\u001B[0m     \u001B[38;5;28;01mreturn\u001B[39;00m \u001B[38;5;28mself\u001B[39m\u001B[38;5;241m.\u001B[39m_values[key]\n\u001B[1;32m   1006\u001B[0m \u001B[38;5;28;01melif\u001B[39;00m key_is_scalar:\n\u001B[0;32m-> 1007\u001B[0m     \u001B[38;5;28;01mreturn\u001B[39;00m \u001B[38;5;28;43mself\u001B[39;49m\u001B[38;5;241;43m.\u001B[39;49m\u001B[43m_get_value\u001B[49m\u001B[43m(\u001B[49m\u001B[43mkey\u001B[49m\u001B[43m)\u001B[49m\n\u001B[1;32m   1009\u001B[0m \u001B[38;5;28;01mif\u001B[39;00m is_hashable(key):\n\u001B[1;32m   1010\u001B[0m     \u001B[38;5;66;03m# Otherwise index.get_value will raise InvalidIndexError\u001B[39;00m\n\u001B[1;32m   1011\u001B[0m     \u001B[38;5;28;01mtry\u001B[39;00m:\n\u001B[1;32m   1012\u001B[0m         \u001B[38;5;66;03m# For labels that don't resolve as scalars like tuples and frozensets\u001B[39;00m\n",
      "File \u001B[0;32m~/.local/lib/python3.8/site-packages/pandas/core/series.py:1116\u001B[0m, in \u001B[0;36mSeries._get_value\u001B[0;34m(self, label, takeable)\u001B[0m\n\u001B[1;32m   1113\u001B[0m     \u001B[38;5;28;01mreturn\u001B[39;00m \u001B[38;5;28mself\u001B[39m\u001B[38;5;241m.\u001B[39m_values[label]\n\u001B[1;32m   1115\u001B[0m \u001B[38;5;66;03m# Similar to Index.get_value, but we do not fall back to positional\u001B[39;00m\n\u001B[0;32m-> 1116\u001B[0m loc \u001B[38;5;241m=\u001B[39m \u001B[38;5;28;43mself\u001B[39;49m\u001B[38;5;241;43m.\u001B[39;49m\u001B[43mindex\u001B[49m\u001B[38;5;241;43m.\u001B[39;49m\u001B[43mget_loc\u001B[49m\u001B[43m(\u001B[49m\u001B[43mlabel\u001B[49m\u001B[43m)\u001B[49m\n\u001B[1;32m   1118\u001B[0m \u001B[38;5;28;01mif\u001B[39;00m is_integer(loc):\n\u001B[1;32m   1119\u001B[0m     \u001B[38;5;28;01mreturn\u001B[39;00m \u001B[38;5;28mself\u001B[39m\u001B[38;5;241m.\u001B[39m_values[loc]\n",
      "File \u001B[0;32m~/.local/lib/python3.8/site-packages/pandas/core/indexes/base.py:3655\u001B[0m, in \u001B[0;36mIndex.get_loc\u001B[0;34m(self, key)\u001B[0m\n\u001B[1;32m   3653\u001B[0m     \u001B[38;5;28;01mreturn\u001B[39;00m \u001B[38;5;28mself\u001B[39m\u001B[38;5;241m.\u001B[39m_engine\u001B[38;5;241m.\u001B[39mget_loc(casted_key)\n\u001B[1;32m   3654\u001B[0m \u001B[38;5;28;01mexcept\u001B[39;00m \u001B[38;5;167;01mKeyError\u001B[39;00m \u001B[38;5;28;01mas\u001B[39;00m err:\n\u001B[0;32m-> 3655\u001B[0m     \u001B[38;5;28;01mraise\u001B[39;00m \u001B[38;5;167;01mKeyError\u001B[39;00m(key) \u001B[38;5;28;01mfrom\u001B[39;00m \u001B[38;5;21;01merr\u001B[39;00m\n\u001B[1;32m   3656\u001B[0m \u001B[38;5;28;01mexcept\u001B[39;00m \u001B[38;5;167;01mTypeError\u001B[39;00m:\n\u001B[1;32m   3657\u001B[0m     \u001B[38;5;66;03m# If we have a listlike key, _check_indexing_error will raise\u001B[39;00m\n\u001B[1;32m   3658\u001B[0m     \u001B[38;5;66;03m#  InvalidIndexError. Otherwise we fall through and re-raise\u001B[39;00m\n\u001B[1;32m   3659\u001B[0m     \u001B[38;5;66;03m#  the TypeError.\u001B[39;00m\n\u001B[1;32m   3660\u001B[0m     \u001B[38;5;28mself\u001B[39m\u001B[38;5;241m.\u001B[39m_check_indexing_error(key)\n",
      "\u001B[0;31mKeyError\u001B[0m: 0"
     ]
    }
   ],
   "source": [
    "serie_3[0]"
   ]
  },
  {
   "cell_type": "code",
   "execution_count": 25,
   "metadata": {
    "ExecuteTime": {
     "end_time": "2023-11-21T15:12:39.689625930Z",
     "start_time": "2023-11-21T15:12:39.611093494Z"
    }
   },
   "outputs": [
    {
     "data": {
      "text/plain": "0.9619896031187456"
     },
     "execution_count": 25,
     "metadata": {},
     "output_type": "execute_result"
    }
   ],
   "source": [
    "serie_3[4]"
   ]
  },
  {
   "cell_type": "code",
   "execution_count": 26,
   "metadata": {
    "ExecuteTime": {
     "end_time": "2023-11-21T15:12:43.937913042Z",
     "start_time": "2023-11-21T15:12:43.763368555Z"
    }
   },
   "outputs": [
    {
     "data": {
      "text/plain": "a    0.902825\ne    0.336488\ni    0.492109\no    0.041271\nu    0.779520\ndtype: float64"
     },
     "execution_count": 26,
     "metadata": {},
     "output_type": "execute_result"
    }
   ],
   "source": [
    "serie_4 = pd.Series(np.random.rand(5),index = [\"a\",\"e\",\"i\",\"o\",\"u\"])\n",
    "serie_4"
   ]
  },
  {
   "cell_type": "code",
   "execution_count": 27,
   "metadata": {
    "ExecuteTime": {
     "end_time": "2023-11-21T15:12:51.772240623Z",
     "start_time": "2023-11-21T15:12:51.617847619Z"
    }
   },
   "outputs": [
    {
     "data": {
      "text/plain": "0.9028248821190195"
     },
     "execution_count": 27,
     "metadata": {},
     "output_type": "execute_result"
    }
   ],
   "source": [
    "serie_4[0]"
   ]
  },
  {
   "cell_type": "code",
   "execution_count": 28,
   "metadata": {
    "ExecuteTime": {
     "end_time": "2023-11-21T15:13:09.568558096Z",
     "start_time": "2023-11-21T15:13:09.495120775Z"
    }
   },
   "outputs": [
    {
     "data": {
      "text/plain": "0.9028248821190195"
     },
     "execution_count": 28,
     "metadata": {},
     "output_type": "execute_result"
    }
   ],
   "source": [
    "serie_4[\"a\"]"
   ]
  },
  {
   "cell_type": "markdown",
   "metadata": {},
   "source": [
    "Incluso los diccionarios se pueden convertir en series"
   ]
  },
  {
   "cell_type": "code",
   "execution_count": 29,
   "metadata": {
    "ExecuteTime": {
     "end_time": "2023-11-21T15:13:25.761591163Z",
     "start_time": "2023-11-21T15:13:25.649257555Z"
    }
   },
   "outputs": [
    {
     "data": {
      "text/plain": "Nobre       [Héctor, Manuel]\nApellido             Garduño\ndtype: object"
     },
     "execution_count": 29,
     "metadata": {},
     "output_type": "execute_result"
    }
   ],
   "source": [
    "diccionario = {\"Nobre\":[\"Héctor\",\"Manuel\"],\"Apellido\":\"Garduño\"}\n",
    "pd.Series(diccionario)"
   ]
  },
  {
   "cell_type": "markdown",
   "metadata": {},
   "source": [
    "Es importante notar que las series son estructuras de datos en una sola dimensión. Si queremos estructuras mas complejas, debemos usar dataframes."
   ]
  },
  {
   "cell_type": "markdown",
   "metadata": {},
   "source": [
    "### <font color=#003d5c> _Dataframes_ </font>\n",
    "    \n",
    "Un `DataFrame` es una estructura de datos que almacena datos de forma tabular, es decir, ordenada en filas y columnas etiquetadas. Cada fila (`row`) contiene una observación y cada columna (`column`) una variable. \n",
    "Un `DataFrame` acepta datos heterogéneos, o sea, las variables pueden ser de distintos tipos (numérico, string, boolean, etc.). \n",
    "Además de contener datos, un `DataFrame` contiene el nombre de las variables y sus tipos, y métodos que permiten acceder y modificar los datos.\n",
    "\n",
    "```python\n",
    "s = pd.DataFrame(data, ...)\n",
    "```\n",
    "\n",
    "La clase `pandas.DataFrame` permite crear dataframes a partir de datos que pueden corresponder a:\n",
    "\n",
    "* Objetos de tipo dict.\n",
    "* Series objetos tipo tuple.\n",
    "* Objetos numpy.ndarray (arrays que contienen sólo números).\n",
    "* Otros objetos instanciado de pandas.DataFrame.\n",
    "\n",
    "Dichos datos pueden ser ingresados como argumentos del parámetro data al instanciarlos.\n",
    "\n",
    "Los dataframes indexan por defecto las columnas y los encabezados con valores numéricos. Sin embargo, estos pueden ser modificados por el usuario.\n"
   ]
  },
  {
   "cell_type": "code",
   "execution_count": 30,
   "metadata": {
    "ExecuteTime": {
     "end_time": "2023-11-21T15:24:23.818564113Z",
     "start_time": "2023-11-21T15:24:23.711288375Z"
    }
   },
   "outputs": [
    {
     "data": {
      "text/plain": "   0  1  2\n0  0  1  2\n1  1  2  3\n2  2  3  4\n3  3  4  5",
      "text/html": "<div>\n<style scoped>\n    .dataframe tbody tr th:only-of-type {\n        vertical-align: middle;\n    }\n\n    .dataframe tbody tr th {\n        vertical-align: top;\n    }\n\n    .dataframe thead th {\n        text-align: right;\n    }\n</style>\n<table border=\"1\" class=\"dataframe\">\n  <thead>\n    <tr style=\"text-align: right;\">\n      <th></th>\n      <th>0</th>\n      <th>1</th>\n      <th>2</th>\n    </tr>\n  </thead>\n  <tbody>\n    <tr>\n      <th>0</th>\n      <td>0</td>\n      <td>1</td>\n      <td>2</td>\n    </tr>\n    <tr>\n      <th>1</th>\n      <td>1</td>\n      <td>2</td>\n      <td>3</td>\n    </tr>\n    <tr>\n      <th>2</th>\n      <td>2</td>\n      <td>3</td>\n      <td>4</td>\n    </tr>\n    <tr>\n      <th>3</th>\n      <td>3</td>\n      <td>4</td>\n      <td>5</td>\n    </tr>\n  </tbody>\n</table>\n</div>"
     },
     "execution_count": 30,
     "metadata": {},
     "output_type": "execute_result"
    }
   ],
   "source": [
    "pd.DataFrame(data=[(0, 1, 2), (1, 2, 3), (2, 3, 4), (3, 4, 5)])"
   ]
  },
  {
   "cell_type": "code",
   "execution_count": 31,
   "metadata": {
    "ExecuteTime": {
     "end_time": "2023-11-21T15:24:41.410838727Z",
     "start_time": "2023-11-21T15:24:41.312945225Z"
    }
   },
   "outputs": [],
   "source": [
    "estudiantes = {'Nombre':[\"Hugo\", \"Paco\", \"Luis\" ,\"Pedro\", \"Juan\", \"Pablo\"], \n",
    "                'Apellido':[\"López\", \"Silva\", \"Oca\" , \"Ramírez\", \"Gutiérrez\", np.nan], \n",
    "                'Matrícula':[\"123455\", \"736923\", \"971298\" ,\"123098\", \"987656\", \"878652\"], \n",
    "                'Edad':[20, 35, 30 ,25, np.nan, 23]}"
   ]
  },
  {
   "cell_type": "code",
   "execution_count": 32,
   "metadata": {
    "ExecuteTime": {
     "end_time": "2023-11-21T15:24:42.294589238Z",
     "start_time": "2023-11-21T15:24:42.224004096Z"
    }
   },
   "outputs": [
    {
     "data": {
      "text/plain": "  Nombre   Apellido Matrícula  Edad\n0   Hugo      López    123455  20.0\n1   Paco      Silva    736923  35.0\n2   Luis        Oca    971298  30.0\n3  Pedro    Ramírez    123098  25.0\n4   Juan  Gutiérrez    987656   NaN\n5  Pablo        NaN    878652  23.0",
      "text/html": "<div>\n<style scoped>\n    .dataframe tbody tr th:only-of-type {\n        vertical-align: middle;\n    }\n\n    .dataframe tbody tr th {\n        vertical-align: top;\n    }\n\n    .dataframe thead th {\n        text-align: right;\n    }\n</style>\n<table border=\"1\" class=\"dataframe\">\n  <thead>\n    <tr style=\"text-align: right;\">\n      <th></th>\n      <th>Nombre</th>\n      <th>Apellido</th>\n      <th>Matrícula</th>\n      <th>Edad</th>\n    </tr>\n  </thead>\n  <tbody>\n    <tr>\n      <th>0</th>\n      <td>Hugo</td>\n      <td>López</td>\n      <td>123455</td>\n      <td>20.0</td>\n    </tr>\n    <tr>\n      <th>1</th>\n      <td>Paco</td>\n      <td>Silva</td>\n      <td>736923</td>\n      <td>35.0</td>\n    </tr>\n    <tr>\n      <th>2</th>\n      <td>Luis</td>\n      <td>Oca</td>\n      <td>971298</td>\n      <td>30.0</td>\n    </tr>\n    <tr>\n      <th>3</th>\n      <td>Pedro</td>\n      <td>Ramírez</td>\n      <td>123098</td>\n      <td>25.0</td>\n    </tr>\n    <tr>\n      <th>4</th>\n      <td>Juan</td>\n      <td>Gutiérrez</td>\n      <td>987656</td>\n      <td>NaN</td>\n    </tr>\n    <tr>\n      <th>5</th>\n      <td>Pablo</td>\n      <td>NaN</td>\n      <td>878652</td>\n      <td>23.0</td>\n    </tr>\n  </tbody>\n</table>\n</div>"
     },
     "execution_count": 32,
     "metadata": {},
     "output_type": "execute_result"
    }
   ],
   "source": [
    "pd.DataFrame(estudiantes)"
   ]
  },
  {
   "cell_type": "code",
   "execution_count": 33,
   "metadata": {
    "ExecuteTime": {
     "end_time": "2023-11-21T15:24:52.469550698Z",
     "start_time": "2023-11-21T15:24:52.388814433Z"
    }
   },
   "outputs": [
    {
     "data": {
      "text/plain": "array([[0, 1, 2],\n       [3, 4, 5],\n       [6, 7, 8]])"
     },
     "execution_count": 33,
     "metadata": {},
     "output_type": "execute_result"
    }
   ],
   "source": [
    "matriz = np.arange(9).reshape(3,3)\n",
    "matriz"
   ]
  },
  {
   "cell_type": "code",
   "execution_count": 35,
   "metadata": {
    "ExecuteTime": {
     "end_time": "2023-11-21T15:34:39.293906491Z",
     "start_time": "2023-11-21T15:34:39.210972877Z"
    }
   },
   "outputs": [
    {
     "data": {
      "text/plain": "   0  1  2\n0  0  1  2\n1  3  4  5\n2  6  7  8",
      "text/html": "<div>\n<style scoped>\n    .dataframe tbody tr th:only-of-type {\n        vertical-align: middle;\n    }\n\n    .dataframe tbody tr th {\n        vertical-align: top;\n    }\n\n    .dataframe thead th {\n        text-align: right;\n    }\n</style>\n<table border=\"1\" class=\"dataframe\">\n  <thead>\n    <tr style=\"text-align: right;\">\n      <th></th>\n      <th>0</th>\n      <th>1</th>\n      <th>2</th>\n    </tr>\n  </thead>\n  <tbody>\n    <tr>\n      <th>0</th>\n      <td>0</td>\n      <td>1</td>\n      <td>2</td>\n    </tr>\n    <tr>\n      <th>1</th>\n      <td>3</td>\n      <td>4</td>\n      <td>5</td>\n    </tr>\n    <tr>\n      <th>2</th>\n      <td>6</td>\n      <td>7</td>\n      <td>8</td>\n    </tr>\n  </tbody>\n</table>\n</div>"
     },
     "execution_count": 35,
     "metadata": {},
     "output_type": "execute_result"
    }
   ],
   "source": [
    "pd.DataFrame(matriz)"
   ]
  },
  {
   "cell_type": "markdown",
   "metadata": {},
   "source": [
    "El parámetro index, permite incluir un índice a cada renglón."
   ]
  },
  {
   "cell_type": "code",
   "execution_count": 37,
   "metadata": {
    "ExecuteTime": {
     "end_time": "2023-11-21T15:36:02.393763180Z",
     "start_time": "2023-11-21T15:36:02.320556690Z"
    }
   },
   "outputs": [],
   "source": [
    "registro = (\"1a persona\",\"2a persona\",\"3a persona\",\"4a persona\",\"5a persona\",\"6a persona\")"
   ]
  },
  {
   "cell_type": "code",
   "execution_count": 38,
   "metadata": {
    "ExecuteTime": {
     "end_time": "2023-11-21T15:36:22.914546630Z",
     "start_time": "2023-11-21T15:36:22.837345701Z"
    }
   },
   "outputs": [
    {
     "data": {
      "text/plain": "           Nombre   Apellido Matrícula  Edad\n1a persona   Hugo      López    123455  20.0\n2a persona   Paco      Silva    736923  35.0\n3a persona   Luis        Oca    971298  30.0\n4a persona  Pedro    Ramírez    123098  25.0\n5a persona   Juan  Gutiérrez    987656   NaN\n6a persona  Pablo        NaN    878652  23.0",
      "text/html": "<div>\n<style scoped>\n    .dataframe tbody tr th:only-of-type {\n        vertical-align: middle;\n    }\n\n    .dataframe tbody tr th {\n        vertical-align: top;\n    }\n\n    .dataframe thead th {\n        text-align: right;\n    }\n</style>\n<table border=\"1\" class=\"dataframe\">\n  <thead>\n    <tr style=\"text-align: right;\">\n      <th></th>\n      <th>Nombre</th>\n      <th>Apellido</th>\n      <th>Matrícula</th>\n      <th>Edad</th>\n    </tr>\n  </thead>\n  <tbody>\n    <tr>\n      <th>1a persona</th>\n      <td>Hugo</td>\n      <td>López</td>\n      <td>123455</td>\n      <td>20.0</td>\n    </tr>\n    <tr>\n      <th>2a persona</th>\n      <td>Paco</td>\n      <td>Silva</td>\n      <td>736923</td>\n      <td>35.0</td>\n    </tr>\n    <tr>\n      <th>3a persona</th>\n      <td>Luis</td>\n      <td>Oca</td>\n      <td>971298</td>\n      <td>30.0</td>\n    </tr>\n    <tr>\n      <th>4a persona</th>\n      <td>Pedro</td>\n      <td>Ramírez</td>\n      <td>123098</td>\n      <td>25.0</td>\n    </tr>\n    <tr>\n      <th>5a persona</th>\n      <td>Juan</td>\n      <td>Gutiérrez</td>\n      <td>987656</td>\n      <td>NaN</td>\n    </tr>\n    <tr>\n      <th>6a persona</th>\n      <td>Pablo</td>\n      <td>NaN</td>\n      <td>878652</td>\n      <td>23.0</td>\n    </tr>\n  </tbody>\n</table>\n</div>"
     },
     "execution_count": 38,
     "metadata": {},
     "output_type": "execute_result"
    }
   ],
   "source": [
    "pd.DataFrame(data = estudiantes, index = registro)"
   ]
  },
  {
   "cell_type": "markdown",
   "metadata": {},
   "source": [
    "El parámetro columns permite nombrar a las columnas."
   ]
  },
  {
   "cell_type": "code",
   "execution_count": 39,
   "metadata": {
    "ExecuteTime": {
     "end_time": "2023-11-21T15:38:27.526328134Z",
     "start_time": "2023-11-21T15:38:27.431680716Z"
    }
   },
   "outputs": [],
   "source": [
    "matriz = np.arange(9).reshape((3,3))"
   ]
  },
  {
   "cell_type": "code",
   "execution_count": 40,
   "metadata": {
    "ExecuteTime": {
     "end_time": "2023-11-21T15:38:28.917834046Z",
     "start_time": "2023-11-21T15:38:28.856340756Z"
    }
   },
   "outputs": [
    {
     "data": {
      "text/plain": "      a  b  c\nuno   0  1  2\ndos   3  4  5\ntres  6  7  8",
      "text/html": "<div>\n<style scoped>\n    .dataframe tbody tr th:only-of-type {\n        vertical-align: middle;\n    }\n\n    .dataframe tbody tr th {\n        vertical-align: top;\n    }\n\n    .dataframe thead th {\n        text-align: right;\n    }\n</style>\n<table border=\"1\" class=\"dataframe\">\n  <thead>\n    <tr style=\"text-align: right;\">\n      <th></th>\n      <th>a</th>\n      <th>b</th>\n      <th>c</th>\n    </tr>\n  </thead>\n  <tbody>\n    <tr>\n      <th>uno</th>\n      <td>0</td>\n      <td>1</td>\n      <td>2</td>\n    </tr>\n    <tr>\n      <th>dos</th>\n      <td>3</td>\n      <td>4</td>\n      <td>5</td>\n    </tr>\n    <tr>\n      <th>tres</th>\n      <td>6</td>\n      <td>7</td>\n      <td>8</td>\n    </tr>\n  </tbody>\n</table>\n</div>"
     },
     "execution_count": 40,
     "metadata": {},
     "output_type": "execute_result"
    }
   ],
   "source": [
    "pd.DataFrame(matriz, index=['uno','dos','tres'], columns=['a', 'b', 'c'])"
   ]
  },
  {
   "cell_type": "code",
   "execution_count": 41,
   "metadata": {
    "ExecuteTime": {
     "end_time": "2023-11-21T15:38:30.450197061Z",
     "start_time": "2023-11-21T15:38:30.347613530Z"
    }
   },
   "outputs": [
    {
     "data": {
      "text/plain": "           Nombre Apellido  Matrícula  Edad\nRegistro 1   Hugo    López     123455  20.0\nRegistro 2   Paco    Silva     736923  35.0\nRegistro 3   Luis      Oca     971298   NaN\nRegistro 4  Pedro  Ramírez     123098   NaN",
      "text/html": "<div>\n<style scoped>\n    .dataframe tbody tr th:only-of-type {\n        vertical-align: middle;\n    }\n\n    .dataframe tbody tr th {\n        vertical-align: top;\n    }\n\n    .dataframe thead th {\n        text-align: right;\n    }\n</style>\n<table border=\"1\" class=\"dataframe\">\n  <thead>\n    <tr style=\"text-align: right;\">\n      <th></th>\n      <th>Nombre</th>\n      <th>Apellido</th>\n      <th>Matrícula</th>\n      <th>Edad</th>\n    </tr>\n  </thead>\n  <tbody>\n    <tr>\n      <th>Registro 1</th>\n      <td>Hugo</td>\n      <td>López</td>\n      <td>123455</td>\n      <td>20.0</td>\n    </tr>\n    <tr>\n      <th>Registro 2</th>\n      <td>Paco</td>\n      <td>Silva</td>\n      <td>736923</td>\n      <td>35.0</td>\n    </tr>\n    <tr>\n      <th>Registro 3</th>\n      <td>Luis</td>\n      <td>Oca</td>\n      <td>971298</td>\n      <td>NaN</td>\n    </tr>\n    <tr>\n      <th>Registro 4</th>\n      <td>Pedro</td>\n      <td>Ramírez</td>\n      <td>123098</td>\n      <td>NaN</td>\n    </tr>\n  </tbody>\n</table>\n</div>"
     },
     "execution_count": 41,
     "metadata": {},
     "output_type": "execute_result"
    }
   ],
   "source": [
    "pd.DataFrame(\n",
    "[[\"Hugo\",\"López\",123455,20],\n",
    " [\"Paco\",\"Silva\",736923,35],\n",
    " [\"Luis\",\"Oca\",971298],\n",
    " [\"Pedro\",\"Ramírez\",123098]    \n",
    "], index = [\"Registro 1\",\"Registro 2\",\"Registro 3\",\"Registro 4\"],\n",
    "    columns = [\"Nombre\",\"Apellido\",\"Matrícula\",\"Edad\"]\n",
    ")"
   ]
  },
  {
   "cell_type": "markdown",
   "metadata": {},
   "source": [
    "## Acceso a los elementos de un dataframe\n",
    "\n",
    "Podemos accesar a los elementos de un dataframe mediante las siguientes maneras. Consideremos nuevamente el dataframe anterior:"
   ]
  },
  {
   "cell_type": "code",
   "execution_count": 42,
   "metadata": {
    "ExecuteTime": {
     "end_time": "2023-11-21T15:38:34.030653453Z",
     "start_time": "2023-11-21T15:38:33.974829208Z"
    }
   },
   "outputs": [
    {
     "data": {
      "text/plain": "           Nombre Apellido Matrícula  Edad\nRegistro 1   Hugo    López    123455  20.0\nRegistro 2   Paco    Silva    736923  35.0\nRegistro 3   Luis      Oca    971298   NaN\nRegistro 4  Pedro  Ramírez    123098   NaN",
      "text/html": "<div>\n<style scoped>\n    .dataframe tbody tr th:only-of-type {\n        vertical-align: middle;\n    }\n\n    .dataframe tbody tr th {\n        vertical-align: top;\n    }\n\n    .dataframe thead th {\n        text-align: right;\n    }\n</style>\n<table border=\"1\" class=\"dataframe\">\n  <thead>\n    <tr style=\"text-align: right;\">\n      <th></th>\n      <th>Nombre</th>\n      <th>Apellido</th>\n      <th>Matrícula</th>\n      <th>Edad</th>\n    </tr>\n  </thead>\n  <tbody>\n    <tr>\n      <th>Registro 1</th>\n      <td>Hugo</td>\n      <td>López</td>\n      <td>123455</td>\n      <td>20.0</td>\n    </tr>\n    <tr>\n      <th>Registro 2</th>\n      <td>Paco</td>\n      <td>Silva</td>\n      <td>736923</td>\n      <td>35.0</td>\n    </tr>\n    <tr>\n      <th>Registro 3</th>\n      <td>Luis</td>\n      <td>Oca</td>\n      <td>971298</td>\n      <td>NaN</td>\n    </tr>\n    <tr>\n      <th>Registro 4</th>\n      <td>Pedro</td>\n      <td>Ramírez</td>\n      <td>123098</td>\n      <td>NaN</td>\n    </tr>\n  </tbody>\n</table>\n</div>"
     },
     "execution_count": 42,
     "metadata": {},
     "output_type": "execute_result"
    }
   ],
   "source": [
    "estudiantes = pd.DataFrame(\n",
    "[[\"Hugo\",\"López\",\"123455\",20],\n",
    " [\"Paco\",\"Silva\",\"736923\",35],\n",
    " [\"Luis\",\"Oca\",\"971298\"],\n",
    " [\"Pedro\",\"Ramírez\",\"123098\"]    \n",
    "], index = [\"Registro 1\",\"Registro 2\",\"Registro 3\",\"Registro 4\"],\n",
    "    columns = [\"Nombre\",\"Apellido\",\"Matrícula\",\"Edad\"]\n",
    ")\n",
    "\n",
    "estudiantes\n"
   ]
  },
  {
   "cell_type": "code",
   "execution_count": 44,
   "metadata": {
    "ExecuteTime": {
     "end_time": "2023-11-21T15:38:44.822861434Z",
     "start_time": "2023-11-21T15:38:44.749615317Z"
    }
   },
   "outputs": [
    {
     "data": {
      "text/plain": "Registro 1     Hugo\nRegistro 2     Paco\nRegistro 3     Luis\nRegistro 4    Pedro\nName: Nombre, dtype: object"
     },
     "execution_count": 44,
     "metadata": {},
     "output_type": "execute_result"
    }
   ],
   "source": [
    "# Acceso a una columna: usando el nombre de los campos\n",
    "estudiantes[\"Nombre\"]"
   ]
  },
  {
   "cell_type": "code",
   "execution_count": 45,
   "metadata": {
    "ExecuteTime": {
     "end_time": "2023-11-21T15:38:51.750217350Z",
     "start_time": "2023-11-21T15:38:51.692155574Z"
    }
   },
   "outputs": [
    {
     "data": {
      "text/plain": "           Nombre  Edad\nRegistro 1   Hugo  20.0\nRegistro 2   Paco  35.0\nRegistro 3   Luis   NaN\nRegistro 4  Pedro   NaN",
      "text/html": "<div>\n<style scoped>\n    .dataframe tbody tr th:only-of-type {\n        vertical-align: middle;\n    }\n\n    .dataframe tbody tr th {\n        vertical-align: top;\n    }\n\n    .dataframe thead th {\n        text-align: right;\n    }\n</style>\n<table border=\"1\" class=\"dataframe\">\n  <thead>\n    <tr style=\"text-align: right;\">\n      <th></th>\n      <th>Nombre</th>\n      <th>Edad</th>\n    </tr>\n  </thead>\n  <tbody>\n    <tr>\n      <th>Registro 1</th>\n      <td>Hugo</td>\n      <td>20.0</td>\n    </tr>\n    <tr>\n      <th>Registro 2</th>\n      <td>Paco</td>\n      <td>35.0</td>\n    </tr>\n    <tr>\n      <th>Registro 3</th>\n      <td>Luis</td>\n      <td>NaN</td>\n    </tr>\n    <tr>\n      <th>Registro 4</th>\n      <td>Pedro</td>\n      <td>NaN</td>\n    </tr>\n  </tbody>\n</table>\n</div>"
     },
     "execution_count": 45,
     "metadata": {},
     "output_type": "execute_result"
    }
   ],
   "source": [
    "# Acceso a varias columnas: usando el nombre de los campos\n",
    "estudiantes[[\"Nombre\",\"Edad\"]]"
   ]
  },
  {
   "cell_type": "code",
   "execution_count": 46,
   "metadata": {
    "ExecuteTime": {
     "end_time": "2023-11-21T15:39:28.146333962Z",
     "start_time": "2023-11-21T15:39:28.047238434Z"
    }
   },
   "outputs": [
    {
     "data": {
      "text/plain": "           Nombre Apellido Matrícula  Edad\nRegistro 2   Paco    Silva    736923  35.0\nRegistro 4  Pedro  Ramírez    123098   NaN",
      "text/html": "<div>\n<style scoped>\n    .dataframe tbody tr th:only-of-type {\n        vertical-align: middle;\n    }\n\n    .dataframe tbody tr th {\n        vertical-align: top;\n    }\n\n    .dataframe thead th {\n        text-align: right;\n    }\n</style>\n<table border=\"1\" class=\"dataframe\">\n  <thead>\n    <tr style=\"text-align: right;\">\n      <th></th>\n      <th>Nombre</th>\n      <th>Apellido</th>\n      <th>Matrícula</th>\n      <th>Edad</th>\n    </tr>\n  </thead>\n  <tbody>\n    <tr>\n      <th>Registro 2</th>\n      <td>Paco</td>\n      <td>Silva</td>\n      <td>736923</td>\n      <td>35.0</td>\n    </tr>\n    <tr>\n      <th>Registro 4</th>\n      <td>Pedro</td>\n      <td>Ramírez</td>\n      <td>123098</td>\n      <td>NaN</td>\n    </tr>\n  </tbody>\n</table>\n</div>"
     },
     "execution_count": 46,
     "metadata": {},
     "output_type": "execute_result"
    }
   ],
   "source": [
    "# Acceso a una fila mediante el nombre del ínice del registro\n",
    "estudiantes.loc[[\"Registro 2\",\"Registro 4\"]]"
   ]
  },
  {
   "cell_type": "code",
   "execution_count": 47,
   "metadata": {
    "ExecuteTime": {
     "end_time": "2023-11-21T15:39:29.621903383Z",
     "start_time": "2023-11-21T15:39:29.527815003Z"
    }
   },
   "outputs": [
    {
     "data": {
      "text/plain": "Nombre         Paco\nApellido      Silva\nMatrícula    736923\nEdad           35.0\nName: Registro 2, dtype: object"
     },
     "execution_count": 47,
     "metadata": {},
     "output_type": "execute_result"
    }
   ],
   "source": [
    "# Acceso a una fila mediante el número del índice del registro\n",
    "estudiantes.iloc[1]"
   ]
  },
  {
   "cell_type": "code",
   "execution_count": 92,
   "metadata": {
    "ExecuteTime": {
     "end_time": "2023-11-21T16:36:37.515096098Z",
     "start_time": "2023-11-21T16:36:37.104990080Z"
    }
   },
   "outputs": [
    {
     "ename": "KeyError",
     "evalue": "\"None of [Index(['Registro 1', 'Registro 4'], dtype='object', name='Campo 4')] are in the [index]\"",
     "output_type": "error",
     "traceback": [
      "\u001B[0;31m---------------------------------------------------------------------------\u001B[0m",
      "\u001B[0;31mKeyError\u001B[0m                                  Traceback (most recent call last)",
      "Cell \u001B[0;32mIn[92], line 2\u001B[0m\n\u001B[1;32m      1\u001B[0m \u001B[38;5;66;03m# Acceso a ciertas columnas y ciertas filas.\u001B[39;00m\n\u001B[0;32m----> 2\u001B[0m \u001B[43mestudiantes\u001B[49m\u001B[38;5;241;43m.\u001B[39;49m\u001B[43mloc\u001B[49m\u001B[43m[\u001B[49m\u001B[43m[\u001B[49m\u001B[38;5;124;43m\"\u001B[39;49m\u001B[38;5;124;43mRegistro 1\u001B[39;49m\u001B[38;5;124;43m\"\u001B[39;49m\u001B[43m,\u001B[49m\u001B[38;5;124;43m\"\u001B[39;49m\u001B[38;5;124;43mRegistro 4\u001B[39;49m\u001B[38;5;124;43m\"\u001B[39;49m\u001B[43m]\u001B[49m\u001B[43m]\u001B[49m[[\u001B[38;5;124m\"\u001B[39m\u001B[38;5;124mMatrícula\u001B[39m\u001B[38;5;124m\"\u001B[39m,\u001B[38;5;124m\"\u001B[39m\u001B[38;5;124mEdad\u001B[39m\u001B[38;5;124m\"\u001B[39m]]\n",
      "File \u001B[0;32m~/.local/lib/python3.8/site-packages/pandas/core/indexing.py:1103\u001B[0m, in \u001B[0;36m_LocationIndexer.__getitem__\u001B[0;34m(self, key)\u001B[0m\n\u001B[1;32m   1100\u001B[0m axis \u001B[38;5;241m=\u001B[39m \u001B[38;5;28mself\u001B[39m\u001B[38;5;241m.\u001B[39maxis \u001B[38;5;129;01mor\u001B[39;00m \u001B[38;5;241m0\u001B[39m\n\u001B[1;32m   1102\u001B[0m maybe_callable \u001B[38;5;241m=\u001B[39m com\u001B[38;5;241m.\u001B[39mapply_if_callable(key, \u001B[38;5;28mself\u001B[39m\u001B[38;5;241m.\u001B[39mobj)\n\u001B[0;32m-> 1103\u001B[0m \u001B[38;5;28;01mreturn\u001B[39;00m \u001B[38;5;28;43mself\u001B[39;49m\u001B[38;5;241;43m.\u001B[39;49m\u001B[43m_getitem_axis\u001B[49m\u001B[43m(\u001B[49m\u001B[43mmaybe_callable\u001B[49m\u001B[43m,\u001B[49m\u001B[43m \u001B[49m\u001B[43maxis\u001B[49m\u001B[38;5;241;43m=\u001B[39;49m\u001B[43maxis\u001B[49m\u001B[43m)\u001B[49m\n",
      "File \u001B[0;32m~/.local/lib/python3.8/site-packages/pandas/core/indexing.py:1332\u001B[0m, in \u001B[0;36m_LocIndexer._getitem_axis\u001B[0;34m(self, key, axis)\u001B[0m\n\u001B[1;32m   1329\u001B[0m     \u001B[38;5;28;01mif\u001B[39;00m \u001B[38;5;28mhasattr\u001B[39m(key, \u001B[38;5;124m\"\u001B[39m\u001B[38;5;124mndim\u001B[39m\u001B[38;5;124m\"\u001B[39m) \u001B[38;5;129;01mand\u001B[39;00m key\u001B[38;5;241m.\u001B[39mndim \u001B[38;5;241m>\u001B[39m \u001B[38;5;241m1\u001B[39m:\n\u001B[1;32m   1330\u001B[0m         \u001B[38;5;28;01mraise\u001B[39;00m \u001B[38;5;167;01mValueError\u001B[39;00m(\u001B[38;5;124m\"\u001B[39m\u001B[38;5;124mCannot index with multidimensional key\u001B[39m\u001B[38;5;124m\"\u001B[39m)\n\u001B[0;32m-> 1332\u001B[0m     \u001B[38;5;28;01mreturn\u001B[39;00m \u001B[38;5;28;43mself\u001B[39;49m\u001B[38;5;241;43m.\u001B[39;49m\u001B[43m_getitem_iterable\u001B[49m\u001B[43m(\u001B[49m\u001B[43mkey\u001B[49m\u001B[43m,\u001B[49m\u001B[43m \u001B[49m\u001B[43maxis\u001B[49m\u001B[38;5;241;43m=\u001B[39;49m\u001B[43maxis\u001B[49m\u001B[43m)\u001B[49m\n\u001B[1;32m   1334\u001B[0m \u001B[38;5;66;03m# nested tuple slicing\u001B[39;00m\n\u001B[1;32m   1335\u001B[0m \u001B[38;5;28;01mif\u001B[39;00m is_nested_tuple(key, labels):\n",
      "File \u001B[0;32m~/.local/lib/python3.8/site-packages/pandas/core/indexing.py:1272\u001B[0m, in \u001B[0;36m_LocIndexer._getitem_iterable\u001B[0;34m(self, key, axis)\u001B[0m\n\u001B[1;32m   1269\u001B[0m \u001B[38;5;28mself\u001B[39m\u001B[38;5;241m.\u001B[39m_validate_key(key, axis)\n\u001B[1;32m   1271\u001B[0m \u001B[38;5;66;03m# A collection of keys\u001B[39;00m\n\u001B[0;32m-> 1272\u001B[0m keyarr, indexer \u001B[38;5;241m=\u001B[39m \u001B[38;5;28;43mself\u001B[39;49m\u001B[38;5;241;43m.\u001B[39;49m\u001B[43m_get_listlike_indexer\u001B[49m\u001B[43m(\u001B[49m\u001B[43mkey\u001B[49m\u001B[43m,\u001B[49m\u001B[43m \u001B[49m\u001B[43maxis\u001B[49m\u001B[43m)\u001B[49m\n\u001B[1;32m   1273\u001B[0m \u001B[38;5;28;01mreturn\u001B[39;00m \u001B[38;5;28mself\u001B[39m\u001B[38;5;241m.\u001B[39mobj\u001B[38;5;241m.\u001B[39m_reindex_with_indexers(\n\u001B[1;32m   1274\u001B[0m     {axis: [keyarr, indexer]}, copy\u001B[38;5;241m=\u001B[39m\u001B[38;5;28;01mTrue\u001B[39;00m, allow_dups\u001B[38;5;241m=\u001B[39m\u001B[38;5;28;01mTrue\u001B[39;00m\n\u001B[1;32m   1275\u001B[0m )\n",
      "File \u001B[0;32m~/.local/lib/python3.8/site-packages/pandas/core/indexing.py:1462\u001B[0m, in \u001B[0;36m_LocIndexer._get_listlike_indexer\u001B[0;34m(self, key, axis)\u001B[0m\n\u001B[1;32m   1459\u001B[0m ax \u001B[38;5;241m=\u001B[39m \u001B[38;5;28mself\u001B[39m\u001B[38;5;241m.\u001B[39mobj\u001B[38;5;241m.\u001B[39m_get_axis(axis)\n\u001B[1;32m   1460\u001B[0m axis_name \u001B[38;5;241m=\u001B[39m \u001B[38;5;28mself\u001B[39m\u001B[38;5;241m.\u001B[39mobj\u001B[38;5;241m.\u001B[39m_get_axis_name(axis)\n\u001B[0;32m-> 1462\u001B[0m keyarr, indexer \u001B[38;5;241m=\u001B[39m \u001B[43max\u001B[49m\u001B[38;5;241;43m.\u001B[39;49m\u001B[43m_get_indexer_strict\u001B[49m\u001B[43m(\u001B[49m\u001B[43mkey\u001B[49m\u001B[43m,\u001B[49m\u001B[43m \u001B[49m\u001B[43maxis_name\u001B[49m\u001B[43m)\u001B[49m\n\u001B[1;32m   1464\u001B[0m \u001B[38;5;28;01mreturn\u001B[39;00m keyarr, indexer\n",
      "File \u001B[0;32m~/.local/lib/python3.8/site-packages/pandas/core/indexes/base.py:5877\u001B[0m, in \u001B[0;36mIndex._get_indexer_strict\u001B[0;34m(self, key, axis_name)\u001B[0m\n\u001B[1;32m   5874\u001B[0m \u001B[38;5;28;01melse\u001B[39;00m:\n\u001B[1;32m   5875\u001B[0m     keyarr, indexer, new_indexer \u001B[38;5;241m=\u001B[39m \u001B[38;5;28mself\u001B[39m\u001B[38;5;241m.\u001B[39m_reindex_non_unique(keyarr)\n\u001B[0;32m-> 5877\u001B[0m \u001B[38;5;28;43mself\u001B[39;49m\u001B[38;5;241;43m.\u001B[39;49m\u001B[43m_raise_if_missing\u001B[49m\u001B[43m(\u001B[49m\u001B[43mkeyarr\u001B[49m\u001B[43m,\u001B[49m\u001B[43m \u001B[49m\u001B[43mindexer\u001B[49m\u001B[43m,\u001B[49m\u001B[43m \u001B[49m\u001B[43maxis_name\u001B[49m\u001B[43m)\u001B[49m\n\u001B[1;32m   5879\u001B[0m keyarr \u001B[38;5;241m=\u001B[39m \u001B[38;5;28mself\u001B[39m\u001B[38;5;241m.\u001B[39mtake(indexer)\n\u001B[1;32m   5880\u001B[0m \u001B[38;5;28;01mif\u001B[39;00m \u001B[38;5;28misinstance\u001B[39m(key, Index):\n\u001B[1;32m   5881\u001B[0m     \u001B[38;5;66;03m# GH 42790 - Preserve name from an Index\u001B[39;00m\n",
      "File \u001B[0;32m~/.local/lib/python3.8/site-packages/pandas/core/indexes/base.py:5938\u001B[0m, in \u001B[0;36mIndex._raise_if_missing\u001B[0;34m(self, key, indexer, axis_name)\u001B[0m\n\u001B[1;32m   5936\u001B[0m     \u001B[38;5;28;01mif\u001B[39;00m use_interval_msg:\n\u001B[1;32m   5937\u001B[0m         key \u001B[38;5;241m=\u001B[39m \u001B[38;5;28mlist\u001B[39m(key)\n\u001B[0;32m-> 5938\u001B[0m     \u001B[38;5;28;01mraise\u001B[39;00m \u001B[38;5;167;01mKeyError\u001B[39;00m(\u001B[38;5;124mf\u001B[39m\u001B[38;5;124m\"\u001B[39m\u001B[38;5;124mNone of [\u001B[39m\u001B[38;5;132;01m{\u001B[39;00mkey\u001B[38;5;132;01m}\u001B[39;00m\u001B[38;5;124m] are in the [\u001B[39m\u001B[38;5;132;01m{\u001B[39;00maxis_name\u001B[38;5;132;01m}\u001B[39;00m\u001B[38;5;124m]\u001B[39m\u001B[38;5;124m\"\u001B[39m)\n\u001B[1;32m   5940\u001B[0m not_found \u001B[38;5;241m=\u001B[39m \u001B[38;5;28mlist\u001B[39m(ensure_index(key)[missing_mask\u001B[38;5;241m.\u001B[39mnonzero()[\u001B[38;5;241m0\u001B[39m]]\u001B[38;5;241m.\u001B[39munique())\n\u001B[1;32m   5941\u001B[0m \u001B[38;5;28;01mraise\u001B[39;00m \u001B[38;5;167;01mKeyError\u001B[39;00m(\u001B[38;5;124mf\u001B[39m\u001B[38;5;124m\"\u001B[39m\u001B[38;5;132;01m{\u001B[39;00mnot_found\u001B[38;5;132;01m}\u001B[39;00m\u001B[38;5;124m not in index\u001B[39m\u001B[38;5;124m\"\u001B[39m)\n",
      "\u001B[0;31mKeyError\u001B[0m: \"None of [Index(['Registro 1', 'Registro 4'], dtype='object', name='Campo 4')] are in the [index]\""
     ]
    }
   ],
   "source": [
    "# Acceso a ciertas columnas y ciertas filas.\n",
    "estudiantes.loc[[\"Registro 1\",\"Registro 4\"]][[\"Matrícula\",\"Edad\"]]"
   ]
  },
  {
   "cell_type": "markdown",
   "metadata": {},
   "source": [
    "## Operaciones básicas de dataframes\n",
    "\n",
    "También es posible añadir nuevas columnas a un dataframe utilizando columnas que ya existen."
   ]
  },
  {
   "cell_type": "code",
   "execution_count": 50,
   "metadata": {
    "ExecuteTime": {
     "end_time": "2023-11-21T15:42:13.382793812Z",
     "start_time": "2023-11-21T15:42:13.302083218Z"
    }
   },
   "outputs": [
    {
     "data": {
      "text/plain": "           Nombre Apellido Matrícula  Edad Nombre completo\nRegistro 1   Hugo    López    123455  20.0      Hugo López\nRegistro 2   Paco    Silva    736923  35.0      Paco Silva\nRegistro 3   Luis      Oca    971298   NaN        Luis Oca\nRegistro 4  Pedro  Ramírez    123098   NaN   Pedro Ramírez",
      "text/html": "<div>\n<style scoped>\n    .dataframe tbody tr th:only-of-type {\n        vertical-align: middle;\n    }\n\n    .dataframe tbody tr th {\n        vertical-align: top;\n    }\n\n    .dataframe thead th {\n        text-align: right;\n    }\n</style>\n<table border=\"1\" class=\"dataframe\">\n  <thead>\n    <tr style=\"text-align: right;\">\n      <th></th>\n      <th>Nombre</th>\n      <th>Apellido</th>\n      <th>Matrícula</th>\n      <th>Edad</th>\n      <th>Nombre completo</th>\n    </tr>\n  </thead>\n  <tbody>\n    <tr>\n      <th>Registro 1</th>\n      <td>Hugo</td>\n      <td>López</td>\n      <td>123455</td>\n      <td>20.0</td>\n      <td>Hugo López</td>\n    </tr>\n    <tr>\n      <th>Registro 2</th>\n      <td>Paco</td>\n      <td>Silva</td>\n      <td>736923</td>\n      <td>35.0</td>\n      <td>Paco Silva</td>\n    </tr>\n    <tr>\n      <th>Registro 3</th>\n      <td>Luis</td>\n      <td>Oca</td>\n      <td>971298</td>\n      <td>NaN</td>\n      <td>Luis Oca</td>\n    </tr>\n    <tr>\n      <th>Registro 4</th>\n      <td>Pedro</td>\n      <td>Ramírez</td>\n      <td>123098</td>\n      <td>NaN</td>\n      <td>Pedro Ramírez</td>\n    </tr>\n  </tbody>\n</table>\n</div>"
     },
     "execution_count": 50,
     "metadata": {},
     "output_type": "execute_result"
    }
   ],
   "source": [
    "estudiantes[\"Nombre completo\"] = estudiantes[\"Nombre\"] + \" \" + estudiantes[\"Apellido\"]\n",
    "estudiantes"
   ]
  },
  {
   "cell_type": "code",
   "execution_count": 52,
   "metadata": {
    "ExecuteTime": {
     "end_time": "2023-11-21T15:42:44.600283164Z",
     "start_time": "2023-11-21T15:42:43.230282876Z"
    }
   },
   "outputs": [
    {
     "ename": "KeyError",
     "evalue": "\"['Nombre completo'] not found in axis\"",
     "output_type": "error",
     "traceback": [
      "\u001B[0;31m---------------------------------------------------------------------------\u001B[0m",
      "\u001B[0;31mKeyError\u001B[0m                                  Traceback (most recent call last)",
      "Cell \u001B[0;32mIn[52], line 2\u001B[0m\n\u001B[1;32m      1\u001B[0m \u001B[38;5;66;03m# Eliminado de columnas\u001B[39;00m\n\u001B[0;32m----> 2\u001B[0m \u001B[43mestudiantes\u001B[49m\u001B[38;5;241;43m.\u001B[39;49m\u001B[43mdrop\u001B[49m\u001B[43m(\u001B[49m\u001B[38;5;124;43m\"\u001B[39;49m\u001B[38;5;124;43mNombre completo\u001B[39;49m\u001B[38;5;124;43m\"\u001B[39;49m\u001B[43m,\u001B[49m\u001B[43maxis\u001B[49m\u001B[43m \u001B[49m\u001B[38;5;241;43m=\u001B[39;49m\u001B[43m \u001B[49m\u001B[38;5;241;43m1\u001B[39;49m\u001B[43m,\u001B[49m\u001B[43minplace\u001B[49m\u001B[43m \u001B[49m\u001B[38;5;241;43m=\u001B[39;49m\u001B[43m \u001B[49m\u001B[38;5;28;43;01mTrue\u001B[39;49;00m\u001B[43m)\u001B[49m\n\u001B[1;32m      3\u001B[0m estudiantes\n",
      "File \u001B[0;32m~/.local/lib/python3.8/site-packages/pandas/core/frame.py:5258\u001B[0m, in \u001B[0;36mDataFrame.drop\u001B[0;34m(self, labels, axis, index, columns, level, inplace, errors)\u001B[0m\n\u001B[1;32m   5110\u001B[0m \u001B[38;5;28;01mdef\u001B[39;00m \u001B[38;5;21mdrop\u001B[39m(\n\u001B[1;32m   5111\u001B[0m     \u001B[38;5;28mself\u001B[39m,\n\u001B[1;32m   5112\u001B[0m     labels: IndexLabel \u001B[38;5;241m=\u001B[39m \u001B[38;5;28;01mNone\u001B[39;00m,\n\u001B[0;32m   (...)\u001B[0m\n\u001B[1;32m   5119\u001B[0m     errors: IgnoreRaise \u001B[38;5;241m=\u001B[39m \u001B[38;5;124m\"\u001B[39m\u001B[38;5;124mraise\u001B[39m\u001B[38;5;124m\"\u001B[39m,\n\u001B[1;32m   5120\u001B[0m ) \u001B[38;5;241m-\u001B[39m\u001B[38;5;241m>\u001B[39m DataFrame \u001B[38;5;241m|\u001B[39m \u001B[38;5;28;01mNone\u001B[39;00m:\n\u001B[1;32m   5121\u001B[0m     \u001B[38;5;124;03m\"\"\"\u001B[39;00m\n\u001B[1;32m   5122\u001B[0m \u001B[38;5;124;03m    Drop specified labels from rows or columns.\u001B[39;00m\n\u001B[1;32m   5123\u001B[0m \n\u001B[0;32m   (...)\u001B[0m\n\u001B[1;32m   5256\u001B[0m \u001B[38;5;124;03m            weight  1.0     0.8\u001B[39;00m\n\u001B[1;32m   5257\u001B[0m \u001B[38;5;124;03m    \"\"\"\u001B[39;00m\n\u001B[0;32m-> 5258\u001B[0m     \u001B[38;5;28;01mreturn\u001B[39;00m \u001B[38;5;28;43msuper\u001B[39;49m\u001B[43m(\u001B[49m\u001B[43m)\u001B[49m\u001B[38;5;241;43m.\u001B[39;49m\u001B[43mdrop\u001B[49m\u001B[43m(\u001B[49m\n\u001B[1;32m   5259\u001B[0m \u001B[43m        \u001B[49m\u001B[43mlabels\u001B[49m\u001B[38;5;241;43m=\u001B[39;49m\u001B[43mlabels\u001B[49m\u001B[43m,\u001B[49m\n\u001B[1;32m   5260\u001B[0m \u001B[43m        \u001B[49m\u001B[43maxis\u001B[49m\u001B[38;5;241;43m=\u001B[39;49m\u001B[43maxis\u001B[49m\u001B[43m,\u001B[49m\n\u001B[1;32m   5261\u001B[0m \u001B[43m        \u001B[49m\u001B[43mindex\u001B[49m\u001B[38;5;241;43m=\u001B[39;49m\u001B[43mindex\u001B[49m\u001B[43m,\u001B[49m\n\u001B[1;32m   5262\u001B[0m \u001B[43m        \u001B[49m\u001B[43mcolumns\u001B[49m\u001B[38;5;241;43m=\u001B[39;49m\u001B[43mcolumns\u001B[49m\u001B[43m,\u001B[49m\n\u001B[1;32m   5263\u001B[0m \u001B[43m        \u001B[49m\u001B[43mlevel\u001B[49m\u001B[38;5;241;43m=\u001B[39;49m\u001B[43mlevel\u001B[49m\u001B[43m,\u001B[49m\n\u001B[1;32m   5264\u001B[0m \u001B[43m        \u001B[49m\u001B[43minplace\u001B[49m\u001B[38;5;241;43m=\u001B[39;49m\u001B[43minplace\u001B[49m\u001B[43m,\u001B[49m\n\u001B[1;32m   5265\u001B[0m \u001B[43m        \u001B[49m\u001B[43merrors\u001B[49m\u001B[38;5;241;43m=\u001B[39;49m\u001B[43merrors\u001B[49m\u001B[43m,\u001B[49m\n\u001B[1;32m   5266\u001B[0m \u001B[43m    \u001B[49m\u001B[43m)\u001B[49m\n",
      "File \u001B[0;32m~/.local/lib/python3.8/site-packages/pandas/core/generic.py:4549\u001B[0m, in \u001B[0;36mNDFrame.drop\u001B[0;34m(self, labels, axis, index, columns, level, inplace, errors)\u001B[0m\n\u001B[1;32m   4547\u001B[0m \u001B[38;5;28;01mfor\u001B[39;00m axis, labels \u001B[38;5;129;01min\u001B[39;00m axes\u001B[38;5;241m.\u001B[39mitems():\n\u001B[1;32m   4548\u001B[0m     \u001B[38;5;28;01mif\u001B[39;00m labels \u001B[38;5;129;01mis\u001B[39;00m \u001B[38;5;129;01mnot\u001B[39;00m \u001B[38;5;28;01mNone\u001B[39;00m:\n\u001B[0;32m-> 4549\u001B[0m         obj \u001B[38;5;241m=\u001B[39m \u001B[43mobj\u001B[49m\u001B[38;5;241;43m.\u001B[39;49m\u001B[43m_drop_axis\u001B[49m\u001B[43m(\u001B[49m\u001B[43mlabels\u001B[49m\u001B[43m,\u001B[49m\u001B[43m \u001B[49m\u001B[43maxis\u001B[49m\u001B[43m,\u001B[49m\u001B[43m \u001B[49m\u001B[43mlevel\u001B[49m\u001B[38;5;241;43m=\u001B[39;49m\u001B[43mlevel\u001B[49m\u001B[43m,\u001B[49m\u001B[43m \u001B[49m\u001B[43merrors\u001B[49m\u001B[38;5;241;43m=\u001B[39;49m\u001B[43merrors\u001B[49m\u001B[43m)\u001B[49m\n\u001B[1;32m   4551\u001B[0m \u001B[38;5;28;01mif\u001B[39;00m inplace:\n\u001B[1;32m   4552\u001B[0m     \u001B[38;5;28mself\u001B[39m\u001B[38;5;241m.\u001B[39m_update_inplace(obj)\n",
      "File \u001B[0;32m~/.local/lib/python3.8/site-packages/pandas/core/generic.py:4591\u001B[0m, in \u001B[0;36mNDFrame._drop_axis\u001B[0;34m(self, labels, axis, level, errors, only_slice)\u001B[0m\n\u001B[1;32m   4589\u001B[0m         new_axis \u001B[38;5;241m=\u001B[39m axis\u001B[38;5;241m.\u001B[39mdrop(labels, level\u001B[38;5;241m=\u001B[39mlevel, errors\u001B[38;5;241m=\u001B[39merrors)\n\u001B[1;32m   4590\u001B[0m     \u001B[38;5;28;01melse\u001B[39;00m:\n\u001B[0;32m-> 4591\u001B[0m         new_axis \u001B[38;5;241m=\u001B[39m \u001B[43maxis\u001B[49m\u001B[38;5;241;43m.\u001B[39;49m\u001B[43mdrop\u001B[49m\u001B[43m(\u001B[49m\u001B[43mlabels\u001B[49m\u001B[43m,\u001B[49m\u001B[43m \u001B[49m\u001B[43merrors\u001B[49m\u001B[38;5;241;43m=\u001B[39;49m\u001B[43merrors\u001B[49m\u001B[43m)\u001B[49m\n\u001B[1;32m   4592\u001B[0m     indexer \u001B[38;5;241m=\u001B[39m axis\u001B[38;5;241m.\u001B[39mget_indexer(new_axis)\n\u001B[1;32m   4594\u001B[0m \u001B[38;5;66;03m# Case for non-unique axis\u001B[39;00m\n\u001B[1;32m   4595\u001B[0m \u001B[38;5;28;01melse\u001B[39;00m:\n",
      "File \u001B[0;32m~/.local/lib/python3.8/site-packages/pandas/core/indexes/base.py:6699\u001B[0m, in \u001B[0;36mIndex.drop\u001B[0;34m(self, labels, errors)\u001B[0m\n\u001B[1;32m   6697\u001B[0m \u001B[38;5;28;01mif\u001B[39;00m mask\u001B[38;5;241m.\u001B[39many():\n\u001B[1;32m   6698\u001B[0m     \u001B[38;5;28;01mif\u001B[39;00m errors \u001B[38;5;241m!=\u001B[39m \u001B[38;5;124m\"\u001B[39m\u001B[38;5;124mignore\u001B[39m\u001B[38;5;124m\"\u001B[39m:\n\u001B[0;32m-> 6699\u001B[0m         \u001B[38;5;28;01mraise\u001B[39;00m \u001B[38;5;167;01mKeyError\u001B[39;00m(\u001B[38;5;124mf\u001B[39m\u001B[38;5;124m\"\u001B[39m\u001B[38;5;132;01m{\u001B[39;00m\u001B[38;5;28mlist\u001B[39m(labels[mask])\u001B[38;5;132;01m}\u001B[39;00m\u001B[38;5;124m not found in axis\u001B[39m\u001B[38;5;124m\"\u001B[39m)\n\u001B[1;32m   6700\u001B[0m     indexer \u001B[38;5;241m=\u001B[39m indexer[\u001B[38;5;241m~\u001B[39mmask]\n\u001B[1;32m   6701\u001B[0m \u001B[38;5;28;01mreturn\u001B[39;00m \u001B[38;5;28mself\u001B[39m\u001B[38;5;241m.\u001B[39mdelete(indexer)\n",
      "\u001B[0;31mKeyError\u001B[0m: \"['Nombre completo'] not found in axis\""
     ]
    }
   ],
   "source": [
    "# Eliminado de columnas\n",
    "# del estudiantes[\"Nombre completo\"]\n",
    "\n",
    "# descartar\n",
    "#axis=0 con las filas y axis = 1 son columnas.\n",
    "#estudiantes.drop([2,3],axis = 0)\n",
    "# con inplace = True los descartes son permanentes y actuara como un del\n",
    "estudiantes.drop(\"Nombre completo\",axis = 1,inplace = True)\n",
    "estudiantes"
   ]
  },
  {
   "cell_type": "code",
   "execution_count": 53,
   "metadata": {
    "ExecuteTime": {
     "end_time": "2023-11-21T15:42:48.886883015Z",
     "start_time": "2023-11-21T15:42:48.819187781Z"
    }
   },
   "outputs": [
    {
     "data": {
      "text/plain": "        index Nombre Apellido Matrícula  Edad\n0  Registro 1   Hugo    López    123455  20.0\n1  Registro 2   Paco    Silva    736923  35.0\n2  Registro 3   Luis      Oca    971298   NaN\n3  Registro 4  Pedro  Ramírez    123098   NaN",
      "text/html": "<div>\n<style scoped>\n    .dataframe tbody tr th:only-of-type {\n        vertical-align: middle;\n    }\n\n    .dataframe tbody tr th {\n        vertical-align: top;\n    }\n\n    .dataframe thead th {\n        text-align: right;\n    }\n</style>\n<table border=\"1\" class=\"dataframe\">\n  <thead>\n    <tr style=\"text-align: right;\">\n      <th></th>\n      <th>index</th>\n      <th>Nombre</th>\n      <th>Apellido</th>\n      <th>Matrícula</th>\n      <th>Edad</th>\n    </tr>\n  </thead>\n  <tbody>\n    <tr>\n      <th>0</th>\n      <td>Registro 1</td>\n      <td>Hugo</td>\n      <td>López</td>\n      <td>123455</td>\n      <td>20.0</td>\n    </tr>\n    <tr>\n      <th>1</th>\n      <td>Registro 2</td>\n      <td>Paco</td>\n      <td>Silva</td>\n      <td>736923</td>\n      <td>35.0</td>\n    </tr>\n    <tr>\n      <th>2</th>\n      <td>Registro 3</td>\n      <td>Luis</td>\n      <td>Oca</td>\n      <td>971298</td>\n      <td>NaN</td>\n    </tr>\n    <tr>\n      <th>3</th>\n      <td>Registro 4</td>\n      <td>Pedro</td>\n      <td>Ramírez</td>\n      <td>123098</td>\n      <td>NaN</td>\n    </tr>\n  </tbody>\n</table>\n</div>"
     },
     "execution_count": 53,
     "metadata": {},
     "output_type": "execute_result"
    }
   ],
   "source": [
    "# Indexar numéricamente los registros\n",
    "estudiantes.reset_index(inplace = True)\n",
    "estudiantes"
   ]
  },
  {
   "cell_type": "code",
   "execution_count": 54,
   "metadata": {
    "ExecuteTime": {
     "end_time": "2023-11-21T15:43:16.700862823Z",
     "start_time": "2023-11-21T15:43:16.633867956Z"
    }
   },
   "outputs": [
    {
     "data": {
      "text/plain": "  Matrícula  Edad\n0    123455  20.0\n3    123098   NaN",
      "text/html": "<div>\n<style scoped>\n    .dataframe tbody tr th:only-of-type {\n        vertical-align: middle;\n    }\n\n    .dataframe tbody tr th {\n        vertical-align: top;\n    }\n\n    .dataframe thead th {\n        text-align: right;\n    }\n</style>\n<table border=\"1\" class=\"dataframe\">\n  <thead>\n    <tr style=\"text-align: right;\">\n      <th></th>\n      <th>Matrícula</th>\n      <th>Edad</th>\n    </tr>\n  </thead>\n  <tbody>\n    <tr>\n      <th>0</th>\n      <td>123455</td>\n      <td>20.0</td>\n    </tr>\n    <tr>\n      <th>3</th>\n      <td>123098</td>\n      <td>NaN</td>\n    </tr>\n  </tbody>\n</table>\n</div>"
     },
     "execution_count": 54,
     "metadata": {},
     "output_type": "execute_result"
    }
   ],
   "source": [
    "# Acceso a ciertas columnas y ciertas filas.\n",
    "estudiantes.loc[[0,3],[\"Matrícula\",\"Edad\"]]"
   ]
  },
  {
   "cell_type": "code",
   "execution_count": 56,
   "metadata": {
    "ExecuteTime": {
     "end_time": "2023-11-21T16:04:10.215529366Z",
     "start_time": "2023-11-21T16:04:10.137994550Z"
    }
   },
   "outputs": [
    {
     "data": {
      "text/plain": "        index  Edad Matrícula\n1  Registro 2  35.0    736923",
      "text/html": "<div>\n<style scoped>\n    .dataframe tbody tr th:only-of-type {\n        vertical-align: middle;\n    }\n\n    .dataframe tbody tr th {\n        vertical-align: top;\n    }\n\n    .dataframe thead th {\n        text-align: right;\n    }\n</style>\n<table border=\"1\" class=\"dataframe\">\n  <thead>\n    <tr style=\"text-align: right;\">\n      <th></th>\n      <th>index</th>\n      <th>Edad</th>\n      <th>Matrícula</th>\n    </tr>\n  </thead>\n  <tbody>\n    <tr>\n      <th>1</th>\n      <td>Registro 2</td>\n      <td>35.0</td>\n      <td>736923</td>\n    </tr>\n  </tbody>\n</table>\n</div>"
     },
     "execution_count": 56,
     "metadata": {},
     "output_type": "execute_result"
    }
   ],
   "source": [
    "# Incluso podemos hacer seleción por filtrado\n",
    "estudiantes[estudiantes[\"Edad\"] > 20][[\"index\",\"Edad\",\"Matrícula\"]]"
   ]
  },
  {
   "cell_type": "code",
   "execution_count": 57,
   "metadata": {
    "ExecuteTime": {
     "end_time": "2023-11-21T16:04:12.692001070Z",
     "start_time": "2023-11-21T16:04:12.621698919Z"
    }
   },
   "outputs": [
    {
     "data": {
      "text/plain": "      Campo 1 Campo 2  Campo 3 Campo 4  Campo 5\n0  Registro 1    Hugo    López  123455     20.0\n1  Registro 2    Paco    Silva  736923     35.0\n2  Registro 3    Luis      Oca  971298      NaN\n3  Registro 4   Pedro  Ramírez  123098      NaN",
      "text/html": "<div>\n<style scoped>\n    .dataframe tbody tr th:only-of-type {\n        vertical-align: middle;\n    }\n\n    .dataframe tbody tr th {\n        vertical-align: top;\n    }\n\n    .dataframe thead th {\n        text-align: right;\n    }\n</style>\n<table border=\"1\" class=\"dataframe\">\n  <thead>\n    <tr style=\"text-align: right;\">\n      <th></th>\n      <th>Campo 1</th>\n      <th>Campo 2</th>\n      <th>Campo 3</th>\n      <th>Campo 4</th>\n      <th>Campo 5</th>\n    </tr>\n  </thead>\n  <tbody>\n    <tr>\n      <th>0</th>\n      <td>Registro 1</td>\n      <td>Hugo</td>\n      <td>López</td>\n      <td>123455</td>\n      <td>20.0</td>\n    </tr>\n    <tr>\n      <th>1</th>\n      <td>Registro 2</td>\n      <td>Paco</td>\n      <td>Silva</td>\n      <td>736923</td>\n      <td>35.0</td>\n    </tr>\n    <tr>\n      <th>2</th>\n      <td>Registro 3</td>\n      <td>Luis</td>\n      <td>Oca</td>\n      <td>971298</td>\n      <td>NaN</td>\n    </tr>\n    <tr>\n      <th>3</th>\n      <td>Registro 4</td>\n      <td>Pedro</td>\n      <td>Ramírez</td>\n      <td>123098</td>\n      <td>NaN</td>\n    </tr>\n  </tbody>\n</table>\n</div>"
     },
     "execution_count": 57,
     "metadata": {},
     "output_type": "execute_result"
    }
   ],
   "source": [
    "# Cambiando los nombres de las columnas\n",
    "estudiantes.columns = [\"Campo 1\",\"Campo 2\",\"Campo 3\",\"Campo 4\",\"Campo 5\"]\n",
    "estudiantes"
   ]
  },
  {
   "cell_type": "code",
   "execution_count": 58,
   "metadata": {
    "ExecuteTime": {
     "end_time": "2023-11-21T16:04:26.319532888Z",
     "start_time": "2023-11-21T16:04:26.229351860Z"
    }
   },
   "outputs": [
    {
     "data": {
      "text/plain": "            Campo 1 Campo 2  Campo 3 Campo 4  Campo 5\nCampo 4                                              \n123455   Registro 1    Hugo    López  123455     20.0\n736923   Registro 2    Paco    Silva  736923     35.0\n971298   Registro 3    Luis      Oca  971298      NaN\n123098   Registro 4   Pedro  Ramírez  123098      NaN",
      "text/html": "<div>\n<style scoped>\n    .dataframe tbody tr th:only-of-type {\n        vertical-align: middle;\n    }\n\n    .dataframe tbody tr th {\n        vertical-align: top;\n    }\n\n    .dataframe thead th {\n        text-align: right;\n    }\n</style>\n<table border=\"1\" class=\"dataframe\">\n  <thead>\n    <tr style=\"text-align: right;\">\n      <th></th>\n      <th>Campo 1</th>\n      <th>Campo 2</th>\n      <th>Campo 3</th>\n      <th>Campo 4</th>\n      <th>Campo 5</th>\n    </tr>\n    <tr>\n      <th>Campo 4</th>\n      <th></th>\n      <th></th>\n      <th></th>\n      <th></th>\n      <th></th>\n    </tr>\n  </thead>\n  <tbody>\n    <tr>\n      <th>123455</th>\n      <td>Registro 1</td>\n      <td>Hugo</td>\n      <td>López</td>\n      <td>123455</td>\n      <td>20.0</td>\n    </tr>\n    <tr>\n      <th>736923</th>\n      <td>Registro 2</td>\n      <td>Paco</td>\n      <td>Silva</td>\n      <td>736923</td>\n      <td>35.0</td>\n    </tr>\n    <tr>\n      <th>971298</th>\n      <td>Registro 3</td>\n      <td>Luis</td>\n      <td>Oca</td>\n      <td>971298</td>\n      <td>NaN</td>\n    </tr>\n    <tr>\n      <th>123098</th>\n      <td>Registro 4</td>\n      <td>Pedro</td>\n      <td>Ramírez</td>\n      <td>123098</td>\n      <td>NaN</td>\n    </tr>\n  </tbody>\n</table>\n</div>"
     },
     "execution_count": 58,
     "metadata": {},
     "output_type": "execute_result"
    }
   ],
   "source": [
    "# Cambiando los nombres de las filas\n",
    "estudiantes.index = estudiantes[\"Campo 4\"]\n",
    "estudiantes"
   ]
  },
  {
   "cell_type": "code",
   "execution_count": 59,
   "metadata": {
    "ExecuteTime": {
     "end_time": "2023-11-21T16:05:43.958626947Z",
     "start_time": "2023-11-21T16:05:43.828596091Z"
    }
   },
   "outputs": [
    {
     "data": {
      "text/plain": "            Campo 1  Campo 2    Campo 3  Campo 4 Campo 5\nCampo 4                                                 \n123455   Registro 1     Hugo      López   123455    20.0\n736923   Registro 2     Paco      Silva   736923    35.0\n971298   Registro 3     Luis        Oca   971298     NaN\n123098   Registro 4    Pedro    Ramírez   123098     NaN\n888888   Registro 5   Helena   González   888888      29",
      "text/html": "<div>\n<style scoped>\n    .dataframe tbody tr th:only-of-type {\n        vertical-align: middle;\n    }\n\n    .dataframe tbody tr th {\n        vertical-align: top;\n    }\n\n    .dataframe thead th {\n        text-align: right;\n    }\n</style>\n<table border=\"1\" class=\"dataframe\">\n  <thead>\n    <tr style=\"text-align: right;\">\n      <th></th>\n      <th>Campo 1</th>\n      <th>Campo 2</th>\n      <th>Campo 3</th>\n      <th>Campo 4</th>\n      <th>Campo 5</th>\n    </tr>\n    <tr>\n      <th>Campo 4</th>\n      <th></th>\n      <th></th>\n      <th></th>\n      <th></th>\n      <th></th>\n    </tr>\n  </thead>\n  <tbody>\n    <tr>\n      <th>123455</th>\n      <td>Registro 1</td>\n      <td>Hugo</td>\n      <td>López</td>\n      <td>123455</td>\n      <td>20.0</td>\n    </tr>\n    <tr>\n      <th>736923</th>\n      <td>Registro 2</td>\n      <td>Paco</td>\n      <td>Silva</td>\n      <td>736923</td>\n      <td>35.0</td>\n    </tr>\n    <tr>\n      <th>971298</th>\n      <td>Registro 3</td>\n      <td>Luis</td>\n      <td>Oca</td>\n      <td>971298</td>\n      <td>NaN</td>\n    </tr>\n    <tr>\n      <th>123098</th>\n      <td>Registro 4</td>\n      <td>Pedro</td>\n      <td>Ramírez</td>\n      <td>123098</td>\n      <td>NaN</td>\n    </tr>\n    <tr>\n      <th>888888</th>\n      <td>Registro 5</td>\n      <td>Helena</td>\n      <td>González</td>\n      <td>888888</td>\n      <td>29</td>\n    </tr>\n  </tbody>\n</table>\n</div>"
     },
     "execution_count": 59,
     "metadata": {},
     "output_type": "execute_result"
    }
   ],
   "source": [
    "# Agregado de una fila\n",
    "nuevo_elemento = \"Registro 5, Helena, González, 888888, 29\"\n",
    "nuevo_elemento.split(\",\")\n",
    "\n",
    "estudiantes.loc[888888] = nuevo_elemento.split(\",\")\n",
    "estudiantes"
   ]
  },
  {
   "cell_type": "code",
   "execution_count": 61,
   "metadata": {
    "ExecuteTime": {
     "end_time": "2023-11-21T16:06:41.192270450Z",
     "start_time": "2023-11-21T16:06:41.132175604Z"
    }
   },
   "outputs": [
    {
     "data": {
      "text/plain": "Campo 1    Registro 5\nCampo 2        Helena\nCampo 3      González\nCampo 4        888888\nCampo 5            29\nName: 888888, dtype: object"
     },
     "execution_count": 61,
     "metadata": {},
     "output_type": "execute_result"
    }
   ],
   "source": [
    "estudiantes.iloc[-1] "
   ]
  },
  {
   "cell_type": "code",
   "execution_count": 62,
   "metadata": {
    "ExecuteTime": {
     "end_time": "2023-11-21T16:06:42.380968680Z",
     "start_time": "2023-11-21T16:06:42.313594458Z"
    }
   },
   "outputs": [
    {
     "data": {
      "text/plain": "            Campo 1  Campo 2    Campo 3  Campo 4 Campo 5  nueva\nCampo 4                                                        \n123455   Registro 1     Hugo      López   123455    20.0      5\n736923   Registro 2     Paco      Silva   736923    35.0      5\n971298   Registro 3     Luis        Oca   971298     NaN      5\n123098   Registro 4    Pedro    Ramírez   123098     NaN      5\n888888   Registro 5   Helena   González   888888      29      5",
      "text/html": "<div>\n<style scoped>\n    .dataframe tbody tr th:only-of-type {\n        vertical-align: middle;\n    }\n\n    .dataframe tbody tr th {\n        vertical-align: top;\n    }\n\n    .dataframe thead th {\n        text-align: right;\n    }\n</style>\n<table border=\"1\" class=\"dataframe\">\n  <thead>\n    <tr style=\"text-align: right;\">\n      <th></th>\n      <th>Campo 1</th>\n      <th>Campo 2</th>\n      <th>Campo 3</th>\n      <th>Campo 4</th>\n      <th>Campo 5</th>\n      <th>nueva</th>\n    </tr>\n    <tr>\n      <th>Campo 4</th>\n      <th></th>\n      <th></th>\n      <th></th>\n      <th></th>\n      <th></th>\n      <th></th>\n    </tr>\n  </thead>\n  <tbody>\n    <tr>\n      <th>123455</th>\n      <td>Registro 1</td>\n      <td>Hugo</td>\n      <td>López</td>\n      <td>123455</td>\n      <td>20.0</td>\n      <td>5</td>\n    </tr>\n    <tr>\n      <th>736923</th>\n      <td>Registro 2</td>\n      <td>Paco</td>\n      <td>Silva</td>\n      <td>736923</td>\n      <td>35.0</td>\n      <td>5</td>\n    </tr>\n    <tr>\n      <th>971298</th>\n      <td>Registro 3</td>\n      <td>Luis</td>\n      <td>Oca</td>\n      <td>971298</td>\n      <td>NaN</td>\n      <td>5</td>\n    </tr>\n    <tr>\n      <th>123098</th>\n      <td>Registro 4</td>\n      <td>Pedro</td>\n      <td>Ramírez</td>\n      <td>123098</td>\n      <td>NaN</td>\n      <td>5</td>\n    </tr>\n    <tr>\n      <th>888888</th>\n      <td>Registro 5</td>\n      <td>Helena</td>\n      <td>González</td>\n      <td>888888</td>\n      <td>29</td>\n      <td>5</td>\n    </tr>\n  </tbody>\n</table>\n</div>"
     },
     "execution_count": 62,
     "metadata": {},
     "output_type": "execute_result"
    }
   ],
   "source": [
    "#Agregar nueva columna\n",
    "estudiantes['nueva'] = 5\n",
    "estudiantes"
   ]
  },
  {
   "cell_type": "code",
   "execution_count": 66,
   "outputs": [
    {
     "data": {
      "text/plain": "            Campo 1 Campo 2 Campo 3 Campo 4 Campo 5  nueva\nCampo 4                                                   \n123455   Registro 1    Hugo   López  123455    20.0      5\n736923   Registro 2    Paco   Silva  736923    35.0      5\n971298   Registro 3    Luis     Oca  971298     NaN      5",
      "text/html": "<div>\n<style scoped>\n    .dataframe tbody tr th:only-of-type {\n        vertical-align: middle;\n    }\n\n    .dataframe tbody tr th {\n        vertical-align: top;\n    }\n\n    .dataframe thead th {\n        text-align: right;\n    }\n</style>\n<table border=\"1\" class=\"dataframe\">\n  <thead>\n    <tr style=\"text-align: right;\">\n      <th></th>\n      <th>Campo 1</th>\n      <th>Campo 2</th>\n      <th>Campo 3</th>\n      <th>Campo 4</th>\n      <th>Campo 5</th>\n      <th>nueva</th>\n    </tr>\n    <tr>\n      <th>Campo 4</th>\n      <th></th>\n      <th></th>\n      <th></th>\n      <th></th>\n      <th></th>\n      <th></th>\n    </tr>\n  </thead>\n  <tbody>\n    <tr>\n      <th>123455</th>\n      <td>Registro 1</td>\n      <td>Hugo</td>\n      <td>López</td>\n      <td>123455</td>\n      <td>20.0</td>\n      <td>5</td>\n    </tr>\n    <tr>\n      <th>736923</th>\n      <td>Registro 2</td>\n      <td>Paco</td>\n      <td>Silva</td>\n      <td>736923</td>\n      <td>35.0</td>\n      <td>5</td>\n    </tr>\n    <tr>\n      <th>971298</th>\n      <td>Registro 3</td>\n      <td>Luis</td>\n      <td>Oca</td>\n      <td>971298</td>\n      <td>NaN</td>\n      <td>5</td>\n    </tr>\n  </tbody>\n</table>\n</div>"
     },
     "execution_count": 66,
     "metadata": {},
     "output_type": "execute_result"
    }
   ],
   "source": [
    "# Visualizar encabezado y cola\n",
    "estudiantes.head(3) "
   ],
   "metadata": {
    "collapsed": false,
    "ExecuteTime": {
     "end_time": "2023-11-21T16:07:30.279179130Z",
     "start_time": "2023-11-21T16:07:30.160223327Z"
    }
   }
  },
  {
   "cell_type": "code",
   "execution_count": 67,
   "outputs": [
    {
     "data": {
      "text/plain": "            Campo 1  Campo 2    Campo 3  Campo 4 Campo 5  nueva\nCampo 4                                                        \n888888   Registro 5   Helena   González   888888      29      5",
      "text/html": "<div>\n<style scoped>\n    .dataframe tbody tr th:only-of-type {\n        vertical-align: middle;\n    }\n\n    .dataframe tbody tr th {\n        vertical-align: top;\n    }\n\n    .dataframe thead th {\n        text-align: right;\n    }\n</style>\n<table border=\"1\" class=\"dataframe\">\n  <thead>\n    <tr style=\"text-align: right;\">\n      <th></th>\n      <th>Campo 1</th>\n      <th>Campo 2</th>\n      <th>Campo 3</th>\n      <th>Campo 4</th>\n      <th>Campo 5</th>\n      <th>nueva</th>\n    </tr>\n    <tr>\n      <th>Campo 4</th>\n      <th></th>\n      <th></th>\n      <th></th>\n      <th></th>\n      <th></th>\n      <th></th>\n    </tr>\n  </thead>\n  <tbody>\n    <tr>\n      <th>888888</th>\n      <td>Registro 5</td>\n      <td>Helena</td>\n      <td>González</td>\n      <td>888888</td>\n      <td>29</td>\n      <td>5</td>\n    </tr>\n  </tbody>\n</table>\n</div>"
     },
     "execution_count": 67,
     "metadata": {},
     "output_type": "execute_result"
    }
   ],
   "source": [
    "estudiantes.tail(1)"
   ],
   "metadata": {
    "collapsed": false,
    "ExecuteTime": {
     "end_time": "2023-11-21T16:07:31.675027593Z",
     "start_time": "2023-11-21T16:07:31.399273352Z"
    }
   }
  },
  {
   "cell_type": "code",
   "execution_count": 68,
   "metadata": {
    "ExecuteTime": {
     "end_time": "2023-11-21T16:07:39.712396564Z",
     "start_time": "2023-11-21T16:07:39.609749650Z"
    }
   },
   "outputs": [
    {
     "data": {
      "text/plain": "            Campo 1  Campo 2    Campo 3  Campo 4  Campo 5  nueva\nCampo 4                                                         \n123455   Registro 1     Hugo      López   123455     20.0      5\n736923   Registro 2     Paco      Silva   736923     35.0      5\n971298   Registro 3     Luis        Oca   971298      NaN      5\n123098   Registro 4    Pedro    Ramírez   123098      NaN      5\n888888   Registro 5   Helena   González   888888     29.0      5",
      "text/html": "<div>\n<style scoped>\n    .dataframe tbody tr th:only-of-type {\n        vertical-align: middle;\n    }\n\n    .dataframe tbody tr th {\n        vertical-align: top;\n    }\n\n    .dataframe thead th {\n        text-align: right;\n    }\n</style>\n<table border=\"1\" class=\"dataframe\">\n  <thead>\n    <tr style=\"text-align: right;\">\n      <th></th>\n      <th>Campo 1</th>\n      <th>Campo 2</th>\n      <th>Campo 3</th>\n      <th>Campo 4</th>\n      <th>Campo 5</th>\n      <th>nueva</th>\n    </tr>\n    <tr>\n      <th>Campo 4</th>\n      <th></th>\n      <th></th>\n      <th></th>\n      <th></th>\n      <th></th>\n      <th></th>\n    </tr>\n  </thead>\n  <tbody>\n    <tr>\n      <th>123455</th>\n      <td>Registro 1</td>\n      <td>Hugo</td>\n      <td>López</td>\n      <td>123455</td>\n      <td>20.0</td>\n      <td>5</td>\n    </tr>\n    <tr>\n      <th>736923</th>\n      <td>Registro 2</td>\n      <td>Paco</td>\n      <td>Silva</td>\n      <td>736923</td>\n      <td>35.0</td>\n      <td>5</td>\n    </tr>\n    <tr>\n      <th>971298</th>\n      <td>Registro 3</td>\n      <td>Luis</td>\n      <td>Oca</td>\n      <td>971298</td>\n      <td>NaN</td>\n      <td>5</td>\n    </tr>\n    <tr>\n      <th>123098</th>\n      <td>Registro 4</td>\n      <td>Pedro</td>\n      <td>Ramírez</td>\n      <td>123098</td>\n      <td>NaN</td>\n      <td>5</td>\n    </tr>\n    <tr>\n      <th>888888</th>\n      <td>Registro 5</td>\n      <td>Helena</td>\n      <td>González</td>\n      <td>888888</td>\n      <td>29.0</td>\n      <td>5</td>\n    </tr>\n  </tbody>\n</table>\n</div>"
     },
     "execution_count": 68,
     "metadata": {},
     "output_type": "execute_result"
    }
   ],
   "source": [
    "estudiantes[\"Campo 5\"] = pd.to_numeric(estudiantes[\"Campo 5\"], downcast = \"float\")\n",
    "estudiantes"
   ]
  },
  {
   "cell_type": "code",
   "execution_count": 69,
   "metadata": {
    "ExecuteTime": {
     "end_time": "2023-11-21T16:07:53.537085518Z",
     "start_time": "2023-11-21T16:07:53.436803429Z"
    }
   },
   "outputs": [
    {
     "data": {
      "text/plain": "84.0"
     },
     "execution_count": 69,
     "metadata": {},
     "output_type": "execute_result"
    }
   ],
   "source": [
    "estudiantes[\"Campo 5\"].sum()"
   ]
  },
  {
   "cell_type": "code",
   "execution_count": 70,
   "metadata": {
    "ExecuteTime": {
     "end_time": "2023-11-21T16:07:55.980038234Z",
     "start_time": "2023-11-21T16:07:55.900053747Z"
    }
   },
   "outputs": [
    {
     "data": {
      "text/plain": "Campo 5\n20.0    1\n35.0    1\n29.0    1\nName: count, dtype: int64"
     },
     "execution_count": 70,
     "metadata": {},
     "output_type": "execute_result"
    }
   ],
   "source": [
    "estudiantes[\"Campo 5\"].value_counts()"
   ]
  },
  {
   "cell_type": "code",
   "execution_count": 72,
   "metadata": {
    "ExecuteTime": {
     "end_time": "2023-11-21T16:08:28.287343290Z",
     "start_time": "2023-11-21T16:08:28.161780988Z"
    }
   },
   "outputs": [
    {
     "data": {
      "text/plain": "            Campo 1  Campo 2    Campo 3  Campo 4  Campo 5  nueva\nCampo 4                                                         \n123455   Registro 1     Hugo      López   123455     20.0      5\n736923   Registro 2     Paco      Silva   736923     35.0      5\n971298   Registro 3     Luis        Oca   971298      NaN      5\n123098   Registro 4    Pedro    Ramírez   123098      NaN      5\n888888   Registro 5   Helena   González   888888     29.0      5\n777222   Registro 6     José      López   777222     30.0      6",
      "text/html": "<div>\n<style scoped>\n    .dataframe tbody tr th:only-of-type {\n        vertical-align: middle;\n    }\n\n    .dataframe tbody tr th {\n        vertical-align: top;\n    }\n\n    .dataframe thead th {\n        text-align: right;\n    }\n</style>\n<table border=\"1\" class=\"dataframe\">\n  <thead>\n    <tr style=\"text-align: right;\">\n      <th></th>\n      <th>Campo 1</th>\n      <th>Campo 2</th>\n      <th>Campo 3</th>\n      <th>Campo 4</th>\n      <th>Campo 5</th>\n      <th>nueva</th>\n    </tr>\n    <tr>\n      <th>Campo 4</th>\n      <th></th>\n      <th></th>\n      <th></th>\n      <th></th>\n      <th></th>\n      <th></th>\n    </tr>\n  </thead>\n  <tbody>\n    <tr>\n      <th>123455</th>\n      <td>Registro 1</td>\n      <td>Hugo</td>\n      <td>López</td>\n      <td>123455</td>\n      <td>20.0</td>\n      <td>5</td>\n    </tr>\n    <tr>\n      <th>736923</th>\n      <td>Registro 2</td>\n      <td>Paco</td>\n      <td>Silva</td>\n      <td>736923</td>\n      <td>35.0</td>\n      <td>5</td>\n    </tr>\n    <tr>\n      <th>971298</th>\n      <td>Registro 3</td>\n      <td>Luis</td>\n      <td>Oca</td>\n      <td>971298</td>\n      <td>NaN</td>\n      <td>5</td>\n    </tr>\n    <tr>\n      <th>123098</th>\n      <td>Registro 4</td>\n      <td>Pedro</td>\n      <td>Ramírez</td>\n      <td>123098</td>\n      <td>NaN</td>\n      <td>5</td>\n    </tr>\n    <tr>\n      <th>888888</th>\n      <td>Registro 5</td>\n      <td>Helena</td>\n      <td>González</td>\n      <td>888888</td>\n      <td>29.0</td>\n      <td>5</td>\n    </tr>\n    <tr>\n      <th>777222</th>\n      <td>Registro 6</td>\n      <td>José</td>\n      <td>López</td>\n      <td>777222</td>\n      <td>30.0</td>\n      <td>6</td>\n    </tr>\n  </tbody>\n</table>\n</div>"
     },
     "execution_count": 72,
     "metadata": {},
     "output_type": "execute_result"
    }
   ],
   "source": [
    "estudiantes.loc[777222] = [\"Registro 6\",\"José\",\"López\",\"777222\",30,6]\n",
    "estudiantes"
   ]
  },
  {
   "cell_type": "code",
   "execution_count": 73,
   "metadata": {
    "ExecuteTime": {
     "end_time": "2023-11-21T16:08:31.641751247Z",
     "start_time": "2023-11-21T16:08:31.557255760Z"
    }
   },
   "outputs": [
    {
     "data": {
      "text/plain": "Campo 3\nLópez        2\nSilva        1\nOca          1\nRamírez      1\n González    1\nName: count, dtype: int64"
     },
     "execution_count": 73,
     "metadata": {},
     "output_type": "execute_result"
    }
   ],
   "source": [
    "estudiantes[\"Campo 3\"].value_counts()"
   ]
  },
  {
   "cell_type": "code",
   "execution_count": 74,
   "metadata": {
    "ExecuteTime": {
     "end_time": "2023-11-21T16:08:35.260044241Z",
     "start_time": "2023-11-21T16:08:35.182122956Z"
    }
   },
   "outputs": [
    {
     "data": {
      "text/plain": "            Campo 1  Campo 2    Campo 3  Campo 4  Campo 5  nueva\nCampo 4                                                         \n736923   Registro 2     Paco      Silva   736923     35.0      5\n777222   Registro 6     José      López   777222     30.0      6\n888888   Registro 5   Helena   González   888888     29.0      5\n123455   Registro 1     Hugo      López   123455     20.0      5\n971298   Registro 3     Luis        Oca   971298      NaN      5\n123098   Registro 4    Pedro    Ramírez   123098      NaN      5",
      "text/html": "<div>\n<style scoped>\n    .dataframe tbody tr th:only-of-type {\n        vertical-align: middle;\n    }\n\n    .dataframe tbody tr th {\n        vertical-align: top;\n    }\n\n    .dataframe thead th {\n        text-align: right;\n    }\n</style>\n<table border=\"1\" class=\"dataframe\">\n  <thead>\n    <tr style=\"text-align: right;\">\n      <th></th>\n      <th>Campo 1</th>\n      <th>Campo 2</th>\n      <th>Campo 3</th>\n      <th>Campo 4</th>\n      <th>Campo 5</th>\n      <th>nueva</th>\n    </tr>\n    <tr>\n      <th>Campo 4</th>\n      <th></th>\n      <th></th>\n      <th></th>\n      <th></th>\n      <th></th>\n      <th></th>\n    </tr>\n  </thead>\n  <tbody>\n    <tr>\n      <th>736923</th>\n      <td>Registro 2</td>\n      <td>Paco</td>\n      <td>Silva</td>\n      <td>736923</td>\n      <td>35.0</td>\n      <td>5</td>\n    </tr>\n    <tr>\n      <th>777222</th>\n      <td>Registro 6</td>\n      <td>José</td>\n      <td>López</td>\n      <td>777222</td>\n      <td>30.0</td>\n      <td>6</td>\n    </tr>\n    <tr>\n      <th>888888</th>\n      <td>Registro 5</td>\n      <td>Helena</td>\n      <td>González</td>\n      <td>888888</td>\n      <td>29.0</td>\n      <td>5</td>\n    </tr>\n    <tr>\n      <th>123455</th>\n      <td>Registro 1</td>\n      <td>Hugo</td>\n      <td>López</td>\n      <td>123455</td>\n      <td>20.0</td>\n      <td>5</td>\n    </tr>\n    <tr>\n      <th>971298</th>\n      <td>Registro 3</td>\n      <td>Luis</td>\n      <td>Oca</td>\n      <td>971298</td>\n      <td>NaN</td>\n      <td>5</td>\n    </tr>\n    <tr>\n      <th>123098</th>\n      <td>Registro 4</td>\n      <td>Pedro</td>\n      <td>Ramírez</td>\n      <td>123098</td>\n      <td>NaN</td>\n      <td>5</td>\n    </tr>\n  </tbody>\n</table>\n</div>"
     },
     "execution_count": 74,
     "metadata": {},
     "output_type": "execute_result"
    }
   ],
   "source": [
    "estudiantes.sort_values(by = \"Campo 5\",inplace = True, ascending=False)\n",
    "estudiantes"
   ]
  },
  {
   "cell_type": "code",
   "execution_count": 75,
   "metadata": {
    "ExecuteTime": {
     "end_time": "2023-11-21T16:08:39.300360642Z",
     "start_time": "2023-11-21T16:08:39.232185376Z"
    }
   },
   "outputs": [
    {
     "data": {
      "text/plain": "28"
     },
     "execution_count": 75,
     "metadata": {},
     "output_type": "execute_result"
    }
   ],
   "source": [
    "edad_media = estudiantes[\"Campo 5\"].mean()\n",
    "int(edad_media)"
   ]
  },
  {
   "cell_type": "code",
   "execution_count": 76,
   "metadata": {
    "ExecuteTime": {
     "end_time": "2023-11-21T16:08:41.811154301Z",
     "start_time": "2023-11-21T16:08:41.755994327Z"
    }
   },
   "outputs": [
    {
     "data": {
      "text/plain": "            Campo 1  Campo 2    Campo 3  Campo 4  Campo 5  nueva\nCampo 4                                                         \n736923   Registro 2     Paco      Silva   736923     35.0      5\n777222   Registro 6     José      López   777222     30.0      6\n888888   Registro 5   Helena   González   888888     29.0      5\n123455   Registro 1     Hugo      López   123455     20.0      5\n971298   Registro 3     Luis        Oca   971298     28.0      5\n123098   Registro 4    Pedro    Ramírez   123098     28.0      5",
      "text/html": "<div>\n<style scoped>\n    .dataframe tbody tr th:only-of-type {\n        vertical-align: middle;\n    }\n\n    .dataframe tbody tr th {\n        vertical-align: top;\n    }\n\n    .dataframe thead th {\n        text-align: right;\n    }\n</style>\n<table border=\"1\" class=\"dataframe\">\n  <thead>\n    <tr style=\"text-align: right;\">\n      <th></th>\n      <th>Campo 1</th>\n      <th>Campo 2</th>\n      <th>Campo 3</th>\n      <th>Campo 4</th>\n      <th>Campo 5</th>\n      <th>nueva</th>\n    </tr>\n    <tr>\n      <th>Campo 4</th>\n      <th></th>\n      <th></th>\n      <th></th>\n      <th></th>\n      <th></th>\n      <th></th>\n    </tr>\n  </thead>\n  <tbody>\n    <tr>\n      <th>736923</th>\n      <td>Registro 2</td>\n      <td>Paco</td>\n      <td>Silva</td>\n      <td>736923</td>\n      <td>35.0</td>\n      <td>5</td>\n    </tr>\n    <tr>\n      <th>777222</th>\n      <td>Registro 6</td>\n      <td>José</td>\n      <td>López</td>\n      <td>777222</td>\n      <td>30.0</td>\n      <td>6</td>\n    </tr>\n    <tr>\n      <th>888888</th>\n      <td>Registro 5</td>\n      <td>Helena</td>\n      <td>González</td>\n      <td>888888</td>\n      <td>29.0</td>\n      <td>5</td>\n    </tr>\n    <tr>\n      <th>123455</th>\n      <td>Registro 1</td>\n      <td>Hugo</td>\n      <td>López</td>\n      <td>123455</td>\n      <td>20.0</td>\n      <td>5</td>\n    </tr>\n    <tr>\n      <th>971298</th>\n      <td>Registro 3</td>\n      <td>Luis</td>\n      <td>Oca</td>\n      <td>971298</td>\n      <td>28.0</td>\n      <td>5</td>\n    </tr>\n    <tr>\n      <th>123098</th>\n      <td>Registro 4</td>\n      <td>Pedro</td>\n      <td>Ramírez</td>\n      <td>123098</td>\n      <td>28.0</td>\n      <td>5</td>\n    </tr>\n  </tbody>\n</table>\n</div>"
     },
     "execution_count": 76,
     "metadata": {},
     "output_type": "execute_result"
    }
   ],
   "source": [
    "estudiantes[\"Campo 5\"].fillna(int(edad_media),inplace = True)\n",
    "estudiantes"
   ]
  },
  {
   "cell_type": "code",
   "execution_count": 77,
   "metadata": {
    "ExecuteTime": {
     "end_time": "2023-11-21T16:08:57.584763128Z",
     "start_time": "2023-11-21T16:08:57.352740437Z"
    }
   },
   "outputs": [
    {
     "ename": "TypeError",
     "evalue": "'<' not supported between instances of 'int' and 'str'",
     "output_type": "error",
     "traceback": [
      "\u001B[0;31m---------------------------------------------------------------------------\u001B[0m",
      "\u001B[0;31mTypeError\u001B[0m                                 Traceback (most recent call last)",
      "Cell \u001B[0;32mIn[77], line 1\u001B[0m\n\u001B[0;32m----> 1\u001B[0m \u001B[43mestudiantes\u001B[49m\u001B[38;5;241;43m.\u001B[39;49m\u001B[43msort_index\u001B[49m\u001B[43m(\u001B[49m\u001B[43mascending\u001B[49m\u001B[43m \u001B[49m\u001B[38;5;241;43m=\u001B[39;49m\u001B[43m \u001B[49m\u001B[38;5;28;43;01mTrue\u001B[39;49;00m\u001B[43m,\u001B[49m\u001B[43minplace\u001B[49m\u001B[43m \u001B[49m\u001B[38;5;241;43m=\u001B[39;49m\u001B[43m \u001B[49m\u001B[38;5;28;43;01mTrue\u001B[39;49;00m\u001B[43m)\u001B[49m\n\u001B[1;32m      2\u001B[0m estudiantes\n",
      "File \u001B[0;32m~/.local/lib/python3.8/site-packages/pandas/core/frame.py:6950\u001B[0m, in \u001B[0;36mDataFrame.sort_index\u001B[0;34m(self, axis, level, ascending, inplace, kind, na_position, sort_remaining, ignore_index, key)\u001B[0m\n\u001B[1;32m   6851\u001B[0m \u001B[38;5;28;01mdef\u001B[39;00m \u001B[38;5;21msort_index\u001B[39m(\n\u001B[1;32m   6852\u001B[0m     \u001B[38;5;28mself\u001B[39m,\n\u001B[1;32m   6853\u001B[0m     \u001B[38;5;241m*\u001B[39m,\n\u001B[0;32m   (...)\u001B[0m\n\u001B[1;32m   6862\u001B[0m     key: IndexKeyFunc \u001B[38;5;241m=\u001B[39m \u001B[38;5;28;01mNone\u001B[39;00m,\n\u001B[1;32m   6863\u001B[0m ) \u001B[38;5;241m-\u001B[39m\u001B[38;5;241m>\u001B[39m DataFrame \u001B[38;5;241m|\u001B[39m \u001B[38;5;28;01mNone\u001B[39;00m:\n\u001B[1;32m   6864\u001B[0m     \u001B[38;5;124;03m\"\"\"\u001B[39;00m\n\u001B[1;32m   6865\u001B[0m \u001B[38;5;124;03m    Sort object by labels (along an axis).\u001B[39;00m\n\u001B[1;32m   6866\u001B[0m \n\u001B[0;32m   (...)\u001B[0m\n\u001B[1;32m   6948\u001B[0m \u001B[38;5;124;03m    d  4\u001B[39;00m\n\u001B[1;32m   6949\u001B[0m \u001B[38;5;124;03m    \"\"\"\u001B[39;00m\n\u001B[0;32m-> 6950\u001B[0m     \u001B[38;5;28;01mreturn\u001B[39;00m \u001B[38;5;28;43msuper\u001B[39;49m\u001B[43m(\u001B[49m\u001B[43m)\u001B[49m\u001B[38;5;241;43m.\u001B[39;49m\u001B[43msort_index\u001B[49m\u001B[43m(\u001B[49m\n\u001B[1;32m   6951\u001B[0m \u001B[43m        \u001B[49m\u001B[43maxis\u001B[49m\u001B[38;5;241;43m=\u001B[39;49m\u001B[43maxis\u001B[49m\u001B[43m,\u001B[49m\n\u001B[1;32m   6952\u001B[0m \u001B[43m        \u001B[49m\u001B[43mlevel\u001B[49m\u001B[38;5;241;43m=\u001B[39;49m\u001B[43mlevel\u001B[49m\u001B[43m,\u001B[49m\n\u001B[1;32m   6953\u001B[0m \u001B[43m        \u001B[49m\u001B[43mascending\u001B[49m\u001B[38;5;241;43m=\u001B[39;49m\u001B[43mascending\u001B[49m\u001B[43m,\u001B[49m\n\u001B[1;32m   6954\u001B[0m \u001B[43m        \u001B[49m\u001B[43minplace\u001B[49m\u001B[38;5;241;43m=\u001B[39;49m\u001B[43minplace\u001B[49m\u001B[43m,\u001B[49m\n\u001B[1;32m   6955\u001B[0m \u001B[43m        \u001B[49m\u001B[43mkind\u001B[49m\u001B[38;5;241;43m=\u001B[39;49m\u001B[43mkind\u001B[49m\u001B[43m,\u001B[49m\n\u001B[1;32m   6956\u001B[0m \u001B[43m        \u001B[49m\u001B[43mna_position\u001B[49m\u001B[38;5;241;43m=\u001B[39;49m\u001B[43mna_position\u001B[49m\u001B[43m,\u001B[49m\n\u001B[1;32m   6957\u001B[0m \u001B[43m        \u001B[49m\u001B[43msort_remaining\u001B[49m\u001B[38;5;241;43m=\u001B[39;49m\u001B[43msort_remaining\u001B[49m\u001B[43m,\u001B[49m\n\u001B[1;32m   6958\u001B[0m \u001B[43m        \u001B[49m\u001B[43mignore_index\u001B[49m\u001B[38;5;241;43m=\u001B[39;49m\u001B[43mignore_index\u001B[49m\u001B[43m,\u001B[49m\n\u001B[1;32m   6959\u001B[0m \u001B[43m        \u001B[49m\u001B[43mkey\u001B[49m\u001B[38;5;241;43m=\u001B[39;49m\u001B[43mkey\u001B[49m\u001B[43m,\u001B[49m\n\u001B[1;32m   6960\u001B[0m \u001B[43m    \u001B[49m\u001B[43m)\u001B[49m\n",
      "File \u001B[0;32m~/.local/lib/python3.8/site-packages/pandas/core/generic.py:5072\u001B[0m, in \u001B[0;36mNDFrame.sort_index\u001B[0;34m(self, axis, level, ascending, inplace, kind, na_position, sort_remaining, ignore_index, key)\u001B[0m\n\u001B[1;32m   5068\u001B[0m ascending \u001B[38;5;241m=\u001B[39m validate_ascending(ascending)\n\u001B[1;32m   5070\u001B[0m target \u001B[38;5;241m=\u001B[39m \u001B[38;5;28mself\u001B[39m\u001B[38;5;241m.\u001B[39m_get_axis(axis)\n\u001B[0;32m-> 5072\u001B[0m indexer \u001B[38;5;241m=\u001B[39m \u001B[43mget_indexer_indexer\u001B[49m\u001B[43m(\u001B[49m\n\u001B[1;32m   5073\u001B[0m \u001B[43m    \u001B[49m\u001B[43mtarget\u001B[49m\u001B[43m,\u001B[49m\u001B[43m \u001B[49m\u001B[43mlevel\u001B[49m\u001B[43m,\u001B[49m\u001B[43m \u001B[49m\u001B[43mascending\u001B[49m\u001B[43m,\u001B[49m\u001B[43m \u001B[49m\u001B[43mkind\u001B[49m\u001B[43m,\u001B[49m\u001B[43m \u001B[49m\u001B[43mna_position\u001B[49m\u001B[43m,\u001B[49m\u001B[43m \u001B[49m\u001B[43msort_remaining\u001B[49m\u001B[43m,\u001B[49m\u001B[43m \u001B[49m\u001B[43mkey\u001B[49m\n\u001B[1;32m   5074\u001B[0m \u001B[43m\u001B[49m\u001B[43m)\u001B[49m\n\u001B[1;32m   5076\u001B[0m \u001B[38;5;28;01mif\u001B[39;00m indexer \u001B[38;5;129;01mis\u001B[39;00m \u001B[38;5;28;01mNone\u001B[39;00m:\n\u001B[1;32m   5077\u001B[0m     \u001B[38;5;28;01mif\u001B[39;00m inplace:\n",
      "File \u001B[0;32m~/.local/lib/python3.8/site-packages/pandas/core/sorting.py:100\u001B[0m, in \u001B[0;36mget_indexer_indexer\u001B[0;34m(target, level, ascending, kind, na_position, sort_remaining, key)\u001B[0m\n\u001B[1;32m     97\u001B[0m         \u001B[38;5;28;01mreturn\u001B[39;00m \u001B[38;5;28;01mNone\u001B[39;00m\n\u001B[1;32m     99\u001B[0m     \u001B[38;5;66;03m# ascending can only be a Sequence for MultiIndex\u001B[39;00m\n\u001B[0;32m--> 100\u001B[0m     indexer \u001B[38;5;241m=\u001B[39m \u001B[43mnargsort\u001B[49m\u001B[43m(\u001B[49m\n\u001B[1;32m    101\u001B[0m \u001B[43m        \u001B[49m\u001B[43mtarget\u001B[49m\u001B[43m,\u001B[49m\n\u001B[1;32m    102\u001B[0m \u001B[43m        \u001B[49m\u001B[43mkind\u001B[49m\u001B[38;5;241;43m=\u001B[39;49m\u001B[43mkind\u001B[49m\u001B[43m,\u001B[49m\n\u001B[1;32m    103\u001B[0m \u001B[43m        \u001B[49m\u001B[43mascending\u001B[49m\u001B[38;5;241;43m=\u001B[39;49m\u001B[43mcast\u001B[49m\u001B[43m(\u001B[49m\u001B[38;5;28;43mbool\u001B[39;49m\u001B[43m,\u001B[49m\u001B[43m \u001B[49m\u001B[43mascending\u001B[49m\u001B[43m)\u001B[49m\u001B[43m,\u001B[49m\n\u001B[1;32m    104\u001B[0m \u001B[43m        \u001B[49m\u001B[43mna_position\u001B[49m\u001B[38;5;241;43m=\u001B[39;49m\u001B[43mna_position\u001B[49m\u001B[43m,\u001B[49m\n\u001B[1;32m    105\u001B[0m \u001B[43m    \u001B[49m\u001B[43m)\u001B[49m\n\u001B[1;32m    106\u001B[0m \u001B[38;5;28;01mreturn\u001B[39;00m indexer\n",
      "File \u001B[0;32m~/.local/lib/python3.8/site-packages/pandas/core/sorting.py:429\u001B[0m, in \u001B[0;36mnargsort\u001B[0;34m(items, kind, ascending, na_position, key, mask)\u001B[0m\n\u001B[1;32m    427\u001B[0m     non_nans \u001B[38;5;241m=\u001B[39m non_nans[::\u001B[38;5;241m-\u001B[39m\u001B[38;5;241m1\u001B[39m]\n\u001B[1;32m    428\u001B[0m     non_nan_idx \u001B[38;5;241m=\u001B[39m non_nan_idx[::\u001B[38;5;241m-\u001B[39m\u001B[38;5;241m1\u001B[39m]\n\u001B[0;32m--> 429\u001B[0m indexer \u001B[38;5;241m=\u001B[39m non_nan_idx[\u001B[43mnon_nans\u001B[49m\u001B[38;5;241;43m.\u001B[39;49m\u001B[43margsort\u001B[49m\u001B[43m(\u001B[49m\u001B[43mkind\u001B[49m\u001B[38;5;241;43m=\u001B[39;49m\u001B[43mkind\u001B[49m\u001B[43m)\u001B[49m]\n\u001B[1;32m    430\u001B[0m \u001B[38;5;28;01mif\u001B[39;00m \u001B[38;5;129;01mnot\u001B[39;00m ascending:\n\u001B[1;32m    431\u001B[0m     indexer \u001B[38;5;241m=\u001B[39m indexer[::\u001B[38;5;241m-\u001B[39m\u001B[38;5;241m1\u001B[39m]\n",
      "\u001B[0;31mTypeError\u001B[0m: '<' not supported between instances of 'int' and 'str'"
     ]
    }
   ],
   "source": [
    "estudiantes.sort_index(ascending = True,inplace = True)\n",
    "estudiantes"
   ]
  },
  {
   "cell_type": "code",
   "execution_count": 78,
   "metadata": {
    "ExecuteTime": {
     "end_time": "2023-11-21T16:10:12.745323426Z",
     "start_time": "2023-11-21T16:10:12.662157429Z"
    }
   },
   "outputs": [
    {
     "data": {
      "text/plain": "            Campo 1  Campo 2    Campo 3  Campo 4  Campo 5  nueva\nCampo 4                                                         \n888888   Registro 5   Helena   González   888888     29.0      5\n777222   Registro 6     José      López   777222     30.0      6\n123455   Registro 1     Hugo      López   123455     20.0      5\n971298   Registro 3     Luis        Oca   971298     28.0      5\n123098   Registro 4    Pedro    Ramírez   123098     28.0      5\n736923   Registro 2     Paco      Silva   736923     35.0      5",
      "text/html": "<div>\n<style scoped>\n    .dataframe tbody tr th:only-of-type {\n        vertical-align: middle;\n    }\n\n    .dataframe tbody tr th {\n        vertical-align: top;\n    }\n\n    .dataframe thead th {\n        text-align: right;\n    }\n</style>\n<table border=\"1\" class=\"dataframe\">\n  <thead>\n    <tr style=\"text-align: right;\">\n      <th></th>\n      <th>Campo 1</th>\n      <th>Campo 2</th>\n      <th>Campo 3</th>\n      <th>Campo 4</th>\n      <th>Campo 5</th>\n      <th>nueva</th>\n    </tr>\n    <tr>\n      <th>Campo 4</th>\n      <th></th>\n      <th></th>\n      <th></th>\n      <th></th>\n      <th></th>\n      <th></th>\n    </tr>\n  </thead>\n  <tbody>\n    <tr>\n      <th>888888</th>\n      <td>Registro 5</td>\n      <td>Helena</td>\n      <td>González</td>\n      <td>888888</td>\n      <td>29.0</td>\n      <td>5</td>\n    </tr>\n    <tr>\n      <th>777222</th>\n      <td>Registro 6</td>\n      <td>José</td>\n      <td>López</td>\n      <td>777222</td>\n      <td>30.0</td>\n      <td>6</td>\n    </tr>\n    <tr>\n      <th>123455</th>\n      <td>Registro 1</td>\n      <td>Hugo</td>\n      <td>López</td>\n      <td>123455</td>\n      <td>20.0</td>\n      <td>5</td>\n    </tr>\n    <tr>\n      <th>971298</th>\n      <td>Registro 3</td>\n      <td>Luis</td>\n      <td>Oca</td>\n      <td>971298</td>\n      <td>28.0</td>\n      <td>5</td>\n    </tr>\n    <tr>\n      <th>123098</th>\n      <td>Registro 4</td>\n      <td>Pedro</td>\n      <td>Ramírez</td>\n      <td>123098</td>\n      <td>28.0</td>\n      <td>5</td>\n    </tr>\n    <tr>\n      <th>736923</th>\n      <td>Registro 2</td>\n      <td>Paco</td>\n      <td>Silva</td>\n      <td>736923</td>\n      <td>35.0</td>\n      <td>5</td>\n    </tr>\n  </tbody>\n</table>\n</div>"
     },
     "execution_count": 78,
     "metadata": {},
     "output_type": "execute_result"
    }
   ],
   "source": [
    "estudiantes.sort_values(by = [\"Campo 3\",\"Campo 5\"],ascending = [True,False],inplace = True)\n",
    "estudiantes"
   ]
  },
  {
   "cell_type": "code",
   "execution_count": 79,
   "metadata": {
    "ExecuteTime": {
     "end_time": "2023-11-21T16:10:20.881394585Z",
     "start_time": "2023-11-21T16:10:20.798800293Z"
    }
   },
   "outputs": [
    {
     "data": {
      "text/plain": "            Campo 1 Campo 2 Campo 3 Campo 4  Campo 5  nueva\nCampo 4                                                    \n777222   Registro 6    José   López  777222     30.0      6\n123455   Registro 1    Hugo   López  123455     20.0      5",
      "text/html": "<div>\n<style scoped>\n    .dataframe tbody tr th:only-of-type {\n        vertical-align: middle;\n    }\n\n    .dataframe tbody tr th {\n        vertical-align: top;\n    }\n\n    .dataframe thead th {\n        text-align: right;\n    }\n</style>\n<table border=\"1\" class=\"dataframe\">\n  <thead>\n    <tr style=\"text-align: right;\">\n      <th></th>\n      <th>Campo 1</th>\n      <th>Campo 2</th>\n      <th>Campo 3</th>\n      <th>Campo 4</th>\n      <th>Campo 5</th>\n      <th>nueva</th>\n    </tr>\n    <tr>\n      <th>Campo 4</th>\n      <th></th>\n      <th></th>\n      <th></th>\n      <th></th>\n      <th></th>\n      <th></th>\n    </tr>\n  </thead>\n  <tbody>\n    <tr>\n      <th>777222</th>\n      <td>Registro 6</td>\n      <td>José</td>\n      <td>López</td>\n      <td>777222</td>\n      <td>30.0</td>\n      <td>6</td>\n    </tr>\n    <tr>\n      <th>123455</th>\n      <td>Registro 1</td>\n      <td>Hugo</td>\n      <td>López</td>\n      <td>123455</td>\n      <td>20.0</td>\n      <td>5</td>\n    </tr>\n  </tbody>\n</table>\n</div>"
     },
     "execution_count": 79,
     "metadata": {},
     "output_type": "execute_result"
    }
   ],
   "source": [
    "estudiantes[estudiantes[\"Campo 3\"] == \"López\"]"
   ]
  },
  {
   "cell_type": "code",
   "execution_count": 80,
   "metadata": {
    "ExecuteTime": {
     "end_time": "2023-11-21T16:10:25.632967213Z",
     "start_time": "2023-11-21T16:10:25.557092773Z"
    }
   },
   "outputs": [
    {
     "data": {
      "text/plain": "            Campo 1  Campo 2    Campo 3  Campo 4  Campo 5  nueva\nCampo 4                                                         \n888888   Registro 5   HELENA   González   888888     29.0      5\n777222   Registro 6     JOSÉ      López   777222     30.0      6\n123455   Registro 1     HUGO      López   123455     20.0      5\n971298   Registro 3     LUIS        Oca   971298     28.0      5\n123098   Registro 4    PEDRO    Ramírez   123098     28.0      5\n736923   Registro 2     PACO      Silva   736923     35.0      5",
      "text/html": "<div>\n<style scoped>\n    .dataframe tbody tr th:only-of-type {\n        vertical-align: middle;\n    }\n\n    .dataframe tbody tr th {\n        vertical-align: top;\n    }\n\n    .dataframe thead th {\n        text-align: right;\n    }\n</style>\n<table border=\"1\" class=\"dataframe\">\n  <thead>\n    <tr style=\"text-align: right;\">\n      <th></th>\n      <th>Campo 1</th>\n      <th>Campo 2</th>\n      <th>Campo 3</th>\n      <th>Campo 4</th>\n      <th>Campo 5</th>\n      <th>nueva</th>\n    </tr>\n    <tr>\n      <th>Campo 4</th>\n      <th></th>\n      <th></th>\n      <th></th>\n      <th></th>\n      <th></th>\n      <th></th>\n    </tr>\n  </thead>\n  <tbody>\n    <tr>\n      <th>888888</th>\n      <td>Registro 5</td>\n      <td>HELENA</td>\n      <td>González</td>\n      <td>888888</td>\n      <td>29.0</td>\n      <td>5</td>\n    </tr>\n    <tr>\n      <th>777222</th>\n      <td>Registro 6</td>\n      <td>JOSÉ</td>\n      <td>López</td>\n      <td>777222</td>\n      <td>30.0</td>\n      <td>6</td>\n    </tr>\n    <tr>\n      <th>123455</th>\n      <td>Registro 1</td>\n      <td>HUGO</td>\n      <td>López</td>\n      <td>123455</td>\n      <td>20.0</td>\n      <td>5</td>\n    </tr>\n    <tr>\n      <th>971298</th>\n      <td>Registro 3</td>\n      <td>LUIS</td>\n      <td>Oca</td>\n      <td>971298</td>\n      <td>28.0</td>\n      <td>5</td>\n    </tr>\n    <tr>\n      <th>123098</th>\n      <td>Registro 4</td>\n      <td>PEDRO</td>\n      <td>Ramírez</td>\n      <td>123098</td>\n      <td>28.0</td>\n      <td>5</td>\n    </tr>\n    <tr>\n      <th>736923</th>\n      <td>Registro 2</td>\n      <td>PACO</td>\n      <td>Silva</td>\n      <td>736923</td>\n      <td>35.0</td>\n      <td>5</td>\n    </tr>\n  </tbody>\n</table>\n</div>"
     },
     "execution_count": 80,
     "metadata": {},
     "output_type": "execute_result"
    }
   ],
   "source": [
    "estudiantes[\"Campo 2\"] = estudiantes[\"Campo 2\"].str.upper()\n",
    "estudiantes"
   ]
  },
  {
   "cell_type": "code",
   "execution_count": 81,
   "metadata": {
    "ExecuteTime": {
     "end_time": "2023-11-21T16:10:33.139532401Z",
     "start_time": "2023-11-21T16:10:33.064838233Z"
    }
   },
   "outputs": [
    {
     "data": {
      "text/plain": "Campo 4\n888888    7\n777222    6\n123455    6\n971298    6\n123098    6\n736923    6\nName: Campo 4, dtype: int64"
     },
     "execution_count": 81,
     "metadata": {},
     "output_type": "execute_result"
    }
   ],
   "source": [
    "estudiantes[\"Campo 4\"].str.len()"
   ]
  },
  {
   "cell_type": "code",
   "execution_count": 83,
   "metadata": {
    "ExecuteTime": {
     "end_time": "2023-11-21T16:11:22.757670090Z",
     "start_time": "2023-11-21T16:11:22.666387008Z"
    }
   },
   "outputs": [
    {
     "data": {
      "text/plain": "            Campo 1  Campo 2    Campo 3  Campo 4 Campo 5 nueva    Estado\nCampo 4                                                                 \n888888   Registro 5   HELENA   González   888888    29.0     5    Activo\n777222   Registro 6     JOSÉ      López   777222    30.0     6      Baja\n123455   Registro 1     HUGO      López   123455    20.0     5      Baja\n971298   Registro 3     LUIS        Oca   971298    28.0     5  Graduado\n123098   Registro 4    PEDRO    Ramírez   123098    28.0     5    Activo\n736923   Registro 2     PACO      Silva   736923    35.0     5    Activo\n536271   Registro 7    Luisa   González   536271      23     1      Baja",
      "text/html": "<div>\n<style scoped>\n    .dataframe tbody tr th:only-of-type {\n        vertical-align: middle;\n    }\n\n    .dataframe tbody tr th {\n        vertical-align: top;\n    }\n\n    .dataframe thead th {\n        text-align: right;\n    }\n</style>\n<table border=\"1\" class=\"dataframe\">\n  <thead>\n    <tr style=\"text-align: right;\">\n      <th></th>\n      <th>Campo 1</th>\n      <th>Campo 2</th>\n      <th>Campo 3</th>\n      <th>Campo 4</th>\n      <th>Campo 5</th>\n      <th>nueva</th>\n      <th>Estado</th>\n    </tr>\n    <tr>\n      <th>Campo 4</th>\n      <th></th>\n      <th></th>\n      <th></th>\n      <th></th>\n      <th></th>\n      <th></th>\n      <th></th>\n    </tr>\n  </thead>\n  <tbody>\n    <tr>\n      <th>888888</th>\n      <td>Registro 5</td>\n      <td>HELENA</td>\n      <td>González</td>\n      <td>888888</td>\n      <td>29.0</td>\n      <td>5</td>\n      <td>Activo</td>\n    </tr>\n    <tr>\n      <th>777222</th>\n      <td>Registro 6</td>\n      <td>JOSÉ</td>\n      <td>López</td>\n      <td>777222</td>\n      <td>30.0</td>\n      <td>6</td>\n      <td>Baja</td>\n    </tr>\n    <tr>\n      <th>123455</th>\n      <td>Registro 1</td>\n      <td>HUGO</td>\n      <td>López</td>\n      <td>123455</td>\n      <td>20.0</td>\n      <td>5</td>\n      <td>Baja</td>\n    </tr>\n    <tr>\n      <th>971298</th>\n      <td>Registro 3</td>\n      <td>LUIS</td>\n      <td>Oca</td>\n      <td>971298</td>\n      <td>28.0</td>\n      <td>5</td>\n      <td>Graduado</td>\n    </tr>\n    <tr>\n      <th>123098</th>\n      <td>Registro 4</td>\n      <td>PEDRO</td>\n      <td>Ramírez</td>\n      <td>123098</td>\n      <td>28.0</td>\n      <td>5</td>\n      <td>Activo</td>\n    </tr>\n    <tr>\n      <th>736923</th>\n      <td>Registro 2</td>\n      <td>PACO</td>\n      <td>Silva</td>\n      <td>736923</td>\n      <td>35.0</td>\n      <td>5</td>\n      <td>Activo</td>\n    </tr>\n    <tr>\n      <th>536271</th>\n      <td>Registro 7</td>\n      <td>Luisa</td>\n      <td>González</td>\n      <td>536271</td>\n      <td>23</td>\n      <td>1</td>\n      <td>Baja</td>\n    </tr>\n  </tbody>\n</table>\n</div>"
     },
     "execution_count": 83,
     "metadata": {},
     "output_type": "execute_result"
    }
   ],
   "source": [
    "estudiantes.loc[\"536271\"] = [\"Registro 7\",\"Luisa\",\"González\",\"536271\",\"23\",\"1\"]\n",
    "estudiantes[\"Estado\"] = [\"Activo\",\"Baja\",\"Baja\",\"Graduado\",\"Activo\",\"Activo\",\"Baja\"]\n",
    "\n",
    "estudiantes"
   ]
  },
  {
   "cell_type": "code",
   "execution_count": 84,
   "metadata": {
    "ExecuteTime": {
     "end_time": "2023-11-21T16:11:27.573216862Z",
     "start_time": "2023-11-21T16:11:27.506727971Z"
    }
   },
   "outputs": [
    {
     "data": {
      "text/plain": "            Campo 1  Campo 2    Campo 3  Campo 4 Campo 5 nueva    Estado\nCampo 4                                                                 \n888888   Registro 5   HELENA   González   888888    29.0     5    Activo\n777222   Registro 6     JOSÉ      López   777222    30.0     6      Baja\n123455   Registro 1     HUGO      López   123455    20.0     5      Baja\n971298   Registro 3     LUIS        Oca   971298    28.0     5  Graduado\n123098   Registro 4    PEDRO    Ramírez   123098    28.0     5    Activo\n736923   Registro 2     PACO      Silva   736923    35.0     5    Activo\n536271   Registro 7    Luisa   González   536271      23     1      Baja",
      "text/html": "<div>\n<style scoped>\n    .dataframe tbody tr th:only-of-type {\n        vertical-align: middle;\n    }\n\n    .dataframe tbody tr th {\n        vertical-align: top;\n    }\n\n    .dataframe thead th {\n        text-align: right;\n    }\n</style>\n<table border=\"1\" class=\"dataframe\">\n  <thead>\n    <tr style=\"text-align: right;\">\n      <th></th>\n      <th>Campo 1</th>\n      <th>Campo 2</th>\n      <th>Campo 3</th>\n      <th>Campo 4</th>\n      <th>Campo 5</th>\n      <th>nueva</th>\n      <th>Estado</th>\n    </tr>\n    <tr>\n      <th>Campo 4</th>\n      <th></th>\n      <th></th>\n      <th></th>\n      <th></th>\n      <th></th>\n      <th></th>\n      <th></th>\n    </tr>\n  </thead>\n  <tbody>\n    <tr>\n      <th>888888</th>\n      <td>Registro 5</td>\n      <td>HELENA</td>\n      <td>González</td>\n      <td>888888</td>\n      <td>29.0</td>\n      <td>5</td>\n      <td>Activo</td>\n    </tr>\n    <tr>\n      <th>777222</th>\n      <td>Registro 6</td>\n      <td>JOSÉ</td>\n      <td>López</td>\n      <td>777222</td>\n      <td>30.0</td>\n      <td>6</td>\n      <td>Baja</td>\n    </tr>\n    <tr>\n      <th>123455</th>\n      <td>Registro 1</td>\n      <td>HUGO</td>\n      <td>López</td>\n      <td>123455</td>\n      <td>20.0</td>\n      <td>5</td>\n      <td>Baja</td>\n    </tr>\n    <tr>\n      <th>971298</th>\n      <td>Registro 3</td>\n      <td>LUIS</td>\n      <td>Oca</td>\n      <td>971298</td>\n      <td>28.0</td>\n      <td>5</td>\n      <td>Graduado</td>\n    </tr>\n    <tr>\n      <th>123098</th>\n      <td>Registro 4</td>\n      <td>PEDRO</td>\n      <td>Ramírez</td>\n      <td>123098</td>\n      <td>28.0</td>\n      <td>5</td>\n      <td>Activo</td>\n    </tr>\n    <tr>\n      <th>736923</th>\n      <td>Registro 2</td>\n      <td>PACO</td>\n      <td>Silva</td>\n      <td>736923</td>\n      <td>35.0</td>\n      <td>5</td>\n      <td>Activo</td>\n    </tr>\n    <tr>\n      <th>536271</th>\n      <td>Registro 7</td>\n      <td>Luisa</td>\n      <td>González</td>\n      <td>536271</td>\n      <td>23</td>\n      <td>1</td>\n      <td>Baja</td>\n    </tr>\n  </tbody>\n</table>\n</div>"
     },
     "execution_count": 84,
     "metadata": {},
     "output_type": "execute_result"
    }
   ],
   "source": [
    "estudiantes"
   ]
  },
  {
   "cell_type": "code",
   "execution_count": 85,
   "metadata": {
    "ExecuteTime": {
     "end_time": "2023-11-21T16:11:31.326534084Z",
     "start_time": "2023-11-21T16:11:31.243288506Z"
    }
   },
   "outputs": [
    {
     "data": {
      "text/plain": "         Activo   Baja  Graduado\nCampo 4                         \n888888     True  False     False\n777222    False   True     False\n123455    False   True     False\n971298    False  False      True\n123098     True  False     False\n736923     True  False     False\n536271    False   True     False",
      "text/html": "<div>\n<style scoped>\n    .dataframe tbody tr th:only-of-type {\n        vertical-align: middle;\n    }\n\n    .dataframe tbody tr th {\n        vertical-align: top;\n    }\n\n    .dataframe thead th {\n        text-align: right;\n    }\n</style>\n<table border=\"1\" class=\"dataframe\">\n  <thead>\n    <tr style=\"text-align: right;\">\n      <th></th>\n      <th>Activo</th>\n      <th>Baja</th>\n      <th>Graduado</th>\n    </tr>\n    <tr>\n      <th>Campo 4</th>\n      <th></th>\n      <th></th>\n      <th></th>\n    </tr>\n  </thead>\n  <tbody>\n    <tr>\n      <th>888888</th>\n      <td>True</td>\n      <td>False</td>\n      <td>False</td>\n    </tr>\n    <tr>\n      <th>777222</th>\n      <td>False</td>\n      <td>True</td>\n      <td>False</td>\n    </tr>\n    <tr>\n      <th>123455</th>\n      <td>False</td>\n      <td>True</td>\n      <td>False</td>\n    </tr>\n    <tr>\n      <th>971298</th>\n      <td>False</td>\n      <td>False</td>\n      <td>True</td>\n    </tr>\n    <tr>\n      <th>123098</th>\n      <td>True</td>\n      <td>False</td>\n      <td>False</td>\n    </tr>\n    <tr>\n      <th>736923</th>\n      <td>True</td>\n      <td>False</td>\n      <td>False</td>\n    </tr>\n    <tr>\n      <th>536271</th>\n      <td>False</td>\n      <td>True</td>\n      <td>False</td>\n    </tr>\n  </tbody>\n</table>\n</div>"
     },
     "execution_count": 85,
     "metadata": {},
     "output_type": "execute_result"
    }
   ],
   "source": [
    "pd.get_dummies(estudiantes[\"Estado\"])"
   ]
  },
  {
   "cell_type": "code",
   "execution_count": 86,
   "metadata": {
    "ExecuteTime": {
     "end_time": "2023-11-21T16:12:01.641808863Z",
     "start_time": "2023-11-21T16:12:01.580831988Z"
    }
   },
   "outputs": [
    {
     "data": {
      "text/plain": "            Campo 1  Campo 2    Campo 3  Campo 4 Campo 5 nueva    Estado  \\\nCampo 4                                                                    \n888888   Registro 5   HELENA   González   888888    29.0     5    Activo   \n777222   Registro 6     JOSÉ      López   777222    30.0     6      Baja   \n123455   Registro 1     HUGO      López   123455    20.0     5      Baja   \n971298   Registro 3     LUIS        Oca   971298    28.0     5  Graduado   \n123098   Registro 4    PEDRO    Ramírez   123098    28.0     5    Activo   \n736923   Registro 2     PACO      Silva   736923    35.0     5    Activo   \n536271   Registro 7    Luisa   González   536271      23     1      Baja   \n\n         Activo   Baja  Graduado  \nCampo 4                           \n888888     True  False     False  \n777222    False   True     False  \n123455    False   True     False  \n971298    False  False      True  \n123098     True  False     False  \n736923     True  False     False  \n536271    False   True     False  ",
      "text/html": "<div>\n<style scoped>\n    .dataframe tbody tr th:only-of-type {\n        vertical-align: middle;\n    }\n\n    .dataframe tbody tr th {\n        vertical-align: top;\n    }\n\n    .dataframe thead th {\n        text-align: right;\n    }\n</style>\n<table border=\"1\" class=\"dataframe\">\n  <thead>\n    <tr style=\"text-align: right;\">\n      <th></th>\n      <th>Campo 1</th>\n      <th>Campo 2</th>\n      <th>Campo 3</th>\n      <th>Campo 4</th>\n      <th>Campo 5</th>\n      <th>nueva</th>\n      <th>Estado</th>\n      <th>Activo</th>\n      <th>Baja</th>\n      <th>Graduado</th>\n    </tr>\n    <tr>\n      <th>Campo 4</th>\n      <th></th>\n      <th></th>\n      <th></th>\n      <th></th>\n      <th></th>\n      <th></th>\n      <th></th>\n      <th></th>\n      <th></th>\n      <th></th>\n    </tr>\n  </thead>\n  <tbody>\n    <tr>\n      <th>888888</th>\n      <td>Registro 5</td>\n      <td>HELENA</td>\n      <td>González</td>\n      <td>888888</td>\n      <td>29.0</td>\n      <td>5</td>\n      <td>Activo</td>\n      <td>True</td>\n      <td>False</td>\n      <td>False</td>\n    </tr>\n    <tr>\n      <th>777222</th>\n      <td>Registro 6</td>\n      <td>JOSÉ</td>\n      <td>López</td>\n      <td>777222</td>\n      <td>30.0</td>\n      <td>6</td>\n      <td>Baja</td>\n      <td>False</td>\n      <td>True</td>\n      <td>False</td>\n    </tr>\n    <tr>\n      <th>123455</th>\n      <td>Registro 1</td>\n      <td>HUGO</td>\n      <td>López</td>\n      <td>123455</td>\n      <td>20.0</td>\n      <td>5</td>\n      <td>Baja</td>\n      <td>False</td>\n      <td>True</td>\n      <td>False</td>\n    </tr>\n    <tr>\n      <th>971298</th>\n      <td>Registro 3</td>\n      <td>LUIS</td>\n      <td>Oca</td>\n      <td>971298</td>\n      <td>28.0</td>\n      <td>5</td>\n      <td>Graduado</td>\n      <td>False</td>\n      <td>False</td>\n      <td>True</td>\n    </tr>\n    <tr>\n      <th>123098</th>\n      <td>Registro 4</td>\n      <td>PEDRO</td>\n      <td>Ramírez</td>\n      <td>123098</td>\n      <td>28.0</td>\n      <td>5</td>\n      <td>Activo</td>\n      <td>True</td>\n      <td>False</td>\n      <td>False</td>\n    </tr>\n    <tr>\n      <th>736923</th>\n      <td>Registro 2</td>\n      <td>PACO</td>\n      <td>Silva</td>\n      <td>736923</td>\n      <td>35.0</td>\n      <td>5</td>\n      <td>Activo</td>\n      <td>True</td>\n      <td>False</td>\n      <td>False</td>\n    </tr>\n    <tr>\n      <th>536271</th>\n      <td>Registro 7</td>\n      <td>Luisa</td>\n      <td>González</td>\n      <td>536271</td>\n      <td>23</td>\n      <td>1</td>\n      <td>Baja</td>\n      <td>False</td>\n      <td>True</td>\n      <td>False</td>\n    </tr>\n  </tbody>\n</table>\n</div>"
     },
     "execution_count": 86,
     "metadata": {},
     "output_type": "execute_result"
    }
   ],
   "source": [
    "Frame = pd.concat([estudiantes,pd.get_dummies(estudiantes[\"Estado\"])],axis = 1)\n",
    "Frame"
   ]
  },
  {
   "cell_type": "code",
   "execution_count": 87,
   "metadata": {
    "ExecuteTime": {
     "end_time": "2023-11-21T16:12:15.951666049Z",
     "start_time": "2023-11-21T16:12:15.877761388Z"
    }
   },
   "outputs": [
    {
     "data": {
      "text/plain": "            Campo 1  Campo 2    Campo 3  Campo 4 Campo 5 nueva    Estado  \\\nCampo 4                                                                    \n888888   Registro 5   HELENA   González   888888    29.0     5    Activo   \n777222   Registro 6     JOSÉ      López   777222    30.0     6      Baja   \n123455   Registro 1     HUGO      López   123455    20.0     5      Baja   \n971298   Registro 3     LUIS        Oca   971298    28.0     5  Graduado   \n123098   Registro 4    PEDRO    Ramírez   123098    28.0     5    Activo   \n736923   Registro 2     PACO      Silva   736923    35.0     5    Activo   \n536271   Registro 7    Luisa   González   536271      23     1      Baja   \n\n         Activo   Baja  Graduado  Fac Sexo  \nCampo 4                                     \n888888     True  False     False    4    0  \n777222    False   True     False    3    1  \n123455    False   True     False    1    1  \n971298    False  False      True    4    1  \n123098     True  False     False    5    1  \n736923     True  False     False    1    1  \n536271    False   True     False    8    0  ",
      "text/html": "<div>\n<style scoped>\n    .dataframe tbody tr th:only-of-type {\n        vertical-align: middle;\n    }\n\n    .dataframe tbody tr th {\n        vertical-align: top;\n    }\n\n    .dataframe thead th {\n        text-align: right;\n    }\n</style>\n<table border=\"1\" class=\"dataframe\">\n  <thead>\n    <tr style=\"text-align: right;\">\n      <th></th>\n      <th>Campo 1</th>\n      <th>Campo 2</th>\n      <th>Campo 3</th>\n      <th>Campo 4</th>\n      <th>Campo 5</th>\n      <th>nueva</th>\n      <th>Estado</th>\n      <th>Activo</th>\n      <th>Baja</th>\n      <th>Graduado</th>\n      <th>Fac</th>\n      <th>Sexo</th>\n    </tr>\n    <tr>\n      <th>Campo 4</th>\n      <th></th>\n      <th></th>\n      <th></th>\n      <th></th>\n      <th></th>\n      <th></th>\n      <th></th>\n      <th></th>\n      <th></th>\n      <th></th>\n      <th></th>\n      <th></th>\n    </tr>\n  </thead>\n  <tbody>\n    <tr>\n      <th>888888</th>\n      <td>Registro 5</td>\n      <td>HELENA</td>\n      <td>González</td>\n      <td>888888</td>\n      <td>29.0</td>\n      <td>5</td>\n      <td>Activo</td>\n      <td>True</td>\n      <td>False</td>\n      <td>False</td>\n      <td>4</td>\n      <td>0</td>\n    </tr>\n    <tr>\n      <th>777222</th>\n      <td>Registro 6</td>\n      <td>JOSÉ</td>\n      <td>López</td>\n      <td>777222</td>\n      <td>30.0</td>\n      <td>6</td>\n      <td>Baja</td>\n      <td>False</td>\n      <td>True</td>\n      <td>False</td>\n      <td>3</td>\n      <td>1</td>\n    </tr>\n    <tr>\n      <th>123455</th>\n      <td>Registro 1</td>\n      <td>HUGO</td>\n      <td>López</td>\n      <td>123455</td>\n      <td>20.0</td>\n      <td>5</td>\n      <td>Baja</td>\n      <td>False</td>\n      <td>True</td>\n      <td>False</td>\n      <td>1</td>\n      <td>1</td>\n    </tr>\n    <tr>\n      <th>971298</th>\n      <td>Registro 3</td>\n      <td>LUIS</td>\n      <td>Oca</td>\n      <td>971298</td>\n      <td>28.0</td>\n      <td>5</td>\n      <td>Graduado</td>\n      <td>False</td>\n      <td>False</td>\n      <td>True</td>\n      <td>4</td>\n      <td>1</td>\n    </tr>\n    <tr>\n      <th>123098</th>\n      <td>Registro 4</td>\n      <td>PEDRO</td>\n      <td>Ramírez</td>\n      <td>123098</td>\n      <td>28.0</td>\n      <td>5</td>\n      <td>Activo</td>\n      <td>True</td>\n      <td>False</td>\n      <td>False</td>\n      <td>5</td>\n      <td>1</td>\n    </tr>\n    <tr>\n      <th>736923</th>\n      <td>Registro 2</td>\n      <td>PACO</td>\n      <td>Silva</td>\n      <td>736923</td>\n      <td>35.0</td>\n      <td>5</td>\n      <td>Activo</td>\n      <td>True</td>\n      <td>False</td>\n      <td>False</td>\n      <td>1</td>\n      <td>1</td>\n    </tr>\n    <tr>\n      <th>536271</th>\n      <td>Registro 7</td>\n      <td>Luisa</td>\n      <td>González</td>\n      <td>536271</td>\n      <td>23</td>\n      <td>1</td>\n      <td>Baja</td>\n      <td>False</td>\n      <td>True</td>\n      <td>False</td>\n      <td>8</td>\n      <td>0</td>\n    </tr>\n  </tbody>\n</table>\n</div>"
     },
     "execution_count": 87,
     "metadata": {},
     "output_type": "execute_result"
    }
   ],
   "source": [
    "Frame[\"Fac\"] = [4,3,1,4,5,1,8]\n",
    "Frame[\"Sexo\"] = [\"0\",\"1\",\"1\",\"1\",\"1\",\"1\",\"0\"]\n",
    "Frame"
   ]
  },
  {
   "cell_type": "code",
   "execution_count": 88,
   "metadata": {
    "ExecuteTime": {
     "end_time": "2023-11-21T16:12:20.570532901Z",
     "start_time": "2023-11-21T16:12:20.481355970Z"
    }
   },
   "outputs": [
    {
     "data": {
      "text/plain": "Estado\nActivo      10\nBaja        12\nGraduado     4\nName: Fac, dtype: int64"
     },
     "execution_count": 88,
     "metadata": {},
     "output_type": "execute_result"
    }
   ],
   "source": [
    "Frame.groupby('Estado')[\"Fac\"].sum()\n"
   ]
  },
  {
   "cell_type": "code",
   "execution_count": 89,
   "metadata": {
    "ExecuteTime": {
     "end_time": "2023-11-21T16:12:34.014700590Z",
     "start_time": "2023-11-21T16:12:33.939315546Z"
    }
   },
   "outputs": [
    {
     "data": {
      "text/plain": "Estado    Sexo\nActivo    0       4\n          1       6\nBaja      0       8\n          1       4\nGraduado  1       4\nName: Fac, dtype: int64"
     },
     "execution_count": 89,
     "metadata": {},
     "output_type": "execute_result"
    }
   ],
   "source": [
    "Frame.groupby(['Estado',\"Sexo\"])[\"Fac\"].sum()"
   ]
  },
  {
   "cell_type": "code",
   "execution_count": 90,
   "metadata": {
    "ExecuteTime": {
     "end_time": "2023-11-21T16:12:40.836888223Z",
     "start_time": "2023-11-21T16:12:40.744790808Z"
    }
   },
   "outputs": [
    {
     "data": {
      "text/plain": "4"
     },
     "execution_count": 90,
     "metadata": {},
     "output_type": "execute_result"
    }
   ],
   "source": [
    "Frame.groupby(['Estado',\"Sexo\"])[\"Fac\"].sum()[\"Activo\",\"0\"]"
   ]
  },
  {
   "cell_type": "code",
   "execution_count": 91,
   "metadata": {
    "ExecuteTime": {
     "end_time": "2023-11-21T16:12:42.703574895Z",
     "start_time": "2023-11-21T16:12:42.595200691Z"
    }
   },
   "outputs": [
    {
     "data": {
      "text/plain": "            Fac\ncount  7.000000\nmean   3.714286\nstd    2.429972\nmin    1.000000\n25%    2.000000\n50%    4.000000\n75%    4.500000\nmax    8.000000",
      "text/html": "<div>\n<style scoped>\n    .dataframe tbody tr th:only-of-type {\n        vertical-align: middle;\n    }\n\n    .dataframe tbody tr th {\n        vertical-align: top;\n    }\n\n    .dataframe thead th {\n        text-align: right;\n    }\n</style>\n<table border=\"1\" class=\"dataframe\">\n  <thead>\n    <tr style=\"text-align: right;\">\n      <th></th>\n      <th>Fac</th>\n    </tr>\n  </thead>\n  <tbody>\n    <tr>\n      <th>count</th>\n      <td>7.000000</td>\n    </tr>\n    <tr>\n      <th>mean</th>\n      <td>3.714286</td>\n    </tr>\n    <tr>\n      <th>std</th>\n      <td>2.429972</td>\n    </tr>\n    <tr>\n      <th>min</th>\n      <td>1.000000</td>\n    </tr>\n    <tr>\n      <th>25%</th>\n      <td>2.000000</td>\n    </tr>\n    <tr>\n      <th>50%</th>\n      <td>4.000000</td>\n    </tr>\n    <tr>\n      <th>75%</th>\n      <td>4.500000</td>\n    </tr>\n    <tr>\n      <th>max</th>\n      <td>8.000000</td>\n    </tr>\n  </tbody>\n</table>\n</div>"
     },
     "execution_count": 91,
     "metadata": {},
     "output_type": "execute_result"
    }
   ],
   "source": [
    "Frame.describe()"
   ]
  },
  {
   "cell_type": "code",
   "execution_count": null,
   "outputs": [],
   "source": [],
   "metadata": {
    "collapsed": false
   }
  }
 ],
 "metadata": {
  "kernelspec": {
   "display_name": "Python 3",
   "language": "python",
   "name": "python3"
  },
  "language_info": {
   "codemirror_mode": {
    "name": "ipython",
    "version": 3
   },
   "file_extension": ".py",
   "mimetype": "text/x-python",
   "name": "python",
   "nbconvert_exporter": "python",
   "pygments_lexer": "ipython3",
   "version": "3.7.7"
  }
 },
 "nbformat": 4,
 "nbformat_minor": 4
}
