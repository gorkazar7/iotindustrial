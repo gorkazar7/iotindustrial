{
 "cells": [
  {
   "cell_type": "code",
   "execution_count": 1,
   "metadata": {
    "ExecuteTime": {
     "end_time": "2023-11-30T14:23:01.657016330Z",
     "start_time": "2023-11-30T14:22:58.423345158Z"
    }
   },
   "outputs": [
    {
     "name": "stdout",
     "output_type": "stream",
     "text": [
      "Requirement already satisfied: pandas in /home/zarateadm/.local/lib/python3.8/site-packages (2.0.3)\r\n",
      "Requirement already satisfied: python-dateutil>=2.8.2 in /usr/local/lib/python3.8/dist-packages (from pandas) (2.8.2)\r\n",
      "Requirement already satisfied: tzdata>=2022.1 in /home/zarateadm/.local/lib/python3.8/site-packages (from pandas) (2023.3)\r\n",
      "Requirement already satisfied: numpy>=1.20.3; python_version < \"3.10\" in /home/zarateadm/.local/lib/python3.8/site-packages (from pandas) (1.24.4)\r\n",
      "Requirement already satisfied: pytz>=2020.1 in /home/zarateadm/.local/lib/python3.8/site-packages (from pandas) (2023.3.post1)\r\n",
      "Requirement already satisfied: six>=1.5 in /home/zarateadm/.local/lib/python3.8/site-packages (from python-dateutil>=2.8.2->pandas) (1.15.0)\r\n"
     ]
    }
   ],
   "source": [
    "!pip install pandas"
   ]
  },
  {
   "cell_type": "code",
   "execution_count": 3,
   "metadata": {
    "ExecuteTime": {
     "end_time": "2023-11-30T14:35:06.874569912Z",
     "start_time": "2023-11-30T14:35:06.386032570Z"
    }
   },
   "outputs": [],
   "source": [
    "import pandas as pd\n",
    "import numpy as np"
   ]
  },
  {
   "cell_type": "markdown",
   "source": [
    "### <font color=#003d5c> _Dataframes_ </font>\n",
    "    \n",
    "Un `DataFrame` es una estructura de datos que almacena datos de forma tabular, es decir, ordenada en filas y columnas etiquetadas. Cada fila (`row`) contiene una observación y cada columna (`column`) una variable. \n",
    "Un `DataFrame` acepta datos heterogéneos, o sea, las variables pueden ser de distintos tipos (numérico, string, boolean, etc.). \n",
    "Además de contener datos, un `DataFrame` contiene el nombre de las variables y sus tipos, y métodos que permiten acceder y modificar los datos.\n",
    "\n",
    "```python\n",
    "s = pd.DataFrame(data, ...)\n",
    "```\n",
    "\n",
    "La clase `pandas.DataFrame` permite crear dataframes a partir de datos que pueden corresponder a:\n",
    "\n",
    "* Objetos de tipo dict.\n",
    "* Series objetos tipo tuple.\n",
    "* Objetos numpy.ndarray (arrays que contienen sólo números).\n",
    "* Otros objetos instanciado de pandas.DataFrame.\n",
    "\n",
    "Dichos datos pueden ser ingresados como argumentos del parámetro data al instanciarlos.\n",
    "\n",
    "Los dataframes indexan por defecto las columnas y los encabezados con valores numéricos. Sin embargo, estos pueden ser modificados por el usuario.\n"
   ],
   "metadata": {
    "collapsed": false
   }
  },
  {
   "cell_type": "code",
   "execution_count": 30,
   "outputs": [
    {
     "data": {
      "text/plain": "   0  1  2\n0  0  1  2\n1  1  2  3\n2  2  3  4\n3  3  4  5",
      "text/html": "<div>\n<style scoped>\n    .dataframe tbody tr th:only-of-type {\n        vertical-align: middle;\n    }\n\n    .dataframe tbody tr th {\n        vertical-align: top;\n    }\n\n    .dataframe thead th {\n        text-align: right;\n    }\n</style>\n<table border=\"1\" class=\"dataframe\">\n  <thead>\n    <tr style=\"text-align: right;\">\n      <th></th>\n      <th>0</th>\n      <th>1</th>\n      <th>2</th>\n    </tr>\n  </thead>\n  <tbody>\n    <tr>\n      <th>0</th>\n      <td>0</td>\n      <td>1</td>\n      <td>2</td>\n    </tr>\n    <tr>\n      <th>1</th>\n      <td>1</td>\n      <td>2</td>\n      <td>3</td>\n    </tr>\n    <tr>\n      <th>2</th>\n      <td>2</td>\n      <td>3</td>\n      <td>4</td>\n    </tr>\n    <tr>\n      <th>3</th>\n      <td>3</td>\n      <td>4</td>\n      <td>5</td>\n    </tr>\n  </tbody>\n</table>\n</div>"
     },
     "execution_count": 30,
     "metadata": {},
     "output_type": "execute_result"
    }
   ],
   "source": [
    "pd.DataFrame(data=[(0, 1, 2), (1, 2, 3), (2, 3, 4), (3, 4, 5)])"
   ],
   "metadata": {
    "collapsed": false
   }
  },
  {
   "cell_type": "code",
   "execution_count": 31,
   "outputs": [],
   "source": [
    "estudiantes = {'Nombre':[\"Hugo\", \"Paco\", \"Luis\" ,\"Pedro\", \"Juan\", \"Pablo\"], \n",
    "                'Apellido':[\"López\", \"Silva\", \"Oca\" , \"Ramírez\", \"Gutiérrez\", np.nan], \n",
    "                'Matrícula':[\"123455\", \"736923\", \"971298\" ,\"123098\", \"987656\", \"878652\"], \n",
    "                'Edad':[20, 35, 30 ,25, np.nan, 23]}"
   ],
   "metadata": {
    "collapsed": false
   }
  },
  {
   "cell_type": "code",
   "execution_count": 32,
   "outputs": [
    {
     "data": {
      "text/plain": "  Nombre   Apellido Matrícula  Edad\n0   Hugo      López    123455  20.0\n1   Paco      Silva    736923  35.0\n2   Luis        Oca    971298  30.0\n3  Pedro    Ramírez    123098  25.0\n4   Juan  Gutiérrez    987656   NaN\n5  Pablo        NaN    878652  23.0",
      "text/html": "<div>\n<style scoped>\n    .dataframe tbody tr th:only-of-type {\n        vertical-align: middle;\n    }\n\n    .dataframe tbody tr th {\n        vertical-align: top;\n    }\n\n    .dataframe thead th {\n        text-align: right;\n    }\n</style>\n<table border=\"1\" class=\"dataframe\">\n  <thead>\n    <tr style=\"text-align: right;\">\n      <th></th>\n      <th>Nombre</th>\n      <th>Apellido</th>\n      <th>Matrícula</th>\n      <th>Edad</th>\n    </tr>\n  </thead>\n  <tbody>\n    <tr>\n      <th>0</th>\n      <td>Hugo</td>\n      <td>López</td>\n      <td>123455</td>\n      <td>20.0</td>\n    </tr>\n    <tr>\n      <th>1</th>\n      <td>Paco</td>\n      <td>Silva</td>\n      <td>736923</td>\n      <td>35.0</td>\n    </tr>\n    <tr>\n      <th>2</th>\n      <td>Luis</td>\n      <td>Oca</td>\n      <td>971298</td>\n      <td>30.0</td>\n    </tr>\n    <tr>\n      <th>3</th>\n      <td>Pedro</td>\n      <td>Ramírez</td>\n      <td>123098</td>\n      <td>25.0</td>\n    </tr>\n    <tr>\n      <th>4</th>\n      <td>Juan</td>\n      <td>Gutiérrez</td>\n      <td>987656</td>\n      <td>NaN</td>\n    </tr>\n    <tr>\n      <th>5</th>\n      <td>Pablo</td>\n      <td>NaN</td>\n      <td>878652</td>\n      <td>23.0</td>\n    </tr>\n  </tbody>\n</table>\n</div>"
     },
     "execution_count": 32,
     "metadata": {},
     "output_type": "execute_result"
    }
   ],
   "source": [
    "pd.DataFrame(estudiantes)"
   ],
   "metadata": {
    "collapsed": false
   }
  },
  {
   "cell_type": "code",
   "execution_count": 33,
   "outputs": [
    {
     "data": {
      "text/plain": "array([[0, 1, 2],\n       [3, 4, 5],\n       [6, 7, 8]])"
     },
     "execution_count": 33,
     "metadata": {},
     "output_type": "execute_result"
    }
   ],
   "source": [
    "matriz = np.arange(9).reshape(3,3)\n",
    "matriz"
   ],
   "metadata": {
    "collapsed": false
   }
  },
  {
   "cell_type": "code",
   "execution_count": 35,
   "outputs": [
    {
     "data": {
      "text/plain": "   0  1  2\n0  0  1  2\n1  3  4  5\n2  6  7  8",
      "text/html": "<div>\n<style scoped>\n    .dataframe tbody tr th:only-of-type {\n        vertical-align: middle;\n    }\n\n    .dataframe tbody tr th {\n        vertical-align: top;\n    }\n\n    .dataframe thead th {\n        text-align: right;\n    }\n</style>\n<table border=\"1\" class=\"dataframe\">\n  <thead>\n    <tr style=\"text-align: right;\">\n      <th></th>\n      <th>0</th>\n      <th>1</th>\n      <th>2</th>\n    </tr>\n  </thead>\n  <tbody>\n    <tr>\n      <th>0</th>\n      <td>0</td>\n      <td>1</td>\n      <td>2</td>\n    </tr>\n    <tr>\n      <th>1</th>\n      <td>3</td>\n      <td>4</td>\n      <td>5</td>\n    </tr>\n    <tr>\n      <th>2</th>\n      <td>6</td>\n      <td>7</td>\n      <td>8</td>\n    </tr>\n  </tbody>\n</table>\n</div>"
     },
     "execution_count": 35,
     "metadata": {},
     "output_type": "execute_result"
    }
   ],
   "source": [
    "pd.DataFrame(matriz)"
   ],
   "metadata": {
    "collapsed": false
   }
  },
  {
   "cell_type": "markdown",
   "source": [
    "El parámetro index, permite incluir un índice a cada renglón."
   ],
   "metadata": {
    "collapsed": false
   }
  },
  {
   "cell_type": "code",
   "execution_count": 37,
   "outputs": [],
   "source": [
    "registro = (\"1a persona\",\"2a persona\",\"3a persona\",\"4a persona\",\"5a persona\",\"6a persona\")"
   ],
   "metadata": {
    "collapsed": false
   }
  },
  {
   "cell_type": "code",
   "execution_count": 38,
   "outputs": [
    {
     "data": {
      "text/plain": "           Nombre   Apellido Matrícula  Edad\n1a persona   Hugo      López    123455  20.0\n2a persona   Paco      Silva    736923  35.0\n3a persona   Luis        Oca    971298  30.0\n4a persona  Pedro    Ramírez    123098  25.0\n5a persona   Juan  Gutiérrez    987656   NaN\n6a persona  Pablo        NaN    878652  23.0",
      "text/html": "<div>\n<style scoped>\n    .dataframe tbody tr th:only-of-type {\n        vertical-align: middle;\n    }\n\n    .dataframe tbody tr th {\n        vertical-align: top;\n    }\n\n    .dataframe thead th {\n        text-align: right;\n    }\n</style>\n<table border=\"1\" class=\"dataframe\">\n  <thead>\n    <tr style=\"text-align: right;\">\n      <th></th>\n      <th>Nombre</th>\n      <th>Apellido</th>\n      <th>Matrícula</th>\n      <th>Edad</th>\n    </tr>\n  </thead>\n  <tbody>\n    <tr>\n      <th>1a persona</th>\n      <td>Hugo</td>\n      <td>López</td>\n      <td>123455</td>\n      <td>20.0</td>\n    </tr>\n    <tr>\n      <th>2a persona</th>\n      <td>Paco</td>\n      <td>Silva</td>\n      <td>736923</td>\n      <td>35.0</td>\n    </tr>\n    <tr>\n      <th>3a persona</th>\n      <td>Luis</td>\n      <td>Oca</td>\n      <td>971298</td>\n      <td>30.0</td>\n    </tr>\n    <tr>\n      <th>4a persona</th>\n      <td>Pedro</td>\n      <td>Ramírez</td>\n      <td>123098</td>\n      <td>25.0</td>\n    </tr>\n    <tr>\n      <th>5a persona</th>\n      <td>Juan</td>\n      <td>Gutiérrez</td>\n      <td>987656</td>\n      <td>NaN</td>\n    </tr>\n    <tr>\n      <th>6a persona</th>\n      <td>Pablo</td>\n      <td>NaN</td>\n      <td>878652</td>\n      <td>23.0</td>\n    </tr>\n  </tbody>\n</table>\n</div>"
     },
     "execution_count": 38,
     "metadata": {},
     "output_type": "execute_result"
    }
   ],
   "source": [
    "pd.DataFrame(data = estudiantes, index = registro)"
   ],
   "metadata": {
    "collapsed": false
   }
  },
  {
   "cell_type": "markdown",
   "source": [
    "El parámetro columns permite nombrar a las columnas."
   ],
   "metadata": {
    "collapsed": false
   }
  },
  {
   "cell_type": "code",
   "execution_count": 39,
   "outputs": [],
   "source": [
    "matriz = np.arange(9).reshape((3,3))"
   ],
   "metadata": {
    "collapsed": false
   }
  },
  {
   "cell_type": "code",
   "execution_count": 40,
   "outputs": [
    {
     "data": {
      "text/plain": "      a  b  c\nuno   0  1  2\ndos   3  4  5\ntres  6  7  8",
      "text/html": "<div>\n<style scoped>\n    .dataframe tbody tr th:only-of-type {\n        vertical-align: middle;\n    }\n\n    .dataframe tbody tr th {\n        vertical-align: top;\n    }\n\n    .dataframe thead th {\n        text-align: right;\n    }\n</style>\n<table border=\"1\" class=\"dataframe\">\n  <thead>\n    <tr style=\"text-align: right;\">\n      <th></th>\n      <th>a</th>\n      <th>b</th>\n      <th>c</th>\n    </tr>\n  </thead>\n  <tbody>\n    <tr>\n      <th>uno</th>\n      <td>0</td>\n      <td>1</td>\n      <td>2</td>\n    </tr>\n    <tr>\n      <th>dos</th>\n      <td>3</td>\n      <td>4</td>\n      <td>5</td>\n    </tr>\n    <tr>\n      <th>tres</th>\n      <td>6</td>\n      <td>7</td>\n      <td>8</td>\n    </tr>\n  </tbody>\n</table>\n</div>"
     },
     "execution_count": 40,
     "metadata": {},
     "output_type": "execute_result"
    }
   ],
   "source": [
    "pd.DataFrame(data = matriz, index=['uno','dos','tres'], columns=['a', 'b', 'c'])"
   ],
   "metadata": {
    "collapsed": false
   }
  },
  {
   "cell_type": "code",
   "execution_count": 41,
   "outputs": [
    {
     "data": {
      "text/plain": "           Nombre Apellido  Matrícula  Edad\nRegistro 1   Hugo    López     123455  20.0\nRegistro 2   Paco    Silva     736923  35.0\nRegistro 3   Luis      Oca     971298   NaN\nRegistro 4  Pedro  Ramírez     123098   NaN",
      "text/html": "<div>\n<style scoped>\n    .dataframe tbody tr th:only-of-type {\n        vertical-align: middle;\n    }\n\n    .dataframe tbody tr th {\n        vertical-align: top;\n    }\n\n    .dataframe thead th {\n        text-align: right;\n    }\n</style>\n<table border=\"1\" class=\"dataframe\">\n  <thead>\n    <tr style=\"text-align: right;\">\n      <th></th>\n      <th>Nombre</th>\n      <th>Apellido</th>\n      <th>Matrícula</th>\n      <th>Edad</th>\n    </tr>\n  </thead>\n  <tbody>\n    <tr>\n      <th>Registro 1</th>\n      <td>Hugo</td>\n      <td>López</td>\n      <td>123455</td>\n      <td>20.0</td>\n    </tr>\n    <tr>\n      <th>Registro 2</th>\n      <td>Paco</td>\n      <td>Silva</td>\n      <td>736923</td>\n      <td>35.0</td>\n    </tr>\n    <tr>\n      <th>Registro 3</th>\n      <td>Luis</td>\n      <td>Oca</td>\n      <td>971298</td>\n      <td>NaN</td>\n    </tr>\n    <tr>\n      <th>Registro 4</th>\n      <td>Pedro</td>\n      <td>Ramírez</td>\n      <td>123098</td>\n      <td>NaN</td>\n    </tr>\n  </tbody>\n</table>\n</div>"
     },
     "execution_count": 41,
     "metadata": {},
     "output_type": "execute_result"
    }
   ],
   "source": [
    "pd.DataFrame(\n",
    "[[\"Hugo\",\"López\",123455,20],\n",
    " [\"Paco\",\"Silva\",736923,35],\n",
    " [\"Luis\",\"Oca\",971298],\n",
    " [\"Pedro\",\"Ramírez\",123098]    \n",
    "], index = [\"Registro 1\",\"Registro 2\",\"Registro 3\",\"Registro 4\"],\n",
    "    columns = [\"Nombre\",\"Apellido\",\"Matrícula\",\"Edad\"]\n",
    ")"
   ],
   "metadata": {
    "collapsed": false
   }
  },
  {
   "cell_type": "markdown",
   "source": [
    "## Acceso a los elementos de un dataframe\n",
    "\n",
    "Podemos acceder a los elementos de un dataframe mediante las siguientes maneras. Consideremos nuevamente el dataframe anterior:"
   ],
   "metadata": {
    "collapsed": false
   }
  },
  {
   "cell_type": "code",
   "execution_count": 42,
   "outputs": [
    {
     "data": {
      "text/plain": "           Nombre Apellido Matrícula  Edad\nRegistro 1   Hugo    López    123455  20.0\nRegistro 2   Paco    Silva    736923  35.0\nRegistro 3   Luis      Oca    971298   NaN\nRegistro 4  Pedro  Ramírez    123098   NaN",
      "text/html": "<div>\n<style scoped>\n    .dataframe tbody tr th:only-of-type {\n        vertical-align: middle;\n    }\n\n    .dataframe tbody tr th {\n        vertical-align: top;\n    }\n\n    .dataframe thead th {\n        text-align: right;\n    }\n</style>\n<table border=\"1\" class=\"dataframe\">\n  <thead>\n    <tr style=\"text-align: right;\">\n      <th></th>\n      <th>Nombre</th>\n      <th>Apellido</th>\n      <th>Matrícula</th>\n      <th>Edad</th>\n    </tr>\n  </thead>\n  <tbody>\n    <tr>\n      <th>Registro 1</th>\n      <td>Hugo</td>\n      <td>López</td>\n      <td>123455</td>\n      <td>20.0</td>\n    </tr>\n    <tr>\n      <th>Registro 2</th>\n      <td>Paco</td>\n      <td>Silva</td>\n      <td>736923</td>\n      <td>35.0</td>\n    </tr>\n    <tr>\n      <th>Registro 3</th>\n      <td>Luis</td>\n      <td>Oca</td>\n      <td>971298</td>\n      <td>NaN</td>\n    </tr>\n    <tr>\n      <th>Registro 4</th>\n      <td>Pedro</td>\n      <td>Ramírez</td>\n      <td>123098</td>\n      <td>NaN</td>\n    </tr>\n  </tbody>\n</table>\n</div>"
     },
     "execution_count": 42,
     "metadata": {},
     "output_type": "execute_result"
    }
   ],
   "source": [
    "estudiantes = pd.DataFrame(\n",
    "[[\"Hugo\",\"López\",\"123455\",20],\n",
    " [\"Paco\",\"Silva\",\"736923\",35],\n",
    " [\"Luis\",\"Oca\",\"971298\"],\n",
    " [\"Pedro\",\"Ramírez\",\"123098\"]    \n",
    "], index = [\"Registro 1\",\"Registro 2\",\"Registro 3\",\"Registro 4\"],\n",
    "    columns = [\"Nombre\",\"Apellido\",\"Matrícula\",\"Edad\"]\n",
    ")\n",
    "\n",
    "estudiantes\n"
   ],
   "metadata": {
    "collapsed": false
   }
  },
  {
   "cell_type": "code",
   "execution_count": 44,
   "outputs": [
    {
     "data": {
      "text/plain": "Registro 1     Hugo\nRegistro 2     Paco\nRegistro 3     Luis\nRegistro 4    Pedro\nName: Nombre, dtype: object"
     },
     "execution_count": 44,
     "metadata": {},
     "output_type": "execute_result"
    }
   ],
   "source": [
    "# Acceso a una columna: usando el nombre de los campos\n",
    "estudiantes[\"Nombre\"]"
   ],
   "metadata": {
    "collapsed": false
   }
  },
  {
   "cell_type": "code",
   "execution_count": 45,
   "outputs": [
    {
     "data": {
      "text/plain": "           Nombre  Edad\nRegistro 1   Hugo  20.0\nRegistro 2   Paco  35.0\nRegistro 3   Luis   NaN\nRegistro 4  Pedro   NaN",
      "text/html": "<div>\n<style scoped>\n    .dataframe tbody tr th:only-of-type {\n        vertical-align: middle;\n    }\n\n    .dataframe tbody tr th {\n        vertical-align: top;\n    }\n\n    .dataframe thead th {\n        text-align: right;\n    }\n</style>\n<table border=\"1\" class=\"dataframe\">\n  <thead>\n    <tr style=\"text-align: right;\">\n      <th></th>\n      <th>Nombre</th>\n      <th>Edad</th>\n    </tr>\n  </thead>\n  <tbody>\n    <tr>\n      <th>Registro 1</th>\n      <td>Hugo</td>\n      <td>20.0</td>\n    </tr>\n    <tr>\n      <th>Registro 2</th>\n      <td>Paco</td>\n      <td>35.0</td>\n    </tr>\n    <tr>\n      <th>Registro 3</th>\n      <td>Luis</td>\n      <td>NaN</td>\n    </tr>\n    <tr>\n      <th>Registro 4</th>\n      <td>Pedro</td>\n      <td>NaN</td>\n    </tr>\n  </tbody>\n</table>\n</div>"
     },
     "execution_count": 45,
     "metadata": {},
     "output_type": "execute_result"
    }
   ],
   "source": [
    "# Acceso a varias columnas: usando el nombre de los campos\n",
    "estudiantes[[\"Nombre\",\"Edad\"]]"
   ],
   "metadata": {
    "collapsed": false
   }
  },
  {
   "cell_type": "code",
   "execution_count": 46,
   "outputs": [
    {
     "data": {
      "text/plain": "           Nombre Apellido Matrícula  Edad\nRegistro 2   Paco    Silva    736923  35.0\nRegistro 4  Pedro  Ramírez    123098   NaN",
      "text/html": "<div>\n<style scoped>\n    .dataframe tbody tr th:only-of-type {\n        vertical-align: middle;\n    }\n\n    .dataframe tbody tr th {\n        vertical-align: top;\n    }\n\n    .dataframe thead th {\n        text-align: right;\n    }\n</style>\n<table border=\"1\" class=\"dataframe\">\n  <thead>\n    <tr style=\"text-align: right;\">\n      <th></th>\n      <th>Nombre</th>\n      <th>Apellido</th>\n      <th>Matrícula</th>\n      <th>Edad</th>\n    </tr>\n  </thead>\n  <tbody>\n    <tr>\n      <th>Registro 2</th>\n      <td>Paco</td>\n      <td>Silva</td>\n      <td>736923</td>\n      <td>35.0</td>\n    </tr>\n    <tr>\n      <th>Registro 4</th>\n      <td>Pedro</td>\n      <td>Ramírez</td>\n      <td>123098</td>\n      <td>NaN</td>\n    </tr>\n  </tbody>\n</table>\n</div>"
     },
     "execution_count": 46,
     "metadata": {},
     "output_type": "execute_result"
    }
   ],
   "source": [
    "# Acceso a una fila mediante el nombre del ínice del registro\n",
    "estudiantes.loc[[\"Registro 2\",\"Registro 4\"]]"
   ],
   "metadata": {
    "collapsed": false
   }
  },
  {
   "cell_type": "code",
   "execution_count": 47,
   "outputs": [
    {
     "data": {
      "text/plain": "Nombre         Paco\nApellido      Silva\nMatrícula    736923\nEdad           35.0\nName: Registro 2, dtype: object"
     },
     "execution_count": 47,
     "metadata": {},
     "output_type": "execute_result"
    }
   ],
   "source": [
    "# Acceso a una fila mediante el número del índice del registro\n",
    "estudiantes.iloc[1]"
   ],
   "metadata": {
    "collapsed": false
   }
  },
  {
   "cell_type": "code",
   "execution_count": 92,
   "outputs": [
    {
     "ename": "KeyError",
     "evalue": "\"None of [Index(['Registro 1', 'Registro 4'], dtype='object', name='Campo 4')] are in the [index]\"",
     "output_type": "error",
     "traceback": [
      "\u001B[0;31m---------------------------------------------------------------------------\u001B[0m",
      "\u001B[0;31mKeyError\u001B[0m                                  Traceback (most recent call last)",
      "Cell \u001B[0;32mIn[92], line 2\u001B[0m\n\u001B[1;32m      1\u001B[0m \u001B[38;5;66;03m# Acceso a ciertas columnas y ciertas filas.\u001B[39;00m\n\u001B[0;32m----> 2\u001B[0m \u001B[43mestudiantes\u001B[49m\u001B[38;5;241;43m.\u001B[39;49m\u001B[43mloc\u001B[49m\u001B[43m[\u001B[49m\u001B[43m[\u001B[49m\u001B[38;5;124;43m\"\u001B[39;49m\u001B[38;5;124;43mRegistro 1\u001B[39;49m\u001B[38;5;124;43m\"\u001B[39;49m\u001B[43m,\u001B[49m\u001B[38;5;124;43m\"\u001B[39;49m\u001B[38;5;124;43mRegistro 4\u001B[39;49m\u001B[38;5;124;43m\"\u001B[39;49m\u001B[43m]\u001B[49m\u001B[43m]\u001B[49m[[\u001B[38;5;124m\"\u001B[39m\u001B[38;5;124mMatrícula\u001B[39m\u001B[38;5;124m\"\u001B[39m,\u001B[38;5;124m\"\u001B[39m\u001B[38;5;124mEdad\u001B[39m\u001B[38;5;124m\"\u001B[39m]]\n",
      "File \u001B[0;32m~/.local/lib/python3.8/site-packages/pandas/core/indexing.py:1103\u001B[0m, in \u001B[0;36m_LocationIndexer.__getitem__\u001B[0;34m(self, key)\u001B[0m\n\u001B[1;32m   1100\u001B[0m axis \u001B[38;5;241m=\u001B[39m \u001B[38;5;28mself\u001B[39m\u001B[38;5;241m.\u001B[39maxis \u001B[38;5;129;01mor\u001B[39;00m \u001B[38;5;241m0\u001B[39m\n\u001B[1;32m   1102\u001B[0m maybe_callable \u001B[38;5;241m=\u001B[39m com\u001B[38;5;241m.\u001B[39mapply_if_callable(key, \u001B[38;5;28mself\u001B[39m\u001B[38;5;241m.\u001B[39mobj)\n\u001B[0;32m-> 1103\u001B[0m \u001B[38;5;28;01mreturn\u001B[39;00m \u001B[38;5;28;43mself\u001B[39;49m\u001B[38;5;241;43m.\u001B[39;49m\u001B[43m_getitem_axis\u001B[49m\u001B[43m(\u001B[49m\u001B[43mmaybe_callable\u001B[49m\u001B[43m,\u001B[49m\u001B[43m \u001B[49m\u001B[43maxis\u001B[49m\u001B[38;5;241;43m=\u001B[39;49m\u001B[43maxis\u001B[49m\u001B[43m)\u001B[49m\n",
      "File \u001B[0;32m~/.local/lib/python3.8/site-packages/pandas/core/indexing.py:1332\u001B[0m, in \u001B[0;36m_LocIndexer._getitem_axis\u001B[0;34m(self, key, axis)\u001B[0m\n\u001B[1;32m   1329\u001B[0m     \u001B[38;5;28;01mif\u001B[39;00m \u001B[38;5;28mhasattr\u001B[39m(key, \u001B[38;5;124m\"\u001B[39m\u001B[38;5;124mndim\u001B[39m\u001B[38;5;124m\"\u001B[39m) \u001B[38;5;129;01mand\u001B[39;00m key\u001B[38;5;241m.\u001B[39mndim \u001B[38;5;241m>\u001B[39m \u001B[38;5;241m1\u001B[39m:\n\u001B[1;32m   1330\u001B[0m         \u001B[38;5;28;01mraise\u001B[39;00m \u001B[38;5;167;01mValueError\u001B[39;00m(\u001B[38;5;124m\"\u001B[39m\u001B[38;5;124mCannot index with multidimensional key\u001B[39m\u001B[38;5;124m\"\u001B[39m)\n\u001B[0;32m-> 1332\u001B[0m     \u001B[38;5;28;01mreturn\u001B[39;00m \u001B[38;5;28;43mself\u001B[39;49m\u001B[38;5;241;43m.\u001B[39;49m\u001B[43m_getitem_iterable\u001B[49m\u001B[43m(\u001B[49m\u001B[43mkey\u001B[49m\u001B[43m,\u001B[49m\u001B[43m \u001B[49m\u001B[43maxis\u001B[49m\u001B[38;5;241;43m=\u001B[39;49m\u001B[43maxis\u001B[49m\u001B[43m)\u001B[49m\n\u001B[1;32m   1334\u001B[0m \u001B[38;5;66;03m# nested tuple slicing\u001B[39;00m\n\u001B[1;32m   1335\u001B[0m \u001B[38;5;28;01mif\u001B[39;00m is_nested_tuple(key, labels):\n",
      "File \u001B[0;32m~/.local/lib/python3.8/site-packages/pandas/core/indexing.py:1272\u001B[0m, in \u001B[0;36m_LocIndexer._getitem_iterable\u001B[0;34m(self, key, axis)\u001B[0m\n\u001B[1;32m   1269\u001B[0m \u001B[38;5;28mself\u001B[39m\u001B[38;5;241m.\u001B[39m_validate_key(key, axis)\n\u001B[1;32m   1271\u001B[0m \u001B[38;5;66;03m# A collection of keys\u001B[39;00m\n\u001B[0;32m-> 1272\u001B[0m keyarr, indexer \u001B[38;5;241m=\u001B[39m \u001B[38;5;28;43mself\u001B[39;49m\u001B[38;5;241;43m.\u001B[39;49m\u001B[43m_get_listlike_indexer\u001B[49m\u001B[43m(\u001B[49m\u001B[43mkey\u001B[49m\u001B[43m,\u001B[49m\u001B[43m \u001B[49m\u001B[43maxis\u001B[49m\u001B[43m)\u001B[49m\n\u001B[1;32m   1273\u001B[0m \u001B[38;5;28;01mreturn\u001B[39;00m \u001B[38;5;28mself\u001B[39m\u001B[38;5;241m.\u001B[39mobj\u001B[38;5;241m.\u001B[39m_reindex_with_indexers(\n\u001B[1;32m   1274\u001B[0m     {axis: [keyarr, indexer]}, copy\u001B[38;5;241m=\u001B[39m\u001B[38;5;28;01mTrue\u001B[39;00m, allow_dups\u001B[38;5;241m=\u001B[39m\u001B[38;5;28;01mTrue\u001B[39;00m\n\u001B[1;32m   1275\u001B[0m )\n",
      "File \u001B[0;32m~/.local/lib/python3.8/site-packages/pandas/core/indexing.py:1462\u001B[0m, in \u001B[0;36m_LocIndexer._get_listlike_indexer\u001B[0;34m(self, key, axis)\u001B[0m\n\u001B[1;32m   1459\u001B[0m ax \u001B[38;5;241m=\u001B[39m \u001B[38;5;28mself\u001B[39m\u001B[38;5;241m.\u001B[39mobj\u001B[38;5;241m.\u001B[39m_get_axis(axis)\n\u001B[1;32m   1460\u001B[0m axis_name \u001B[38;5;241m=\u001B[39m \u001B[38;5;28mself\u001B[39m\u001B[38;5;241m.\u001B[39mobj\u001B[38;5;241m.\u001B[39m_get_axis_name(axis)\n\u001B[0;32m-> 1462\u001B[0m keyarr, indexer \u001B[38;5;241m=\u001B[39m \u001B[43max\u001B[49m\u001B[38;5;241;43m.\u001B[39;49m\u001B[43m_get_indexer_strict\u001B[49m\u001B[43m(\u001B[49m\u001B[43mkey\u001B[49m\u001B[43m,\u001B[49m\u001B[43m \u001B[49m\u001B[43maxis_name\u001B[49m\u001B[43m)\u001B[49m\n\u001B[1;32m   1464\u001B[0m \u001B[38;5;28;01mreturn\u001B[39;00m keyarr, indexer\n",
      "File \u001B[0;32m~/.local/lib/python3.8/site-packages/pandas/core/indexes/base.py:5877\u001B[0m, in \u001B[0;36mIndex._get_indexer_strict\u001B[0;34m(self, key, axis_name)\u001B[0m\n\u001B[1;32m   5874\u001B[0m \u001B[38;5;28;01melse\u001B[39;00m:\n\u001B[1;32m   5875\u001B[0m     keyarr, indexer, new_indexer \u001B[38;5;241m=\u001B[39m \u001B[38;5;28mself\u001B[39m\u001B[38;5;241m.\u001B[39m_reindex_non_unique(keyarr)\n\u001B[0;32m-> 5877\u001B[0m \u001B[38;5;28;43mself\u001B[39;49m\u001B[38;5;241;43m.\u001B[39;49m\u001B[43m_raise_if_missing\u001B[49m\u001B[43m(\u001B[49m\u001B[43mkeyarr\u001B[49m\u001B[43m,\u001B[49m\u001B[43m \u001B[49m\u001B[43mindexer\u001B[49m\u001B[43m,\u001B[49m\u001B[43m \u001B[49m\u001B[43maxis_name\u001B[49m\u001B[43m)\u001B[49m\n\u001B[1;32m   5879\u001B[0m keyarr \u001B[38;5;241m=\u001B[39m \u001B[38;5;28mself\u001B[39m\u001B[38;5;241m.\u001B[39mtake(indexer)\n\u001B[1;32m   5880\u001B[0m \u001B[38;5;28;01mif\u001B[39;00m \u001B[38;5;28misinstance\u001B[39m(key, Index):\n\u001B[1;32m   5881\u001B[0m     \u001B[38;5;66;03m# GH 42790 - Preserve name from an Index\u001B[39;00m\n",
      "File \u001B[0;32m~/.local/lib/python3.8/site-packages/pandas/core/indexes/base.py:5938\u001B[0m, in \u001B[0;36mIndex._raise_if_missing\u001B[0;34m(self, key, indexer, axis_name)\u001B[0m\n\u001B[1;32m   5936\u001B[0m     \u001B[38;5;28;01mif\u001B[39;00m use_interval_msg:\n\u001B[1;32m   5937\u001B[0m         key \u001B[38;5;241m=\u001B[39m \u001B[38;5;28mlist\u001B[39m(key)\n\u001B[0;32m-> 5938\u001B[0m     \u001B[38;5;28;01mraise\u001B[39;00m \u001B[38;5;167;01mKeyError\u001B[39;00m(\u001B[38;5;124mf\u001B[39m\u001B[38;5;124m\"\u001B[39m\u001B[38;5;124mNone of [\u001B[39m\u001B[38;5;132;01m{\u001B[39;00mkey\u001B[38;5;132;01m}\u001B[39;00m\u001B[38;5;124m] are in the [\u001B[39m\u001B[38;5;132;01m{\u001B[39;00maxis_name\u001B[38;5;132;01m}\u001B[39;00m\u001B[38;5;124m]\u001B[39m\u001B[38;5;124m\"\u001B[39m)\n\u001B[1;32m   5940\u001B[0m not_found \u001B[38;5;241m=\u001B[39m \u001B[38;5;28mlist\u001B[39m(ensure_index(key)[missing_mask\u001B[38;5;241m.\u001B[39mnonzero()[\u001B[38;5;241m0\u001B[39m]]\u001B[38;5;241m.\u001B[39munique())\n\u001B[1;32m   5941\u001B[0m \u001B[38;5;28;01mraise\u001B[39;00m \u001B[38;5;167;01mKeyError\u001B[39;00m(\u001B[38;5;124mf\u001B[39m\u001B[38;5;124m\"\u001B[39m\u001B[38;5;132;01m{\u001B[39;00mnot_found\u001B[38;5;132;01m}\u001B[39;00m\u001B[38;5;124m not in index\u001B[39m\u001B[38;5;124m\"\u001B[39m)\n",
      "\u001B[0;31mKeyError\u001B[0m: \"None of [Index(['Registro 1', 'Registro 4'], dtype='object', name='Campo 4')] are in the [index]\""
     ]
    }
   ],
   "source": [
    "# Acceso a ciertas columnas y ciertas filas.\n",
    "estudiantes.loc[[\"Registro 1\",\"Registro 4\"]][[\"Matrícula\",\"Edad\"]]"
   ],
   "metadata": {
    "collapsed": false
   }
  },
  {
   "cell_type": "markdown",
   "source": [
    "## Operaciones básicas de dataframes\n",
    "\n",
    "También es posible añadir nuevas columnas a un dataframe utilizando columnas que ya existen."
   ],
   "metadata": {
    "collapsed": false
   }
  },
  {
   "cell_type": "code",
   "execution_count": 50,
   "outputs": [
    {
     "data": {
      "text/plain": "           Nombre Apellido Matrícula  Edad Nombre completo\nRegistro 1   Hugo    López    123455  20.0      Hugo López\nRegistro 2   Paco    Silva    736923  35.0      Paco Silva\nRegistro 3   Luis      Oca    971298   NaN        Luis Oca\nRegistro 4  Pedro  Ramírez    123098   NaN   Pedro Ramírez",
      "text/html": "<div>\n<style scoped>\n    .dataframe tbody tr th:only-of-type {\n        vertical-align: middle;\n    }\n\n    .dataframe tbody tr th {\n        vertical-align: top;\n    }\n\n    .dataframe thead th {\n        text-align: right;\n    }\n</style>\n<table border=\"1\" class=\"dataframe\">\n  <thead>\n    <tr style=\"text-align: right;\">\n      <th></th>\n      <th>Nombre</th>\n      <th>Apellido</th>\n      <th>Matrícula</th>\n      <th>Edad</th>\n      <th>Nombre completo</th>\n    </tr>\n  </thead>\n  <tbody>\n    <tr>\n      <th>Registro 1</th>\n      <td>Hugo</td>\n      <td>López</td>\n      <td>123455</td>\n      <td>20.0</td>\n      <td>Hugo López</td>\n    </tr>\n    <tr>\n      <th>Registro 2</th>\n      <td>Paco</td>\n      <td>Silva</td>\n      <td>736923</td>\n      <td>35.0</td>\n      <td>Paco Silva</td>\n    </tr>\n    <tr>\n      <th>Registro 3</th>\n      <td>Luis</td>\n      <td>Oca</td>\n      <td>971298</td>\n      <td>NaN</td>\n      <td>Luis Oca</td>\n    </tr>\n    <tr>\n      <th>Registro 4</th>\n      <td>Pedro</td>\n      <td>Ramírez</td>\n      <td>123098</td>\n      <td>NaN</td>\n      <td>Pedro Ramírez</td>\n    </tr>\n  </tbody>\n</table>\n</div>"
     },
     "execution_count": 50,
     "metadata": {},
     "output_type": "execute_result"
    }
   ],
   "source": [
    "estudiantes[\"Nombre completo\"] = estudiantes[\"Nombre\"] + \" \" + estudiantes[\"Apellido\"]\n",
    "estudiantes"
   ],
   "metadata": {
    "collapsed": false
   }
  },
  {
   "cell_type": "code",
   "execution_count": 52,
   "outputs": [
    {
     "ename": "KeyError",
     "evalue": "\"['Nombre completo'] not found in axis\"",
     "output_type": "error",
     "traceback": [
      "\u001B[0;31m---------------------------------------------------------------------------\u001B[0m",
      "\u001B[0;31mKeyError\u001B[0m                                  Traceback (most recent call last)",
      "Cell \u001B[0;32mIn[52], line 2\u001B[0m\n\u001B[1;32m      1\u001B[0m \u001B[38;5;66;03m# Eliminado de columnas\u001B[39;00m\n\u001B[0;32m----> 2\u001B[0m \u001B[43mestudiantes\u001B[49m\u001B[38;5;241;43m.\u001B[39;49m\u001B[43mdrop\u001B[49m\u001B[43m(\u001B[49m\u001B[38;5;124;43m\"\u001B[39;49m\u001B[38;5;124;43mNombre completo\u001B[39;49m\u001B[38;5;124;43m\"\u001B[39;49m\u001B[43m,\u001B[49m\u001B[43maxis\u001B[49m\u001B[43m \u001B[49m\u001B[38;5;241;43m=\u001B[39;49m\u001B[43m \u001B[49m\u001B[38;5;241;43m1\u001B[39;49m\u001B[43m,\u001B[49m\u001B[43minplace\u001B[49m\u001B[43m \u001B[49m\u001B[38;5;241;43m=\u001B[39;49m\u001B[43m \u001B[49m\u001B[38;5;28;43;01mTrue\u001B[39;49;00m\u001B[43m)\u001B[49m\n\u001B[1;32m      3\u001B[0m estudiantes\n",
      "File \u001B[0;32m~/.local/lib/python3.8/site-packages/pandas/core/frame.py:5258\u001B[0m, in \u001B[0;36mDataFrame.drop\u001B[0;34m(self, labels, axis, index, columns, level, inplace, errors)\u001B[0m\n\u001B[1;32m   5110\u001B[0m \u001B[38;5;28;01mdef\u001B[39;00m \u001B[38;5;21mdrop\u001B[39m(\n\u001B[1;32m   5111\u001B[0m     \u001B[38;5;28mself\u001B[39m,\n\u001B[1;32m   5112\u001B[0m     labels: IndexLabel \u001B[38;5;241m=\u001B[39m \u001B[38;5;28;01mNone\u001B[39;00m,\n\u001B[0;32m   (...)\u001B[0m\n\u001B[1;32m   5119\u001B[0m     errors: IgnoreRaise \u001B[38;5;241m=\u001B[39m \u001B[38;5;124m\"\u001B[39m\u001B[38;5;124mraise\u001B[39m\u001B[38;5;124m\"\u001B[39m,\n\u001B[1;32m   5120\u001B[0m ) \u001B[38;5;241m-\u001B[39m\u001B[38;5;241m>\u001B[39m DataFrame \u001B[38;5;241m|\u001B[39m \u001B[38;5;28;01mNone\u001B[39;00m:\n\u001B[1;32m   5121\u001B[0m     \u001B[38;5;124;03m\"\"\"\u001B[39;00m\n\u001B[1;32m   5122\u001B[0m \u001B[38;5;124;03m    Drop specified labels from rows or columns.\u001B[39;00m\n\u001B[1;32m   5123\u001B[0m \n\u001B[0;32m   (...)\u001B[0m\n\u001B[1;32m   5256\u001B[0m \u001B[38;5;124;03m            weight  1.0     0.8\u001B[39;00m\n\u001B[1;32m   5257\u001B[0m \u001B[38;5;124;03m    \"\"\"\u001B[39;00m\n\u001B[0;32m-> 5258\u001B[0m     \u001B[38;5;28;01mreturn\u001B[39;00m \u001B[38;5;28;43msuper\u001B[39;49m\u001B[43m(\u001B[49m\u001B[43m)\u001B[49m\u001B[38;5;241;43m.\u001B[39;49m\u001B[43mdrop\u001B[49m\u001B[43m(\u001B[49m\n\u001B[1;32m   5259\u001B[0m \u001B[43m        \u001B[49m\u001B[43mlabels\u001B[49m\u001B[38;5;241;43m=\u001B[39;49m\u001B[43mlabels\u001B[49m\u001B[43m,\u001B[49m\n\u001B[1;32m   5260\u001B[0m \u001B[43m        \u001B[49m\u001B[43maxis\u001B[49m\u001B[38;5;241;43m=\u001B[39;49m\u001B[43maxis\u001B[49m\u001B[43m,\u001B[49m\n\u001B[1;32m   5261\u001B[0m \u001B[43m        \u001B[49m\u001B[43mindex\u001B[49m\u001B[38;5;241;43m=\u001B[39;49m\u001B[43mindex\u001B[49m\u001B[43m,\u001B[49m\n\u001B[1;32m   5262\u001B[0m \u001B[43m        \u001B[49m\u001B[43mcolumns\u001B[49m\u001B[38;5;241;43m=\u001B[39;49m\u001B[43mcolumns\u001B[49m\u001B[43m,\u001B[49m\n\u001B[1;32m   5263\u001B[0m \u001B[43m        \u001B[49m\u001B[43mlevel\u001B[49m\u001B[38;5;241;43m=\u001B[39;49m\u001B[43mlevel\u001B[49m\u001B[43m,\u001B[49m\n\u001B[1;32m   5264\u001B[0m \u001B[43m        \u001B[49m\u001B[43minplace\u001B[49m\u001B[38;5;241;43m=\u001B[39;49m\u001B[43minplace\u001B[49m\u001B[43m,\u001B[49m\n\u001B[1;32m   5265\u001B[0m \u001B[43m        \u001B[49m\u001B[43merrors\u001B[49m\u001B[38;5;241;43m=\u001B[39;49m\u001B[43merrors\u001B[49m\u001B[43m,\u001B[49m\n\u001B[1;32m   5266\u001B[0m \u001B[43m    \u001B[49m\u001B[43m)\u001B[49m\n",
      "File \u001B[0;32m~/.local/lib/python3.8/site-packages/pandas/core/generic.py:4549\u001B[0m, in \u001B[0;36mNDFrame.drop\u001B[0;34m(self, labels, axis, index, columns, level, inplace, errors)\u001B[0m\n\u001B[1;32m   4547\u001B[0m \u001B[38;5;28;01mfor\u001B[39;00m axis, labels \u001B[38;5;129;01min\u001B[39;00m axes\u001B[38;5;241m.\u001B[39mitems():\n\u001B[1;32m   4548\u001B[0m     \u001B[38;5;28;01mif\u001B[39;00m labels \u001B[38;5;129;01mis\u001B[39;00m \u001B[38;5;129;01mnot\u001B[39;00m \u001B[38;5;28;01mNone\u001B[39;00m:\n\u001B[0;32m-> 4549\u001B[0m         obj \u001B[38;5;241m=\u001B[39m \u001B[43mobj\u001B[49m\u001B[38;5;241;43m.\u001B[39;49m\u001B[43m_drop_axis\u001B[49m\u001B[43m(\u001B[49m\u001B[43mlabels\u001B[49m\u001B[43m,\u001B[49m\u001B[43m \u001B[49m\u001B[43maxis\u001B[49m\u001B[43m,\u001B[49m\u001B[43m \u001B[49m\u001B[43mlevel\u001B[49m\u001B[38;5;241;43m=\u001B[39;49m\u001B[43mlevel\u001B[49m\u001B[43m,\u001B[49m\u001B[43m \u001B[49m\u001B[43merrors\u001B[49m\u001B[38;5;241;43m=\u001B[39;49m\u001B[43merrors\u001B[49m\u001B[43m)\u001B[49m\n\u001B[1;32m   4551\u001B[0m \u001B[38;5;28;01mif\u001B[39;00m inplace:\n\u001B[1;32m   4552\u001B[0m     \u001B[38;5;28mself\u001B[39m\u001B[38;5;241m.\u001B[39m_update_inplace(obj)\n",
      "File \u001B[0;32m~/.local/lib/python3.8/site-packages/pandas/core/generic.py:4591\u001B[0m, in \u001B[0;36mNDFrame._drop_axis\u001B[0;34m(self, labels, axis, level, errors, only_slice)\u001B[0m\n\u001B[1;32m   4589\u001B[0m         new_axis \u001B[38;5;241m=\u001B[39m axis\u001B[38;5;241m.\u001B[39mdrop(labels, level\u001B[38;5;241m=\u001B[39mlevel, errors\u001B[38;5;241m=\u001B[39merrors)\n\u001B[1;32m   4590\u001B[0m     \u001B[38;5;28;01melse\u001B[39;00m:\n\u001B[0;32m-> 4591\u001B[0m         new_axis \u001B[38;5;241m=\u001B[39m \u001B[43maxis\u001B[49m\u001B[38;5;241;43m.\u001B[39;49m\u001B[43mdrop\u001B[49m\u001B[43m(\u001B[49m\u001B[43mlabels\u001B[49m\u001B[43m,\u001B[49m\u001B[43m \u001B[49m\u001B[43merrors\u001B[49m\u001B[38;5;241;43m=\u001B[39;49m\u001B[43merrors\u001B[49m\u001B[43m)\u001B[49m\n\u001B[1;32m   4592\u001B[0m     indexer \u001B[38;5;241m=\u001B[39m axis\u001B[38;5;241m.\u001B[39mget_indexer(new_axis)\n\u001B[1;32m   4594\u001B[0m \u001B[38;5;66;03m# Case for non-unique axis\u001B[39;00m\n\u001B[1;32m   4595\u001B[0m \u001B[38;5;28;01melse\u001B[39;00m:\n",
      "File \u001B[0;32m~/.local/lib/python3.8/site-packages/pandas/core/indexes/base.py:6699\u001B[0m, in \u001B[0;36mIndex.drop\u001B[0;34m(self, labels, errors)\u001B[0m\n\u001B[1;32m   6697\u001B[0m \u001B[38;5;28;01mif\u001B[39;00m mask\u001B[38;5;241m.\u001B[39many():\n\u001B[1;32m   6698\u001B[0m     \u001B[38;5;28;01mif\u001B[39;00m errors \u001B[38;5;241m!=\u001B[39m \u001B[38;5;124m\"\u001B[39m\u001B[38;5;124mignore\u001B[39m\u001B[38;5;124m\"\u001B[39m:\n\u001B[0;32m-> 6699\u001B[0m         \u001B[38;5;28;01mraise\u001B[39;00m \u001B[38;5;167;01mKeyError\u001B[39;00m(\u001B[38;5;124mf\u001B[39m\u001B[38;5;124m\"\u001B[39m\u001B[38;5;132;01m{\u001B[39;00m\u001B[38;5;28mlist\u001B[39m(labels[mask])\u001B[38;5;132;01m}\u001B[39;00m\u001B[38;5;124m not found in axis\u001B[39m\u001B[38;5;124m\"\u001B[39m)\n\u001B[1;32m   6700\u001B[0m     indexer \u001B[38;5;241m=\u001B[39m indexer[\u001B[38;5;241m~\u001B[39mmask]\n\u001B[1;32m   6701\u001B[0m \u001B[38;5;28;01mreturn\u001B[39;00m \u001B[38;5;28mself\u001B[39m\u001B[38;5;241m.\u001B[39mdelete(indexer)\n",
      "\u001B[0;31mKeyError\u001B[0m: \"['Nombre completo'] not found in axis\""
     ]
    }
   ],
   "source": [
    "# Eliminado de columnas\n",
    "# del estudiantes[\"Nombre completo\"]\n",
    "\n",
    "# descartar\n",
    "#axis=0 con las filas y axis = 1 son columnas.\n",
    "#estudiantes.drop([2,3],axis = 0)\n",
    "# con inplace = True los descartes son permanentes y actuara como un del\n",
    "estudiantes.drop(\"Nombre completo\",axis = 1,inplace = True)\n",
    "estudiantes"
   ],
   "metadata": {
    "collapsed": false
   }
  },
  {
   "cell_type": "code",
   "execution_count": 53,
   "outputs": [
    {
     "data": {
      "text/plain": "        index Nombre Apellido Matrícula  Edad\n0  Registro 1   Hugo    López    123455  20.0\n1  Registro 2   Paco    Silva    736923  35.0\n2  Registro 3   Luis      Oca    971298   NaN\n3  Registro 4  Pedro  Ramírez    123098   NaN",
      "text/html": "<div>\n<style scoped>\n    .dataframe tbody tr th:only-of-type {\n        vertical-align: middle;\n    }\n\n    .dataframe tbody tr th {\n        vertical-align: top;\n    }\n\n    .dataframe thead th {\n        text-align: right;\n    }\n</style>\n<table border=\"1\" class=\"dataframe\">\n  <thead>\n    <tr style=\"text-align: right;\">\n      <th></th>\n      <th>index</th>\n      <th>Nombre</th>\n      <th>Apellido</th>\n      <th>Matrícula</th>\n      <th>Edad</th>\n    </tr>\n  </thead>\n  <tbody>\n    <tr>\n      <th>0</th>\n      <td>Registro 1</td>\n      <td>Hugo</td>\n      <td>López</td>\n      <td>123455</td>\n      <td>20.0</td>\n    </tr>\n    <tr>\n      <th>1</th>\n      <td>Registro 2</td>\n      <td>Paco</td>\n      <td>Silva</td>\n      <td>736923</td>\n      <td>35.0</td>\n    </tr>\n    <tr>\n      <th>2</th>\n      <td>Registro 3</td>\n      <td>Luis</td>\n      <td>Oca</td>\n      <td>971298</td>\n      <td>NaN</td>\n    </tr>\n    <tr>\n      <th>3</th>\n      <td>Registro 4</td>\n      <td>Pedro</td>\n      <td>Ramírez</td>\n      <td>123098</td>\n      <td>NaN</td>\n    </tr>\n  </tbody>\n</table>\n</div>"
     },
     "execution_count": 53,
     "metadata": {},
     "output_type": "execute_result"
    }
   ],
   "source": [
    "# Indexar numéricamente los registros\n",
    "estudiantes.reset_index(inplace = True)\n",
    "estudiantes"
   ],
   "metadata": {
    "collapsed": false
   }
  },
  {
   "cell_type": "code",
   "execution_count": 54,
   "outputs": [
    {
     "data": {
      "text/plain": "  Matrícula  Edad\n0    123455  20.0\n3    123098   NaN",
      "text/html": "<div>\n<style scoped>\n    .dataframe tbody tr th:only-of-type {\n        vertical-align: middle;\n    }\n\n    .dataframe tbody tr th {\n        vertical-align: top;\n    }\n\n    .dataframe thead th {\n        text-align: right;\n    }\n</style>\n<table border=\"1\" class=\"dataframe\">\n  <thead>\n    <tr style=\"text-align: right;\">\n      <th></th>\n      <th>Matrícula</th>\n      <th>Edad</th>\n    </tr>\n  </thead>\n  <tbody>\n    <tr>\n      <th>0</th>\n      <td>123455</td>\n      <td>20.0</td>\n    </tr>\n    <tr>\n      <th>3</th>\n      <td>123098</td>\n      <td>NaN</td>\n    </tr>\n  </tbody>\n</table>\n</div>"
     },
     "execution_count": 54,
     "metadata": {},
     "output_type": "execute_result"
    }
   ],
   "source": [
    "# Acceso a ciertas columnas y ciertas filas.\n",
    "estudiantes.loc[[0,3],[\"Matrícula\",\"Edad\"]]"
   ],
   "metadata": {
    "collapsed": false
   }
  },
  {
   "cell_type": "code",
   "execution_count": 56,
   "outputs": [
    {
     "data": {
      "text/plain": "        index  Edad Matrícula\n1  Registro 2  35.0    736923",
      "text/html": "<div>\n<style scoped>\n    .dataframe tbody tr th:only-of-type {\n        vertical-align: middle;\n    }\n\n    .dataframe tbody tr th {\n        vertical-align: top;\n    }\n\n    .dataframe thead th {\n        text-align: right;\n    }\n</style>\n<table border=\"1\" class=\"dataframe\">\n  <thead>\n    <tr style=\"text-align: right;\">\n      <th></th>\n      <th>index</th>\n      <th>Edad</th>\n      <th>Matrícula</th>\n    </tr>\n  </thead>\n  <tbody>\n    <tr>\n      <th>1</th>\n      <td>Registro 2</td>\n      <td>35.0</td>\n      <td>736923</td>\n    </tr>\n  </tbody>\n</table>\n</div>"
     },
     "execution_count": 56,
     "metadata": {},
     "output_type": "execute_result"
    }
   ],
   "source": [
    "# Incluso podemos hacer seleción por filtrado\n",
    "estudiantes[estudiantes[\"Edad\"] > 20][[\"index\",\"Edad\",\"Matrícula\"]]"
   ],
   "metadata": {
    "collapsed": false
   }
  },
  {
   "cell_type": "code",
   "execution_count": 57,
   "outputs": [
    {
     "data": {
      "text/plain": "      Campo 1 Campo 2  Campo 3 Campo 4  Campo 5\n0  Registro 1    Hugo    López  123455     20.0\n1  Registro 2    Paco    Silva  736923     35.0\n2  Registro 3    Luis      Oca  971298      NaN\n3  Registro 4   Pedro  Ramírez  123098      NaN",
      "text/html": "<div>\n<style scoped>\n    .dataframe tbody tr th:only-of-type {\n        vertical-align: middle;\n    }\n\n    .dataframe tbody tr th {\n        vertical-align: top;\n    }\n\n    .dataframe thead th {\n        text-align: right;\n    }\n</style>\n<table border=\"1\" class=\"dataframe\">\n  <thead>\n    <tr style=\"text-align: right;\">\n      <th></th>\n      <th>Campo 1</th>\n      <th>Campo 2</th>\n      <th>Campo 3</th>\n      <th>Campo 4</th>\n      <th>Campo 5</th>\n    </tr>\n  </thead>\n  <tbody>\n    <tr>\n      <th>0</th>\n      <td>Registro 1</td>\n      <td>Hugo</td>\n      <td>López</td>\n      <td>123455</td>\n      <td>20.0</td>\n    </tr>\n    <tr>\n      <th>1</th>\n      <td>Registro 2</td>\n      <td>Paco</td>\n      <td>Silva</td>\n      <td>736923</td>\n      <td>35.0</td>\n    </tr>\n    <tr>\n      <th>2</th>\n      <td>Registro 3</td>\n      <td>Luis</td>\n      <td>Oca</td>\n      <td>971298</td>\n      <td>NaN</td>\n    </tr>\n    <tr>\n      <th>3</th>\n      <td>Registro 4</td>\n      <td>Pedro</td>\n      <td>Ramírez</td>\n      <td>123098</td>\n      <td>NaN</td>\n    </tr>\n  </tbody>\n</table>\n</div>"
     },
     "execution_count": 57,
     "metadata": {},
     "output_type": "execute_result"
    }
   ],
   "source": [
    "# Cambiando los nombres de las columnas\n",
    "estudiantes.columns = [\"Campo 1\",\"Campo 2\",\"Campo 3\",\"Campo 4\",\"Campo 5\"]\n",
    "estudiantes"
   ],
   "metadata": {
    "collapsed": false
   }
  },
  {
   "cell_type": "code",
   "execution_count": 58,
   "outputs": [
    {
     "data": {
      "text/plain": "            Campo 1 Campo 2  Campo 3 Campo 4  Campo 5\nCampo 4                                              \n123455   Registro 1    Hugo    López  123455     20.0\n736923   Registro 2    Paco    Silva  736923     35.0\n971298   Registro 3    Luis      Oca  971298      NaN\n123098   Registro 4   Pedro  Ramírez  123098      NaN",
      "text/html": "<div>\n<style scoped>\n    .dataframe tbody tr th:only-of-type {\n        vertical-align: middle;\n    }\n\n    .dataframe tbody tr th {\n        vertical-align: top;\n    }\n\n    .dataframe thead th {\n        text-align: right;\n    }\n</style>\n<table border=\"1\" class=\"dataframe\">\n  <thead>\n    <tr style=\"text-align: right;\">\n      <th></th>\n      <th>Campo 1</th>\n      <th>Campo 2</th>\n      <th>Campo 3</th>\n      <th>Campo 4</th>\n      <th>Campo 5</th>\n    </tr>\n    <tr>\n      <th>Campo 4</th>\n      <th></th>\n      <th></th>\n      <th></th>\n      <th></th>\n      <th></th>\n    </tr>\n  </thead>\n  <tbody>\n    <tr>\n      <th>123455</th>\n      <td>Registro 1</td>\n      <td>Hugo</td>\n      <td>López</td>\n      <td>123455</td>\n      <td>20.0</td>\n    </tr>\n    <tr>\n      <th>736923</th>\n      <td>Registro 2</td>\n      <td>Paco</td>\n      <td>Silva</td>\n      <td>736923</td>\n      <td>35.0</td>\n    </tr>\n    <tr>\n      <th>971298</th>\n      <td>Registro 3</td>\n      <td>Luis</td>\n      <td>Oca</td>\n      <td>971298</td>\n      <td>NaN</td>\n    </tr>\n    <tr>\n      <th>123098</th>\n      <td>Registro 4</td>\n      <td>Pedro</td>\n      <td>Ramírez</td>\n      <td>123098</td>\n      <td>NaN</td>\n    </tr>\n  </tbody>\n</table>\n</div>"
     },
     "execution_count": 58,
     "metadata": {},
     "output_type": "execute_result"
    }
   ],
   "source": [
    "# Cambiando los nombres de las filas\n",
    "estudiantes.index = estudiantes[\"Campo 4\"]\n",
    "estudiantes"
   ],
   "metadata": {
    "collapsed": false
   }
  },
  {
   "cell_type": "code",
   "execution_count": 59,
   "outputs": [
    {
     "data": {
      "text/plain": "            Campo 1  Campo 2    Campo 3  Campo 4 Campo 5\nCampo 4                                                 \n123455   Registro 1     Hugo      López   123455    20.0\n736923   Registro 2     Paco      Silva   736923    35.0\n971298   Registro 3     Luis        Oca   971298     NaN\n123098   Registro 4    Pedro    Ramírez   123098     NaN\n888888   Registro 5   Helena   González   888888      29",
      "text/html": "<div>\n<style scoped>\n    .dataframe tbody tr th:only-of-type {\n        vertical-align: middle;\n    }\n\n    .dataframe tbody tr th {\n        vertical-align: top;\n    }\n\n    .dataframe thead th {\n        text-align: right;\n    }\n</style>\n<table border=\"1\" class=\"dataframe\">\n  <thead>\n    <tr style=\"text-align: right;\">\n      <th></th>\n      <th>Campo 1</th>\n      <th>Campo 2</th>\n      <th>Campo 3</th>\n      <th>Campo 4</th>\n      <th>Campo 5</th>\n    </tr>\n    <tr>\n      <th>Campo 4</th>\n      <th></th>\n      <th></th>\n      <th></th>\n      <th></th>\n      <th></th>\n    </tr>\n  </thead>\n  <tbody>\n    <tr>\n      <th>123455</th>\n      <td>Registro 1</td>\n      <td>Hugo</td>\n      <td>López</td>\n      <td>123455</td>\n      <td>20.0</td>\n    </tr>\n    <tr>\n      <th>736923</th>\n      <td>Registro 2</td>\n      <td>Paco</td>\n      <td>Silva</td>\n      <td>736923</td>\n      <td>35.0</td>\n    </tr>\n    <tr>\n      <th>971298</th>\n      <td>Registro 3</td>\n      <td>Luis</td>\n      <td>Oca</td>\n      <td>971298</td>\n      <td>NaN</td>\n    </tr>\n    <tr>\n      <th>123098</th>\n      <td>Registro 4</td>\n      <td>Pedro</td>\n      <td>Ramírez</td>\n      <td>123098</td>\n      <td>NaN</td>\n    </tr>\n    <tr>\n      <th>888888</th>\n      <td>Registro 5</td>\n      <td>Helena</td>\n      <td>González</td>\n      <td>888888</td>\n      <td>29</td>\n    </tr>\n  </tbody>\n</table>\n</div>"
     },
     "execution_count": 59,
     "metadata": {},
     "output_type": "execute_result"
    }
   ],
   "source": [
    "# Agregado de una fila\n",
    "nuevo_elemento = \"Registro 5, Helena, González, 888888, 29\"\n",
    "nuevo_elemento.split(\",\")\n",
    "\n",
    "estudiantes.loc[888888] = nuevo_elemento.split(\",\")\n",
    "estudiantes"
   ],
   "metadata": {
    "collapsed": false
   }
  },
  {
   "cell_type": "code",
   "execution_count": 61,
   "outputs": [
    {
     "data": {
      "text/plain": "Campo 1    Registro 5\nCampo 2        Helena\nCampo 3      González\nCampo 4        888888\nCampo 5            29\nName: 888888, dtype: object"
     },
     "execution_count": 61,
     "metadata": {},
     "output_type": "execute_result"
    }
   ],
   "source": [
    "estudiantes.iloc[-1] "
   ],
   "metadata": {
    "collapsed": false
   }
  },
  {
   "cell_type": "code",
   "execution_count": 62,
   "outputs": [
    {
     "data": {
      "text/plain": "            Campo 1  Campo 2    Campo 3  Campo 4 Campo 5  nueva\nCampo 4                                                        \n123455   Registro 1     Hugo      López   123455    20.0      5\n736923   Registro 2     Paco      Silva   736923    35.0      5\n971298   Registro 3     Luis        Oca   971298     NaN      5\n123098   Registro 4    Pedro    Ramírez   123098     NaN      5\n888888   Registro 5   Helena   González   888888      29      5",
      "text/html": "<div>\n<style scoped>\n    .dataframe tbody tr th:only-of-type {\n        vertical-align: middle;\n    }\n\n    .dataframe tbody tr th {\n        vertical-align: top;\n    }\n\n    .dataframe thead th {\n        text-align: right;\n    }\n</style>\n<table border=\"1\" class=\"dataframe\">\n  <thead>\n    <tr style=\"text-align: right;\">\n      <th></th>\n      <th>Campo 1</th>\n      <th>Campo 2</th>\n      <th>Campo 3</th>\n      <th>Campo 4</th>\n      <th>Campo 5</th>\n      <th>nueva</th>\n    </tr>\n    <tr>\n      <th>Campo 4</th>\n      <th></th>\n      <th></th>\n      <th></th>\n      <th></th>\n      <th></th>\n      <th></th>\n    </tr>\n  </thead>\n  <tbody>\n    <tr>\n      <th>123455</th>\n      <td>Registro 1</td>\n      <td>Hugo</td>\n      <td>López</td>\n      <td>123455</td>\n      <td>20.0</td>\n      <td>5</td>\n    </tr>\n    <tr>\n      <th>736923</th>\n      <td>Registro 2</td>\n      <td>Paco</td>\n      <td>Silva</td>\n      <td>736923</td>\n      <td>35.0</td>\n      <td>5</td>\n    </tr>\n    <tr>\n      <th>971298</th>\n      <td>Registro 3</td>\n      <td>Luis</td>\n      <td>Oca</td>\n      <td>971298</td>\n      <td>NaN</td>\n      <td>5</td>\n    </tr>\n    <tr>\n      <th>123098</th>\n      <td>Registro 4</td>\n      <td>Pedro</td>\n      <td>Ramírez</td>\n      <td>123098</td>\n      <td>NaN</td>\n      <td>5</td>\n    </tr>\n    <tr>\n      <th>888888</th>\n      <td>Registro 5</td>\n      <td>Helena</td>\n      <td>González</td>\n      <td>888888</td>\n      <td>29</td>\n      <td>5</td>\n    </tr>\n  </tbody>\n</table>\n</div>"
     },
     "execution_count": 62,
     "metadata": {},
     "output_type": "execute_result"
    }
   ],
   "source": [
    "#Agregar nueva columna\n",
    "estudiantes['nueva'] = 5\n",
    "estudiantes"
   ],
   "metadata": {
    "collapsed": false
   }
  },
  {
   "cell_type": "code",
   "execution_count": 66,
   "outputs": [
    {
     "data": {
      "text/plain": "            Campo 1 Campo 2 Campo 3 Campo 4 Campo 5  nueva\nCampo 4                                                   \n123455   Registro 1    Hugo   López  123455    20.0      5\n736923   Registro 2    Paco   Silva  736923    35.0      5\n971298   Registro 3    Luis     Oca  971298     NaN      5",
      "text/html": "<div>\n<style scoped>\n    .dataframe tbody tr th:only-of-type {\n        vertical-align: middle;\n    }\n\n    .dataframe tbody tr th {\n        vertical-align: top;\n    }\n\n    .dataframe thead th {\n        text-align: right;\n    }\n</style>\n<table border=\"1\" class=\"dataframe\">\n  <thead>\n    <tr style=\"text-align: right;\">\n      <th></th>\n      <th>Campo 1</th>\n      <th>Campo 2</th>\n      <th>Campo 3</th>\n      <th>Campo 4</th>\n      <th>Campo 5</th>\n      <th>nueva</th>\n    </tr>\n    <tr>\n      <th>Campo 4</th>\n      <th></th>\n      <th></th>\n      <th></th>\n      <th></th>\n      <th></th>\n      <th></th>\n    </tr>\n  </thead>\n  <tbody>\n    <tr>\n      <th>123455</th>\n      <td>Registro 1</td>\n      <td>Hugo</td>\n      <td>López</td>\n      <td>123455</td>\n      <td>20.0</td>\n      <td>5</td>\n    </tr>\n    <tr>\n      <th>736923</th>\n      <td>Registro 2</td>\n      <td>Paco</td>\n      <td>Silva</td>\n      <td>736923</td>\n      <td>35.0</td>\n      <td>5</td>\n    </tr>\n    <tr>\n      <th>971298</th>\n      <td>Registro 3</td>\n      <td>Luis</td>\n      <td>Oca</td>\n      <td>971298</td>\n      <td>NaN</td>\n      <td>5</td>\n    </tr>\n  </tbody>\n</table>\n</div>"
     },
     "execution_count": 66,
     "metadata": {},
     "output_type": "execute_result"
    }
   ],
   "source": [
    "# Visualizar encabezado y cola\n",
    "estudiantes.head(3) "
   ],
   "metadata": {
    "collapsed": false
   }
  },
  {
   "cell_type": "code",
   "execution_count": 67,
   "outputs": [
    {
     "data": {
      "text/plain": "            Campo 1  Campo 2    Campo 3  Campo 4 Campo 5  nueva\nCampo 4                                                        \n888888   Registro 5   Helena   González   888888      29      5",
      "text/html": "<div>\n<style scoped>\n    .dataframe tbody tr th:only-of-type {\n        vertical-align: middle;\n    }\n\n    .dataframe tbody tr th {\n        vertical-align: top;\n    }\n\n    .dataframe thead th {\n        text-align: right;\n    }\n</style>\n<table border=\"1\" class=\"dataframe\">\n  <thead>\n    <tr style=\"text-align: right;\">\n      <th></th>\n      <th>Campo 1</th>\n      <th>Campo 2</th>\n      <th>Campo 3</th>\n      <th>Campo 4</th>\n      <th>Campo 5</th>\n      <th>nueva</th>\n    </tr>\n    <tr>\n      <th>Campo 4</th>\n      <th></th>\n      <th></th>\n      <th></th>\n      <th></th>\n      <th></th>\n      <th></th>\n    </tr>\n  </thead>\n  <tbody>\n    <tr>\n      <th>888888</th>\n      <td>Registro 5</td>\n      <td>Helena</td>\n      <td>González</td>\n      <td>888888</td>\n      <td>29</td>\n      <td>5</td>\n    </tr>\n  </tbody>\n</table>\n</div>"
     },
     "execution_count": 67,
     "metadata": {},
     "output_type": "execute_result"
    }
   ],
   "source": [
    "estudiantes.tail(1)"
   ],
   "metadata": {
    "collapsed": false
   }
  },
  {
   "cell_type": "code",
   "execution_count": 68,
   "outputs": [
    {
     "data": {
      "text/plain": "            Campo 1  Campo 2    Campo 3  Campo 4  Campo 5  nueva\nCampo 4                                                         \n123455   Registro 1     Hugo      López   123455     20.0      5\n736923   Registro 2     Paco      Silva   736923     35.0      5\n971298   Registro 3     Luis        Oca   971298      NaN      5\n123098   Registro 4    Pedro    Ramírez   123098      NaN      5\n888888   Registro 5   Helena   González   888888     29.0      5",
      "text/html": "<div>\n<style scoped>\n    .dataframe tbody tr th:only-of-type {\n        vertical-align: middle;\n    }\n\n    .dataframe tbody tr th {\n        vertical-align: top;\n    }\n\n    .dataframe thead th {\n        text-align: right;\n    }\n</style>\n<table border=\"1\" class=\"dataframe\">\n  <thead>\n    <tr style=\"text-align: right;\">\n      <th></th>\n      <th>Campo 1</th>\n      <th>Campo 2</th>\n      <th>Campo 3</th>\n      <th>Campo 4</th>\n      <th>Campo 5</th>\n      <th>nueva</th>\n    </tr>\n    <tr>\n      <th>Campo 4</th>\n      <th></th>\n      <th></th>\n      <th></th>\n      <th></th>\n      <th></th>\n      <th></th>\n    </tr>\n  </thead>\n  <tbody>\n    <tr>\n      <th>123455</th>\n      <td>Registro 1</td>\n      <td>Hugo</td>\n      <td>López</td>\n      <td>123455</td>\n      <td>20.0</td>\n      <td>5</td>\n    </tr>\n    <tr>\n      <th>736923</th>\n      <td>Registro 2</td>\n      <td>Paco</td>\n      <td>Silva</td>\n      <td>736923</td>\n      <td>35.0</td>\n      <td>5</td>\n    </tr>\n    <tr>\n      <th>971298</th>\n      <td>Registro 3</td>\n      <td>Luis</td>\n      <td>Oca</td>\n      <td>971298</td>\n      <td>NaN</td>\n      <td>5</td>\n    </tr>\n    <tr>\n      <th>123098</th>\n      <td>Registro 4</td>\n      <td>Pedro</td>\n      <td>Ramírez</td>\n      <td>123098</td>\n      <td>NaN</td>\n      <td>5</td>\n    </tr>\n    <tr>\n      <th>888888</th>\n      <td>Registro 5</td>\n      <td>Helena</td>\n      <td>González</td>\n      <td>888888</td>\n      <td>29.0</td>\n      <td>5</td>\n    </tr>\n  </tbody>\n</table>\n</div>"
     },
     "execution_count": 68,
     "metadata": {},
     "output_type": "execute_result"
    }
   ],
   "source": [
    "estudiantes[\"Campo 5\"] = pd.to_numeric(estudiantes[\"Campo 5\"], downcast = \"float\")\n",
    "estudiantes"
   ],
   "metadata": {
    "collapsed": false
   }
  },
  {
   "cell_type": "code",
   "execution_count": 69,
   "outputs": [
    {
     "data": {
      "text/plain": "84.0"
     },
     "execution_count": 69,
     "metadata": {},
     "output_type": "execute_result"
    }
   ],
   "source": [
    "estudiantes[\"Campo 5\"].sum()"
   ],
   "metadata": {
    "collapsed": false
   }
  },
  {
   "cell_type": "code",
   "execution_count": 70,
   "outputs": [
    {
     "data": {
      "text/plain": "Campo 5\n20.0    1\n35.0    1\n29.0    1\nName: count, dtype: int64"
     },
     "execution_count": 70,
     "metadata": {},
     "output_type": "execute_result"
    }
   ],
   "source": [
    "estudiantes[\"Campo 5\"].value_counts()"
   ],
   "metadata": {
    "collapsed": false
   }
  },
  {
   "cell_type": "code",
   "execution_count": 72,
   "outputs": [
    {
     "data": {
      "text/plain": "            Campo 1  Campo 2    Campo 3  Campo 4  Campo 5  nueva\nCampo 4                                                         \n123455   Registro 1     Hugo      López   123455     20.0      5\n736923   Registro 2     Paco      Silva   736923     35.0      5\n971298   Registro 3     Luis        Oca   971298      NaN      5\n123098   Registro 4    Pedro    Ramírez   123098      NaN      5\n888888   Registro 5   Helena   González   888888     29.0      5\n777222   Registro 6     José      López   777222     30.0      6",
      "text/html": "<div>\n<style scoped>\n    .dataframe tbody tr th:only-of-type {\n        vertical-align: middle;\n    }\n\n    .dataframe tbody tr th {\n        vertical-align: top;\n    }\n\n    .dataframe thead th {\n        text-align: right;\n    }\n</style>\n<table border=\"1\" class=\"dataframe\">\n  <thead>\n    <tr style=\"text-align: right;\">\n      <th></th>\n      <th>Campo 1</th>\n      <th>Campo 2</th>\n      <th>Campo 3</th>\n      <th>Campo 4</th>\n      <th>Campo 5</th>\n      <th>nueva</th>\n    </tr>\n    <tr>\n      <th>Campo 4</th>\n      <th></th>\n      <th></th>\n      <th></th>\n      <th></th>\n      <th></th>\n      <th></th>\n    </tr>\n  </thead>\n  <tbody>\n    <tr>\n      <th>123455</th>\n      <td>Registro 1</td>\n      <td>Hugo</td>\n      <td>López</td>\n      <td>123455</td>\n      <td>20.0</td>\n      <td>5</td>\n    </tr>\n    <tr>\n      <th>736923</th>\n      <td>Registro 2</td>\n      <td>Paco</td>\n      <td>Silva</td>\n      <td>736923</td>\n      <td>35.0</td>\n      <td>5</td>\n    </tr>\n    <tr>\n      <th>971298</th>\n      <td>Registro 3</td>\n      <td>Luis</td>\n      <td>Oca</td>\n      <td>971298</td>\n      <td>NaN</td>\n      <td>5</td>\n    </tr>\n    <tr>\n      <th>123098</th>\n      <td>Registro 4</td>\n      <td>Pedro</td>\n      <td>Ramírez</td>\n      <td>123098</td>\n      <td>NaN</td>\n      <td>5</td>\n    </tr>\n    <tr>\n      <th>888888</th>\n      <td>Registro 5</td>\n      <td>Helena</td>\n      <td>González</td>\n      <td>888888</td>\n      <td>29.0</td>\n      <td>5</td>\n    </tr>\n    <tr>\n      <th>777222</th>\n      <td>Registro 6</td>\n      <td>José</td>\n      <td>López</td>\n      <td>777222</td>\n      <td>30.0</td>\n      <td>6</td>\n    </tr>\n  </tbody>\n</table>\n</div>"
     },
     "execution_count": 72,
     "metadata": {},
     "output_type": "execute_result"
    }
   ],
   "source": [
    "estudiantes.loc[777222] = [\"Registro 6\",\"José\",\"López\",\"777222\",30,6]\n",
    "estudiantes"
   ],
   "metadata": {
    "collapsed": false
   }
  },
  {
   "cell_type": "code",
   "execution_count": 73,
   "outputs": [
    {
     "data": {
      "text/plain": "Campo 3\nLópez        2\nSilva        1\nOca          1\nRamírez      1\n González    1\nName: count, dtype: int64"
     },
     "execution_count": 73,
     "metadata": {},
     "output_type": "execute_result"
    }
   ],
   "source": [
    "estudiantes[\"Campo 3\"].value_counts()"
   ],
   "metadata": {
    "collapsed": false
   }
  },
  {
   "cell_type": "code",
   "execution_count": 74,
   "outputs": [
    {
     "data": {
      "text/plain": "            Campo 1  Campo 2    Campo 3  Campo 4  Campo 5  nueva\nCampo 4                                                         \n736923   Registro 2     Paco      Silva   736923     35.0      5\n777222   Registro 6     José      López   777222     30.0      6\n888888   Registro 5   Helena   González   888888     29.0      5\n123455   Registro 1     Hugo      López   123455     20.0      5\n971298   Registro 3     Luis        Oca   971298      NaN      5\n123098   Registro 4    Pedro    Ramírez   123098      NaN      5",
      "text/html": "<div>\n<style scoped>\n    .dataframe tbody tr th:only-of-type {\n        vertical-align: middle;\n    }\n\n    .dataframe tbody tr th {\n        vertical-align: top;\n    }\n\n    .dataframe thead th {\n        text-align: right;\n    }\n</style>\n<table border=\"1\" class=\"dataframe\">\n  <thead>\n    <tr style=\"text-align: right;\">\n      <th></th>\n      <th>Campo 1</th>\n      <th>Campo 2</th>\n      <th>Campo 3</th>\n      <th>Campo 4</th>\n      <th>Campo 5</th>\n      <th>nueva</th>\n    </tr>\n    <tr>\n      <th>Campo 4</th>\n      <th></th>\n      <th></th>\n      <th></th>\n      <th></th>\n      <th></th>\n      <th></th>\n    </tr>\n  </thead>\n  <tbody>\n    <tr>\n      <th>736923</th>\n      <td>Registro 2</td>\n      <td>Paco</td>\n      <td>Silva</td>\n      <td>736923</td>\n      <td>35.0</td>\n      <td>5</td>\n    </tr>\n    <tr>\n      <th>777222</th>\n      <td>Registro 6</td>\n      <td>José</td>\n      <td>López</td>\n      <td>777222</td>\n      <td>30.0</td>\n      <td>6</td>\n    </tr>\n    <tr>\n      <th>888888</th>\n      <td>Registro 5</td>\n      <td>Helena</td>\n      <td>González</td>\n      <td>888888</td>\n      <td>29.0</td>\n      <td>5</td>\n    </tr>\n    <tr>\n      <th>123455</th>\n      <td>Registro 1</td>\n      <td>Hugo</td>\n      <td>López</td>\n      <td>123455</td>\n      <td>20.0</td>\n      <td>5</td>\n    </tr>\n    <tr>\n      <th>971298</th>\n      <td>Registro 3</td>\n      <td>Luis</td>\n      <td>Oca</td>\n      <td>971298</td>\n      <td>NaN</td>\n      <td>5</td>\n    </tr>\n    <tr>\n      <th>123098</th>\n      <td>Registro 4</td>\n      <td>Pedro</td>\n      <td>Ramírez</td>\n      <td>123098</td>\n      <td>NaN</td>\n      <td>5</td>\n    </tr>\n  </tbody>\n</table>\n</div>"
     },
     "execution_count": 74,
     "metadata": {},
     "output_type": "execute_result"
    }
   ],
   "source": [
    "estudiantes.sort_values(by = \"Campo 5\",inplace = True, ascending=False)\n",
    "estudiantes"
   ],
   "metadata": {
    "collapsed": false
   }
  },
  {
   "cell_type": "code",
   "execution_count": 75,
   "outputs": [
    {
     "data": {
      "text/plain": "28"
     },
     "execution_count": 75,
     "metadata": {},
     "output_type": "execute_result"
    }
   ],
   "source": [
    "edad_media = estudiantes[\"Campo 5\"].mean()\n",
    "int(edad_media)"
   ],
   "metadata": {
    "collapsed": false
   }
  },
  {
   "cell_type": "code",
   "execution_count": 76,
   "outputs": [
    {
     "data": {
      "text/plain": "            Campo 1  Campo 2    Campo 3  Campo 4  Campo 5  nueva\nCampo 4                                                         \n736923   Registro 2     Paco      Silva   736923     35.0      5\n777222   Registro 6     José      López   777222     30.0      6\n888888   Registro 5   Helena   González   888888     29.0      5\n123455   Registro 1     Hugo      López   123455     20.0      5\n971298   Registro 3     Luis        Oca   971298     28.0      5\n123098   Registro 4    Pedro    Ramírez   123098     28.0      5",
      "text/html": "<div>\n<style scoped>\n    .dataframe tbody tr th:only-of-type {\n        vertical-align: middle;\n    }\n\n    .dataframe tbody tr th {\n        vertical-align: top;\n    }\n\n    .dataframe thead th {\n        text-align: right;\n    }\n</style>\n<table border=\"1\" class=\"dataframe\">\n  <thead>\n    <tr style=\"text-align: right;\">\n      <th></th>\n      <th>Campo 1</th>\n      <th>Campo 2</th>\n      <th>Campo 3</th>\n      <th>Campo 4</th>\n      <th>Campo 5</th>\n      <th>nueva</th>\n    </tr>\n    <tr>\n      <th>Campo 4</th>\n      <th></th>\n      <th></th>\n      <th></th>\n      <th></th>\n      <th></th>\n      <th></th>\n    </tr>\n  </thead>\n  <tbody>\n    <tr>\n      <th>736923</th>\n      <td>Registro 2</td>\n      <td>Paco</td>\n      <td>Silva</td>\n      <td>736923</td>\n      <td>35.0</td>\n      <td>5</td>\n    </tr>\n    <tr>\n      <th>777222</th>\n      <td>Registro 6</td>\n      <td>José</td>\n      <td>López</td>\n      <td>777222</td>\n      <td>30.0</td>\n      <td>6</td>\n    </tr>\n    <tr>\n      <th>888888</th>\n      <td>Registro 5</td>\n      <td>Helena</td>\n      <td>González</td>\n      <td>888888</td>\n      <td>29.0</td>\n      <td>5</td>\n    </tr>\n    <tr>\n      <th>123455</th>\n      <td>Registro 1</td>\n      <td>Hugo</td>\n      <td>López</td>\n      <td>123455</td>\n      <td>20.0</td>\n      <td>5</td>\n    </tr>\n    <tr>\n      <th>971298</th>\n      <td>Registro 3</td>\n      <td>Luis</td>\n      <td>Oca</td>\n      <td>971298</td>\n      <td>28.0</td>\n      <td>5</td>\n    </tr>\n    <tr>\n      <th>123098</th>\n      <td>Registro 4</td>\n      <td>Pedro</td>\n      <td>Ramírez</td>\n      <td>123098</td>\n      <td>28.0</td>\n      <td>5</td>\n    </tr>\n  </tbody>\n</table>\n</div>"
     },
     "execution_count": 76,
     "metadata": {},
     "output_type": "execute_result"
    }
   ],
   "source": [
    "estudiantes[\"Campo 5\"].fillna(int(edad_media),inplace = True)\n",
    "estudiantes"
   ],
   "metadata": {
    "collapsed": false
   }
  },
  {
   "cell_type": "code",
   "execution_count": 77,
   "outputs": [
    {
     "ename": "TypeError",
     "evalue": "'<' not supported between instances of 'int' and 'str'",
     "output_type": "error",
     "traceback": [
      "\u001B[0;31m---------------------------------------------------------------------------\u001B[0m",
      "\u001B[0;31mTypeError\u001B[0m                                 Traceback (most recent call last)",
      "Cell \u001B[0;32mIn[77], line 1\u001B[0m\n\u001B[0;32m----> 1\u001B[0m \u001B[43mestudiantes\u001B[49m\u001B[38;5;241;43m.\u001B[39;49m\u001B[43msort_index\u001B[49m\u001B[43m(\u001B[49m\u001B[43mascending\u001B[49m\u001B[43m \u001B[49m\u001B[38;5;241;43m=\u001B[39;49m\u001B[43m \u001B[49m\u001B[38;5;28;43;01mTrue\u001B[39;49;00m\u001B[43m,\u001B[49m\u001B[43minplace\u001B[49m\u001B[43m \u001B[49m\u001B[38;5;241;43m=\u001B[39;49m\u001B[43m \u001B[49m\u001B[38;5;28;43;01mTrue\u001B[39;49;00m\u001B[43m)\u001B[49m\n\u001B[1;32m      2\u001B[0m estudiantes\n",
      "File \u001B[0;32m~/.local/lib/python3.8/site-packages/pandas/core/frame.py:6950\u001B[0m, in \u001B[0;36mDataFrame.sort_index\u001B[0;34m(self, axis, level, ascending, inplace, kind, na_position, sort_remaining, ignore_index, key)\u001B[0m\n\u001B[1;32m   6851\u001B[0m \u001B[38;5;28;01mdef\u001B[39;00m \u001B[38;5;21msort_index\u001B[39m(\n\u001B[1;32m   6852\u001B[0m     \u001B[38;5;28mself\u001B[39m,\n\u001B[1;32m   6853\u001B[0m     \u001B[38;5;241m*\u001B[39m,\n\u001B[0;32m   (...)\u001B[0m\n\u001B[1;32m   6862\u001B[0m     key: IndexKeyFunc \u001B[38;5;241m=\u001B[39m \u001B[38;5;28;01mNone\u001B[39;00m,\n\u001B[1;32m   6863\u001B[0m ) \u001B[38;5;241m-\u001B[39m\u001B[38;5;241m>\u001B[39m DataFrame \u001B[38;5;241m|\u001B[39m \u001B[38;5;28;01mNone\u001B[39;00m:\n\u001B[1;32m   6864\u001B[0m     \u001B[38;5;124;03m\"\"\"\u001B[39;00m\n\u001B[1;32m   6865\u001B[0m \u001B[38;5;124;03m    Sort object by labels (along an axis).\u001B[39;00m\n\u001B[1;32m   6866\u001B[0m \n\u001B[0;32m   (...)\u001B[0m\n\u001B[1;32m   6948\u001B[0m \u001B[38;5;124;03m    d  4\u001B[39;00m\n\u001B[1;32m   6949\u001B[0m \u001B[38;5;124;03m    \"\"\"\u001B[39;00m\n\u001B[0;32m-> 6950\u001B[0m     \u001B[38;5;28;01mreturn\u001B[39;00m \u001B[38;5;28;43msuper\u001B[39;49m\u001B[43m(\u001B[49m\u001B[43m)\u001B[49m\u001B[38;5;241;43m.\u001B[39;49m\u001B[43msort_index\u001B[49m\u001B[43m(\u001B[49m\n\u001B[1;32m   6951\u001B[0m \u001B[43m        \u001B[49m\u001B[43maxis\u001B[49m\u001B[38;5;241;43m=\u001B[39;49m\u001B[43maxis\u001B[49m\u001B[43m,\u001B[49m\n\u001B[1;32m   6952\u001B[0m \u001B[43m        \u001B[49m\u001B[43mlevel\u001B[49m\u001B[38;5;241;43m=\u001B[39;49m\u001B[43mlevel\u001B[49m\u001B[43m,\u001B[49m\n\u001B[1;32m   6953\u001B[0m \u001B[43m        \u001B[49m\u001B[43mascending\u001B[49m\u001B[38;5;241;43m=\u001B[39;49m\u001B[43mascending\u001B[49m\u001B[43m,\u001B[49m\n\u001B[1;32m   6954\u001B[0m \u001B[43m        \u001B[49m\u001B[43minplace\u001B[49m\u001B[38;5;241;43m=\u001B[39;49m\u001B[43minplace\u001B[49m\u001B[43m,\u001B[49m\n\u001B[1;32m   6955\u001B[0m \u001B[43m        \u001B[49m\u001B[43mkind\u001B[49m\u001B[38;5;241;43m=\u001B[39;49m\u001B[43mkind\u001B[49m\u001B[43m,\u001B[49m\n\u001B[1;32m   6956\u001B[0m \u001B[43m        \u001B[49m\u001B[43mna_position\u001B[49m\u001B[38;5;241;43m=\u001B[39;49m\u001B[43mna_position\u001B[49m\u001B[43m,\u001B[49m\n\u001B[1;32m   6957\u001B[0m \u001B[43m        \u001B[49m\u001B[43msort_remaining\u001B[49m\u001B[38;5;241;43m=\u001B[39;49m\u001B[43msort_remaining\u001B[49m\u001B[43m,\u001B[49m\n\u001B[1;32m   6958\u001B[0m \u001B[43m        \u001B[49m\u001B[43mignore_index\u001B[49m\u001B[38;5;241;43m=\u001B[39;49m\u001B[43mignore_index\u001B[49m\u001B[43m,\u001B[49m\n\u001B[1;32m   6959\u001B[0m \u001B[43m        \u001B[49m\u001B[43mkey\u001B[49m\u001B[38;5;241;43m=\u001B[39;49m\u001B[43mkey\u001B[49m\u001B[43m,\u001B[49m\n\u001B[1;32m   6960\u001B[0m \u001B[43m    \u001B[49m\u001B[43m)\u001B[49m\n",
      "File \u001B[0;32m~/.local/lib/python3.8/site-packages/pandas/core/generic.py:5072\u001B[0m, in \u001B[0;36mNDFrame.sort_index\u001B[0;34m(self, axis, level, ascending, inplace, kind, na_position, sort_remaining, ignore_index, key)\u001B[0m\n\u001B[1;32m   5068\u001B[0m ascending \u001B[38;5;241m=\u001B[39m validate_ascending(ascending)\n\u001B[1;32m   5070\u001B[0m target \u001B[38;5;241m=\u001B[39m \u001B[38;5;28mself\u001B[39m\u001B[38;5;241m.\u001B[39m_get_axis(axis)\n\u001B[0;32m-> 5072\u001B[0m indexer \u001B[38;5;241m=\u001B[39m \u001B[43mget_indexer_indexer\u001B[49m\u001B[43m(\u001B[49m\n\u001B[1;32m   5073\u001B[0m \u001B[43m    \u001B[49m\u001B[43mtarget\u001B[49m\u001B[43m,\u001B[49m\u001B[43m \u001B[49m\u001B[43mlevel\u001B[49m\u001B[43m,\u001B[49m\u001B[43m \u001B[49m\u001B[43mascending\u001B[49m\u001B[43m,\u001B[49m\u001B[43m \u001B[49m\u001B[43mkind\u001B[49m\u001B[43m,\u001B[49m\u001B[43m \u001B[49m\u001B[43mna_position\u001B[49m\u001B[43m,\u001B[49m\u001B[43m \u001B[49m\u001B[43msort_remaining\u001B[49m\u001B[43m,\u001B[49m\u001B[43m \u001B[49m\u001B[43mkey\u001B[49m\n\u001B[1;32m   5074\u001B[0m \u001B[43m\u001B[49m\u001B[43m)\u001B[49m\n\u001B[1;32m   5076\u001B[0m \u001B[38;5;28;01mif\u001B[39;00m indexer \u001B[38;5;129;01mis\u001B[39;00m \u001B[38;5;28;01mNone\u001B[39;00m:\n\u001B[1;32m   5077\u001B[0m     \u001B[38;5;28;01mif\u001B[39;00m inplace:\n",
      "File \u001B[0;32m~/.local/lib/python3.8/site-packages/pandas/core/sorting.py:100\u001B[0m, in \u001B[0;36mget_indexer_indexer\u001B[0;34m(target, level, ascending, kind, na_position, sort_remaining, key)\u001B[0m\n\u001B[1;32m     97\u001B[0m         \u001B[38;5;28;01mreturn\u001B[39;00m \u001B[38;5;28;01mNone\u001B[39;00m\n\u001B[1;32m     99\u001B[0m     \u001B[38;5;66;03m# ascending can only be a Sequence for MultiIndex\u001B[39;00m\n\u001B[0;32m--> 100\u001B[0m     indexer \u001B[38;5;241m=\u001B[39m \u001B[43mnargsort\u001B[49m\u001B[43m(\u001B[49m\n\u001B[1;32m    101\u001B[0m \u001B[43m        \u001B[49m\u001B[43mtarget\u001B[49m\u001B[43m,\u001B[49m\n\u001B[1;32m    102\u001B[0m \u001B[43m        \u001B[49m\u001B[43mkind\u001B[49m\u001B[38;5;241;43m=\u001B[39;49m\u001B[43mkind\u001B[49m\u001B[43m,\u001B[49m\n\u001B[1;32m    103\u001B[0m \u001B[43m        \u001B[49m\u001B[43mascending\u001B[49m\u001B[38;5;241;43m=\u001B[39;49m\u001B[43mcast\u001B[49m\u001B[43m(\u001B[49m\u001B[38;5;28;43mbool\u001B[39;49m\u001B[43m,\u001B[49m\u001B[43m \u001B[49m\u001B[43mascending\u001B[49m\u001B[43m)\u001B[49m\u001B[43m,\u001B[49m\n\u001B[1;32m    104\u001B[0m \u001B[43m        \u001B[49m\u001B[43mna_position\u001B[49m\u001B[38;5;241;43m=\u001B[39;49m\u001B[43mna_position\u001B[49m\u001B[43m,\u001B[49m\n\u001B[1;32m    105\u001B[0m \u001B[43m    \u001B[49m\u001B[43m)\u001B[49m\n\u001B[1;32m    106\u001B[0m \u001B[38;5;28;01mreturn\u001B[39;00m indexer\n",
      "File \u001B[0;32m~/.local/lib/python3.8/site-packages/pandas/core/sorting.py:429\u001B[0m, in \u001B[0;36mnargsort\u001B[0;34m(items, kind, ascending, na_position, key, mask)\u001B[0m\n\u001B[1;32m    427\u001B[0m     non_nans \u001B[38;5;241m=\u001B[39m non_nans[::\u001B[38;5;241m-\u001B[39m\u001B[38;5;241m1\u001B[39m]\n\u001B[1;32m    428\u001B[0m     non_nan_idx \u001B[38;5;241m=\u001B[39m non_nan_idx[::\u001B[38;5;241m-\u001B[39m\u001B[38;5;241m1\u001B[39m]\n\u001B[0;32m--> 429\u001B[0m indexer \u001B[38;5;241m=\u001B[39m non_nan_idx[\u001B[43mnon_nans\u001B[49m\u001B[38;5;241;43m.\u001B[39;49m\u001B[43margsort\u001B[49m\u001B[43m(\u001B[49m\u001B[43mkind\u001B[49m\u001B[38;5;241;43m=\u001B[39;49m\u001B[43mkind\u001B[49m\u001B[43m)\u001B[49m]\n\u001B[1;32m    430\u001B[0m \u001B[38;5;28;01mif\u001B[39;00m \u001B[38;5;129;01mnot\u001B[39;00m ascending:\n\u001B[1;32m    431\u001B[0m     indexer \u001B[38;5;241m=\u001B[39m indexer[::\u001B[38;5;241m-\u001B[39m\u001B[38;5;241m1\u001B[39m]\n",
      "\u001B[0;31mTypeError\u001B[0m: '<' not supported between instances of 'int' and 'str'"
     ]
    }
   ],
   "source": [
    "estudiantes.sort_index(ascending = True,inplace = True)\n",
    "estudiantes"
   ],
   "metadata": {
    "collapsed": false
   }
  },
  {
   "cell_type": "code",
   "execution_count": 78,
   "outputs": [
    {
     "data": {
      "text/plain": "            Campo 1  Campo 2    Campo 3  Campo 4  Campo 5  nueva\nCampo 4                                                         \n888888   Registro 5   Helena   González   888888     29.0      5\n777222   Registro 6     José      López   777222     30.0      6\n123455   Registro 1     Hugo      López   123455     20.0      5\n971298   Registro 3     Luis        Oca   971298     28.0      5\n123098   Registro 4    Pedro    Ramírez   123098     28.0      5\n736923   Registro 2     Paco      Silva   736923     35.0      5",
      "text/html": "<div>\n<style scoped>\n    .dataframe tbody tr th:only-of-type {\n        vertical-align: middle;\n    }\n\n    .dataframe tbody tr th {\n        vertical-align: top;\n    }\n\n    .dataframe thead th {\n        text-align: right;\n    }\n</style>\n<table border=\"1\" class=\"dataframe\">\n  <thead>\n    <tr style=\"text-align: right;\">\n      <th></th>\n      <th>Campo 1</th>\n      <th>Campo 2</th>\n      <th>Campo 3</th>\n      <th>Campo 4</th>\n      <th>Campo 5</th>\n      <th>nueva</th>\n    </tr>\n    <tr>\n      <th>Campo 4</th>\n      <th></th>\n      <th></th>\n      <th></th>\n      <th></th>\n      <th></th>\n      <th></th>\n    </tr>\n  </thead>\n  <tbody>\n    <tr>\n      <th>888888</th>\n      <td>Registro 5</td>\n      <td>Helena</td>\n      <td>González</td>\n      <td>888888</td>\n      <td>29.0</td>\n      <td>5</td>\n    </tr>\n    <tr>\n      <th>777222</th>\n      <td>Registro 6</td>\n      <td>José</td>\n      <td>López</td>\n      <td>777222</td>\n      <td>30.0</td>\n      <td>6</td>\n    </tr>\n    <tr>\n      <th>123455</th>\n      <td>Registro 1</td>\n      <td>Hugo</td>\n      <td>López</td>\n      <td>123455</td>\n      <td>20.0</td>\n      <td>5</td>\n    </tr>\n    <tr>\n      <th>971298</th>\n      <td>Registro 3</td>\n      <td>Luis</td>\n      <td>Oca</td>\n      <td>971298</td>\n      <td>28.0</td>\n      <td>5</td>\n    </tr>\n    <tr>\n      <th>123098</th>\n      <td>Registro 4</td>\n      <td>Pedro</td>\n      <td>Ramírez</td>\n      <td>123098</td>\n      <td>28.0</td>\n      <td>5</td>\n    </tr>\n    <tr>\n      <th>736923</th>\n      <td>Registro 2</td>\n      <td>Paco</td>\n      <td>Silva</td>\n      <td>736923</td>\n      <td>35.0</td>\n      <td>5</td>\n    </tr>\n  </tbody>\n</table>\n</div>"
     },
     "execution_count": 78,
     "metadata": {},
     "output_type": "execute_result"
    }
   ],
   "source": [
    "estudiantes.sort_values(by = [\"Campo 3\",\"Campo 5\"],ascending = [True,False],inplace = True)\n",
    "estudiantes"
   ],
   "metadata": {
    "collapsed": false
   }
  },
  {
   "cell_type": "code",
   "execution_count": 79,
   "outputs": [
    {
     "data": {
      "text/plain": "            Campo 1 Campo 2 Campo 3 Campo 4  Campo 5  nueva\nCampo 4                                                    \n777222   Registro 6    José   López  777222     30.0      6\n123455   Registro 1    Hugo   López  123455     20.0      5",
      "text/html": "<div>\n<style scoped>\n    .dataframe tbody tr th:only-of-type {\n        vertical-align: middle;\n    }\n\n    .dataframe tbody tr th {\n        vertical-align: top;\n    }\n\n    .dataframe thead th {\n        text-align: right;\n    }\n</style>\n<table border=\"1\" class=\"dataframe\">\n  <thead>\n    <tr style=\"text-align: right;\">\n      <th></th>\n      <th>Campo 1</th>\n      <th>Campo 2</th>\n      <th>Campo 3</th>\n      <th>Campo 4</th>\n      <th>Campo 5</th>\n      <th>nueva</th>\n    </tr>\n    <tr>\n      <th>Campo 4</th>\n      <th></th>\n      <th></th>\n      <th></th>\n      <th></th>\n      <th></th>\n      <th></th>\n    </tr>\n  </thead>\n  <tbody>\n    <tr>\n      <th>777222</th>\n      <td>Registro 6</td>\n      <td>José</td>\n      <td>López</td>\n      <td>777222</td>\n      <td>30.0</td>\n      <td>6</td>\n    </tr>\n    <tr>\n      <th>123455</th>\n      <td>Registro 1</td>\n      <td>Hugo</td>\n      <td>López</td>\n      <td>123455</td>\n      <td>20.0</td>\n      <td>5</td>\n    </tr>\n  </tbody>\n</table>\n</div>"
     },
     "execution_count": 79,
     "metadata": {},
     "output_type": "execute_result"
    }
   ],
   "source": [
    "estudiantes[estudiantes[\"Campo 3\"] == \"López\"]"
   ],
   "metadata": {
    "collapsed": false
   }
  },
  {
   "cell_type": "code",
   "execution_count": 80,
   "outputs": [
    {
     "data": {
      "text/plain": "            Campo 1  Campo 2    Campo 3  Campo 4  Campo 5  nueva\nCampo 4                                                         \n888888   Registro 5   HELENA   González   888888     29.0      5\n777222   Registro 6     JOSÉ      López   777222     30.0      6\n123455   Registro 1     HUGO      López   123455     20.0      5\n971298   Registro 3     LUIS        Oca   971298     28.0      5\n123098   Registro 4    PEDRO    Ramírez   123098     28.0      5\n736923   Registro 2     PACO      Silva   736923     35.0      5",
      "text/html": "<div>\n<style scoped>\n    .dataframe tbody tr th:only-of-type {\n        vertical-align: middle;\n    }\n\n    .dataframe tbody tr th {\n        vertical-align: top;\n    }\n\n    .dataframe thead th {\n        text-align: right;\n    }\n</style>\n<table border=\"1\" class=\"dataframe\">\n  <thead>\n    <tr style=\"text-align: right;\">\n      <th></th>\n      <th>Campo 1</th>\n      <th>Campo 2</th>\n      <th>Campo 3</th>\n      <th>Campo 4</th>\n      <th>Campo 5</th>\n      <th>nueva</th>\n    </tr>\n    <tr>\n      <th>Campo 4</th>\n      <th></th>\n      <th></th>\n      <th></th>\n      <th></th>\n      <th></th>\n      <th></th>\n    </tr>\n  </thead>\n  <tbody>\n    <tr>\n      <th>888888</th>\n      <td>Registro 5</td>\n      <td>HELENA</td>\n      <td>González</td>\n      <td>888888</td>\n      <td>29.0</td>\n      <td>5</td>\n    </tr>\n    <tr>\n      <th>777222</th>\n      <td>Registro 6</td>\n      <td>JOSÉ</td>\n      <td>López</td>\n      <td>777222</td>\n      <td>30.0</td>\n      <td>6</td>\n    </tr>\n    <tr>\n      <th>123455</th>\n      <td>Registro 1</td>\n      <td>HUGO</td>\n      <td>López</td>\n      <td>123455</td>\n      <td>20.0</td>\n      <td>5</td>\n    </tr>\n    <tr>\n      <th>971298</th>\n      <td>Registro 3</td>\n      <td>LUIS</td>\n      <td>Oca</td>\n      <td>971298</td>\n      <td>28.0</td>\n      <td>5</td>\n    </tr>\n    <tr>\n      <th>123098</th>\n      <td>Registro 4</td>\n      <td>PEDRO</td>\n      <td>Ramírez</td>\n      <td>123098</td>\n      <td>28.0</td>\n      <td>5</td>\n    </tr>\n    <tr>\n      <th>736923</th>\n      <td>Registro 2</td>\n      <td>PACO</td>\n      <td>Silva</td>\n      <td>736923</td>\n      <td>35.0</td>\n      <td>5</td>\n    </tr>\n  </tbody>\n</table>\n</div>"
     },
     "execution_count": 80,
     "metadata": {},
     "output_type": "execute_result"
    }
   ],
   "source": [
    "estudiantes[\"Campo 2\"] = estudiantes[\"Campo 2\"].str.upper()\n",
    "estudiantes"
   ],
   "metadata": {
    "collapsed": false
   }
  },
  {
   "cell_type": "code",
   "execution_count": 81,
   "outputs": [
    {
     "data": {
      "text/plain": "Campo 4\n888888    7\n777222    6\n123455    6\n971298    6\n123098    6\n736923    6\nName: Campo 4, dtype: int64"
     },
     "execution_count": 81,
     "metadata": {},
     "output_type": "execute_result"
    }
   ],
   "source": [
    "estudiantes[\"Campo 4\"].str.len()"
   ],
   "metadata": {
    "collapsed": false
   }
  },
  {
   "cell_type": "code",
   "execution_count": 83,
   "outputs": [
    {
     "data": {
      "text/plain": "            Campo 1  Campo 2    Campo 3  Campo 4 Campo 5 nueva    Estado\nCampo 4                                                                 \n888888   Registro 5   HELENA   González   888888    29.0     5    Activo\n777222   Registro 6     JOSÉ      López   777222    30.0     6      Baja\n123455   Registro 1     HUGO      López   123455    20.0     5      Baja\n971298   Registro 3     LUIS        Oca   971298    28.0     5  Graduado\n123098   Registro 4    PEDRO    Ramírez   123098    28.0     5    Activo\n736923   Registro 2     PACO      Silva   736923    35.0     5    Activo\n536271   Registro 7    Luisa   González   536271      23     1      Baja",
      "text/html": "<div>\n<style scoped>\n    .dataframe tbody tr th:only-of-type {\n        vertical-align: middle;\n    }\n\n    .dataframe tbody tr th {\n        vertical-align: top;\n    }\n\n    .dataframe thead th {\n        text-align: right;\n    }\n</style>\n<table border=\"1\" class=\"dataframe\">\n  <thead>\n    <tr style=\"text-align: right;\">\n      <th></th>\n      <th>Campo 1</th>\n      <th>Campo 2</th>\n      <th>Campo 3</th>\n      <th>Campo 4</th>\n      <th>Campo 5</th>\n      <th>nueva</th>\n      <th>Estado</th>\n    </tr>\n    <tr>\n      <th>Campo 4</th>\n      <th></th>\n      <th></th>\n      <th></th>\n      <th></th>\n      <th></th>\n      <th></th>\n      <th></th>\n    </tr>\n  </thead>\n  <tbody>\n    <tr>\n      <th>888888</th>\n      <td>Registro 5</td>\n      <td>HELENA</td>\n      <td>González</td>\n      <td>888888</td>\n      <td>29.0</td>\n      <td>5</td>\n      <td>Activo</td>\n    </tr>\n    <tr>\n      <th>777222</th>\n      <td>Registro 6</td>\n      <td>JOSÉ</td>\n      <td>López</td>\n      <td>777222</td>\n      <td>30.0</td>\n      <td>6</td>\n      <td>Baja</td>\n    </tr>\n    <tr>\n      <th>123455</th>\n      <td>Registro 1</td>\n      <td>HUGO</td>\n      <td>López</td>\n      <td>123455</td>\n      <td>20.0</td>\n      <td>5</td>\n      <td>Baja</td>\n    </tr>\n    <tr>\n      <th>971298</th>\n      <td>Registro 3</td>\n      <td>LUIS</td>\n      <td>Oca</td>\n      <td>971298</td>\n      <td>28.0</td>\n      <td>5</td>\n      <td>Graduado</td>\n    </tr>\n    <tr>\n      <th>123098</th>\n      <td>Registro 4</td>\n      <td>PEDRO</td>\n      <td>Ramírez</td>\n      <td>123098</td>\n      <td>28.0</td>\n      <td>5</td>\n      <td>Activo</td>\n    </tr>\n    <tr>\n      <th>736923</th>\n      <td>Registro 2</td>\n      <td>PACO</td>\n      <td>Silva</td>\n      <td>736923</td>\n      <td>35.0</td>\n      <td>5</td>\n      <td>Activo</td>\n    </tr>\n    <tr>\n      <th>536271</th>\n      <td>Registro 7</td>\n      <td>Luisa</td>\n      <td>González</td>\n      <td>536271</td>\n      <td>23</td>\n      <td>1</td>\n      <td>Baja</td>\n    </tr>\n  </tbody>\n</table>\n</div>"
     },
     "execution_count": 83,
     "metadata": {},
     "output_type": "execute_result"
    }
   ],
   "source": [
    "estudiantes.loc[\"536271\"] = [\"Registro 7\",\"Luisa\",\"González\",\"536271\",\"23\",\"1\"]\n",
    "estudiantes[\"Estado\"] = [\"Activo\",\"Baja\",\"Baja\",\"Graduado\",\"Activo\",\"Activo\",\"Baja\"]\n",
    "\n",
    "estudiantes"
   ],
   "metadata": {
    "collapsed": false
   }
  },
  {
   "cell_type": "code",
   "execution_count": 84,
   "outputs": [
    {
     "data": {
      "text/plain": "            Campo 1  Campo 2    Campo 3  Campo 4 Campo 5 nueva    Estado\nCampo 4                                                                 \n888888   Registro 5   HELENA   González   888888    29.0     5    Activo\n777222   Registro 6     JOSÉ      López   777222    30.0     6      Baja\n123455   Registro 1     HUGO      López   123455    20.0     5      Baja\n971298   Registro 3     LUIS        Oca   971298    28.0     5  Graduado\n123098   Registro 4    PEDRO    Ramírez   123098    28.0     5    Activo\n736923   Registro 2     PACO      Silva   736923    35.0     5    Activo\n536271   Registro 7    Luisa   González   536271      23     1      Baja",
      "text/html": "<div>\n<style scoped>\n    .dataframe tbody tr th:only-of-type {\n        vertical-align: middle;\n    }\n\n    .dataframe tbody tr th {\n        vertical-align: top;\n    }\n\n    .dataframe thead th {\n        text-align: right;\n    }\n</style>\n<table border=\"1\" class=\"dataframe\">\n  <thead>\n    <tr style=\"text-align: right;\">\n      <th></th>\n      <th>Campo 1</th>\n      <th>Campo 2</th>\n      <th>Campo 3</th>\n      <th>Campo 4</th>\n      <th>Campo 5</th>\n      <th>nueva</th>\n      <th>Estado</th>\n    </tr>\n    <tr>\n      <th>Campo 4</th>\n      <th></th>\n      <th></th>\n      <th></th>\n      <th></th>\n      <th></th>\n      <th></th>\n      <th></th>\n    </tr>\n  </thead>\n  <tbody>\n    <tr>\n      <th>888888</th>\n      <td>Registro 5</td>\n      <td>HELENA</td>\n      <td>González</td>\n      <td>888888</td>\n      <td>29.0</td>\n      <td>5</td>\n      <td>Activo</td>\n    </tr>\n    <tr>\n      <th>777222</th>\n      <td>Registro 6</td>\n      <td>JOSÉ</td>\n      <td>López</td>\n      <td>777222</td>\n      <td>30.0</td>\n      <td>6</td>\n      <td>Baja</td>\n    </tr>\n    <tr>\n      <th>123455</th>\n      <td>Registro 1</td>\n      <td>HUGO</td>\n      <td>López</td>\n      <td>123455</td>\n      <td>20.0</td>\n      <td>5</td>\n      <td>Baja</td>\n    </tr>\n    <tr>\n      <th>971298</th>\n      <td>Registro 3</td>\n      <td>LUIS</td>\n      <td>Oca</td>\n      <td>971298</td>\n      <td>28.0</td>\n      <td>5</td>\n      <td>Graduado</td>\n    </tr>\n    <tr>\n      <th>123098</th>\n      <td>Registro 4</td>\n      <td>PEDRO</td>\n      <td>Ramírez</td>\n      <td>123098</td>\n      <td>28.0</td>\n      <td>5</td>\n      <td>Activo</td>\n    </tr>\n    <tr>\n      <th>736923</th>\n      <td>Registro 2</td>\n      <td>PACO</td>\n      <td>Silva</td>\n      <td>736923</td>\n      <td>35.0</td>\n      <td>5</td>\n      <td>Activo</td>\n    </tr>\n    <tr>\n      <th>536271</th>\n      <td>Registro 7</td>\n      <td>Luisa</td>\n      <td>González</td>\n      <td>536271</td>\n      <td>23</td>\n      <td>1</td>\n      <td>Baja</td>\n    </tr>\n  </tbody>\n</table>\n</div>"
     },
     "execution_count": 84,
     "metadata": {},
     "output_type": "execute_result"
    }
   ],
   "source": [
    "estudiantes"
   ],
   "metadata": {
    "collapsed": false
   }
  },
  {
   "cell_type": "code",
   "execution_count": 85,
   "outputs": [
    {
     "data": {
      "text/plain": "         Activo   Baja  Graduado\nCampo 4                         \n888888     True  False     False\n777222    False   True     False\n123455    False   True     False\n971298    False  False      True\n123098     True  False     False\n736923     True  False     False\n536271    False   True     False",
      "text/html": "<div>\n<style scoped>\n    .dataframe tbody tr th:only-of-type {\n        vertical-align: middle;\n    }\n\n    .dataframe tbody tr th {\n        vertical-align: top;\n    }\n\n    .dataframe thead th {\n        text-align: right;\n    }\n</style>\n<table border=\"1\" class=\"dataframe\">\n  <thead>\n    <tr style=\"text-align: right;\">\n      <th></th>\n      <th>Activo</th>\n      <th>Baja</th>\n      <th>Graduado</th>\n    </tr>\n    <tr>\n      <th>Campo 4</th>\n      <th></th>\n      <th></th>\n      <th></th>\n    </tr>\n  </thead>\n  <tbody>\n    <tr>\n      <th>888888</th>\n      <td>True</td>\n      <td>False</td>\n      <td>False</td>\n    </tr>\n    <tr>\n      <th>777222</th>\n      <td>False</td>\n      <td>True</td>\n      <td>False</td>\n    </tr>\n    <tr>\n      <th>123455</th>\n      <td>False</td>\n      <td>True</td>\n      <td>False</td>\n    </tr>\n    <tr>\n      <th>971298</th>\n      <td>False</td>\n      <td>False</td>\n      <td>True</td>\n    </tr>\n    <tr>\n      <th>123098</th>\n      <td>True</td>\n      <td>False</td>\n      <td>False</td>\n    </tr>\n    <tr>\n      <th>736923</th>\n      <td>True</td>\n      <td>False</td>\n      <td>False</td>\n    </tr>\n    <tr>\n      <th>536271</th>\n      <td>False</td>\n      <td>True</td>\n      <td>False</td>\n    </tr>\n  </tbody>\n</table>\n</div>"
     },
     "execution_count": 85,
     "metadata": {},
     "output_type": "execute_result"
    }
   ],
   "source": [
    "pd.get_dummies(estudiantes[\"Estado\"])"
   ],
   "metadata": {
    "collapsed": false
   }
  },
  {
   "cell_type": "code",
   "execution_count": 86,
   "outputs": [
    {
     "data": {
      "text/plain": "            Campo 1  Campo 2    Campo 3  Campo 4 Campo 5 nueva    Estado  \\\nCampo 4                                                                    \n888888   Registro 5   HELENA   González   888888    29.0     5    Activo   \n777222   Registro 6     JOSÉ      López   777222    30.0     6      Baja   \n123455   Registro 1     HUGO      López   123455    20.0     5      Baja   \n971298   Registro 3     LUIS        Oca   971298    28.0     5  Graduado   \n123098   Registro 4    PEDRO    Ramírez   123098    28.0     5    Activo   \n736923   Registro 2     PACO      Silva   736923    35.0     5    Activo   \n536271   Registro 7    Luisa   González   536271      23     1      Baja   \n\n         Activo   Baja  Graduado  \nCampo 4                           \n888888     True  False     False  \n777222    False   True     False  \n123455    False   True     False  \n971298    False  False      True  \n123098     True  False     False  \n736923     True  False     False  \n536271    False   True     False  ",
      "text/html": "<div>\n<style scoped>\n    .dataframe tbody tr th:only-of-type {\n        vertical-align: middle;\n    }\n\n    .dataframe tbody tr th {\n        vertical-align: top;\n    }\n\n    .dataframe thead th {\n        text-align: right;\n    }\n</style>\n<table border=\"1\" class=\"dataframe\">\n  <thead>\n    <tr style=\"text-align: right;\">\n      <th></th>\n      <th>Campo 1</th>\n      <th>Campo 2</th>\n      <th>Campo 3</th>\n      <th>Campo 4</th>\n      <th>Campo 5</th>\n      <th>nueva</th>\n      <th>Estado</th>\n      <th>Activo</th>\n      <th>Baja</th>\n      <th>Graduado</th>\n    </tr>\n    <tr>\n      <th>Campo 4</th>\n      <th></th>\n      <th></th>\n      <th></th>\n      <th></th>\n      <th></th>\n      <th></th>\n      <th></th>\n      <th></th>\n      <th></th>\n      <th></th>\n    </tr>\n  </thead>\n  <tbody>\n    <tr>\n      <th>888888</th>\n      <td>Registro 5</td>\n      <td>HELENA</td>\n      <td>González</td>\n      <td>888888</td>\n      <td>29.0</td>\n      <td>5</td>\n      <td>Activo</td>\n      <td>True</td>\n      <td>False</td>\n      <td>False</td>\n    </tr>\n    <tr>\n      <th>777222</th>\n      <td>Registro 6</td>\n      <td>JOSÉ</td>\n      <td>López</td>\n      <td>777222</td>\n      <td>30.0</td>\n      <td>6</td>\n      <td>Baja</td>\n      <td>False</td>\n      <td>True</td>\n      <td>False</td>\n    </tr>\n    <tr>\n      <th>123455</th>\n      <td>Registro 1</td>\n      <td>HUGO</td>\n      <td>López</td>\n      <td>123455</td>\n      <td>20.0</td>\n      <td>5</td>\n      <td>Baja</td>\n      <td>False</td>\n      <td>True</td>\n      <td>False</td>\n    </tr>\n    <tr>\n      <th>971298</th>\n      <td>Registro 3</td>\n      <td>LUIS</td>\n      <td>Oca</td>\n      <td>971298</td>\n      <td>28.0</td>\n      <td>5</td>\n      <td>Graduado</td>\n      <td>False</td>\n      <td>False</td>\n      <td>True</td>\n    </tr>\n    <tr>\n      <th>123098</th>\n      <td>Registro 4</td>\n      <td>PEDRO</td>\n      <td>Ramírez</td>\n      <td>123098</td>\n      <td>28.0</td>\n      <td>5</td>\n      <td>Activo</td>\n      <td>True</td>\n      <td>False</td>\n      <td>False</td>\n    </tr>\n    <tr>\n      <th>736923</th>\n      <td>Registro 2</td>\n      <td>PACO</td>\n      <td>Silva</td>\n      <td>736923</td>\n      <td>35.0</td>\n      <td>5</td>\n      <td>Activo</td>\n      <td>True</td>\n      <td>False</td>\n      <td>False</td>\n    </tr>\n    <tr>\n      <th>536271</th>\n      <td>Registro 7</td>\n      <td>Luisa</td>\n      <td>González</td>\n      <td>536271</td>\n      <td>23</td>\n      <td>1</td>\n      <td>Baja</td>\n      <td>False</td>\n      <td>True</td>\n      <td>False</td>\n    </tr>\n  </tbody>\n</table>\n</div>"
     },
     "execution_count": 86,
     "metadata": {},
     "output_type": "execute_result"
    }
   ],
   "source": [
    "Frame = pd.concat([estudiantes,pd.get_dummies(estudiantes[\"Estado\"])],axis = 1)\n",
    "Frame"
   ],
   "metadata": {
    "collapsed": false
   }
  },
  {
   "cell_type": "code",
   "execution_count": 87,
   "outputs": [
    {
     "data": {
      "text/plain": "            Campo 1  Campo 2    Campo 3  Campo 4 Campo 5 nueva    Estado  \\\nCampo 4                                                                    \n888888   Registro 5   HELENA   González   888888    29.0     5    Activo   \n777222   Registro 6     JOSÉ      López   777222    30.0     6      Baja   \n123455   Registro 1     HUGO      López   123455    20.0     5      Baja   \n971298   Registro 3     LUIS        Oca   971298    28.0     5  Graduado   \n123098   Registro 4    PEDRO    Ramírez   123098    28.0     5    Activo   \n736923   Registro 2     PACO      Silva   736923    35.0     5    Activo   \n536271   Registro 7    Luisa   González   536271      23     1      Baja   \n\n         Activo   Baja  Graduado  Fac Sexo  \nCampo 4                                     \n888888     True  False     False    4    0  \n777222    False   True     False    3    1  \n123455    False   True     False    1    1  \n971298    False  False      True    4    1  \n123098     True  False     False    5    1  \n736923     True  False     False    1    1  \n536271    False   True     False    8    0  ",
      "text/html": "<div>\n<style scoped>\n    .dataframe tbody tr th:only-of-type {\n        vertical-align: middle;\n    }\n\n    .dataframe tbody tr th {\n        vertical-align: top;\n    }\n\n    .dataframe thead th {\n        text-align: right;\n    }\n</style>\n<table border=\"1\" class=\"dataframe\">\n  <thead>\n    <tr style=\"text-align: right;\">\n      <th></th>\n      <th>Campo 1</th>\n      <th>Campo 2</th>\n      <th>Campo 3</th>\n      <th>Campo 4</th>\n      <th>Campo 5</th>\n      <th>nueva</th>\n      <th>Estado</th>\n      <th>Activo</th>\n      <th>Baja</th>\n      <th>Graduado</th>\n      <th>Fac</th>\n      <th>Sexo</th>\n    </tr>\n    <tr>\n      <th>Campo 4</th>\n      <th></th>\n      <th></th>\n      <th></th>\n      <th></th>\n      <th></th>\n      <th></th>\n      <th></th>\n      <th></th>\n      <th></th>\n      <th></th>\n      <th></th>\n      <th></th>\n    </tr>\n  </thead>\n  <tbody>\n    <tr>\n      <th>888888</th>\n      <td>Registro 5</td>\n      <td>HELENA</td>\n      <td>González</td>\n      <td>888888</td>\n      <td>29.0</td>\n      <td>5</td>\n      <td>Activo</td>\n      <td>True</td>\n      <td>False</td>\n      <td>False</td>\n      <td>4</td>\n      <td>0</td>\n    </tr>\n    <tr>\n      <th>777222</th>\n      <td>Registro 6</td>\n      <td>JOSÉ</td>\n      <td>López</td>\n      <td>777222</td>\n      <td>30.0</td>\n      <td>6</td>\n      <td>Baja</td>\n      <td>False</td>\n      <td>True</td>\n      <td>False</td>\n      <td>3</td>\n      <td>1</td>\n    </tr>\n    <tr>\n      <th>123455</th>\n      <td>Registro 1</td>\n      <td>HUGO</td>\n      <td>López</td>\n      <td>123455</td>\n      <td>20.0</td>\n      <td>5</td>\n      <td>Baja</td>\n      <td>False</td>\n      <td>True</td>\n      <td>False</td>\n      <td>1</td>\n      <td>1</td>\n    </tr>\n    <tr>\n      <th>971298</th>\n      <td>Registro 3</td>\n      <td>LUIS</td>\n      <td>Oca</td>\n      <td>971298</td>\n      <td>28.0</td>\n      <td>5</td>\n      <td>Graduado</td>\n      <td>False</td>\n      <td>False</td>\n      <td>True</td>\n      <td>4</td>\n      <td>1</td>\n    </tr>\n    <tr>\n      <th>123098</th>\n      <td>Registro 4</td>\n      <td>PEDRO</td>\n      <td>Ramírez</td>\n      <td>123098</td>\n      <td>28.0</td>\n      <td>5</td>\n      <td>Activo</td>\n      <td>True</td>\n      <td>False</td>\n      <td>False</td>\n      <td>5</td>\n      <td>1</td>\n    </tr>\n    <tr>\n      <th>736923</th>\n      <td>Registro 2</td>\n      <td>PACO</td>\n      <td>Silva</td>\n      <td>736923</td>\n      <td>35.0</td>\n      <td>5</td>\n      <td>Activo</td>\n      <td>True</td>\n      <td>False</td>\n      <td>False</td>\n      <td>1</td>\n      <td>1</td>\n    </tr>\n    <tr>\n      <th>536271</th>\n      <td>Registro 7</td>\n      <td>Luisa</td>\n      <td>González</td>\n      <td>536271</td>\n      <td>23</td>\n      <td>1</td>\n      <td>Baja</td>\n      <td>False</td>\n      <td>True</td>\n      <td>False</td>\n      <td>8</td>\n      <td>0</td>\n    </tr>\n  </tbody>\n</table>\n</div>"
     },
     "execution_count": 87,
     "metadata": {},
     "output_type": "execute_result"
    }
   ],
   "source": [
    "Frame[\"Fac\"] = [4,3,1,4,5,1,8]\n",
    "Frame[\"Sexo\"] = [\"0\",\"1\",\"1\",\"1\",\"1\",\"1\",\"0\"]\n",
    "Frame"
   ],
   "metadata": {
    "collapsed": false
   }
  },
  {
   "cell_type": "code",
   "execution_count": 88,
   "outputs": [
    {
     "data": {
      "text/plain": "Estado\nActivo      10\nBaja        12\nGraduado     4\nName: Fac, dtype: int64"
     },
     "execution_count": 88,
     "metadata": {},
     "output_type": "execute_result"
    }
   ],
   "source": [
    "Frame.groupby('Estado')[\"Fac\"].sum()\n"
   ],
   "metadata": {
    "collapsed": false
   }
  },
  {
   "cell_type": "code",
   "execution_count": 89,
   "outputs": [
    {
     "data": {
      "text/plain": "Estado    Sexo\nActivo    0       4\n          1       6\nBaja      0       8\n          1       4\nGraduado  1       4\nName: Fac, dtype: int64"
     },
     "execution_count": 89,
     "metadata": {},
     "output_type": "execute_result"
    }
   ],
   "source": [
    "Frame.groupby(['Estado',\"Sexo\"])[\"Fac\"].sum()"
   ],
   "metadata": {
    "collapsed": false
   }
  },
  {
   "cell_type": "code",
   "execution_count": 90,
   "outputs": [
    {
     "data": {
      "text/plain": "4"
     },
     "execution_count": 90,
     "metadata": {},
     "output_type": "execute_result"
    }
   ],
   "source": [
    "Frame.groupby(['Estado',\"Sexo\"])[\"Fac\"].sum()[\"Activo\",\"0\"]"
   ],
   "metadata": {
    "collapsed": false
   }
  },
  {
   "cell_type": "code",
   "execution_count": 91,
   "outputs": [
    {
     "data": {
      "text/plain": "            Fac\ncount  7.000000\nmean   3.714286\nstd    2.429972\nmin    1.000000\n25%    2.000000\n50%    4.000000\n75%    4.500000\nmax    8.000000",
      "text/html": "<div>\n<style scoped>\n    .dataframe tbody tr th:only-of-type {\n        vertical-align: middle;\n    }\n\n    .dataframe tbody tr th {\n        vertical-align: top;\n    }\n\n    .dataframe thead th {\n        text-align: right;\n    }\n</style>\n<table border=\"1\" class=\"dataframe\">\n  <thead>\n    <tr style=\"text-align: right;\">\n      <th></th>\n      <th>Fac</th>\n    </tr>\n  </thead>\n  <tbody>\n    <tr>\n      <th>count</th>\n      <td>7.000000</td>\n    </tr>\n    <tr>\n      <th>mean</th>\n      <td>3.714286</td>\n    </tr>\n    <tr>\n      <th>std</th>\n      <td>2.429972</td>\n    </tr>\n    <tr>\n      <th>min</th>\n      <td>1.000000</td>\n    </tr>\n    <tr>\n      <th>25%</th>\n      <td>2.000000</td>\n    </tr>\n    <tr>\n      <th>50%</th>\n      <td>4.000000</td>\n    </tr>\n    <tr>\n      <th>75%</th>\n      <td>4.500000</td>\n    </tr>\n    <tr>\n      <th>max</th>\n      <td>8.000000</td>\n    </tr>\n  </tbody>\n</table>\n</div>"
     },
     "execution_count": 91,
     "metadata": {},
     "output_type": "execute_result"
    }
   ],
   "source": [
    "Frame.describe()"
   ],
   "metadata": {
    "collapsed": false
   }
  },
  {
   "cell_type": "markdown",
   "source": [
    "Crear un Dataframe de asignaturas con índices  (Sistemas inteligentes, Base datos, Algebra, Redes y IoT Industrial) y columnas propias (año, semestre, nombre profesor, apellido profesor, créditos)\n"
   ],
   "metadata": {
    "collapsed": false
   }
  },
  {
   "cell_type": "code",
   "execution_count": 5,
   "outputs": [],
   "source": [
    "ejer = pd.DataFrame(\n",
    "[[2,1,\"Profesor1\",\"Apellido1\",40],\n",
    " [4,2,\"Profesor2\",\"Apellido2\",30],\n",
    " [3,2,\"Profesor3\",\"Apellido3\",20],\n",
    " [3,2,\"Profesor4\",\"Apellido4\",60]    \n",
    "], index = [\"Sistemas inteligentes\",\"Base Datos\",\"Redes\",\"IoT Industrial\"],\n",
    "    columns = [\"año\",\"semestre\",\"nombre profesor\",\"apellido profesor\",\"creditos\"]\n",
    ")"
   ],
   "metadata": {
    "collapsed": false,
    "ExecuteTime": {
     "end_time": "2023-11-30T14:35:47.945427029Z",
     "start_time": "2023-11-30T14:35:47.856937683Z"
    }
   }
  },
  {
   "cell_type": "markdown",
   "source": [
    "Recuperar la columna créditos"
   ],
   "metadata": {
    "collapsed": false
   }
  },
  {
   "cell_type": "code",
   "execution_count": 6,
   "outputs": [
    {
     "data": {
      "text/plain": "Index(['año', 'semestre', 'nombre profesor', 'apellido profesor', 'creditos'], dtype='object')"
     },
     "execution_count": 6,
     "metadata": {},
     "output_type": "execute_result"
    }
   ],
   "source": [
    "ejer.columns"
   ],
   "metadata": {
    "collapsed": false,
    "ExecuteTime": {
     "end_time": "2023-11-30T14:35:55.196620270Z",
     "start_time": "2023-11-30T14:35:55.093882086Z"
    }
   }
  },
  {
   "cell_type": "markdown",
   "source": [
    "Recuperar las asignaturas Redes e IoT Industrial"
   ],
   "metadata": {
    "collapsed": false
   }
  },
  {
   "cell_type": "code",
   "execution_count": 10,
   "outputs": [
    {
     "data": {
      "text/plain": "                año  semestre nombre profesor apellido profesor  creditos\nRedes             3         2       Profesor3         Apellido3        20\nIoT Industrial    3         2       Profesor4         Apellido4        60",
      "text/html": "<div>\n<style scoped>\n    .dataframe tbody tr th:only-of-type {\n        vertical-align: middle;\n    }\n\n    .dataframe tbody tr th {\n        vertical-align: top;\n    }\n\n    .dataframe thead th {\n        text-align: right;\n    }\n</style>\n<table border=\"1\" class=\"dataframe\">\n  <thead>\n    <tr style=\"text-align: right;\">\n      <th></th>\n      <th>año</th>\n      <th>semestre</th>\n      <th>nombre profesor</th>\n      <th>apellido profesor</th>\n      <th>creditos</th>\n    </tr>\n  </thead>\n  <tbody>\n    <tr>\n      <th>Redes</th>\n      <td>3</td>\n      <td>2</td>\n      <td>Profesor3</td>\n      <td>Apellido3</td>\n      <td>20</td>\n    </tr>\n    <tr>\n      <th>IoT Industrial</th>\n      <td>3</td>\n      <td>2</td>\n      <td>Profesor4</td>\n      <td>Apellido4</td>\n      <td>60</td>\n    </tr>\n  </tbody>\n</table>\n</div>"
     },
     "execution_count": 10,
     "metadata": {},
     "output_type": "execute_result"
    }
   ],
   "source": [
    "ejer.loc[[\"Redes\",\"IoT Industrial\"]]"
   ],
   "metadata": {
    "collapsed": false,
    "ExecuteTime": {
     "end_time": "2023-11-30T14:37:48.354155753Z",
     "start_time": "2023-11-30T14:37:48.320360661Z"
    }
   }
  },
  {
   "cell_type": "markdown",
   "source": [
    "Recuperar la asignatura de base de datos con su “numero” de indice\n"
   ],
   "metadata": {
    "collapsed": false
   }
  },
  {
   "cell_type": "code",
   "execution_count": 13,
   "outputs": [
    {
     "data": {
      "text/plain": "año                          4\nsemestre                     2\nnombre profesor      Profesor2\napellido profesor    Apellido2\ncreditos                    30\nName: Base Datos, dtype: object"
     },
     "execution_count": 13,
     "metadata": {},
     "output_type": "execute_result"
    }
   ],
   "source": [
    "ejer.iloc[1]"
   ],
   "metadata": {
    "collapsed": false,
    "ExecuteTime": {
     "end_time": "2023-11-30T14:38:48.117594364Z",
     "start_time": "2023-11-30T14:38:48.086590463Z"
    }
   }
  },
  {
   "cell_type": "markdown",
   "source": [
    "Añadir una nueva columna que sea la concatenación del nombre completo del profesor\n"
   ],
   "metadata": {
    "collapsed": false
   }
  },
  {
   "cell_type": "code",
   "execution_count": 14,
   "outputs": [
    {
     "data": {
      "text/plain": "                       año  semestre nombre profesor apellido profesor  \\\nSistemas inteligentes    2         1       Profesor1         Apellido1   \nBase Datos               4         2       Profesor2         Apellido2   \nRedes                    3         2       Profesor3         Apellido3   \nIoT Industrial           3         2       Profesor4         Apellido4   \n\n                       creditos      Nombre Completo  \nSistemas inteligentes        40  Profesor1 Apellido1  \nBase Datos                   30  Profesor2 Apellido2  \nRedes                        20  Profesor3 Apellido3  \nIoT Industrial               60  Profesor4 Apellido4  ",
      "text/html": "<div>\n<style scoped>\n    .dataframe tbody tr th:only-of-type {\n        vertical-align: middle;\n    }\n\n    .dataframe tbody tr th {\n        vertical-align: top;\n    }\n\n    .dataframe thead th {\n        text-align: right;\n    }\n</style>\n<table border=\"1\" class=\"dataframe\">\n  <thead>\n    <tr style=\"text-align: right;\">\n      <th></th>\n      <th>año</th>\n      <th>semestre</th>\n      <th>nombre profesor</th>\n      <th>apellido profesor</th>\n      <th>creditos</th>\n      <th>Nombre Completo</th>\n    </tr>\n  </thead>\n  <tbody>\n    <tr>\n      <th>Sistemas inteligentes</th>\n      <td>2</td>\n      <td>1</td>\n      <td>Profesor1</td>\n      <td>Apellido1</td>\n      <td>40</td>\n      <td>Profesor1 Apellido1</td>\n    </tr>\n    <tr>\n      <th>Base Datos</th>\n      <td>4</td>\n      <td>2</td>\n      <td>Profesor2</td>\n      <td>Apellido2</td>\n      <td>30</td>\n      <td>Profesor2 Apellido2</td>\n    </tr>\n    <tr>\n      <th>Redes</th>\n      <td>3</td>\n      <td>2</td>\n      <td>Profesor3</td>\n      <td>Apellido3</td>\n      <td>20</td>\n      <td>Profesor3 Apellido3</td>\n    </tr>\n    <tr>\n      <th>IoT Industrial</th>\n      <td>3</td>\n      <td>2</td>\n      <td>Profesor4</td>\n      <td>Apellido4</td>\n      <td>60</td>\n      <td>Profesor4 Apellido4</td>\n    </tr>\n  </tbody>\n</table>\n</div>"
     },
     "execution_count": 14,
     "metadata": {},
     "output_type": "execute_result"
    }
   ],
   "source": [
    "ejer[\"Nombre Completo\"]=ejer[\"nombre profesor\"] + \" \" + ejer [\"apellido profesor\"]\n",
    "ejer"
   ],
   "metadata": {
    "collapsed": false,
    "ExecuteTime": {
     "end_time": "2023-11-30T14:40:29.509186965Z",
     "start_time": "2023-11-30T14:40:29.397373592Z"
    }
   }
  },
  {
   "cell_type": "markdown",
   "source": [
    "Recuperar las asignaturas con + de 40 créditos\n"
   ],
   "metadata": {
    "collapsed": false
   }
  },
  {
   "cell_type": "code",
   "execution_count": 16,
   "outputs": [
    {
     "data": {
      "text/plain": "                año  semestre nombre profesor apellido profesor  creditos  \\\nIoT Industrial    3         2       Profesor4         Apellido4        60   \n\n                    Nombre Completo  \nIoT Industrial  Profesor4 Apellido4  ",
      "text/html": "<div>\n<style scoped>\n    .dataframe tbody tr th:only-of-type {\n        vertical-align: middle;\n    }\n\n    .dataframe tbody tr th {\n        vertical-align: top;\n    }\n\n    .dataframe thead th {\n        text-align: right;\n    }\n</style>\n<table border=\"1\" class=\"dataframe\">\n  <thead>\n    <tr style=\"text-align: right;\">\n      <th></th>\n      <th>año</th>\n      <th>semestre</th>\n      <th>nombre profesor</th>\n      <th>apellido profesor</th>\n      <th>creditos</th>\n      <th>Nombre Completo</th>\n    </tr>\n  </thead>\n  <tbody>\n    <tr>\n      <th>IoT Industrial</th>\n      <td>3</td>\n      <td>2</td>\n      <td>Profesor4</td>\n      <td>Apellido4</td>\n      <td>60</td>\n      <td>Profesor4 Apellido4</td>\n    </tr>\n  </tbody>\n</table>\n</div>"
     },
     "execution_count": 16,
     "metadata": {},
     "output_type": "execute_result"
    }
   ],
   "source": [
    "ejer[ejer[\"creditos\"] > 40]"
   ],
   "metadata": {
    "collapsed": false,
    "ExecuteTime": {
     "end_time": "2023-11-30T14:42:00.879925377Z",
     "start_time": "2023-11-30T14:42:00.848722972Z"
    }
   }
  },
  {
   "cell_type": "markdown",
   "source": [
    "Añadir nueva asignatura (Programación)\n"
   ],
   "metadata": {
    "collapsed": false
   }
  },
  {
   "cell_type": "code",
   "execution_count": 29,
   "outputs": [],
   "source": [
    "ejer.loc[\"Programacion\"]=[4,1,\"Profesor5\",\"Apellido5\",80,\"tes\"]"
   ],
   "metadata": {
    "collapsed": false,
    "ExecuteTime": {
     "end_time": "2023-11-30T14:46:26.351294205Z",
     "start_time": "2023-11-30T14:46:26.320895953Z"
    }
   }
  },
  {
   "cell_type": "code",
   "execution_count": 30,
   "outputs": [
    {
     "data": {
      "text/plain": "                       año  semestre nombre profesor apellido profesor  \\\nSistemas inteligentes    2         1       Profesor1         Apellido1   \nBase Datos               4         2       Profesor2         Apellido2   \nRedes                    3         2       Profesor3         Apellido3   \nIoT Industrial           3         2       Profesor4         Apellido4   \n5                        4         1       Profesor5         Apellido5   \n6                        4         1       Profesor5         Apellido5   \nProgramacion             4         1       Profesor5         Apellido5   \n\n                       creditos      Nombre Completo  \nSistemas inteligentes        40  Profesor1 Apellido1  \nBase Datos                   30  Profesor2 Apellido2  \nRedes                        20  Profesor3 Apellido3  \nIoT Industrial               60  Profesor4 Apellido4  \n5                            80                  tes  \n6                            80                  tes  \nProgramacion                 80                  tes  ",
      "text/html": "<div>\n<style scoped>\n    .dataframe tbody tr th:only-of-type {\n        vertical-align: middle;\n    }\n\n    .dataframe tbody tr th {\n        vertical-align: top;\n    }\n\n    .dataframe thead th {\n        text-align: right;\n    }\n</style>\n<table border=\"1\" class=\"dataframe\">\n  <thead>\n    <tr style=\"text-align: right;\">\n      <th></th>\n      <th>año</th>\n      <th>semestre</th>\n      <th>nombre profesor</th>\n      <th>apellido profesor</th>\n      <th>creditos</th>\n      <th>Nombre Completo</th>\n    </tr>\n  </thead>\n  <tbody>\n    <tr>\n      <th>Sistemas inteligentes</th>\n      <td>2</td>\n      <td>1</td>\n      <td>Profesor1</td>\n      <td>Apellido1</td>\n      <td>40</td>\n      <td>Profesor1 Apellido1</td>\n    </tr>\n    <tr>\n      <th>Base Datos</th>\n      <td>4</td>\n      <td>2</td>\n      <td>Profesor2</td>\n      <td>Apellido2</td>\n      <td>30</td>\n      <td>Profesor2 Apellido2</td>\n    </tr>\n    <tr>\n      <th>Redes</th>\n      <td>3</td>\n      <td>2</td>\n      <td>Profesor3</td>\n      <td>Apellido3</td>\n      <td>20</td>\n      <td>Profesor3 Apellido3</td>\n    </tr>\n    <tr>\n      <th>IoT Industrial</th>\n      <td>3</td>\n      <td>2</td>\n      <td>Profesor4</td>\n      <td>Apellido4</td>\n      <td>60</td>\n      <td>Profesor4 Apellido4</td>\n    </tr>\n    <tr>\n      <th>5</th>\n      <td>4</td>\n      <td>1</td>\n      <td>Profesor5</td>\n      <td>Apellido5</td>\n      <td>80</td>\n      <td>tes</td>\n    </tr>\n    <tr>\n      <th>6</th>\n      <td>4</td>\n      <td>1</td>\n      <td>Profesor5</td>\n      <td>Apellido5</td>\n      <td>80</td>\n      <td>tes</td>\n    </tr>\n    <tr>\n      <th>Programacion</th>\n      <td>4</td>\n      <td>1</td>\n      <td>Profesor5</td>\n      <td>Apellido5</td>\n      <td>80</td>\n      <td>tes</td>\n    </tr>\n  </tbody>\n</table>\n</div>"
     },
     "execution_count": 30,
     "metadata": {},
     "output_type": "execute_result"
    }
   ],
   "source": [
    "ejer"
   ],
   "metadata": {
    "collapsed": false,
    "ExecuteTime": {
     "end_time": "2023-11-30T14:46:27.210163661Z",
     "start_time": "2023-11-30T14:46:27.188306294Z"
    }
   }
  },
  {
   "cell_type": "markdown",
   "source": [
    "Ordenar por año y semestre\n"
   ],
   "metadata": {
    "collapsed": false
   }
  },
  {
   "cell_type": "code",
   "execution_count": 35,
   "outputs": [],
   "source": [
    "ejer.sort_values(by = [\"año\",\"semestre\"],inplace = True, ascending=False)\n"
   ],
   "metadata": {
    "collapsed": false,
    "ExecuteTime": {
     "end_time": "2023-11-30T14:48:17.159512682Z",
     "start_time": "2023-11-30T14:48:17.135579235Z"
    }
   }
  },
  {
   "cell_type": "code",
   "execution_count": 36,
   "outputs": [
    {
     "data": {
      "text/plain": "                       año  semestre nombre profesor apellido profesor  \\\nBase Datos               4         2       Profesor2         Apellido2   \n5                        4         1       Profesor5         Apellido5   \n6                        4         1       Profesor5         Apellido5   \nProgramacion             4         1       Profesor5         Apellido5   \nRedes                    3         2       Profesor3         Apellido3   \nIoT Industrial           3         2       Profesor4         Apellido4   \nSistemas inteligentes    2         1       Profesor1         Apellido1   \n\n                       creditos      Nombre Completo  \nBase Datos                   30  Profesor2 Apellido2  \n5                            80                  tes  \n6                            80                  tes  \nProgramacion                 80                  tes  \nRedes                        20  Profesor3 Apellido3  \nIoT Industrial               60  Profesor4 Apellido4  \nSistemas inteligentes        40  Profesor1 Apellido1  ",
      "text/html": "<div>\n<style scoped>\n    .dataframe tbody tr th:only-of-type {\n        vertical-align: middle;\n    }\n\n    .dataframe tbody tr th {\n        vertical-align: top;\n    }\n\n    .dataframe thead th {\n        text-align: right;\n    }\n</style>\n<table border=\"1\" class=\"dataframe\">\n  <thead>\n    <tr style=\"text-align: right;\">\n      <th></th>\n      <th>año</th>\n      <th>semestre</th>\n      <th>nombre profesor</th>\n      <th>apellido profesor</th>\n      <th>creditos</th>\n      <th>Nombre Completo</th>\n    </tr>\n  </thead>\n  <tbody>\n    <tr>\n      <th>Base Datos</th>\n      <td>4</td>\n      <td>2</td>\n      <td>Profesor2</td>\n      <td>Apellido2</td>\n      <td>30</td>\n      <td>Profesor2 Apellido2</td>\n    </tr>\n    <tr>\n      <th>5</th>\n      <td>4</td>\n      <td>1</td>\n      <td>Profesor5</td>\n      <td>Apellido5</td>\n      <td>80</td>\n      <td>tes</td>\n    </tr>\n    <tr>\n      <th>6</th>\n      <td>4</td>\n      <td>1</td>\n      <td>Profesor5</td>\n      <td>Apellido5</td>\n      <td>80</td>\n      <td>tes</td>\n    </tr>\n    <tr>\n      <th>Programacion</th>\n      <td>4</td>\n      <td>1</td>\n      <td>Profesor5</td>\n      <td>Apellido5</td>\n      <td>80</td>\n      <td>tes</td>\n    </tr>\n    <tr>\n      <th>Redes</th>\n      <td>3</td>\n      <td>2</td>\n      <td>Profesor3</td>\n      <td>Apellido3</td>\n      <td>20</td>\n      <td>Profesor3 Apellido3</td>\n    </tr>\n    <tr>\n      <th>IoT Industrial</th>\n      <td>3</td>\n      <td>2</td>\n      <td>Profesor4</td>\n      <td>Apellido4</td>\n      <td>60</td>\n      <td>Profesor4 Apellido4</td>\n    </tr>\n    <tr>\n      <th>Sistemas inteligentes</th>\n      <td>2</td>\n      <td>1</td>\n      <td>Profesor1</td>\n      <td>Apellido1</td>\n      <td>40</td>\n      <td>Profesor1 Apellido1</td>\n    </tr>\n  </tbody>\n</table>\n</div>"
     },
     "execution_count": 36,
     "metadata": {},
     "output_type": "execute_result"
    }
   ],
   "source": [
    "ejer"
   ],
   "metadata": {
    "collapsed": false,
    "ExecuteTime": {
     "end_time": "2023-11-30T14:48:20.727670128Z",
     "start_time": "2023-11-30T14:48:20.682646402Z"
    }
   }
  },
  {
   "cell_type": "markdown",
   "source": [
    "Cual es la media de créditos por asignatura\n"
   ],
   "metadata": {
    "collapsed": false
   }
  },
  {
   "cell_type": "code",
   "execution_count": 38,
   "outputs": [
    {
     "data": {
      "text/plain": "55.714285714285715"
     },
     "execution_count": 38,
     "metadata": {},
     "output_type": "execute_result"
    }
   ],
   "source": [
    "ejer[\"creditos\"].mean()"
   ],
   "metadata": {
    "collapsed": false,
    "ExecuteTime": {
     "end_time": "2023-11-30T14:49:06.564693560Z",
     "start_time": "2023-11-30T14:49:06.537051990Z"
    }
   }
  },
  {
   "cell_type": "code",
   "execution_count": null,
   "outputs": [],
   "source": [],
   "metadata": {
    "collapsed": false
   }
  }
 ],
 "metadata": {
  "kernelspec": {
   "display_name": "Python 3",
   "language": "python",
   "name": "python3"
  },
  "language_info": {
   "codemirror_mode": {
    "name": "ipython",
    "version": 3
   },
   "file_extension": ".py",
   "mimetype": "text/x-python",
   "name": "python",
   "nbconvert_exporter": "python",
   "pygments_lexer": "ipython3",
   "version": "3.7.7"
  }
 },
 "nbformat": 4,
 "nbformat_minor": 4
}
