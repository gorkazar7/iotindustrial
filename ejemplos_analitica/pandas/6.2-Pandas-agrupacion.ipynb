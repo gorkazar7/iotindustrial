{
 "cells": [
  {
   "cell_type": "markdown",
   "metadata": {},
   "source": [
    "# Agrupar datos\n"
   ]
  },
  {
   "cell_type": "code",
   "execution_count": 1,
   "metadata": {
    "ExecuteTime": {
     "end_time": "2023-11-22T10:54:33.764087145Z",
     "start_time": "2023-11-22T10:54:33.286407882Z"
    }
   },
   "outputs": [],
   "source": [
    "import numpy as np\n",
    "import pandas as pd"
   ]
  },
  {
   "cell_type": "code",
   "execution_count": 2,
   "metadata": {
    "ExecuteTime": {
     "end_time": "2023-11-22T10:54:36.557171762Z",
     "start_time": "2023-11-22T10:54:36.400640267Z"
    }
   },
   "outputs": [
    {
     "name": "stderr",
     "output_type": "stream",
     "text": [
      "/tmp/ipykernel_70169/516284763.py:1: UserWarning: Could not infer format, so each element will be parsed individually, falling back to `dateutil`. To ensure parsing is consistent and as-expected, please specify a format.\n",
      "  data = pd.read_csv(r'data_celular.csv',\n"
     ]
    },
    {
     "data": {
      "text/plain": "                     fecha  duracion  item      mes       red tipo_red\nindice                                                                \n0      2014-10-15 06:58:00    34.429  data  2014-11      data     data\n1      2014-10-15 06:58:00    13.000  call  2014-11  Vodafone   mobile\n2      2014-10-15 14:46:00    23.000  call  2014-11    Meteor   mobile\n3      2014-10-15 14:48:00     4.000  call  2014-11     Tesco   mobile\n4      2014-10-15 17:27:00     4.000  call  2014-11     Tesco   mobile",
      "text/html": "<div>\n<style scoped>\n    .dataframe tbody tr th:only-of-type {\n        vertical-align: middle;\n    }\n\n    .dataframe tbody tr th {\n        vertical-align: top;\n    }\n\n    .dataframe thead th {\n        text-align: right;\n    }\n</style>\n<table border=\"1\" class=\"dataframe\">\n  <thead>\n    <tr style=\"text-align: right;\">\n      <th></th>\n      <th>fecha</th>\n      <th>duracion</th>\n      <th>item</th>\n      <th>mes</th>\n      <th>red</th>\n      <th>tipo_red</th>\n    </tr>\n    <tr>\n      <th>indice</th>\n      <th></th>\n      <th></th>\n      <th></th>\n      <th></th>\n      <th></th>\n      <th></th>\n    </tr>\n  </thead>\n  <tbody>\n    <tr>\n      <th>0</th>\n      <td>2014-10-15 06:58:00</td>\n      <td>34.429</td>\n      <td>data</td>\n      <td>2014-11</td>\n      <td>data</td>\n      <td>data</td>\n    </tr>\n    <tr>\n      <th>1</th>\n      <td>2014-10-15 06:58:00</td>\n      <td>13.000</td>\n      <td>call</td>\n      <td>2014-11</td>\n      <td>Vodafone</td>\n      <td>mobile</td>\n    </tr>\n    <tr>\n      <th>2</th>\n      <td>2014-10-15 14:46:00</td>\n      <td>23.000</td>\n      <td>call</td>\n      <td>2014-11</td>\n      <td>Meteor</td>\n      <td>mobile</td>\n    </tr>\n    <tr>\n      <th>3</th>\n      <td>2014-10-15 14:48:00</td>\n      <td>4.000</td>\n      <td>call</td>\n      <td>2014-11</td>\n      <td>Tesco</td>\n      <td>mobile</td>\n    </tr>\n    <tr>\n      <th>4</th>\n      <td>2014-10-15 17:27:00</td>\n      <td>4.000</td>\n      <td>call</td>\n      <td>2014-11</td>\n      <td>Tesco</td>\n      <td>mobile</td>\n    </tr>\n  </tbody>\n</table>\n</div>"
     },
     "execution_count": 2,
     "metadata": {},
     "output_type": "execute_result"
    }
   ],
   "source": [
    "data = pd.read_csv(r'data_celular.csv',\n",
    "                   header=0,\n",
    "                   index_col=0,\n",
    "                   names=['indice', 'fecha','duracion','item','mes','red','tipo_red'],\n",
    "                   parse_dates=['fecha'])\n",
    "data.head()"
   ]
  },
  {
   "cell_type": "markdown",
   "metadata": {},
   "source": [
    "### Podemos obtener información básica seleccionando columnas y aplicando alguna de las operaciones que ya conocemos."
   ]
  },
  {
   "cell_type": "code",
   "execution_count": 3,
   "metadata": {
    "ExecuteTime": {
     "end_time": "2023-11-22T10:54:52.196807291Z",
     "start_time": "2023-11-22T10:54:52.182859525Z"
    }
   },
   "outputs": [
    {
     "name": "stdout",
     "output_type": "stream",
     "text": [
      "Cuántas filas tiene el DataFrame: \n",
      "830\n"
     ]
    }
   ],
   "source": [
    "print('Cuántas filas tiene el DataFrame: ')\n",
    "print(data['item'].count())"
   ]
  },
  {
   "cell_type": "code",
   "execution_count": 4,
   "metadata": {
    "ExecuteTime": {
     "end_time": "2023-11-22T10:54:57.608481094Z",
     "start_time": "2023-11-22T10:54:57.560197289Z"
    }
   },
   "outputs": [
    {
     "name": "stdout",
     "output_type": "stream",
     "text": [
      "El tiempo total (en segundos) registrado en llamadas es:\n",
      "92321.0\n"
     ]
    }
   ],
   "source": [
    "print('El tiempo total (en segundos) registrado en llamadas es:')\n",
    "\n",
    "print(data['duracion'][data['item'] == 'call'].sum())"
   ]
  },
  {
   "cell_type": "code",
   "execution_count": 5,
   "metadata": {
    "ExecuteTime": {
     "end_time": "2023-11-22T10:55:01.562272759Z",
     "start_time": "2023-11-22T10:55:01.540521232Z"
    }
   },
   "outputs": [
    {
     "name": "stdout",
     "output_type": "stream",
     "text": [
      "Con cuántas redes telefónicas se contactó en el período de 2014/11 al 2015/03: \n",
      "9\n"
     ]
    }
   ],
   "source": [
    "print('Con cuántas redes telefónicas se contactó en el período de 2014/11 al 2015/03: ')\n",
    "print(data['red'].nunique())"
   ]
  },
  {
   "cell_type": "markdown",
   "metadata": {},
   "source": [
    "## <font color=#003d5c> _.groupby()_ </font>\n",
    "### Este método nos permite agrupar nuestros datos para obtener información segregada."
   ]
  },
  {
   "cell_type": "code",
   "execution_count": null,
   "metadata": {},
   "outputs": [],
   "source": [
    "data.groupby('mes')"
   ]
  },
  {
   "cell_type": "code",
   "execution_count": null,
   "metadata": {},
   "outputs": [],
   "source": [
    "data.groupby('mes').groups.values()"
   ]
  },
  {
   "cell_type": "code",
   "execution_count": null,
   "metadata": {},
   "outputs": [],
   "source": [
    "data.groupby('mes').sum()"
   ]
  },
  {
   "cell_type": "code",
   "execution_count": null,
   "metadata": {},
   "outputs": [],
   "source": [
    "print('En el siguiente cuadro vemos la cantidad de entradas por mes \\n segregadas en llamadas, sms y datos: \\n \\n')\n",
    "\n",
    "print(data.groupby(['mes','item'])[\"duracion\"].count())"
   ]
  },
  {
   "cell_type": "code",
   "execution_count": null,
   "metadata": {},
   "outputs": [],
   "source": [
    "print('La duración total de las llamadas realizadas a cada una de las operadoras es: ')\n",
    "\n",
    "data[data['item'] == 'call'].groupby('red')['duracion'].sum()"
   ]
  },
  {
   "cell_type": "code",
   "execution_count": null,
   "metadata": {},
   "outputs": [],
   "source": [
    "print('¿Cuántas llamadas, sms y datos son enviados a cada operadora por mes? : ')\n",
    "\n",
    "data.groupby(['mes', 'tipo_red'])['fecha'].count()"
   ]
  }
 ],
 "metadata": {
  "kernelspec": {
   "display_name": "Python 3",
   "language": "python",
   "name": "python3"
  },
  "language_info": {
   "codemirror_mode": {
    "name": "ipython",
    "version": 3
   },
   "file_extension": ".py",
   "mimetype": "text/x-python",
   "name": "python",
   "nbconvert_exporter": "python",
   "pygments_lexer": "ipython3",
   "version": "3.7.6"
  }
 },
 "nbformat": 4,
 "nbformat_minor": 4
}
