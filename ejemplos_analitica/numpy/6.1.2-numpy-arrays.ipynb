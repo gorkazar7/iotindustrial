{
 "cells": [
  {
   "cell_type": "markdown",
   "metadata": {},
   "source": [
    "# Gestión de arrays"
   ]
  },
  {
   "cell_type": "markdown",
   "metadata": {},
   "source": [
    "## arrays especiales\n",
    "\n",
    "Numpy cuenta con un cierto compendio para matrices. Es importante comentar que, aunque los ejemplos siguientes son para matrices, se adaptan fácilmente indicando el shape para aplicarse a cualquier tipo de array. Además, toma en cuenta el parámetro *dtype* que nos indica que el tipo de dato a considerar, el cual, usualmente, es de tipo flotante:\n",
    "\n",
    "``np.función(shape,dtype)``\n",
    "\n",
    "donde \n",
    "\n",
    "``shape`` es una tupla donde se indica la forma del array\n",
    "\n",
    "``dtype`` es el tipo de dato con que queremos llenarla."
   ]
  },
  {
   "cell_type": "code",
   "metadata": {
    "ExecuteTime": {
     "end_time": "2024-05-06T13:53:30.280168Z",
     "start_time": "2024-05-06T13:53:30.270401Z"
    }
   },
   "source": [
    "# Matriz donde todos los elementos son iguales a 1: np.ones((u,v))\n",
    "import numpy as np\n",
    "ar1 = np.ones((2,1))\n",
    "print(ar1)\n",
    "print(ar1.dtype)"
   ],
   "outputs": [
    {
     "name": "stdout",
     "output_type": "stream",
     "text": [
      "[[1.]\n",
      " [1.]]\n",
      "float64\n"
     ]
    }
   ],
   "execution_count": 4
  },
  {
   "cell_type": "code",
   "metadata": {
    "ExecuteTime": {
     "end_time": "2024-05-06T13:53:49.469861Z",
     "start_time": "2024-05-06T13:53:49.463777Z"
    }
   },
   "source": [
    "ar2 = np.ones((4,3),dtype = int)\n",
    "print(ar2)\n",
    "print(ar2.shape)\n",
    "print(ar2.dtype)"
   ],
   "outputs": [
    {
     "name": "stdout",
     "output_type": "stream",
     "text": [
      "[[1 1 1]\n",
      " [1 1 1]\n",
      " [1 1 1]\n",
      " [1 1 1]]\n",
      "(4, 3)\n",
      "int64\n"
     ]
    }
   ],
   "execution_count": 6
  },
  {
   "cell_type": "code",
   "execution_count": 4,
   "metadata": {
    "ExecuteTime": {
     "end_time": "2023-11-29T14:32:32.742629042Z",
     "start_time": "2023-11-29T14:32:32.719617783Z"
    }
   },
   "outputs": [
    {
     "name": "stdout",
     "output_type": "stream",
     "text": [
      "[[0.]\n",
      " [0.]]\n"
     ]
    }
   ],
   "source": [
    "# Matriz donde todos los elementos son iguales a 0: np.zeros((u,v))\n",
    "ar3 = np.zeros((2,1))\n",
    "print(ar3)"
   ]
  },
  {
   "cell_type": "code",
   "source": [
    "#Generar la matriz identidad\n",
    "ar4 = np.identity((4), dtype=int)\n",
    "print(ar4)"
   ],
   "metadata": {
    "collapsed": false,
    "ExecuteTime": {
     "end_time": "2024-05-06T13:54:42.849167Z",
     "start_time": "2024-05-06T13:54:42.844446Z"
    }
   },
   "outputs": [
    {
     "name": "stdout",
     "output_type": "stream",
     "text": [
      "[[1 0 0 0]\n",
      " [0 1 0 0]\n",
      " [0 0 1 0]\n",
      " [0 0 0 1]]\n"
     ]
    }
   ],
   "execution_count": 9
  },
  {
   "cell_type": "code",
   "execution_count": 6,
   "outputs": [
    {
     "name": "stdout",
     "output_type": "stream",
     "text": [
      "[[1. 0. 0. 0.]\n",
      " [0. 1. 0. 0.]\n",
      " [0. 0. 1. 0.]\n",
      " [0. 0. 0. 1.]]\n"
     ]
    }
   ],
   "source": [
    "# La función np.eye() permite especificar la cantidad de filas (N) y columnas (M) de la matriz, así como un índice de desplazamiento (k). Por defecto, k=0, lo que significa que la diagonal principal estará en la posición cero. Además, np.eye() acepta tanto M como N como argumentos posicionales.\n",
    "ar5 = np.eye((4), dtype=float)\n",
    "print(ar5)"
   ],
   "metadata": {
    "collapsed": false,
    "ExecuteTime": {
     "end_time": "2023-11-29T14:32:59.902126127Z",
     "start_time": "2023-11-29T14:32:59.867134225Z"
    }
   }
  },
  {
   "metadata": {
    "ExecuteTime": {
     "end_time": "2024-05-06T13:57:13.156686Z",
     "start_time": "2024-05-06T13:57:13.151844Z"
    }
   },
   "cell_type": "code",
   "source": [
    "ar6 = np.eye(4, k=2, dtype=int)\n",
    "print(ar6)"
   ],
   "outputs": [
    {
     "name": "stdout",
     "output_type": "stream",
     "text": [
      "[[0 0 1 0]\n",
      " [0 0 0 1]\n",
      " [0 0 0 0]\n",
      " [0 0 0 0]]\n"
     ]
    }
   ],
   "execution_count": 12
  },
  {
   "cell_type": "code",
   "metadata": {
    "ExecuteTime": {
     "end_time": "2024-05-06T13:58:53.279360Z",
     "start_time": "2024-05-06T13:58:53.273839Z"
    }
   },
   "source": [
    "# Matriz donde todos sus elementos son vacíos: np.empty((u,v))\n",
    "np.empty((2,1),dtype = str)"
   ],
   "outputs": [
    {
     "data": {
      "text/plain": [
       "array([[''],\n",
       "       ['']], dtype='<U1')"
      ]
     },
     "execution_count": 16,
     "metadata": {},
     "output_type": "execute_result"
    }
   ],
   "execution_count": 16
  },
  {
   "metadata": {
    "ExecuteTime": {
     "end_time": "2024-05-06T13:59:45.684315Z",
     "start_time": "2024-05-06T13:59:45.677616Z"
    }
   },
   "cell_type": "code",
   "source": [
    "#Esto creará un arreglo de 2 filas y 1 columna, pero sus valores serán impredecibles, ya que np.empty() simplemente asigna espacio de memoria sin inicializarlo. \n",
    "np.empty((2,1))"
   ],
   "outputs": [
    {
     "data": {
      "text/plain": [
       "array([[6.95029824e-310],\n",
       "       [6.95029824e-310]])"
      ]
     },
     "execution_count": 24,
     "metadata": {},
     "output_type": "execute_result"
    }
   ],
   "execution_count": 24
  },
  {
   "cell_type": "code",
   "metadata": {
    "ExecuteTime": {
     "end_time": "2024-05-06T13:59:47.959171Z",
     "start_time": "2024-05-06T13:59:47.953102Z"
    }
   },
   "source": [
    "np.empty((4,3),dtype = bool)"
   ],
   "outputs": [
    {
     "data": {
      "text/plain": [
       "array([[ True,  True,  True],\n",
       "       [ True, False, False],\n",
       "       [False, False, False],\n",
       "       [False, False, False]])"
      ]
     },
     "execution_count": 25,
     "metadata": {},
     "output_type": "execute_result"
    }
   ],
   "execution_count": 25
  },
  {
   "cell_type": "markdown",
   "metadata": {},
   "source": ""
  },
  {
   "cell_type": "markdown",
   "metadata": {},
   "source": [
    "### La función np.linspace().\n",
    "\n",
    "Esta función creará un array de una dimensión que contiene una secuencia lineal de números dentro de un rango dado entre un valor incial y un valor final. El número de segmentos incluyendo el valor incial y el valor final es definido meduante el parámentro num. El valor por defecto del parámetro num es de 50.\n",
    "\n",
    "``np.linspace(inicio, fin, num=segmentos, dtype=tipo de dato)``\n",
    "\n",
    "Donde:\n",
    "\n",
    "* ``inicio`` corresponde al número a partir del cual comenzará la secuencia.\n",
    "* ``fin`` corresponde al número en el que terminará la secuencia\n",
    "* ``segmentos`` correpsonde al número de segmentos, incluyendo el valor inicial y el final que se generarán, que contendrá el array.\n",
    "* ``tipo de dato`` es el tipo de dato que tendrá el array.\n",
    "\n",
    "El valor por defecto del parámetro dtype es np.float."
   ]
  },
  {
   "cell_type": "code",
   "metadata": {
    "ExecuteTime": {
     "end_time": "2024-05-06T14:03:28.308695Z",
     "start_time": "2024-05-06T14:03:28.302705Z"
    }
   },
   "source": "np.linspace(0,1,num=11)",
   "outputs": [
    {
     "data": {
      "text/plain": [
       "array([0. , 0.1, 0.2, 0.3, 0.4, 0.5, 0.6, 0.7, 0.8, 0.9, 1. ])"
      ]
     },
     "execution_count": 28,
     "metadata": {},
     "output_type": "execute_result"
    }
   ],
   "execution_count": 28
  },
  {
   "metadata": {
    "ExecuteTime": {
     "end_time": "2024-05-06T14:04:25.638158Z",
     "start_time": "2024-05-06T14:04:25.630628Z"
    }
   },
   "cell_type": "code",
   "source": [
    "# Usando arange para crear un array similar a linspace\n",
    "np.arange(0, 1.1, 0.1)"
   ],
   "outputs": [
    {
     "data": {
      "text/plain": [
       "array([0. , 0.1, 0.2, 0.3, 0.4, 0.5, 0.6, 0.7, 0.8, 0.9, 1. ])"
      ]
     },
     "execution_count": 31,
     "metadata": {},
     "output_type": "execute_result"
    }
   ],
   "execution_count": 31
  },
  {
   "cell_type": "markdown",
   "metadata": {},
   "source": [
    "## Modificación de la forma y tamaño de un array.\n",
    "\n",
    "Estudiaremos cuatro formas básicas para manipular los tamaños de un array:\n",
    "\n",
    "* np.ravel()\n",
    "* np.reshape()\n",
    "* np.resize()\n",
    "* np.concatenate()"
   ]
  },
  {
   "cell_type": "markdown",
   "metadata": {},
   "source": [
    "### La función np.ravel()\n",
    "\n",
    "La función *np.ravel()* regresará un array de una dimensión que contiene la referencia de cada uno de los elementos del array que se ingresa como argumento.\n",
    "\n",
    "``np.ravel(<array>)``\n",
    "\n",
    "Donde ``<array>`` es un array de Numpy."
   ]
  },
  {
   "cell_type": "code",
   "execution_count": 13,
   "metadata": {
    "ExecuteTime": {
     "end_time": "2023-11-29T14:35:18.059366463Z",
     "start_time": "2023-11-29T14:35:18.002564905Z"
    }
   },
   "outputs": [
    {
     "data": {
      "text/plain": "array([ 1,  2,  3,  4,  0, -5, -6, -7, -8])"
     },
     "execution_count": 13,
     "metadata": {},
     "output_type": "execute_result"
    }
   ],
   "source": [
    "array_1 = np.array([[1, 2, 3],\n",
    "                      [4, 0, -5],\n",
    "                      [-6, -7, -8]])\n",
    "\n",
    "np.ravel(array_1)"
   ]
  },
  {
   "cell_type": "code",
   "execution_count": null,
   "metadata": {},
   "outputs": [],
   "source": [
    "array_1"
   ]
  },
  {
   "cell_type": "markdown",
   "metadata": {},
   "source": [
    "### La función np.reshape().\n",
    "\n",
    "La función *np.reshape()* regresará un array compuesto por el mismo número de elementos que el array ingresado como primer argumento, pero con la forma descrita por el objeto de tipo tuple que se ingrese como segundo argumento. Las nuevas dimensiones deben de coincidir con el numero total de elementos del array de origen.\n",
    "\n",
    "``np.reshape(<array>, <forma>)``\n",
    "\n",
    "Donde:\n",
    "\n",
    "* ``<array>`` es un array de Numpy.\n",
    "* ``<forma>`` es un un objeto de tipo tuple que describe la forma del array resultante."
   ]
  },
  {
   "cell_type": "code",
   "execution_count": 18,
   "metadata": {
    "ExecuteTime": {
     "end_time": "2023-11-29T14:37:21.082047783Z",
     "start_time": "2023-11-29T14:37:21.022786490Z"
    }
   },
   "outputs": [
    {
     "data": {
      "text/plain": "(3, 4)"
     },
     "execution_count": 18,
     "metadata": {},
     "output_type": "execute_result"
    }
   ],
   "source": [
    "array_2 = np.array([[1, 2, 3, 4],\n",
    "                  [5, 6, 7, 8],\n",
    "                  [9, 10, 11, 12]])\n",
    "\n",
    "array_2.shape"
   ]
  },
  {
   "cell_type": "code",
   "execution_count": 19,
   "metadata": {
    "ExecuteTime": {
     "end_time": "2023-11-29T14:37:21.960414659Z",
     "start_time": "2023-11-29T14:37:21.844930170Z"
    }
   },
   "outputs": [
    {
     "data": {
      "text/plain": "array([[ 1,  2],\n       [ 3,  4],\n       [ 5,  6],\n       [ 7,  8],\n       [ 9, 10],\n       [11, 12]])"
     },
     "execution_count": 19,
     "metadata": {},
     "output_type": "execute_result"
    }
   ],
   "source": [
    "np.reshape(array_2,(6, 2))"
   ]
  },
  {
   "cell_type": "code",
   "execution_count": 19,
   "outputs": [],
   "source": [],
   "metadata": {
    "collapsed": false,
    "ExecuteTime": {
     "end_time": "2023-11-29T14:37:23.581476348Z",
     "start_time": "2023-11-29T14:37:23.519705656Z"
    }
   }
  },
  {
   "cell_type": "markdown",
   "metadata": {},
   "source": [
    "### La función np.resize()\n",
    "\n",
    "La función *np.resize()* regresará un nuevo array a partir del array que se ingrese como primer argumento, con la forma que se ingrese como segundo argumento.\n",
    "\n",
    "En caso de que las nuevas dimensiones sean menores a tamaño original, se recortarán los últimos de ellos.\n",
    "\n",
    "En caso de que las nuevas dimensiones sean mayores al tamaño original, los elementos faltantes serán sustituidos por una secuencia iterativa de los elementos contenidos en el array.\n",
    "\n",
    "``np.resize(<array>, <forma>)``\n",
    "\n",
    "Donde:\n",
    "\n",
    "* ``<array>`` es un array de Numpy.\n",
    "* ``<forma>`` es un objeto de tipo tuple que describe la nueva forma del array resultante."
   ]
  },
  {
   "cell_type": "code",
   "execution_count": 20,
   "metadata": {
    "ExecuteTime": {
     "end_time": "2023-11-29T14:37:41.291215076Z",
     "start_time": "2023-11-29T14:37:41.251592498Z"
    }
   },
   "outputs": [],
   "source": [
    "array_3 = np.array([[1, 2],\n",
    "                     [3, 4]])"
   ]
  },
  {
   "cell_type": "code",
   "execution_count": 22,
   "metadata": {
    "ExecuteTime": {
     "end_time": "2023-11-29T14:38:12.773502858Z",
     "start_time": "2023-11-29T14:38:12.719730183Z"
    }
   },
   "outputs": [
    {
     "data": {
      "text/plain": "array([[1, 2],\n       [3, 4],\n       [1, 2],\n       [3, 4]])"
     },
     "execution_count": 22,
     "metadata": {},
     "output_type": "execute_result"
    }
   ],
   "source": [
    "np.resize(array_3, (4, 2))\n"
   ]
  },
  {
   "cell_type": "markdown",
   "metadata": {},
   "source": [
    "### La función np.concatenate().\n",
    "\n",
    "Une una secuencia de arrays contenidos dentro de un objeto tuple a un eje existente, se puede indicar el eje en el que se realizará la operación ingresando su número correspondiente como tercer argumento.\n",
    "\n",
    "``np.concatenate(<array 1>, <array 2>, <eje>)``\n",
    "\n",
    "Donde \n",
    "\n",
    "* ``eje = 0`` significa pegar array 2 debajo de array 1\n",
    "* ``eje = 1`` significa pegar array 2 a la derecha de array 1\n"
   ]
  },
  {
   "cell_type": "code",
   "execution_count": 23,
   "metadata": {
    "ExecuteTime": {
     "end_time": "2023-11-29T14:40:27.957231165Z",
     "start_time": "2023-11-29T14:40:27.927318774Z"
    }
   },
   "outputs": [],
   "source": [
    "array_1 = np.array([[1, 2],\n",
    "                      [3, 4]])\n",
    "array_2 = np.array([[5, 6],\n",
    "                      [7, 8]])"
   ]
  },
  {
   "cell_type": "code",
   "execution_count": null,
   "metadata": {},
   "outputs": [],
   "source": [
    "np.concatenate((array_1, array_2), 0)"
   ]
  },
  {
   "cell_type": "code",
   "execution_count": null,
   "metadata": {},
   "outputs": [],
   "source": [
    "np.concatenate((array_1, array_2), 1)"
   ]
  },
  {
   "cell_type": "markdown",
   "metadata": {},
   "source": [
    "## Matrices con elementos aleatorios\n",
    "\n",
    "### El paquete np.random.\n",
    "\n",
    "#### La función np.random.rand().\n",
    "\n",
    "La función *np.random.rand()* crea un array cuyos elementos son valores aleatorios que van de 0 a antes de 1 dentro de una distribución uniforme.\n",
    "\n",
    "``np.random.rand(<forma>)``\n",
    "\n",
    "Donde ``forma`` es una secuencia de valores enteros separados por comas que definen la forma del array.\n",
    "\n"
   ]
  },
  {
   "cell_type": "code",
   "execution_count": 24,
   "metadata": {
    "ExecuteTime": {
     "end_time": "2023-11-29T14:40:58.418913699Z",
     "start_time": "2023-11-29T14:40:58.367438078Z"
    }
   },
   "outputs": [
    {
     "data": {
      "text/plain": "array([[0.35861417, 0.0595479 , 0.70963402, 0.69741386, 0.46365856],\n       [0.89064224, 0.92181664, 0.74164319, 0.78790225, 0.82738445],\n       [0.23073417, 0.18389972, 0.00937003, 0.95530814, 0.4592117 ]])"
     },
     "execution_count": 24,
     "metadata": {},
     "output_type": "execute_result"
    }
   ],
   "source": [
    "#La siguiente celda generará un array de forma (2, 2, 2)conteniendo números aleatorios.\n",
    "np.random.rand(3,5)"
   ]
  },
  {
   "cell_type": "markdown",
   "metadata": {},
   "source": [
    "#### La función np.random.randint().\n",
    "\n",
    "La función *np.random.randint()* crea un array cuyos elementos son valores entros aleatorios en un rango dado.\n",
    "\n",
    "``np.random.randint(<inicio>, <fin>, <forma>)``\n",
    "\n",
    "Donde:\n",
    "\n",
    "``<inicio>`` es el valor inicial del rango a partir del cual se generarán los números aleatorios, incluyéndolo a este.\n",
    "\n",
    "``<fin>`` es el valor final del rango a partir del cual se generarán los números aleatorios, sin incluirlo.\n",
    "\n",
    "``<forma>`` es un objeto tuple que definen la forma del array."
   ]
  },
  {
   "cell_type": "code",
   "execution_count": 25,
   "metadata": {
    "ExecuteTime": {
     "end_time": "2023-11-29T14:41:27.089873216Z",
     "start_time": "2023-11-29T14:41:27.022383900Z"
    }
   },
   "outputs": [
    {
     "data": {
      "text/plain": "array([[2, 2, 2],\n       [1, 2, 1],\n       [2, 2, 2]])"
     },
     "execution_count": 25,
     "metadata": {},
     "output_type": "execute_result"
    }
   ],
   "source": [
    "# La siguente celda creará una array de forma (3, 3) con valores enteros que pueden ir de 1 a 2.\n",
    "np.random.randint(1, 3, (3, 3))"
   ]
  },
  {
   "cell_type": "code",
   "execution_count": 26,
   "metadata": {
    "ExecuteTime": {
     "end_time": "2023-11-29T14:41:41.657154617Z",
     "start_time": "2023-11-29T14:41:41.598052522Z"
    }
   },
   "outputs": [
    {
     "data": {
      "text/plain": "array([[ 94,  42, 191],\n       [234,  57, 122],\n       [ 29, 254, 184],\n       [116,  52, 189],\n       [ 79, 196, 228],\n       [115,  57, 119],\n       [ 49,  89, 223],\n       [118,  38, 219],\n       [103,  33,  64],\n       [170, 239,  32]])"
     },
     "execution_count": 26,
     "metadata": {},
     "output_type": "execute_result"
    }
   ],
   "source": [
    "# La siguente celda creará una array de forma (3, 2, 4) con valores enteros que pueden ir de 0 a 255.\n",
    "np.random.randint(0, 256, (10, 3))"
   ]
  },
  {
   "cell_type": "markdown",
   "source": [
    "## Álgebra lineal\n",
    "    \n",
    "El componente más poderoso de Numpy es su capacidad de realizar operaciones con arrays, y un caso particular de ellos son las matrices numéricas.    "
   ],
   "metadata": {
    "collapsed": false
   }
  },
  {
   "cell_type": "code",
   "execution_count": 27,
   "metadata": {
    "ExecuteTime": {
     "end_time": "2023-11-29T14:42:04.240155441Z",
     "start_time": "2023-11-29T14:42:04.148481460Z"
    }
   },
   "outputs": [
    {
     "data": {
      "text/plain": "array([[1., 0., 0.],\n       [0., 1., 0.],\n       [0., 0., 1.]])"
     },
     "execution_count": 27,
     "metadata": {},
     "output_type": "execute_result"
    }
   ],
   "source": [
    "np.eye(3)"
   ]
  },
  {
   "cell_type": "markdown",
   "metadata": {},
   "source": [
    "### Producto puntual (de Hadamard) de dos matrices.\n",
    "\n",
    "Es el producto \"elemento a elemento\" de dos matrices. Ambas deben ser del mismo tamaño.\n"
   ]
  },
  {
   "cell_type": "code",
   "execution_count": 28,
   "metadata": {
    "ExecuteTime": {
     "end_time": "2023-11-29T14:42:27.297120237Z",
     "start_time": "2023-11-29T14:42:27.247288803Z"
    }
   },
   "outputs": [
    {
     "data": {
      "text/plain": "array([[0, 2, 0],\n       [0, 0, 6]])"
     },
     "execution_count": 28,
     "metadata": {},
     "output_type": "execute_result"
    }
   ],
   "source": [
    "# matriz1 * matriz2\n",
    "np.array([[1,2,3],[4,5,6]]) * np.array([[0,1,0],[0,0,1]])"
   ]
  },
  {
   "cell_type": "code",
   "execution_count": 29,
   "metadata": {
    "ExecuteTime": {
     "end_time": "2023-11-29T14:42:40.762550212Z",
     "start_time": "2023-11-29T14:42:40.706499866Z"
    }
   },
   "outputs": [
    {
     "data": {
      "text/plain": "array([[0, 4, 3],\n       [0, 5, 0]])"
     },
     "execution_count": 29,
     "metadata": {},
     "output_type": "execute_result"
    }
   ],
   "source": [
    "A = np.array([[1,4,3],[2,5,1]])\n",
    "\n",
    "(A >= 3 ) * A"
   ]
  },
  {
   "cell_type": "markdown",
   "metadata": {},
   "source": [
    "### Producto usual/escalar de matrices\n",
    "\n",
    "Es el producto usual de matrices. Se debe tomar en cuenta que si $A$ y $B$ son dos matrices, para que el producto $AB$ tenga sentido se debe cumplir que el número de columnas de $A$ es igual al número de filas de $B$. Se obtiene como resultado una matriz con el mismo número de filas que $A$ y el mismo número de columnas de $B$"
   ]
  },
  {
   "cell_type": "code",
   "execution_count": 30,
   "outputs": [
    {
     "data": {
      "text/plain": "5.0"
     },
     "execution_count": 30,
     "metadata": {},
     "output_type": "execute_result"
    }
   ],
   "source": [
    "a = np.array([1,2,3], float)\n",
    "b = np.array([0,1,1], float)\n",
    "#Producto escalar\n",
    "np.dot(a,b)\n",
    "a.dot(b)"
   ],
   "metadata": {
    "collapsed": false,
    "ExecuteTime": {
     "end_time": "2023-11-29T14:42:50.993476791Z",
     "start_time": "2023-11-29T14:42:50.966609405Z"
    }
   }
  },
  {
   "cell_type": "code",
   "execution_count": 32,
   "metadata": {
    "ExecuteTime": {
     "end_time": "2023-11-29T14:43:38.733009006Z",
     "start_time": "2023-11-29T14:43:38.675822367Z"
    }
   },
   "outputs": [
    {
     "data": {
      "text/plain": "array([[34, 26, 11,  0],\n       [33, 32,  9,  0]])"
     },
     "execution_count": 32,
     "metadata": {},
     "output_type": "execute_result"
    }
   ],
   "source": [
    "A = np.array([[1,4,3],[2,5,1]])\n",
    "B = np.array([[2,3,1,0],[5,5,1,0],[4,1,2,0]])\n",
    "\n",
    "A @ B"
   ]
  },
  {
   "cell_type": "code",
   "execution_count": 33,
   "metadata": {
    "ExecuteTime": {
     "end_time": "2023-11-29T14:43:40.995406390Z",
     "start_time": "2023-11-29T14:43:40.929742953Z"
    }
   },
   "outputs": [
    {
     "name": "stdout",
     "output_type": "stream",
     "text": [
      "La forma de A es (2, 3); la de B es (3, 4). Por lo tanto la de AB es (2, 4)\n"
     ]
    }
   ],
   "source": [
    "print(f\"La forma de A es {A.shape}; la de B es {B.shape}. Por lo tanto la de AB es {(A @ B).shape}\")"
   ]
  },
  {
   "cell_type": "markdown",
   "metadata": {},
   "source": [
    "### El paquete numpy.linalg\n",
    "\n",
    "La biblioteca especializada en operaciones de algebra lineal de Numpy es numpy.linalg.\n",
    "\n",
    "Algunas de las funciones mas importantes que contiene son\n",
    "\n",
    "* np.linalg.det()\n",
    "* np.linalg.solve()\n",
    "* np.linalg.inv()"
   ]
  },
  {
   "cell_type": "markdown",
   "metadata": {},
   "source": [
    "#### Determinantes\n",
    "\n",
    "Considere la matriz $$\\left(\\begin{array}{ccc}0&1&2\\\\3&4&5\\\\6&7&8\\end{array}\\right)$$"
   ]
  },
  {
   "cell_type": "code",
   "execution_count": 34,
   "metadata": {
    "ExecuteTime": {
     "end_time": "2023-11-29T14:43:50.022493082Z",
     "start_time": "2023-11-29T14:43:49.962158892Z"
    }
   },
   "outputs": [
    {
     "data": {
      "text/plain": "0.0"
     },
     "execution_count": 34,
     "metadata": {},
     "output_type": "execute_result"
    }
   ],
   "source": [
    "# El cálculo de su determinante es\n",
    "A = np.arange(9).reshape(3,3)\n",
    "\n",
    "np.linalg.det(A)"
   ]
  },
  {
   "cell_type": "markdown",
   "metadata": {},
   "source": [
    "### Soluciones de ecuaciones lineales con la función ```np.linalg.solve()```.\n",
    "\n",
    "Un sistema de ecuaciones lineales coresponde un conjunto de ecuaciones de la forma:\n",
    "\n",
    "$$\n",
    "a_{11}x_1 + a_{12}x_2 + \\cdots a_{1n}x_n = y_1 \\\\\n",
    "a_{21}x_1 + a_{22}x_2 + \\cdots a_{2n}x_n = y_2\\\\\n",
    "\\vdots\\\\\n",
    "a_{m1}x_1 + a_{m2}x_2 + \\cdots a_{mn}x_n = y_m\n",
    "$$\n",
    "\n",
    "Lo cual puede ser expresado de forma matricial.\n",
    "\n",
    "$$ \n",
    "\\begin{bmatrix}a_{11}\\\\a_{21}\\\\ \\vdots\\\\ a_{m1}\\end{bmatrix}x_1 + \\begin{bmatrix}a_{12}\\\\a_{22}\\\\ \\vdots\\\\ a_{m2}\\end{bmatrix}x_2 + \\cdots \\begin{bmatrix}a_{m1}\\\\a_{m2}\\\\ \\vdots\\\\ a_{mn}\\end{bmatrix}x_n = \\begin{bmatrix}y_{1}\\\\y_{2}\\\\ \\vdots\\\\ y_{m}\\end{bmatrix}\n",
    "$$\n",
    "\n",
    "Existen múltiples métodos para calcular los valores $x_1, x_2 \\cdots x_n$ que cumplan con el sistema siempre que $m = n$.\n",
    "\n",
    "Numpy cuenta con la función *np.linalg.solve()*, la cual puede calcular la solución de un sistema de ecuaciones lineales al expresarse como un par de matrices de la siguiente foma:\n",
    "\n",
    "$$ \n",
    "\\begin{bmatrix}a_{11}&a_{12}&\\cdots&a_{1n}\\\\a_{21}&a_{22}&\\cdots&a_{2n}\\\\ \\vdots\\\\ a_{n1}&a_{n2}&\\cdots&a_{nn}\\end{bmatrix}= \\begin{bmatrix}y_{1}\\\\y_{2}\\\\ \\vdots\\\\ y_{n}\\end{bmatrix}\n",
    "$$\n",
    "\n",
    "La función ```numpy.linagl.solve()``` permite resolver sistemas de ecuaciones lineales ingresando un array de dimensiones ```(n, n)``` como primer argumente y otro con dimensión ```(n)``` como segundo argumento. "
   ]
  },
  {
   "cell_type": "markdown",
   "metadata": {},
   "source": [
    "**Ejemplo:**\n",
    "\n",
    "* Para resolver el sistema de ecuaciones:\n",
    "\n",
    "$$\n",
    "2x_1 + 5x_2 - 3x_3 = 22.2 \\\\\n",
    "11x_1 - 4x_2 + 22x_3 = 11.6 \\\\\n",
    "54x_1 + 1x_2 + 19x_3 = -40.1 \\\\\n",
    "$$\n",
    "\n",
    "* Se realiza lo siguiente:"
   ]
  },
  {
   "cell_type": "code",
   "execution_count": null,
   "metadata": {},
   "outputs": [],
   "source": [
    "a = np.array([[2, 5, -3],\n",
    "              [11, -4, 22],\n",
    "              [54, 1, 19]])\n",
    "\n",
    "y = np.array([22.2, 11.6, -40.1])\n",
    "\n",
    "np.linalg.solve(a, y)"
   ]
  },
  {
   "cell_type": "markdown",
   "metadata": {},
   "source": [
    "## Matriz inversa."
   ]
  },
  {
   "cell_type": "code",
   "execution_count": null,
   "metadata": {},
   "outputs": [],
   "source": [
    "np.linalg.inv(a)"
   ]
  },
  {
   "cell_type": "code",
   "execution_count": null,
   "metadata": {},
   "outputs": [],
   "source": [
    "np.linalg.inv(a).dot(y)"
   ]
  },
  {
   "cell_type": "markdown",
   "metadata": {},
   "source": [
    "## Transpuesta de una matriz"
   ]
  },
  {
   "cell_type": "code",
   "execution_count": null,
   "metadata": {},
   "outputs": [],
   "source": [
    "b = np.arange(9).reshape((3,3))\n",
    "b"
   ]
  },
  {
   "cell_type": "code",
   "execution_count": null,
   "metadata": {},
   "outputs": [],
   "source": [
    "b.transpose()"
   ]
  },
  {
   "cell_type": "code",
   "execution_count": null,
   "metadata": {},
   "outputs": [],
   "source": [
    "np.transpose(b)"
   ]
  }
 ],
 "metadata": {
  "kernelspec": {
   "display_name": "Python 3",
   "language": "python",
   "name": "python3"
  },
  "language_info": {
   "codemirror_mode": {
    "name": "ipython",
    "version": 3
   },
   "file_extension": ".py",
   "mimetype": "text/x-python",
   "name": "python",
   "nbconvert_exporter": "python",
   "pygments_lexer": "ipython3",
   "version": "3.7.7"
  }
 },
 "nbformat": 4,
 "nbformat_minor": 4
}
