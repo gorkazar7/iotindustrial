{
 "cells": [
  {
   "cell_type": "markdown",
   "metadata": {},
   "source": [
    "# Gestión de arrays"
   ]
  },
  {
   "cell_type": "markdown",
   "metadata": {},
   "source": [
    "## arrays especiales\n",
    "\n",
    "Numpy cuenta con un cierto compendio para matrices. Es importante comentar que, aunque los ejemplos siguientes son para matrices, se adaptan fácilmente indicando el shape para aplicarse a cualquier tipo de array. Además, toma en cuenta el parámetro *dtype* que nos indica que el tipo de dato a considerar, el cual, usualmente, es de tipo flotante:\n",
    "\n",
    "``np.función(shape,dtype)``\n",
    "\n",
    "donde \n",
    "\n",
    "``shape`` es una tupla donde se indica la forma del array\n",
    "\n",
    "``dtype`` es el tipo de dato con que queremos llenarla."
   ]
  },
  {
   "cell_type": "code",
   "metadata": {
    "ExecuteTime": {
     "end_time": "2024-05-10T14:16:14.835210Z",
     "start_time": "2024-05-10T14:16:14.676725Z"
    }
   },
   "source": [
    "# Matriz donde todos los elementos son iguales a 1: np.ones((u,v))\n",
    "import numpy as np\n",
    "ar1 = np.ones((2,1))\n",
    "print(ar1)\n",
    "print(ar1.dtype)"
   ],
   "outputs": [
    {
     "name": "stdout",
     "output_type": "stream",
     "text": [
      "[[1.]\n",
      " [1.]]\n",
      "float64\n"
     ]
    }
   ],
   "execution_count": 1
  },
  {
   "cell_type": "code",
   "metadata": {
    "ExecuteTime": {
     "end_time": "2024-05-10T14:16:14.842976Z",
     "start_time": "2024-05-10T14:16:14.838541Z"
    }
   },
   "source": [
    "ar2 = np.ones((4,3),dtype = int)\n",
    "print(ar2)\n",
    "print(ar2.shape)\n",
    "print(ar2.dtype)"
   ],
   "outputs": [
    {
     "name": "stdout",
     "output_type": "stream",
     "text": [
      "[[1 1 1]\n",
      " [1 1 1]\n",
      " [1 1 1]\n",
      " [1 1 1]]\n",
      "(4, 3)\n",
      "int64\n"
     ]
    }
   ],
   "execution_count": 2
  },
  {
   "cell_type": "code",
   "metadata": {
    "ExecuteTime": {
     "end_time": "2024-05-10T14:16:14.859896Z",
     "start_time": "2024-05-10T14:16:14.844756Z"
    }
   },
   "source": [
    "# Matriz donde todos los elementos son iguales a 0: np.zeros((u,v))\n",
    "ar3 = np.zeros((2,1))\n",
    "print(ar3)"
   ],
   "outputs": [
    {
     "name": "stdout",
     "output_type": "stream",
     "text": [
      "[[0.]\n",
      " [0.]]\n"
     ]
    }
   ],
   "execution_count": 3
  },
  {
   "cell_type": "code",
   "source": [
    "#Generar la matriz identidad\n",
    "ar4 = np.identity((4), dtype=int)\n",
    "print(ar4)"
   ],
   "metadata": {
    "collapsed": false,
    "ExecuteTime": {
     "end_time": "2024-05-10T14:16:14.874502Z",
     "start_time": "2024-05-10T14:16:14.869134Z"
    }
   },
   "outputs": [
    {
     "name": "stdout",
     "output_type": "stream",
     "text": [
      "[[1 0 0 0]\n",
      " [0 1 0 0]\n",
      " [0 0 1 0]\n",
      " [0 0 0 1]]\n"
     ]
    }
   ],
   "execution_count": 4
  },
  {
   "cell_type": "code",
   "source": [
    "# La función np.eye() permite especificar la cantidad de filas (N) y columnas (M) de la matriz, así como un índice de desplazamiento (k). Por defecto, k=0, lo que significa que la diagonal principal estará en la posición cero. Además, np.eye() acepta tanto M como N como argumentos posicionales.\n",
    "ar5 = np.eye((4), dtype=float)\n",
    "print(ar5)"
   ],
   "metadata": {
    "collapsed": false,
    "ExecuteTime": {
     "end_time": "2024-05-10T14:16:14.907845Z",
     "start_time": "2024-05-10T14:16:14.903856Z"
    }
   },
   "outputs": [
    {
     "name": "stdout",
     "output_type": "stream",
     "text": [
      "[[1. 0. 0. 0.]\n",
      " [0. 1. 0. 0.]\n",
      " [0. 0. 1. 0.]\n",
      " [0. 0. 0. 1.]]\n"
     ]
    }
   ],
   "execution_count": 5
  },
  {
   "metadata": {
    "ExecuteTime": {
     "end_time": "2024-05-10T14:16:15.013036Z",
     "start_time": "2024-05-10T14:16:15.008841Z"
    }
   },
   "cell_type": "code",
   "source": [
    "ar6 = np.eye(4, k=2, dtype=int)\n",
    "print(ar6)"
   ],
   "outputs": [
    {
     "name": "stdout",
     "output_type": "stream",
     "text": [
      "[[0 0 1 0]\n",
      " [0 0 0 1]\n",
      " [0 0 0 0]\n",
      " [0 0 0 0]]\n"
     ]
    }
   ],
   "execution_count": 6
  },
  {
   "cell_type": "code",
   "metadata": {
    "ExecuteTime": {
     "end_time": "2024-05-10T14:17:01.397165Z",
     "start_time": "2024-05-10T14:17:01.391323Z"
    }
   },
   "source": [
    "# Matriz donde todos sus elementos son vacíos: np.empty((u,v))\n",
    "np.empty((2,1),dtype = str)"
   ],
   "outputs": [
    {
     "data": {
      "text/plain": [
       "array([[''],\n",
       "       ['']], dtype='<U1')"
      ]
     },
     "execution_count": 39,
     "metadata": {},
     "output_type": "execute_result"
    }
   ],
   "execution_count": 39
  },
  {
   "metadata": {
    "ExecuteTime": {
     "end_time": "2024-05-10T14:16:15.191142Z",
     "start_time": "2024-05-10T14:16:15.184584Z"
    }
   },
   "cell_type": "code",
   "source": [
    "#Esto creará un arreglo de 2 filas y 1 columna, pero sus valores serán impredecibles, ya que np.empty() simplemente asigna espacio de memoria sin inicializarlo. \n",
    "np.empty((2,1))"
   ],
   "outputs": [
    {
     "data": {
      "text/plain": [
       "array([[5.43230922e-312],\n",
       "       [7.29112202e-304]])"
      ]
     },
     "execution_count": 8,
     "metadata": {},
     "output_type": "execute_result"
    }
   ],
   "execution_count": 8
  },
  {
   "cell_type": "code",
   "metadata": {
    "ExecuteTime": {
     "end_time": "2024-05-10T14:16:15.235652Z",
     "start_time": "2024-05-10T14:16:15.230121Z"
    }
   },
   "source": [
    "np.empty((4,3),dtype = bool)"
   ],
   "outputs": [
    {
     "data": {
      "text/plain": [
       "array([[False, False, False],\n",
       "       [False, False, False],\n",
       "       [False, False, False],\n",
       "       [False, False, False]])"
      ]
     },
     "execution_count": 9,
     "metadata": {},
     "output_type": "execute_result"
    }
   ],
   "execution_count": 9
  },
  {
   "cell_type": "markdown",
   "metadata": {},
   "source": ""
  },
  {
   "cell_type": "markdown",
   "metadata": {},
   "source": [
    "### La función np.linspace().\n",
    "\n",
    "Esta función creará un array de una dimensión que contiene una secuencia lineal de números dentro de un rango dado entre un valor incial y un valor final. El número de segmentos incluyendo el valor incial y el valor final es definido meduante el parámentro num. El valor por defecto del parámetro num es de 50.\n",
    "\n",
    "``np.linspace(inicio, fin, num=segmentos, dtype=tipo de dato)``\n",
    "\n",
    "Donde:\n",
    "\n",
    "* ``inicio`` corresponde al número a partir del cual comenzará la secuencia.\n",
    "* ``fin`` corresponde al número en el que terminará la secuencia\n",
    "* ``segmentos`` correpsonde al número de segmentos, incluyendo el valor inicial y el final que se generarán, que contendrá el array.\n",
    "* ``tipo de dato`` es el tipo de dato que tendrá el array.\n",
    "\n",
    "El valor por defecto del parámetro dtype es np.float."
   ]
  },
  {
   "cell_type": "code",
   "metadata": {
    "ExecuteTime": {
     "end_time": "2024-05-10T14:17:39.554541Z",
     "start_time": "2024-05-10T14:17:39.549791Z"
    }
   },
   "source": "np.linspace(0,1,num=12)",
   "outputs": [
    {
     "data": {
      "text/plain": [
       "array([0. , 0.1, 0.2, 0.3, 0.4, 0.5, 0.6, 0.7, 0.8, 0.9, 1. ])"
      ]
     },
     "execution_count": 41,
     "metadata": {},
     "output_type": "execute_result"
    }
   ],
   "execution_count": 41
  },
  {
   "metadata": {
    "ExecuteTime": {
     "end_time": "2024-05-10T14:16:15.374722Z",
     "start_time": "2024-05-10T14:16:15.368954Z"
    }
   },
   "cell_type": "code",
   "source": [
    "# Usando arange para crear un array similar a linspace\n",
    "np.arange(0, 1.1, 0.1)"
   ],
   "outputs": [
    {
     "data": {
      "text/plain": [
       "array([0. , 0.1, 0.2, 0.3, 0.4, 0.5, 0.6, 0.7, 0.8, 0.9, 1. ])"
      ]
     },
     "execution_count": 11,
     "metadata": {},
     "output_type": "execute_result"
    }
   ],
   "execution_count": 11
  },
  {
   "cell_type": "markdown",
   "metadata": {},
   "source": [
    "## Modificación de la forma y tamaño de un array.\n",
    "\n",
    "Estudiaremos cuatro formas básicas para manipular los tamaños de un array:\n",
    "\n",
    "* np.ravel()\n",
    "* np.reshape()\n",
    "* np.resize()\n",
    "* np.concatenate()"
   ]
  },
  {
   "cell_type": "markdown",
   "metadata": {},
   "source": [
    "### La función np.ravel()\n",
    "\n",
    "La función *np.ravel()* devolvera a un array de una dimensión que contiene la referencia de cada uno de los elementos del array que se ingresa como argumento.\n",
    "\n",
    "``np.ravel(<array>)``\n",
    "\n",
    "Donde ``<array>`` es un array de Numpy."
   ]
  },
  {
   "cell_type": "code",
   "metadata": {
    "ExecuteTime": {
     "end_time": "2024-05-10T14:16:15.468581Z",
     "start_time": "2024-05-10T14:16:15.460522Z"
    }
   },
   "source": [
    "array_1 = np.array([[1, 2, 3],\n",
    "                      [4, 0, -5],\n",
    "                      [-6, -7, -8]])\n",
    "\n",
    "np.ravel(array_1)"
   ],
   "outputs": [
    {
     "data": {
      "text/plain": [
       "array([ 1,  2,  3,  4,  0, -5, -6, -7, -8])"
      ]
     },
     "execution_count": 12,
     "metadata": {},
     "output_type": "execute_result"
    }
   ],
   "execution_count": 12
  },
  {
   "cell_type": "code",
   "metadata": {
    "ExecuteTime": {
     "end_time": "2024-05-10T14:16:15.511253Z",
     "start_time": "2024-05-10T14:16:15.503559Z"
    }
   },
   "source": [
    "array_1"
   ],
   "outputs": [
    {
     "data": {
      "text/plain": [
       "array([[ 1,  2,  3],\n",
       "       [ 4,  0, -5],\n",
       "       [-6, -7, -8]])"
      ]
     },
     "execution_count": 13,
     "metadata": {},
     "output_type": "execute_result"
    }
   ],
   "execution_count": 13
  },
  {
   "cell_type": "markdown",
   "metadata": {},
   "source": [
    "### La función np.reshape().\n",
    "\n",
    "La función *np.reshape()* regresará un array compuesto por el mismo número de elementos que el array ingresado como primer argumento, pero con la forma descrita por el objeto de tipo tuple que se ingrese como segundo argumento. Las nuevas dimensiones deben de coincidir con el numero total de elementos del array de origen.\n",
    "\n",
    "``np.reshape(<array>, <forma>)``\n",
    "\n",
    "Donde:\n",
    "\n",
    "* ``<array>`` es un array de Numpy.\n",
    "* ``<forma>`` es un un objeto de tipo tuple que describe la forma del array resultante."
   ]
  },
  {
   "cell_type": "code",
   "metadata": {
    "ExecuteTime": {
     "end_time": "2024-05-10T14:19:17.233360Z",
     "start_time": "2024-05-10T14:19:17.227826Z"
    }
   },
   "source": [
    "array_2 = np.array([[1, 2, 3, 4],\n",
    "                  [5, 6, 7, 8],\n",
    "                  [9, 10, 11, 12]])\n",
    "\n",
    "array_2.shape"
   ],
   "outputs": [
    {
     "data": {
      "text/plain": [
       "(3, 4)"
      ]
     },
     "execution_count": 42,
     "metadata": {},
     "output_type": "execute_result"
    }
   ],
   "execution_count": 42
  },
  {
   "cell_type": "code",
   "metadata": {
    "ExecuteTime": {
     "end_time": "2024-05-10T14:19:42.031231Z",
     "start_time": "2024-05-10T14:19:42.026497Z"
    }
   },
   "source": "np.reshape(array_2,(6, 2))",
   "outputs": [
    {
     "data": {
      "text/plain": [
       "array([[ 1,  2],\n",
       "       [ 3,  4],\n",
       "       [ 5,  6],\n",
       "       [ 7,  8],\n",
       "       [ 9, 10],\n",
       "       [11, 12]])"
      ]
     },
     "execution_count": 45,
     "metadata": {},
     "output_type": "execute_result"
    }
   ],
   "execution_count": 45
  },
  {
   "cell_type": "code",
   "source": "np.reshape(array_2,(3, 4))",
   "metadata": {
    "collapsed": false,
    "ExecuteTime": {
     "end_time": "2024-05-10T14:16:15.749039Z",
     "start_time": "2024-05-10T14:16:15.740606Z"
    }
   },
   "outputs": [
    {
     "data": {
      "text/plain": [
       "array([[ 1,  2,  3,  4],\n",
       "       [ 5,  6,  7,  8],\n",
       "       [ 9, 10, 11, 12]])"
      ]
     },
     "execution_count": 16,
     "metadata": {},
     "output_type": "execute_result"
    }
   ],
   "execution_count": 16
  },
  {
   "cell_type": "markdown",
   "metadata": {},
   "source": [
    "### La función np.resize()\n",
    "\n",
    "La función *np.resize()* devolvera un nuevo array a partir del array que se ingrese como primer argumento, con la forma que se ingrese como segundo argumento.\n",
    "\n",
    "En caso de que las nuevas dimensiones sean menores a tamaño original, se recortarán los últimos de ellos.\n",
    "\n",
    "En caso de que las nuevas dimensiones sean mayores al tamaño original, los elementos faltantes serán sustituidos por una secuencia iterativa de los elementos contenidos en el array.\n",
    "\n",
    "``np.resize(<array>, <forma>)``\n",
    "\n",
    "Donde:\n",
    "\n",
    "* ``<array>`` es un array de Numpy.\n",
    "* ``<forma>`` es un objeto de tipo tuple que describe la nueva forma del array resultante."
   ]
  },
  {
   "cell_type": "code",
   "metadata": {
    "ExecuteTime": {
     "end_time": "2024-05-10T14:16:15.780609Z",
     "start_time": "2024-05-10T14:16:15.775897Z"
    }
   },
   "source": [
    "array_3 = np.array([[1, 2],\n",
    "                     [3, 4]])"
   ],
   "outputs": [],
   "execution_count": 17
  },
  {
   "cell_type": "code",
   "metadata": {
    "ExecuteTime": {
     "end_time": "2024-05-10T14:16:15.879076Z",
     "start_time": "2024-05-10T14:16:15.873634Z"
    }
   },
   "source": [
    "np.resize(array_3, (4, 2))\n"
   ],
   "outputs": [
    {
     "data": {
      "text/plain": [
       "array([[1, 2],\n",
       "       [3, 4],\n",
       "       [1, 2],\n",
       "       [3, 4]])"
      ]
     },
     "execution_count": 18,
     "metadata": {},
     "output_type": "execute_result"
    }
   ],
   "execution_count": 18
  },
  {
   "cell_type": "markdown",
   "metadata": {},
   "source": [
    "### La función np.concatenate().\n",
    "\n",
    "Une una secuencia de arrays contenidos dentro de un objeto tuple a un eje existente, se puede indicar el eje en el que se realizará la operación ingresando su número correspondiente como tercer argumento.\n",
    "\n",
    "``np.concatenate(<array 1>, <array 2>, <eje>)``\n",
    "\n",
    "Donde \n",
    "\n",
    "* ``eje = 0`` significa pegar array 2 debajo de array 1\n",
    "* ``eje = 1`` significa pegar array 2 a la derecha de array 1\n"
   ]
  },
  {
   "cell_type": "code",
   "metadata": {
    "ExecuteTime": {
     "end_time": "2024-05-10T14:16:15.910830Z",
     "start_time": "2024-05-10T14:16:15.906164Z"
    }
   },
   "source": [
    "array_1 = np.array([[1, 2],\n",
    "                      [3, 4]])\n",
    "array_2 = np.array([[5, 6],\n",
    "                      [7, 8]])"
   ],
   "outputs": [],
   "execution_count": 19
  },
  {
   "cell_type": "code",
   "metadata": {
    "ExecuteTime": {
     "end_time": "2024-05-10T14:16:15.966418Z",
     "start_time": "2024-05-10T14:16:15.959788Z"
    }
   },
   "source": [
    "np.concatenate((array_1, array_2), 0)"
   ],
   "outputs": [
    {
     "data": {
      "text/plain": [
       "array([[1, 2],\n",
       "       [3, 4],\n",
       "       [5, 6],\n",
       "       [7, 8]])"
      ]
     },
     "execution_count": 20,
     "metadata": {},
     "output_type": "execute_result"
    }
   ],
   "execution_count": 20
  },
  {
   "cell_type": "code",
   "metadata": {
    "ExecuteTime": {
     "end_time": "2024-05-10T14:16:15.994157Z",
     "start_time": "2024-05-10T14:16:15.987431Z"
    }
   },
   "source": [
    "np.concatenate((array_1, array_2), 1)"
   ],
   "outputs": [
    {
     "data": {
      "text/plain": [
       "array([[1, 2, 5, 6],\n",
       "       [3, 4, 7, 8]])"
      ]
     },
     "execution_count": 21,
     "metadata": {},
     "output_type": "execute_result"
    }
   ],
   "execution_count": 21
  },
  {
   "cell_type": "markdown",
   "metadata": {},
   "source": [
    "## Matrices con elementos aleatorios\n",
    "\n",
    "### El paquete np.random.\n",
    "\n",
    "#### La función np.random.rand().\n",
    "\n",
    "La función *np.random.rand()* crea un array cuyos elementos son valores aleatorios que van de 0 a antes de 1 dentro de una distribución uniforme.\n",
    "\n",
    "``np.random.rand(<forma>)``\n",
    "\n",
    "Donde ``forma`` es una secuencia de valores enteros separados por comas que definen la forma del array.\n",
    "\n"
   ]
  },
  {
   "cell_type": "code",
   "metadata": {
    "ExecuteTime": {
     "end_time": "2024-05-10T14:16:16.049914Z",
     "start_time": "2024-05-10T14:16:16.044031Z"
    }
   },
   "source": [
    "#La siguiente celda generará un array de forma (2, 2, 2)conteniendo números aleatorios.\n",
    "np.random.rand(3,5)"
   ],
   "outputs": [
    {
     "data": {
      "text/plain": [
       "array([[0.65638457, 0.87479094, 0.40958367, 0.48045165, 0.50675328],\n",
       "       [0.16792765, 0.23505256, 0.1508841 , 0.75229939, 0.10409239],\n",
       "       [0.94127322, 0.37053369, 0.96040084, 0.04238701, 0.36688086]])"
      ]
     },
     "execution_count": 22,
     "metadata": {},
     "output_type": "execute_result"
    }
   ],
   "execution_count": 22
  },
  {
   "cell_type": "markdown",
   "metadata": {},
   "source": [
    "#### La función np.random.randint().\n",
    "\n",
    "La función *np.random.randint()* crea un array cuyos elementos son valores entros aleatorios en un rango dado.\n",
    "\n",
    "``np.random.randint(<inicio>, <fin>, <forma>)``\n",
    "\n",
    "Donde:\n",
    "\n",
    "``<inicio>`` es el valor inicial del rango a partir del cual se generarán los números aleatorios, incluyéndolo a este.\n",
    "\n",
    "``<fin>`` es el valor final del rango a partir del cual se generarán los números aleatorios, sin incluirlo.\n",
    "\n",
    "``<forma>`` es un objeto tuple que definen la forma del array."
   ]
  },
  {
   "cell_type": "code",
   "metadata": {
    "ExecuteTime": {
     "end_time": "2024-05-10T14:16:16.126983Z",
     "start_time": "2024-05-10T14:16:16.120451Z"
    }
   },
   "source": [
    "# La siguente celda creará una array de forma (3, 3) con valores enteros que pueden ir de 1 a 2.\n",
    "np.random.randint(1, 3, (3, 3))"
   ],
   "outputs": [
    {
     "data": {
      "text/plain": [
       "array([[2, 2, 2],\n",
       "       [1, 2, 1],\n",
       "       [1, 1, 1]])"
      ]
     },
     "execution_count": 23,
     "metadata": {},
     "output_type": "execute_result"
    }
   ],
   "execution_count": 23
  },
  {
   "cell_type": "code",
   "metadata": {
    "ExecuteTime": {
     "end_time": "2024-05-10T14:16:16.249403Z",
     "start_time": "2024-05-10T14:16:16.243753Z"
    }
   },
   "source": [
    "# La siguente celda creará una array de forma (3, 2, 4) con valores enteros que pueden ir de 0 a 255.\n",
    "np.random.randint(0, 256, (10, 3))"
   ],
   "outputs": [
    {
     "data": {
      "text/plain": [
       "array([[  0, 254,  27],\n",
       "       [219, 148, 192],\n",
       "       [235,  63, 175],\n",
       "       [ 60, 244, 231],\n",
       "       [139, 238, 222],\n",
       "       [137, 121,  32],\n",
       "       [ 91, 231, 155],\n",
       "       [ 61, 236, 232],\n",
       "       [126, 151,   4],\n",
       "       [220,  96,  33]])"
      ]
     },
     "execution_count": 24,
     "metadata": {},
     "output_type": "execute_result"
    }
   ],
   "execution_count": 24
  },
  {
   "cell_type": "markdown",
   "source": [
    "## Álgebra lineal\n",
    "    \n",
    "El componente más poderoso de Numpy es su capacidad de realizar operaciones con arrays, y un caso particular de ellos son las matrices numéricas.    "
   ],
   "metadata": {
    "collapsed": false
   }
  },
  {
   "cell_type": "markdown",
   "metadata": {},
   "source": [
    "### Producto puntual (de Hadamard) de dos matrices.\n",
    "\n",
    "Es el producto \"elemento a elemento\" de dos matrices. Ambas deben ser del mismo tamaño.\n"
   ]
  },
  {
   "cell_type": "code",
   "metadata": {
    "ExecuteTime": {
     "end_time": "2024-05-10T14:16:16.307698Z",
     "start_time": "2024-05-10T14:16:16.299580Z"
    }
   },
   "source": [
    "# matriz1 * matriz2\n",
    "np.array([[1,2,3],[4,5,6]]) * np.array([[0,1,0],[0,0,1]])"
   ],
   "outputs": [
    {
     "data": {
      "text/plain": [
       "array([[0, 2, 0],\n",
       "       [0, 0, 6]])"
      ]
     },
     "execution_count": 25,
     "metadata": {},
     "output_type": "execute_result"
    }
   ],
   "execution_count": 25
  },
  {
   "cell_type": "code",
   "metadata": {
    "ExecuteTime": {
     "end_time": "2024-05-10T14:16:16.421401Z",
     "start_time": "2024-05-10T14:16:16.410767Z"
    }
   },
   "source": [
    "A = np.array([[1,4,3],[2,5,1]])\n",
    "\n",
    "(A >= 3 ) * A"
   ],
   "outputs": [
    {
     "data": {
      "text/plain": [
       "array([[0, 4, 3],\n",
       "       [0, 5, 0]])"
      ]
     },
     "execution_count": 26,
     "metadata": {},
     "output_type": "execute_result"
    }
   ],
   "execution_count": 26
  },
  {
   "cell_type": "markdown",
   "metadata": {},
   "source": [
    "### Producto usual/escalar de matrices\n",
    "\n",
    "Es el producto usual de matrices. Se debe tomar en cuenta que si $A$ y $B$ son dos matrices, para que el producto $AB$ tenga sentido se debe cumplir que el número de columnas de $A$ es igual al número de filas de $B$. Se obtiene como resultado una matriz con el mismo número de filas que $A$ y el mismo número de columnas de $B$"
   ]
  },
  {
   "cell_type": "code",
   "source": [
    "a = np.array([1,2,3], float)\n",
    "b = np.array([0,1,1], float)\n",
    "#Producto escalar\n",
    "np.dot(a,b)\n",
    "a.dot(b)\n",
    "\n",
    "#Producto escalar = (1*0) + (2*1) + (3*1) = 0 + 2 + 3 = 5\n"
   ],
   "metadata": {
    "collapsed": false,
    "ExecuteTime": {
     "end_time": "2024-05-10T14:16:16.459305Z",
     "start_time": "2024-05-10T14:16:16.452971Z"
    }
   },
   "outputs": [
    {
     "data": {
      "text/plain": [
       "5.0"
      ]
     },
     "execution_count": 27,
     "metadata": {},
     "output_type": "execute_result"
    }
   ],
   "execution_count": 27
  },
  {
   "cell_type": "code",
   "metadata": {
    "ExecuteTime": {
     "end_time": "2024-05-10T14:16:16.569703Z",
     "start_time": "2024-05-10T14:16:16.562136Z"
    }
   },
   "source": [
    "A = np.array([[1,4,3],[2,5,1]])\n",
    "B = np.array([[2,3,1,0],[5,5,1,0],[4,1,2,0]])\n",
    "\n",
    "A @ B"
   ],
   "outputs": [
    {
     "data": {
      "text/plain": [
       "array([[34, 26, 11,  0],\n",
       "       [33, 32,  9,  0]])"
      ]
     },
     "execution_count": 28,
     "metadata": {},
     "output_type": "execute_result"
    }
   ],
   "execution_count": 28
  },
  {
   "metadata": {},
   "cell_type": "markdown",
   "source": [
    "C[0][0] = (1*2) + (4*5) + (3*4) = 2 + 20 + 12 = 34\n",
    "C[0][1] = (1*3) + (4*5) + (3*1) = 3 + 20 + 3 = 26\n",
    "C[0][2] = (1*1) + (4*1) + (3*2) = 1 + 4 + 6 = 11\n",
    "C[0][3] = (1*0) + (4*0) + (3*0) = 0 + 0 + 0 = 0\n",
    "\n",
    "C[1][0] = (2*2) + (5*5) + (1*4) = 4 + 25 + 4 = 33\n",
    "C[1][1] = (2*3) + (5*5) + (1*1) = 6 + 25 + 1 = 32\n",
    "C[1][2] = (2*1) + (5*1) + (1*2) = 2 + 5 + 2 = 9\n",
    "C[1][3] = (2*0) + (5*0) + (1*0) = 0 + 0 + 0 = 0"
   ]
  },
  {
   "cell_type": "code",
   "metadata": {
    "ExecuteTime": {
     "end_time": "2024-05-10T14:16:16.622511Z",
     "start_time": "2024-05-10T14:16:16.616096Z"
    }
   },
   "source": [
    "print(f\"La forma de A es {A.shape}; la de B es {B.shape}. Por lo tanto la de AB es {(A @ B).shape}\")"
   ],
   "outputs": [
    {
     "name": "stdout",
     "output_type": "stream",
     "text": [
      "La forma de A es (2, 3); la de B es (3, 4). Por lo tanto la de AB es (2, 4)\n"
     ]
    }
   ],
   "execution_count": 29
  },
  {
   "cell_type": "markdown",
   "metadata": {},
   "source": [
    "### El paquete numpy.linalg\n",
    "\n",
    "La biblioteca especializada en operaciones de algebra lineal de Numpy es numpy.linalg.\n",
    "\n",
    "Algunas de las funciones mas importantes que contiene son\n",
    "\n",
    "* np.linalg.det()\n",
    "* np.linalg.solve()\n",
    "* np.linalg.inv()"
   ]
  },
  {
   "cell_type": "markdown",
   "metadata": {},
   "source": [
    "#### Determinantes\n",
    "\n",
    "Considere la matriz $$\\left(\\begin{array}{ccc}0&1&2\\\\3&4&5\\\\6&7&8\\end{array}\\right)$$"
   ]
  },
  {
   "cell_type": "code",
   "metadata": {
    "ExecuteTime": {
     "end_time": "2024-05-10T14:16:16.697872Z",
     "start_time": "2024-05-10T14:16:16.691071Z"
    }
   },
   "source": [
    "# El cálculo de su determinante es\n",
    "A = np.arange(9).reshape(3,3)\n",
    "\n",
    "# det(matriz)=a11 * (a22 * a33 − a23 * a32)− a12 ⋅(a21 * a33 − a23 * a31) + a13 * (a21 * a32 − a22 * a31)\n",
    "\n",
    "np.linalg.det(A)"
   ],
   "outputs": [
    {
     "data": {
      "text/plain": [
       "0.0"
      ]
     },
     "execution_count": 30,
     "metadata": {},
     "output_type": "execute_result"
    }
   ],
   "execution_count": 30
  },
  {
   "cell_type": "markdown",
   "metadata": {},
   "source": [
    "### Soluciones de ecuaciones lineales con la función ```np.linalg.solve()```.\n",
    "\n",
    "Un sistema de ecuaciones lineales coresponde un conjunto de ecuaciones de la forma:\n",
    "\n",
    "$$\n",
    "a_{11}x_1 + a_{12}x_2 + \\cdots a_{1n}x_n = y_1 \\\\\n",
    "a_{21}x_1 + a_{22}x_2 + \\cdots a_{2n}x_n = y_2\\\\\n",
    "\\vdots\\\\\n",
    "a_{m1}x_1 + a_{m2}x_2 + \\cdots a_{mn}x_n = y_m\n",
    "$$\n",
    "\n",
    "Lo cual puede ser expresado de forma matricial.\n",
    "\n",
    "$$ \n",
    "\\begin{bmatrix}a_{11}\\\\a_{21}\\\\ \\vdots\\\\ a_{m1}\\end{bmatrix}x_1 + \\begin{bmatrix}a_{12}\\\\a_{22}\\\\ \\vdots\\\\ a_{m2}\\end{bmatrix}x_2 + \\cdots \\begin{bmatrix}a_{m1}\\\\a_{m2}\\\\ \\vdots\\\\ a_{mn}\\end{bmatrix}x_n = \\begin{bmatrix}y_{1}\\\\y_{2}\\\\ \\vdots\\\\ y_{m}\\end{bmatrix}\n",
    "$$\n",
    "\n",
    "Existen múltiples métodos para calcular los valores $x_1, x_2 \\cdots x_n$ que cumplan con el sistema siempre que $m = n$.\n",
    "\n",
    "Numpy cuenta con la función *np.linalg.solve()*, la cual puede calcular la solución de un sistema de ecuaciones lineales al expresarse como un par de matrices de la siguiente foma:\n",
    "\n",
    "$$ \n",
    "\\begin{bmatrix}a_{11}&a_{12}&\\cdots&a_{1n}\\\\a_{21}&a_{22}&\\cdots&a_{2n}\\\\ \\vdots\\\\ a_{n1}&a_{n2}&\\cdots&a_{nn}\\end{bmatrix}= \\begin{bmatrix}y_{1}\\\\y_{2}\\\\ \\vdots\\\\ y_{n}\\end{bmatrix}\n",
    "$$\n",
    "\n",
    "La función ```numpy.linagl.solve()``` permite resolver sistemas de ecuaciones lineales ingresando un array de dimensiones ```(n, n)``` como primer argumente y otro con dimensión ```(n)``` como segundo argumento. "
   ]
  },
  {
   "cell_type": "markdown",
   "metadata": {},
   "source": [
    "**Ejemplo:**\n",
    "\n",
    "* Para resolver el sistema de ecuaciones:\n",
    "\n",
    "$$\n",
    "2x_1 + 5x_2 - 3x_3 = 22.2 \\\\\n",
    "11x_1 - 4x_2 + 22x_3 = 11.6 \\\\\n",
    "54x_1 + 1x_2 + 19x_3 = -40.1 \\\\\n",
    "$$\n",
    "\n",
    "* Se realiza lo siguiente:"
   ]
  },
  {
   "cell_type": "code",
   "metadata": {
    "ExecuteTime": {
     "end_time": "2024-05-10T14:16:16.845101Z",
     "start_time": "2024-05-10T14:16:16.835356Z"
    }
   },
   "source": [
    "a = np.array([[2, 5, -3],\n",
    "              [11, -4, 22],\n",
    "              [54, 1, 19]])\n",
    "\n",
    "y = np.array([22.2, 11.6, -40.1])\n",
    "\n",
    "np.linalg.solve(a, y)"
   ],
   "outputs": [
    {
     "data": {
      "text/plain": [
       "array([-1.80243902,  6.7549776 ,  2.65666999])"
      ]
     },
     "execution_count": 31,
     "metadata": {},
     "output_type": "execute_result"
    }
   ],
   "execution_count": 31
  },
  {
   "cell_type": "markdown",
   "metadata": {},
   "source": [
    "## Matriz inversa."
   ]
  },
  {
   "cell_type": "code",
   "metadata": {
    "ExecuteTime": {
     "end_time": "2024-05-10T14:16:16.985183Z",
     "start_time": "2024-05-10T14:16:16.975966Z"
    }
   },
   "source": [
    "np.linalg.inv(a)"
   ],
   "outputs": [
    {
     "data": {
      "text/plain": [
       "array([[-0.02439024, -0.02439024,  0.02439024],\n",
       "       [ 0.24365356,  0.04977601, -0.01916376],\n",
       "       [ 0.05649577,  0.06669985, -0.01567944]])"
      ]
     },
     "execution_count": 32,
     "metadata": {},
     "output_type": "execute_result"
    }
   ],
   "execution_count": 32
  },
  {
   "cell_type": "code",
   "metadata": {
    "ExecuteTime": {
     "end_time": "2024-05-10T14:16:17.022414Z",
     "start_time": "2024-05-10T14:16:17.015346Z"
    }
   },
   "source": [
    "np.linalg.inv(a).dot(y)"
   ],
   "outputs": [
    {
     "data": {
      "text/plain": [
       "array([-1.80243902,  6.7549776 ,  2.65666999])"
      ]
     },
     "execution_count": 33,
     "metadata": {},
     "output_type": "execute_result"
    }
   ],
   "execution_count": 33
  },
  {
   "cell_type": "markdown",
   "metadata": {},
   "source": [
    "## Transpuesta de una matriz"
   ]
  },
  {
   "cell_type": "code",
   "metadata": {
    "ExecuteTime": {
     "end_time": "2024-05-10T14:16:17.109539Z",
     "start_time": "2024-05-10T14:16:17.100611Z"
    }
   },
   "source": [
    "b = np.arange(9).reshape((3,3))\n",
    "b"
   ],
   "outputs": [
    {
     "data": {
      "text/plain": [
       "array([[0, 1, 2],\n",
       "       [3, 4, 5],\n",
       "       [6, 7, 8]])"
      ]
     },
     "execution_count": 34,
     "metadata": {},
     "output_type": "execute_result"
    }
   ],
   "execution_count": 34
  },
  {
   "cell_type": "code",
   "metadata": {
    "ExecuteTime": {
     "end_time": "2024-05-10T14:16:17.149518Z",
     "start_time": "2024-05-10T14:16:17.141890Z"
    }
   },
   "source": [
    "b.transpose()"
   ],
   "outputs": [
    {
     "data": {
      "text/plain": [
       "array([[0, 3, 6],\n",
       "       [1, 4, 7],\n",
       "       [2, 5, 8]])"
      ]
     },
     "execution_count": 35,
     "metadata": {},
     "output_type": "execute_result"
    }
   ],
   "execution_count": 35
  },
  {
   "cell_type": "code",
   "metadata": {
    "ExecuteTime": {
     "end_time": "2024-05-10T14:16:17.227380Z",
     "start_time": "2024-05-10T14:16:17.220968Z"
    }
   },
   "source": [
    "np.transpose(b)"
   ],
   "outputs": [
    {
     "data": {
      "text/plain": [
       "array([[0, 3, 6],\n",
       "       [1, 4, 7],\n",
       "       [2, 5, 8]])"
      ]
     },
     "execution_count": 36,
     "metadata": {},
     "output_type": "execute_result"
    }
   ],
   "execution_count": 36
  },
  {
   "metadata": {
    "ExecuteTime": {
     "end_time": "2024-05-10T14:16:17.259888Z",
     "start_time": "2024-05-10T14:16:17.257226Z"
    }
   },
   "cell_type": "code",
   "source": "",
   "outputs": [],
   "execution_count": 36
  }
 ],
 "metadata": {
  "kernelspec": {
   "display_name": "Python 3",
   "language": "python",
   "name": "python3"
  },
  "language_info": {
   "codemirror_mode": {
    "name": "ipython",
    "version": 3
   },
   "file_extension": ".py",
   "mimetype": "text/x-python",
   "name": "python",
   "nbconvert_exporter": "python",
   "pygments_lexer": "ipython3",
   "version": "3.7.7"
  }
 },
 "nbformat": 4,
 "nbformat_minor": 4
}
