{
 "cells": [
  {
   "cell_type": "markdown",
   "metadata": {},
   "source": [
    "# Numpy  \n",
    "\n",
    "Numpy es un paquete especializado en la creación, gestión y operación de arrays de una o varias dimensiones. Incluye funciones matemáticas y estádisticas básicas, así como la generación de números aleatorios.\n",
    "\n",
    "Numpy cuenta con módulos especializados en operaciones de algebra lineal y transformaciones de Fourier entre otros. Incluso existen variedades de Numpy como Gnumpy que están diseñadas para usar la GPU para realizar cálculos.\n",
    "\n",
    "Los tipos de datos y las arrays dmi_array Numpy son fundamentales para el resto de los componentes de Scipy, así como para otras herramientas de cómputo científico.\n",
    "\n",
    "Por convención, cuando se manda a llamar *numpy* se hace con la abreviatura *np*\n"
   ]
  },
  {
   "cell_type": "code",
   "metadata": {
    "ExecuteTime": {
     "end_time": "2024-05-06T13:36:38.050989Z",
     "start_time": "2024-05-06T13:36:33.998111Z"
    }
   },
   "source": [
    "!pip install numpy"
   ],
   "outputs": [
    {
     "name": "stdout",
     "output_type": "stream",
     "text": [
      "Requirement already satisfied: numpy in /home/zarateadm/.local/lib/python3.8/site-packages (1.24.4)\r\n"
     ]
    }
   ],
   "execution_count": 1
  },
  {
   "cell_type": "code",
   "metadata": {
    "ExecuteTime": {
     "end_time": "2024-05-06T13:36:38.205658Z",
     "start_time": "2024-05-06T13:36:38.053174Z"
    }
   },
   "source": [
    "import numpy as np"
   ],
   "outputs": [],
   "execution_count": 2
  },
  {
   "cell_type": "markdown",
   "metadata": {},
   "source": [
    "## Los arrays en Numpy\n",
    "\n",
    "Un array es una colección ordenada e indexable de objetos, todos del mismo tipo.\n",
    "De manera genérica, se construyen con la siguiente sintaxis\n",
    "\n",
    "``nombre_del_array = np.array(\"estructura\")``\n",
    "\n",
    "Los arrays de Numpy son estructuras que a su vez pueden contener arrays en varios niveles o \"dimensiones\".\n",
    "Todos los arrays en una dimensión específica deben de contener el mismo número de elementos. Al número de objetos que contiene un array en cada dimensión se conoce como forma (shape)."
   ]
  },
  {
   "cell_type": "code",
   "metadata": {
    "ExecuteTime": {
     "end_time": "2024-05-06T13:36:41.728856Z",
     "start_time": "2024-05-06T13:36:41.715426Z"
    }
   },
   "source": [
    "# Crearemos un array de dimensión 1\n",
    "array_1d = np.array([1,2,3])\n",
    "array_1d"
   ],
   "outputs": [
    {
     "data": {
      "text/plain": [
       "array([1, 2, 3])"
      ]
     },
     "execution_count": 3,
     "metadata": {},
     "output_type": "execute_result"
    }
   ],
   "execution_count": 3
  },
  {
   "cell_type": "code",
   "metadata": {
    "ExecuteTime": {
     "end_time": "2024-05-06T13:36:44.228062Z",
     "start_time": "2024-05-06T13:36:44.221854Z"
    }
   },
   "source": [
    "# Crearemos un array de 2 dimensiones\n",
    "array_2d = np.array([[1,2,3],[4,5,6]])\n",
    "array_2d"
   ],
   "outputs": [
    {
     "data": {
      "text/plain": [
       "array([[1, 2, 3],\n",
       "       [4, 5, 6]])"
      ]
     },
     "execution_count": 4,
     "metadata": {},
     "output_type": "execute_result"
    }
   ],
   "execution_count": 4
  },
  {
   "cell_type": "markdown",
   "source": [],
   "metadata": {
    "collapsed": false
   }
  },
  {
   "cell_type": "markdown",
   "metadata": {},
   "source": "Los arrays cuentan con el atributo *ndim*, el cual indica el número de dimensiones del array y el atributo *shape* que nos proporciona el tamaño de cada dimensión"
  },
  {
   "cell_type": "code",
   "metadata": {
    "ExecuteTime": {
     "end_time": "2024-05-06T13:38:05.315370Z",
     "start_time": "2024-05-06T13:38:05.311081Z"
    }
   },
   "source": [
    "print(f\"El array array_1d tiene un total de {array_1d.ndim} dimensiones, y su shape es {array_1d.shape} respectivamente, por lo cual cuenta con {array_1d.size} elementos\")\n"
   ],
   "outputs": [
    {
     "name": "stdout",
     "output_type": "stream",
     "text": [
      "El array array_1d tiene un total de 1 dimensiones, y su shape es (3,) respectivamente, por lo cual cuenta con 3 elementos\n"
     ]
    }
   ],
   "execution_count": 6
  },
  {
   "cell_type": "code",
   "metadata": {
    "ExecuteTime": {
     "end_time": "2024-05-06T13:38:11.597867Z",
     "start_time": "2024-05-06T13:38:11.592197Z"
    }
   },
   "source": [
    "print(f\"El array array_2d tiene un total de {array_2d.ndim} dimensiones, y su shape es {array_2d.shape} respectivamente, por lo cual cuenta con {array_2d.size} elementos\")\n"
   ],
   "outputs": [
    {
     "name": "stdout",
     "output_type": "stream",
     "text": [
      "El array array_2d tiene un total de 2 dimensiones, y su shape es (2, 3) respectivamente, por lo cual cuenta con 6 elementos\n"
     ]
    }
   ],
   "execution_count": 7
  },
  {
   "cell_type": "markdown",
   "metadata": {},
   "source": [
    "También podemos incluir valores nulos con *np.nan*"
   ]
  },
  {
   "cell_type": "code",
   "metadata": {
    "ExecuteTime": {
     "end_time": "2024-05-06T13:38:24.110532Z",
     "start_time": "2024-05-06T13:38:24.104307Z"
    }
   },
   "source": [
    "array_con_nulos = np.array([2,4,np.nan,8])\n",
    "array_con_nulos"
   ],
   "outputs": [
    {
     "data": {
      "text/plain": [
       "array([ 2.,  4., nan,  8.])"
      ]
     },
     "execution_count": 8,
     "metadata": {},
     "output_type": "execute_result"
    }
   ],
   "execution_count": 8
  },
  {
   "cell_type": "markdown",
   "metadata": {},
   "source": [
    "E incluso podemos hacer reemplazamientos de los valores nulos por algún otro valor"
   ]
  },
  {
   "cell_type": "code",
   "metadata": {
    "ExecuteTime": {
     "end_time": "2024-05-06T13:38:29.821780Z",
     "start_time": "2024-05-06T13:38:29.814950Z"
    }
   },
   "source": [
    "array_con_nulos[np.isnan(array_con_nulos)] = 0\n",
    "array_con_nulos"
   ],
   "outputs": [
    {
     "data": {
      "text/plain": [
       "array([2., 4., 0., 8.])"
      ]
     },
     "execution_count": 9,
     "metadata": {},
     "output_type": "execute_result"
    }
   ],
   "execution_count": 9
  },
  {
   "cell_type": "markdown",
   "source": [
    "## Operaciones básicas\n",
    "\n",
    "### La función np.arange().\n",
    "\n",
    "La función np.arange() generará un array de una dimensión que contiene los enteros definidos en un rango al estilo de range().\n",
    "\n",
    "``np.arange(inicio, fin, incrementos, dtype=<tipo de dato>)``\n",
    "\n",
    "donde \n",
    "\n",
    "* ``<inicio>`` corresponde al número a partir del cual comenzará la secuencia.\n",
    "* ``<fin>`` corresponde al número en el que terminará la secuencia\n",
    "* ``<incrementos>`` correpsonde al número unidades que se incrementarán sucesivamente desde el valor inicial hasta uno antes del valor final.\n",
    "* ``<tipo de dato>`` es el tipo de dato que tendrá el array.\n",
    "\n",
    "\n",
    "El valor por defecto del valor inicial es 0.\n",
    "\n",
    "El valor por defecto de los incrementos es de 1.\n",
    "\n",
    "Si no se define el valor de dtype, se inferirá el tipo de dato del que se trata."
   ],
   "metadata": {
    "collapsed": false
   }
  },
  {
   "cell_type": "code",
   "source": [
    "#Crear un array de 8 elementos\n",
    "arr = np.arange(1, 9)\n",
    "arr"
   ],
   "metadata": {
    "collapsed": false,
    "ExecuteTime": {
     "end_time": "2024-05-06T14:01:36.789603Z",
     "start_time": "2024-05-06T14:01:36.782126Z"
    }
   },
   "outputs": [
    {
     "data": {
      "text/plain": [
       "array([1, 2, 3, 4, 5, 6, 7, 8])"
      ]
     },
     "execution_count": 48,
     "metadata": {},
     "output_type": "execute_result"
    }
   ],
   "execution_count": 48
  },
  {
   "metadata": {
    "ExecuteTime": {
     "end_time": "2024-05-06T14:01:38.134704Z",
     "start_time": "2024-05-06T14:01:38.128803Z"
    }
   },
   "cell_type": "code",
   "source": "np.arange(5,12)",
   "outputs": [
    {
     "data": {
      "text/plain": [
       "array([ 5,  6,  7,  8,  9, 10, 11])"
      ]
     },
     "execution_count": 49,
     "metadata": {},
     "output_type": "execute_result"
    }
   ],
   "execution_count": 49
  },
  {
   "metadata": {
    "ExecuteTime": {
     "end_time": "2024-05-06T14:02:14.216709Z",
     "start_time": "2024-05-06T14:02:14.210967Z"
    }
   },
   "cell_type": "code",
   "source": "np.arange(6.24, 15.2, 0.8)",
   "outputs": [
    {
     "data": {
      "text/plain": [
       "array([ 6.24,  7.04,  7.84,  8.64,  9.44, 10.24, 11.04, 11.84, 12.64,\n",
       "       13.44, 14.24, 15.04])"
      ]
     },
     "execution_count": 50,
     "metadata": {},
     "output_type": "execute_result"
    }
   ],
   "execution_count": 50
  },
  {
   "cell_type": "code",
   "source": [
    "#Redimensionar\n",
    "arr.shape = (2, 4)\n",
    "arr"
   ],
   "metadata": {
    "collapsed": false,
    "ExecuteTime": {
     "end_time": "2024-05-06T14:02:15.959928Z",
     "start_time": "2024-05-06T14:02:15.953743Z"
    }
   },
   "outputs": [
    {
     "data": {
      "text/plain": [
       "array([[1, 2, 3, 4],\n",
       "       [5, 6, 7, 8]])"
      ]
     },
     "execution_count": 51,
     "metadata": {},
     "output_type": "execute_result"
    }
   ],
   "execution_count": 51
  },
  {
   "cell_type": "code",
   "source": [
    "arr + arr  # Adición"
   ],
   "metadata": {
    "collapsed": false,
    "ExecuteTime": {
     "end_time": "2024-05-06T13:39:12.790136Z",
     "start_time": "2024-05-06T13:39:12.782072Z"
    }
   },
   "outputs": [
    {
     "data": {
      "text/plain": [
       "array([[ 2,  4,  6,  8],\n",
       "       [10, 12, 14, 16]])"
      ]
     },
     "execution_count": 13,
     "metadata": {},
     "output_type": "execute_result"
    }
   ],
   "execution_count": 13
  },
  {
   "cell_type": "code",
   "source": [
    "# COMO SE PUEDE COMPROBAR EN LISTAS NO REALIZA OPERACIONES MATEMATICAS\n",
    "lista = [1, 2, 3, 4, 5, 6, 7, 8]\n",
    "lista + lista"
   ],
   "metadata": {
    "collapsed": false,
    "ExecuteTime": {
     "end_time": "2024-05-06T13:42:02.554561Z",
     "start_time": "2024-05-06T13:42:02.548475Z"
    }
   },
   "outputs": [
    {
     "data": {
      "text/plain": [
       "[1, 2, 3, 4, 5, 6, 7, 8, 1, 2, 3, 4, 5, 6, 7, 8]"
      ]
     },
     "execution_count": 25,
     "metadata": {},
     "output_type": "execute_result"
    }
   ],
   "execution_count": 25
  },
  {
   "cell_type": "code",
   "source": [
    "arr - arr  # Sustracción"
   ],
   "metadata": {
    "collapsed": false,
    "ExecuteTime": {
     "end_time": "2024-05-06T13:42:03.787663Z",
     "start_time": "2024-05-06T13:42:03.779730Z"
    }
   },
   "outputs": [
    {
     "data": {
      "text/plain": [
       "array([[0, 0, 0, 0],\n",
       "       [0, 0, 0, 0]])"
      ]
     },
     "execution_count": 26,
     "metadata": {},
     "output_type": "execute_result"
    }
   ],
   "execution_count": 26
  },
  {
   "metadata": {
    "ExecuteTime": {
     "end_time": "2024-05-06T13:42:05.187781Z",
     "start_time": "2024-05-06T13:42:05.179457Z"
    }
   },
   "cell_type": "code",
   "source": "arr - 1",
   "outputs": [
    {
     "data": {
      "text/plain": [
       "array([[0, 1, 2, 3],\n",
       "       [4, 5, 6, 7]])"
      ]
     },
     "execution_count": 27,
     "metadata": {},
     "output_type": "execute_result"
    }
   ],
   "execution_count": 27
  },
  {
   "metadata": {
    "ExecuteTime": {
     "end_time": "2024-05-06T13:42:06.527946Z",
     "start_time": "2024-05-06T13:42:06.502949Z"
    }
   },
   "cell_type": "code",
   "source": "lista - 1",
   "outputs": [
    {
     "ename": "TypeError",
     "evalue": "unsupported operand type(s) for -: 'list' and 'int'",
     "output_type": "error",
     "traceback": [
      "\u001B[0;31m---------------------------------------------------------------------------\u001B[0m",
      "\u001B[0;31mTypeError\u001B[0m                                 Traceback (most recent call last)",
      "Cell \u001B[0;32mIn[28], line 1\u001B[0m\n\u001B[0;32m----> 1\u001B[0m \u001B[43mlista\u001B[49m\u001B[43m \u001B[49m\u001B[38;5;241;43m-\u001B[39;49m\u001B[43m \u001B[49m\u001B[38;5;241;43m1\u001B[39;49m\n",
      "\u001B[0;31mTypeError\u001B[0m: unsupported operand type(s) for -: 'list' and 'int'"
     ]
    }
   ],
   "execution_count": 28
  },
  {
   "cell_type": "code",
   "source": [
    "arr * arr  # Producto"
   ],
   "metadata": {
    "collapsed": false,
    "ExecuteTime": {
     "end_time": "2024-05-06T13:42:09.129545Z",
     "start_time": "2024-05-06T13:42:09.122317Z"
    }
   },
   "outputs": [
    {
     "data": {
      "text/plain": [
       "array([[ 1,  4,  9, 16],\n",
       "       [25, 36, 49, 64]])"
      ]
     },
     "execution_count": 29,
     "metadata": {},
     "output_type": "execute_result"
    }
   ],
   "execution_count": 29
  },
  {
   "metadata": {
    "ExecuteTime": {
     "end_time": "2024-05-06T13:42:11.035904Z",
     "start_time": "2024-05-06T13:42:11.027809Z"
    }
   },
   "cell_type": "code",
   "source": "lista * 3",
   "outputs": [
    {
     "data": {
      "text/plain": [
       "[1, 2, 3, 4, 5, 6, 7, 8, 1, 2, 3, 4, 5, 6, 7, 8, 1, 2, 3, 4, 5, 6, 7, 8]"
      ]
     },
     "execution_count": 30,
     "metadata": {},
     "output_type": "execute_result"
    }
   ],
   "execution_count": 30
  },
  {
   "cell_type": "code",
   "execution_count": 20,
   "outputs": [
    {
     "data": {
      "text/plain": "array([[       1,        4,       27,      256],\n       [    3125,    46656,   823543, 16777216]])"
     },
     "execution_count": 20,
     "metadata": {},
     "output_type": "execute_result"
    }
   ],
   "source": [
    "arr ** arr  # Exponenciación"
   ],
   "metadata": {
    "collapsed": false,
    "ExecuteTime": {
     "end_time": "2023-11-29T14:20:35.916213957Z",
     "start_time": "2023-11-29T14:20:35.848397695Z"
    }
   }
  },
  {
   "metadata": {
    "ExecuteTime": {
     "end_time": "2024-05-06T13:42:51.029310Z",
     "start_time": "2024-05-06T13:42:51.006363Z"
    }
   },
   "cell_type": "code",
   "source": "lista ** 2",
   "outputs": [
    {
     "ename": "TypeError",
     "evalue": "unsupported operand type(s) for ** or pow(): 'list' and 'int'",
     "output_type": "error",
     "traceback": [
      "\u001B[0;31m---------------------------------------------------------------------------\u001B[0m",
      "\u001B[0;31mTypeError\u001B[0m                                 Traceback (most recent call last)",
      "Cell \u001B[0;32mIn[33], line 1\u001B[0m\n\u001B[0;32m----> 1\u001B[0m \u001B[43mlista\u001B[49m\u001B[43m \u001B[49m\u001B[38;5;241;43m*\u001B[39;49m\u001B[38;5;241;43m*\u001B[39;49m\u001B[43m \u001B[49m\u001B[38;5;241;43m2\u001B[39;49m\n",
      "\u001B[0;31mTypeError\u001B[0m: unsupported operand type(s) for ** or pow(): 'list' and 'int'"
     ]
    }
   ],
   "execution_count": 33
  },
  {
   "cell_type": "code",
   "source": [
    "arr / arr  # División"
   ],
   "metadata": {
    "collapsed": false,
    "ExecuteTime": {
     "end_time": "2024-05-06T13:42:52.308514Z",
     "start_time": "2024-05-06T13:42:52.302823Z"
    }
   },
   "outputs": [
    {
     "data": {
      "text/plain": [
       "array([[1., 1., 1., 1.],\n",
       "       [1., 1., 1., 1.]])"
      ]
     },
     "execution_count": 34,
     "metadata": {},
     "output_type": "execute_result"
    }
   ],
   "execution_count": 34
  },
  {
   "metadata": {
    "ExecuteTime": {
     "end_time": "2024-05-06T13:43:13.991351Z",
     "start_time": "2024-05-06T13:43:13.957980Z"
    }
   },
   "cell_type": "code",
   "source": "lista / 2",
   "outputs": [
    {
     "ename": "TypeError",
     "evalue": "unsupported operand type(s) for /: 'list' and 'int'",
     "output_type": "error",
     "traceback": [
      "\u001B[0;31m---------------------------------------------------------------------------\u001B[0m",
      "\u001B[0;31mTypeError\u001B[0m                                 Traceback (most recent call last)",
      "Cell \u001B[0;32mIn[37], line 1\u001B[0m\n\u001B[0;32m----> 1\u001B[0m \u001B[43mlista\u001B[49m\u001B[43m \u001B[49m\u001B[38;5;241;43m/\u001B[39;49m\u001B[43m \u001B[49m\u001B[38;5;241;43m2\u001B[39;49m\n",
      "\u001B[0;31mTypeError\u001B[0m: unsupported operand type(s) for /: 'list' and 'int'"
     ]
    }
   ],
   "execution_count": 37
  },
  {
   "cell_type": "markdown",
   "metadata": {},
   "source": [
    "## Indexado de arrays\n",
    "\n",
    "Consideremos el siguiente array:\n"
   ]
  },
  {
   "cell_type": "code",
   "metadata": {
    "ExecuteTime": {
     "end_time": "2024-05-06T13:44:21.011852Z",
     "start_time": "2024-05-06T13:44:21.003103Z"
    }
   },
   "source": [
    "mi_array = np.array([[3,4,5,9],\n",
    "                       [7,8,3,12],\n",
    "                       [0,3,23,20],\n",
    "                       [8,11,6,21]])\n",
    "mi_array"
   ],
   "outputs": [
    {
     "data": {
      "text/plain": [
       "array([[ 3,  4,  5,  9],\n",
       "       [ 7,  8,  3, 12],\n",
       "       [ 0,  3, 23, 20],\n",
       "       [ 8, 11,  6, 21]])"
      ]
     },
     "execution_count": 38,
     "metadata": {},
     "output_type": "execute_result"
    }
   ],
   "execution_count": 38
  },
  {
   "cell_type": "code",
   "metadata": {
    "ExecuteTime": {
     "end_time": "2024-05-06T13:44:22.362185Z",
     "start_time": "2024-05-06T13:44:22.354347Z"
    }
   },
   "source": [
    "# Accesar al elemento de la fila 1 y columna 3\n",
    "mi_array[0,2]"
   ],
   "outputs": [
    {
     "data": {
      "text/plain": [
       "5"
      ]
     },
     "execution_count": 39,
     "metadata": {},
     "output_type": "execute_result"
    }
   ],
   "execution_count": 39
  },
  {
   "cell_type": "code",
   "metadata": {
    "ExecuteTime": {
     "end_time": "2024-05-06T13:44:26.995634Z",
     "start_time": "2024-05-06T13:44:26.990005Z"
    }
   },
   "source": [
    "# Accesar a la fila 1 desde la segunda columna hasta la tercera\n",
    "mi_array[0,1:3]"
   ],
   "outputs": [
    {
     "data": {
      "text/plain": [
       "array([4, 5])"
      ]
     },
     "execution_count": 40,
     "metadata": {},
     "output_type": "execute_result"
    }
   ],
   "execution_count": 40
  },
  {
   "cell_type": "code",
   "execution_count": 27,
   "metadata": {
    "ExecuteTime": {
     "end_time": "2023-11-29T14:22:14.987696992Z",
     "start_time": "2023-11-29T14:22:14.968852993Z"
    }
   },
   "outputs": [
    {
     "data": {
      "text/plain": "array([ 7,  8,  3, 12])"
     },
     "execution_count": 27,
     "metadata": {},
     "output_type": "execute_result"
    }
   ],
   "source": [
    "# Accesar a toda la fila 2\n",
    "mi_array[1,:]"
   ]
  },
  {
   "cell_type": "code",
   "execution_count": 28,
   "metadata": {
    "ExecuteTime": {
     "end_time": "2023-11-29T14:22:24.217168016Z",
     "start_time": "2023-11-29T14:22:24.152945603Z"
    }
   },
   "outputs": [
    {
     "data": {
      "text/plain": "array([[ 7,  8,  3, 12],\n       [ 0,  3, 23, 20]])"
     },
     "execution_count": 28,
     "metadata": {},
     "output_type": "execute_result"
    }
   ],
   "source": [
    "# Accesar a las filas 2 y 3\n",
    "mi_array[1:3,:]"
   ]
  },
  {
   "cell_type": "code",
   "execution_count": 39,
   "metadata": {
    "ExecuteTime": {
     "end_time": "2023-11-20T16:22:43.188954184Z",
     "start_time": "2023-11-20T16:22:43.174579006Z"
    }
   },
   "outputs": [
    {
     "data": {
      "text/plain": "array([ 5,  3, 23,  6])"
     },
     "execution_count": 39,
     "metadata": {},
     "output_type": "execute_result"
    }
   ],
   "source": [
    "# Accesar a la columna 3\n",
    "mi_array[:,2]"
   ]
  },
  {
   "cell_type": "code",
   "execution_count": 29,
   "metadata": {
    "ExecuteTime": {
     "end_time": "2023-11-29T14:22:39.701431991Z",
     "start_time": "2023-11-29T14:22:39.643376662Z"
    }
   },
   "outputs": [
    {
     "data": {
      "text/plain": "array([ 9, 12, 20, 21])"
     },
     "execution_count": 29,
     "metadata": {},
     "output_type": "execute_result"
    }
   ],
   "source": [
    "# Accesar a la última columna\n",
    "mi_array[:,-1]"
   ]
  },
  {
   "metadata": {},
   "cell_type": "markdown",
   "source": "Logicamente a todos esos accesores les podriamos aplicar las operaciones vistas anteriormente"
  },
  {
   "cell_type": "markdown",
   "metadata": {},
   "source": [
    "## Observación importante sobre los índices\n",
    "\n",
    "Es importante saber que el indexado de arrays puede cambiar el objeto original.\n",
    "\n"
   ]
  },
  {
   "cell_type": "code",
   "metadata": {
    "ExecuteTime": {
     "end_time": "2024-05-06T13:46:32.505785Z",
     "start_time": "2024-05-06T13:46:32.498248Z"
    }
   },
   "source": [
    "# Consideremos la siguiente matriz\n",
    "matriz = np.array([[1,2,3,4],[5,6,7,8],[9,10,11,12]])\n",
    "matriz"
   ],
   "outputs": [
    {
     "data": {
      "text/plain": [
       "array([[ 1,  2,  3,  4],\n",
       "       [ 5,  6,  7,  8],\n",
       "       [ 9, 10, 11, 12]])"
      ]
     },
     "execution_count": 41,
     "metadata": {},
     "output_type": "execute_result"
    }
   ],
   "execution_count": 41
  },
  {
   "cell_type": "code",
   "metadata": {
    "ExecuteTime": {
     "end_time": "2024-05-06T13:46:34.375496Z",
     "start_time": "2024-05-06T13:46:34.366015Z"
    }
   },
   "source": [
    "seleccion = matriz[1,1]\n",
    "print(seleccion)\n",
    "seleccion = 100\n",
    "matriz"
   ],
   "outputs": [
    {
     "name": "stdout",
     "output_type": "stream",
     "text": [
      "6\n"
     ]
    },
    {
     "data": {
      "text/plain": [
       "array([[ 1,  2,  3,  4],\n",
       "       [ 5,  6,  7,  8],\n",
       "       [ 9, 10, 11, 12]])"
      ]
     },
     "execution_count": 42,
     "metadata": {},
     "output_type": "execute_result"
    }
   ],
   "execution_count": 42
  },
  {
   "cell_type": "code",
   "metadata": {
    "ExecuteTime": {
     "end_time": "2024-05-06T13:46:51.824337Z",
     "start_time": "2024-05-06T13:46:51.819733Z"
    }
   },
   "source": [
    "seccion = matriz[:2,]\n",
    "print(seccion)\n"
   ],
   "outputs": [
    {
     "name": "stdout",
     "output_type": "stream",
     "text": [
      "[[1 2 3 4]\n",
      " [5 6 7 8]]\n"
     ]
    }
   ],
   "execution_count": 43
  },
  {
   "cell_type": "code",
   "metadata": {
    "ExecuteTime": {
     "end_time": "2024-05-06T13:47:29.488929Z",
     "start_time": "2024-05-06T13:47:29.480970Z"
    }
   },
   "source": [
    "seccion[0,0]\n",
    "seccion[0,0] = 100\n",
    "matriz"
   ],
   "outputs": [
    {
     "data": {
      "text/plain": [
       "array([[100,   2,   3,   4],\n",
       "       [  5,   6,   7,   8],\n",
       "       [  9,  10,  11,  12]])"
      ]
     },
     "execution_count": 44,
     "metadata": {},
     "output_type": "execute_result"
    }
   ],
   "execution_count": 44
  },
  {
   "cell_type": "markdown",
   "metadata": {},
   "source": [
    "## Filtrados\n",
    "\n",
    "Consideremos la siguiente matriz"
   ]
  },
  {
   "cell_type": "code",
   "metadata": {
    "ExecuteTime": {
     "end_time": "2024-05-06T13:47:42.765485Z",
     "start_time": "2024-05-06T13:47:42.756830Z"
    }
   },
   "source": [
    "matriz = np.array([[1,4],[2,4],[5,0]])\n",
    "matriz"
   ],
   "outputs": [
    {
     "data": {
      "text/plain": [
       "array([[1, 4],\n",
       "       [2, 4],\n",
       "       [5, 0]])"
      ]
     },
     "execution_count": 45,
     "metadata": {},
     "output_type": "execute_result"
    }
   ],
   "execution_count": 45
  },
  {
   "cell_type": "code",
   "metadata": {
    "ExecuteTime": {
     "end_time": "2024-05-06T13:48:04.935963Z",
     "start_time": "2024-05-06T13:48:04.926608Z"
    }
   },
   "source": [
    "# Construir una matriz booleana que nos diga qué elementos son mayores o iguales que 2\n",
    "matriz_filtrada = matriz >= 2\n",
    "matriz_filtrada"
   ],
   "outputs": [
    {
     "data": {
      "text/plain": [
       "array([[False,  True],\n",
       "       [ True,  True],\n",
       "       [ True, False]])"
      ]
     },
     "execution_count": 46,
     "metadata": {},
     "output_type": "execute_result"
    }
   ],
   "execution_count": 46
  },
  {
   "cell_type": "code",
   "metadata": {
    "ExecuteTime": {
     "end_time": "2024-05-06T13:48:39.300510Z",
     "start_time": "2024-05-06T13:48:39.295145Z"
    }
   },
   "source": [
    "matriz[matriz_filtrada]"
   ],
   "outputs": [
    {
     "data": {
      "text/plain": [
       "array([4, 2, 4, 5])"
      ]
     },
     "execution_count": 47,
     "metadata": {},
     "output_type": "execute_result"
    }
   ],
   "execution_count": 47
  },
  {
   "cell_type": "code",
   "execution_count": null,
   "outputs": [],
   "source": [],
   "metadata": {
    "collapsed": false
   }
  }
 ],
 "metadata": {
  "kernelspec": {
   "display_name": "Python 3",
   "language": "python",
   "name": "python3"
  },
  "language_info": {
   "codemirror_mode": {
    "name": "ipython",
    "version": 3
   },
   "file_extension": ".py",
   "mimetype": "text/x-python",
   "name": "python",
   "nbconvert_exporter": "python",
   "pygments_lexer": "ipython3",
   "version": "3.7.7"
  }
 },
 "nbformat": 4,
 "nbformat_minor": 4
}
