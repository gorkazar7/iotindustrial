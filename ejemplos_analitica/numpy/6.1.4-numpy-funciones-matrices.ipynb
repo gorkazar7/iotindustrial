{
 "cells": [
  {
   "cell_type": "markdown",
   "metadata": {},
   "source": [
    "# Gestión y análisis de datos."
   ]
  },
  {
   "cell_type": "code",
   "execution_count": 2,
   "metadata": {
    "scrolled": true,
    "ExecuteTime": {
     "end_time": "2023-11-29T14:25:32.680698474Z",
     "start_time": "2023-11-29T14:25:32.505694714Z"
    }
   },
   "outputs": [],
   "source": [
    "import numpy as np"
   ]
  },
  {
   "cell_type": "markdown",
   "metadata": {},
   "source": [
    "Debido a las características de los arrays de *Numpy* para hacer \"broadcasting\", la biblioteca cuenta con una amplia gama de funciones se transmiten a los elementos seleccionados de un array."
   ]
  },
  {
   "cell_type": "markdown",
   "metadata": {},
   "source": [
    "## Funciones trigonométricas."
   ]
  },
  {
   "cell_type": "markdown",
   "metadata": {},
   "source": [
    "### La función ```np.sin()```.\n",
    "\n",
    "Regresa un array en el que cada elemento es el seno de un ángulo expresado en radianes calculado a partir de cada elemento del array que se ingresa como argumento.\n",
    "\n",
    "La documentación de dicha función se encuentra en:\n",
    "\n",
    "https://numpy.org/doc/stable/reference/generated/numpy.sin.html"
   ]
  },
  {
   "cell_type": "markdown",
   "metadata": {},
   "source": [
    "### La función ```np.cos()```.\n",
    "\n",
    "Regresa un array en el que cada elemento es el coseno de un ángulo expresado en radianes calculado a partir de cada elemento del array que se ingresa como argumento.\n",
    "\n",
    "La documentación de dicha función se encuentra en:\n",
    "\n",
    "https://numpy.org/doc/stable/reference/generated/numpy.cos.html"
   ]
  },
  {
   "cell_type": "markdown",
   "metadata": {},
   "source": [
    "### La función ```np.tan()```.\n",
    "\n",
    "Regresa un array en el que cada elemento es la tangente de un ángulo expresado en radianes calculado a partir de cada elemento del array que se ingresa como argumento.\n",
    "\n",
    "La documentación de dicha función se encuentra en:\n",
    "\n",
    "https://numpy.org/doc/stable/reference/generated/numpy.tan.html"
   ]
  },
  {
   "cell_type": "markdown",
   "metadata": {},
   "source": [
    "### La función ```np.sinh()```.\n",
    "\n",
    "Regresa un array en el que cada elemento es el seno hiperbólico de un ángulo expresado en radianes calculado a partir de cada elemento del array que se ingresa como argumento.\n",
    "\n",
    "La documentación de dicha función se encuentra en:\n",
    "\n",
    "https://numpy.org/doc/stable/reference/generated/numpy.sinh.html"
   ]
  },
  {
   "cell_type": "markdown",
   "metadata": {},
   "source": [
    "### La función ```np.cosh()```.\n",
    "\n",
    "Regresa un array en el que cada elemento es el coseno hiperbólico de un ángulo expresado en radianes calculado a partir de cada elemento del array que se ingresa como argumento.\n",
    "\n",
    "La documentación de dicha función se encuentra en:\n",
    "\n",
    "https://numpy.org/doc/stable/reference/generated/numpy.cosh.html"
   ]
  },
  {
   "cell_type": "markdown",
   "metadata": {},
   "source": [
    "### La función ```np.tanh()```.\n",
    "\n",
    "Regresa un array en el que cada elemento es la tangente hiperbólica de un ángulo expresado en radianes calculado a partir de cada elemento del array que se ingresa como argumento.\n",
    "\n",
    "La documentación de dicha función se encuentra en:\n",
    "\n",
    "https://numpy.org/doc/stable/reference/generated/numpy.tanh.html"
   ]
  },
  {
   "cell_type": "markdown",
   "metadata": {},
   "source": [
    "### La función ```np.arcsin()```.\n",
    "\n",
    "Regresa un array en el que cada elemento corresponde ángulo expresado en radianes calculado a partir del inverso del seno de cada elemento del array que se ingresa como argumento.\n",
    "\n",
    "La documentación de dicha función se encuentra en:\n",
    "\n",
    "https://numpy.org/doc/stable/reference/generated/numpy.arcsin.html"
   ]
  },
  {
   "cell_type": "markdown",
   "metadata": {},
   "source": [
    "### La función ```np.arccos()```.\n",
    "\n",
    "Regresa un array en el que cada elemento corresponde ángulo expresado en radianes calculado a partir del inverso del coseno de cada elemento del array que se ingresa como argumento.\n",
    "\n",
    "La documentación de dicha función se encuentra en:\n",
    "\n",
    "https://numpy.org/doc/stable/reference/generated/numpy.arccos.html"
   ]
  },
  {
   "cell_type": "markdown",
   "metadata": {},
   "source": [
    "### La función ```np.arctan()```.\n",
    "\n",
    "Regresa un array en el que cada elemento corresponde ángulo expresado en radianes calculado a partir del inverso tangente de cada elemento del array que se ingresa como argumento.\n",
    "\n",
    "La documentación de dicha función se encuentra en:\n",
    "\n",
    "https://numpy.org/doc/stable/reference/generated/numpy.arctan.html"
   ]
  },
  {
   "cell_type": "markdown",
   "metadata": {},
   "source": [
    "### La función ```np.arctan2()```.\n",
    "\n",
    "Regresa un array en el que cada elemento corresponde ángulo expresado en radianes calculado a partir del inverso la tangente formado por cada elemento del array que se ingresa como primer argumento tomado como la longitud del lado opuesto y por cada elemento del array que se ingresa como segundo argumento tomado como la longitud del lado adyacente.\n",
    "\n",
    "La documentación de dicha función se encuentra en:\n",
    "\n",
    "https://numpy.org/doc/stable/reference/generated/numpy.arctan.html"
   ]
  },
  {
   "cell_type": "markdown",
   "metadata": {},
   "source": [
    "### La función ```np.arcsinh()```.\n",
    "\n",
    "Regresa un array en el que cada elemento corresponde ángulo expresado en radianes calculado a partir del inverso del seno hiperbólico formado por cada elemento del array que se ingresa como primer argumento.\n",
    "\n",
    "La documentación de dicha función se encuentra en:\n",
    "\n",
    "https://numpy.org/doc/stable/reference/generated/numpy.arcsinh.html"
   ]
  },
  {
   "cell_type": "markdown",
   "metadata": {},
   "source": [
    "### La función ```np.arccosh()```.\n",
    "\n",
    "Regresa un array en el que cada elemento corresponde ángulo expresado en radianes calculado a partir del inverso del coseno hiperbólico formado por cada elemento del array que se ingresa como primer argumento.\n",
    "\n",
    "La documentación de dicha función se encuentra en:\n",
    "\n",
    "https://numpy.org/doc/stable/reference/generated/numpy.arccosh.html"
   ]
  },
  {
   "cell_type": "markdown",
   "metadata": {},
   "source": [
    "### La función ```np.arctanh()```.\n",
    "\n",
    "Regresa un array en el que cada elemento corresponde ángulo expresado en radianes calculado a partir del inverso de la tangente hiperbólica formada por cada elemento del array que se ingresa como primer argumento.\n",
    "\n",
    "La documentación de dicha función se encuentra en:\n",
    "\n",
    "https://numpy.org/doc/stable/reference/generated/numpy.arccosh.html"
   ]
  },
  {
   "cell_type": "markdown",
   "metadata": {},
   "source": [
    "### La función ```np.arctan2h()```.\n",
    "\n",
    "Regresa un array en el que cada elemento corresponde ángulo expresado en radianes calculado a partir del inverso de la tangente hiperbólica calculada partir de dos arrays que se ingresan como argumentos y que corresponden al lado opuesto y al adyacente.\n",
    "\n",
    "La documentación de dicha función se encuentra en:\n",
    "\n",
    "https://numpy.org/doc/stable/reference/generated/numpy.arctan2h.html"
   ]
  },
  {
   "cell_type": "markdown",
   "metadata": {},
   "source": [
    "### La función  ```np.hypot()```.\n",
    "\n",
    "Regresa un array en el que cada elemento corresponde a la hipotenusa de un triángulo  rectángulo calculado a partir del inverso de la tangente hiperbólica calculada partir de dos arrays que se ingresan como argumentos y que corresponden al lado opuesto y al adyacente.\n",
    "\n",
    "La documentación de dicha función se encuentra en:\n",
    "\n",
    "https://numpy.org/doc/stable/reference/generated/numpy.hypot.html"
   ]
  },
  {
   "cell_type": "markdown",
   "metadata": {},
   "source": [
    "### Las funciones  ```np.deg2rad()``` y ```np.radians()```.\n",
    "\n",
    "Estas funcones regresan un array en el que cada elemento corresponde a un ángulo en radianes a partir de un array que contiene ámgulos en grados.\n",
    "\n",
    "La documentación de dicha función se encuentra en:\n",
    "\n",
    "https://numpy.org/doc/stable/reference/generated/numpy.radians.html"
   ]
  },
  {
   "cell_type": "markdown",
   "metadata": {},
   "source": [
    "### Las funciones  ```np.rad2deg()``` y ```np.degrees()```.\n",
    "\n",
    "Estas funcones regresan un array en el que cada elemento corresponde a un ángulo en grados a partir de un array que contiene ángulos en radianes.\n",
    "\n",
    "La documentación de dicha función se encuentra en:\n",
    "\n",
    "https://numpy.org/doc/stable/reference/generated/numpy.degrees.html"
   ]
  },
  {
   "cell_type": "markdown",
   "metadata": {},
   "source": [
    "**Ejemplos:**"
   ]
  },
  {
   "cell_type": "code",
   "execution_count": 3,
   "metadata": {
    "scrolled": true,
    "ExecuteTime": {
     "end_time": "2023-11-29T14:25:39.492985729Z",
     "start_time": "2023-11-29T14:25:39.469374005Z"
    }
   },
   "outputs": [],
   "source": [
    "opuesto = np.ones((4,4))"
   ]
  },
  {
   "cell_type": "code",
   "execution_count": 4,
   "metadata": {
    "scrolled": true,
    "ExecuteTime": {
     "end_time": "2023-11-29T14:25:40.004492450Z",
     "start_time": "2023-11-29T14:25:39.936081814Z"
    }
   },
   "outputs": [
    {
     "data": {
      "text/plain": "array([[1., 1., 1., 1.],\n       [1., 1., 1., 1.],\n       [1., 1., 1., 1.],\n       [1., 1., 1., 1.]])"
     },
     "execution_count": 4,
     "metadata": {},
     "output_type": "execute_result"
    }
   ],
   "source": [
    "opuesto"
   ]
  },
  {
   "cell_type": "code",
   "execution_count": 5,
   "metadata": {
    "scrolled": true,
    "ExecuteTime": {
     "end_time": "2023-11-29T14:25:40.787043205Z",
     "start_time": "2023-11-29T14:25:40.736678384Z"
    }
   },
   "outputs": [],
   "source": [
    "adyacente = np.ones((4,4))"
   ]
  },
  {
   "cell_type": "code",
   "execution_count": 6,
   "metadata": {
    "scrolled": true,
    "ExecuteTime": {
     "end_time": "2023-11-29T14:25:41.425026812Z",
     "start_time": "2023-11-29T14:25:41.399922166Z"
    }
   },
   "outputs": [
    {
     "data": {
      "text/plain": "array([[1., 1., 1., 1.],\n       [1., 1., 1., 1.],\n       [1., 1., 1., 1.],\n       [1., 1., 1., 1.]])"
     },
     "execution_count": 6,
     "metadata": {},
     "output_type": "execute_result"
    }
   ],
   "source": [
    "adyacente"
   ]
  },
  {
   "cell_type": "code",
   "execution_count": 7,
   "metadata": {
    "scrolled": true,
    "ExecuteTime": {
     "end_time": "2023-11-29T14:25:41.725276333Z",
     "start_time": "2023-11-29T14:25:41.537954419Z"
    }
   },
   "outputs": [],
   "source": [
    "angulo = np.arctan2(opuesto, adyacente)"
   ]
  },
  {
   "cell_type": "code",
   "execution_count": 8,
   "metadata": {
    "scrolled": false,
    "ExecuteTime": {
     "end_time": "2023-11-29T14:25:42.070999361Z",
     "start_time": "2023-11-29T14:25:41.955537143Z"
    }
   },
   "outputs": [
    {
     "data": {
      "text/plain": "array([[0.78539816, 0.78539816, 0.78539816, 0.78539816],\n       [0.78539816, 0.78539816, 0.78539816, 0.78539816],\n       [0.78539816, 0.78539816, 0.78539816, 0.78539816],\n       [0.78539816, 0.78539816, 0.78539816, 0.78539816]])"
     },
     "execution_count": 8,
     "metadata": {},
     "output_type": "execute_result"
    }
   ],
   "source": [
    "angulo"
   ]
  },
  {
   "cell_type": "code",
   "execution_count": 9,
   "metadata": {
    "scrolled": true,
    "ExecuteTime": {
     "end_time": "2023-11-29T14:25:42.917358300Z",
     "start_time": "2023-11-29T14:25:42.797397157Z"
    }
   },
   "outputs": [
    {
     "data": {
      "text/plain": "array([44.99999981])"
     },
     "execution_count": 9,
     "metadata": {},
     "output_type": "execute_result"
    }
   ],
   "source": [
    "np.degrees([0.78539816])"
   ]
  },
  {
   "cell_type": "code",
   "execution_count": 10,
   "metadata": {
    "scrolled": true,
    "ExecuteTime": {
     "end_time": "2023-11-29T14:25:43.306002071Z",
     "start_time": "2023-11-29T14:25:43.273483732Z"
    }
   },
   "outputs": [
    {
     "data": {
      "text/plain": "array([[45., 45., 45., 45.],\n       [45., 45., 45., 45.],\n       [45., 45., 45., 45.],\n       [45., 45., 45., 45.]])"
     },
     "execution_count": 10,
     "metadata": {},
     "output_type": "execute_result"
    }
   ],
   "source": [
    "np.degrees(angulo)"
   ]
  },
  {
   "cell_type": "markdown",
   "source": [
    "## Funciones Universales binarias"
   ],
   "metadata": {
    "collapsed": false
   }
  },
  {
   "cell_type": "markdown",
   "source": [
    "* ```add``` Suma entre elementos correspondientes entre arrays\n",
    "* ```subtract``` Resta entre elementos de arrays\n",
    "* ```multiply``` Multiplica arrays\n",
    "* ```divide, floor_divide``` Divide o división truncada\n",
    "* ```array_equal``` Devuelve `True` si los elementos del array son iguales entre sí\n",
    "* ```power``` Eleva cada elemento del primer array a la potencia indicada en el segundo array\n",
    "* ```fmin``` Devuelve el mínimo entre cada elemento. `fmin` ignora los `NaN`\n",
    "* ```fmax``` Devuelve el máximo entre cada elemento. `fmax` ignora los `NaN`"
   ],
   "metadata": {
    "collapsed": false
   }
  },
  {
   "cell_type": "code",
   "execution_count": 11,
   "outputs": [],
   "source": [
    "arr = np.array([5,36,17,18,9])\n",
    "\n",
    "arr_2 = np.array([8,24,17,19,9])"
   ],
   "metadata": {
    "collapsed": false,
    "ExecuteTime": {
     "end_time": "2023-11-29T14:25:54.504147872Z",
     "start_time": "2023-11-29T14:25:54.478742565Z"
    }
   }
  },
  {
   "cell_type": "code",
   "execution_count": 12,
   "outputs": [
    {
     "data": {
      "text/plain": "array([13, 60, 34, 37, 18])"
     },
     "execution_count": 12,
     "metadata": {},
     "output_type": "execute_result"
    }
   ],
   "source": [
    "np.add(arr,arr_2)"
   ],
   "metadata": {
    "collapsed": false,
    "ExecuteTime": {
     "end_time": "2023-11-29T14:26:00.724866574Z",
     "start_time": "2023-11-29T14:26:00.666355697Z"
    }
   }
  },
  {
   "cell_type": "code",
   "execution_count": 13,
   "outputs": [
    {
     "data": {
      "text/plain": "array([13, 60, 34, 37, 18])"
     },
     "execution_count": 13,
     "metadata": {},
     "output_type": "execute_result"
    }
   ],
   "source": [
    "arr + arr_2"
   ],
   "metadata": {
    "collapsed": false,
    "ExecuteTime": {
     "end_time": "2023-11-29T14:26:35.490415165Z",
     "start_time": "2023-11-29T14:26:35.259438963Z"
    }
   }
  },
  {
   "cell_type": "code",
   "execution_count": 14,
   "outputs": [
    {
     "data": {
      "text/plain": "array([-3, 12,  0, -1,  0])"
     },
     "execution_count": 14,
     "metadata": {},
     "output_type": "execute_result"
    }
   ],
   "source": [
    "np.subtract(arr,arr_2)\n"
   ],
   "metadata": {
    "collapsed": false,
    "ExecuteTime": {
     "end_time": "2023-11-29T14:26:48.511078742Z",
     "start_time": "2023-11-29T14:26:48.445152685Z"
    }
   }
  },
  {
   "cell_type": "code",
   "execution_count": 15,
   "outputs": [
    {
     "data": {
      "text/plain": "array([ 40, 864, 289, 342,  81])"
     },
     "execution_count": 15,
     "metadata": {},
     "output_type": "execute_result"
    }
   ],
   "source": [
    "np.multiply(arr,arr_2)"
   ],
   "metadata": {
    "collapsed": false,
    "ExecuteTime": {
     "end_time": "2023-11-29T14:26:50.068757345Z",
     "start_time": "2023-11-29T14:26:50.007307949Z"
    }
   }
  },
  {
   "cell_type": "code",
   "execution_count": 16,
   "outputs": [
    {
     "data": {
      "text/plain": "array([0.625     , 1.5       , 1.        , 0.94736842, 1.        ])"
     },
     "execution_count": 16,
     "metadata": {},
     "output_type": "execute_result"
    }
   ],
   "source": [
    "np.divide(arr,arr_2)"
   ],
   "metadata": {
    "collapsed": false,
    "ExecuteTime": {
     "end_time": "2023-11-29T14:26:52.543692411Z",
     "start_time": "2023-11-29T14:26:52.474192893Z"
    }
   }
  },
  {
   "cell_type": "code",
   "execution_count": 17,
   "outputs": [
    {
     "data": {
      "text/plain": "False"
     },
     "execution_count": 17,
     "metadata": {},
     "output_type": "execute_result"
    }
   ],
   "source": [
    "np.array_equal(arr,arr_2)"
   ],
   "metadata": {
    "collapsed": false,
    "ExecuteTime": {
     "end_time": "2023-11-29T14:26:52.947960068Z",
     "start_time": "2023-11-29T14:26:52.911585884Z"
    }
   }
  },
  {
   "cell_type": "code",
   "execution_count": 18,
   "outputs": [
    {
     "data": {
      "text/plain": "array([ 5, 24, 17, 18,  9])"
     },
     "execution_count": 18,
     "metadata": {},
     "output_type": "execute_result"
    }
   ],
   "source": [
    "np.fmin(arr,arr_2)"
   ],
   "metadata": {
    "collapsed": false,
    "ExecuteTime": {
     "end_time": "2023-11-29T14:26:56.649081042Z",
     "start_time": "2023-11-29T14:26:56.617219652Z"
    }
   }
  },
  {
   "cell_type": "code",
   "execution_count": 19,
   "outputs": [
    {
     "data": {
      "text/plain": "array([ 8, 36, 17, 19,  9])"
     },
     "execution_count": 19,
     "metadata": {},
     "output_type": "execute_result"
    }
   ],
   "source": [
    "np.fmax(arr,arr_2)"
   ],
   "metadata": {
    "collapsed": false,
    "ExecuteTime": {
     "end_time": "2023-11-29T14:27:09.342983849Z",
     "start_time": "2023-11-29T14:27:09.268337430Z"
    }
   }
  },
  {
   "cell_type": "markdown",
   "metadata": {},
   "source": [
    "## Funciones da valor."
   ]
  },
  {
   "cell_type": "markdown",
   "metadata": {},
   "source": [
    "* ```np.abs()```\n",
    "* ```np.around()```\n",
    "* ```np.ceil()```\n",
    "* ```np.exp()```\n",
    "* ```np.exp2()```\n",
    "* ```np.fabs()```\n",
    "* ```np.fix()```\n",
    "* ```np.floor()```\n",
    "* ```np.log()```\n",
    "* ```np.log10()```\n",
    "* ```np.log1p()```\n",
    "* ```np.log2()```\n",
    "* ```np.logaddexp()```\n",
    "* ```np.logaddexp2()```\n",
    "* ```np.round()```"
   ]
  },
  {
   "cell_type": "code",
   "execution_count": 20,
   "metadata": {
    "scrolled": true,
    "ExecuteTime": {
     "end_time": "2023-11-29T14:27:32.784111614Z",
     "start_time": "2023-11-29T14:27:32.711107898Z"
    }
   },
   "outputs": [],
   "source": [
    "numeros = np.array([[1.43, -1, 45.9999, -3.41],\n",
    "                   [np.inf, -np.inf, np.inf, np.inf],\n",
    "                   [np.nan, 13.45, 11, 21]])"
   ]
  },
  {
   "cell_type": "code",
   "execution_count": 21,
   "metadata": {
    "scrolled": true,
    "ExecuteTime": {
     "end_time": "2023-11-29T14:27:38.106779097Z",
     "start_time": "2023-11-29T14:27:38.077166407Z"
    }
   },
   "outputs": [
    {
     "data": {
      "text/plain": "array([[ 1.43  , -1.    , 45.9999, -3.41  ],\n       [    inf,    -inf,     inf,     inf],\n       [    nan, 13.45  , 11.    , 21.    ]])"
     },
     "execution_count": 21,
     "metadata": {},
     "output_type": "execute_result"
    }
   ],
   "source": [
    "numeros"
   ]
  },
  {
   "cell_type": "code",
   "execution_count": 22,
   "metadata": {
    "scrolled": true,
    "ExecuteTime": {
     "end_time": "2023-11-29T14:27:42.698026842Z",
     "start_time": "2023-11-29T14:27:42.650091846Z"
    }
   },
   "outputs": [
    {
     "data": {
      "text/plain": "array([[ 1.43  ,  1.    , 45.9999,  3.41  ],\n       [    inf,     inf,     inf,     inf],\n       [    nan, 13.45  , 11.    , 21.    ]])"
     },
     "execution_count": 22,
     "metadata": {},
     "output_type": "execute_result"
    }
   ],
   "source": [
    "np.abs(numeros)"
   ]
  },
  {
   "cell_type": "code",
   "execution_count": 23,
   "metadata": {
    "scrolled": true,
    "ExecuteTime": {
     "end_time": "2023-11-29T14:27:43.032468947Z",
     "start_time": "2023-11-29T14:27:42.990390881Z"
    }
   },
   "outputs": [
    {
     "data": {
      "text/plain": "array([[  1.,  -1.,  45.,  -4.],\n       [ inf, -inf,  inf,  inf],\n       [ nan,  13.,  11.,  21.]])"
     },
     "execution_count": 23,
     "metadata": {},
     "output_type": "execute_result"
    }
   ],
   "source": [
    "np.floor(numeros)"
   ]
  },
  {
   "cell_type": "code",
   "execution_count": 24,
   "metadata": {
    "scrolled": true,
    "ExecuteTime": {
     "end_time": "2023-11-29T14:27:43.470042542Z",
     "start_time": "2023-11-29T14:27:43.437004890Z"
    }
   },
   "outputs": [
    {
     "data": {
      "text/plain": "array([[  2.,  -1.,  46.,  -3.],\n       [ inf, -inf,  inf,  inf],\n       [ nan,  14.,  11.,  21.]])"
     },
     "execution_count": 24,
     "metadata": {},
     "output_type": "execute_result"
    }
   ],
   "source": [
    "np.ceil(numeros)"
   ]
  },
  {
   "cell_type": "code",
   "execution_count": 25,
   "metadata": {
    "scrolled": true,
    "ExecuteTime": {
     "end_time": "2023-11-29T14:27:44.066204019Z",
     "start_time": "2023-11-29T14:27:44.022962232Z"
    }
   },
   "outputs": [
    {
     "data": {
      "text/plain": "array([[  1.,  -1.,  46.,  -3.],\n       [ inf, -inf,  inf,  inf],\n       [ nan,  13.,  11.,  21.]])"
     },
     "execution_count": 25,
     "metadata": {},
     "output_type": "execute_result"
    }
   ],
   "source": [
    "np.round(numeros)"
   ]
  },
  {
   "cell_type": "code",
   "execution_count": 26,
   "metadata": {
    "scrolled": true,
    "ExecuteTime": {
     "end_time": "2023-11-29T14:27:45.463113945Z",
     "start_time": "2023-11-29T14:27:45.432593782Z"
    }
   },
   "outputs": [
    {
     "name": "stderr",
     "output_type": "stream",
     "text": [
      "/tmp/ipykernel_1035103/962327847.py:1: RuntimeWarning: invalid value encountered in log\n",
      "  np.log(numeros)\n"
     ]
    },
    {
     "data": {
      "text/plain": "array([[0.35767444,        nan, 3.82863922,        nan],\n       [       inf,        nan,        inf,        inf],\n       [       nan, 2.59897911, 2.39789527, 3.04452244]])"
     },
     "execution_count": 26,
     "metadata": {},
     "output_type": "execute_result"
    }
   ],
   "source": [
    "np.log(numeros)"
   ]
  },
  {
   "cell_type": "markdown",
   "metadata": {},
   "source": [
    "## Funciones de evaluación de arrays.\n",
    "\n",
    "* ```np.iscomplex()```\n",
    "* ```np.isfinite()```\n",
    "* ```np.isin()```\n",
    "* ```np.isinf()```\n",
    "* ```np.isnan()```\n",
    "* ```np.isnat()```\n",
    "* ```np.isneginf()```\n",
    "* ```np.isposinf()```\n",
    "* ```np.isreal()```\n",
    "* ```np.isscalar()```"
   ]
  },
  {
   "cell_type": "code",
   "execution_count": 27,
   "metadata": {
    "scrolled": true,
    "ExecuteTime": {
     "end_time": "2023-11-29T14:27:52.474602890Z",
     "start_time": "2023-11-29T14:27:52.421812394Z"
    }
   },
   "outputs": [
    {
     "data": {
      "text/plain": "array([[ 1.43  , -1.    , 45.9999, -3.41  ],\n       [    inf,    -inf,     inf,     inf],\n       [    nan, 13.45  , 11.    , 21.    ]])"
     },
     "execution_count": 27,
     "metadata": {},
     "output_type": "execute_result"
    }
   ],
   "source": [
    "numeros"
   ]
  },
  {
   "cell_type": "code",
   "execution_count": 28,
   "metadata": {
    "scrolled": true,
    "ExecuteTime": {
     "end_time": "2023-11-29T14:27:53.337194128Z",
     "start_time": "2023-11-29T14:27:53.298587926Z"
    }
   },
   "outputs": [
    {
     "data": {
      "text/plain": "array([[ True,  True,  True,  True],\n       [False, False, False, False],\n       [False,  True,  True,  True]])"
     },
     "execution_count": 28,
     "metadata": {},
     "output_type": "execute_result"
    }
   ],
   "source": [
    "np.isfinite(numeros)"
   ]
  },
  {
   "cell_type": "code",
   "execution_count": 29,
   "metadata": {
    "scrolled": true,
    "ExecuteTime": {
     "end_time": "2023-11-29T14:27:56.894412107Z",
     "start_time": "2023-11-29T14:27:56.825881233Z"
    }
   },
   "outputs": [
    {
     "data": {
      "text/plain": "array([[False, False, False, False],\n       [False, False, False, False],\n       [ True, False, False, False]])"
     },
     "execution_count": 29,
     "metadata": {},
     "output_type": "execute_result"
    }
   ],
   "source": [
    "np.isnan(numeros)"
   ]
  },
  {
   "cell_type": "code",
   "execution_count": 30,
   "metadata": {
    "scrolled": true,
    "ExecuteTime": {
     "end_time": "2023-11-29T14:27:58.430363908Z",
     "start_time": "2023-11-29T14:27:58.363863041Z"
    }
   },
   "outputs": [
    {
     "data": {
      "text/plain": "array([[ True,  True,  True,  True],\n       [ True,  True,  True,  True],\n       [ True,  True,  True,  True]])"
     },
     "execution_count": 30,
     "metadata": {},
     "output_type": "execute_result"
    }
   ],
   "source": [
    "np.isreal(numeros)"
   ]
  },
  {
   "cell_type": "markdown",
   "metadata": {},
   "source": [
    "## Funciones lógicas."
   ]
  },
  {
   "cell_type": "markdown",
   "metadata": {},
   "source": [
    "* ```np.all()```\n",
    "* ```np.any()```\n",
    "* ```np.logical_and()```\n",
    "* ```np.logical_not()```\n",
    "* ```np.logical_or()```\n",
    "* ```np.logical_xor()```"
   ]
  },
  {
   "cell_type": "code",
   "execution_count": 31,
   "metadata": {
    "scrolled": true,
    "ExecuteTime": {
     "end_time": "2023-11-29T14:28:16.497522876Z",
     "start_time": "2023-11-29T14:28:16.408444554Z"
    }
   },
   "outputs": [],
   "source": [
    "booleana = np.array([[0, 1, 1],\n",
    "                   [1, 0, 1],\n",
    "                   [1, 1, 1,]], dtype=np.bool_)"
   ]
  },
  {
   "cell_type": "code",
   "execution_count": 32,
   "metadata": {
    "scrolled": true,
    "ExecuteTime": {
     "end_time": "2023-11-29T14:28:18.179248748Z",
     "start_time": "2023-11-29T14:28:18.144796419Z"
    }
   },
   "outputs": [
    {
     "data": {
      "text/plain": "array([[False,  True,  True],\n       [ True, False,  True],\n       [ True,  True,  True]])"
     },
     "execution_count": 32,
     "metadata": {},
     "output_type": "execute_result"
    }
   ],
   "source": [
    "booleana"
   ]
  },
  {
   "cell_type": "code",
   "execution_count": 33,
   "metadata": {
    "scrolled": true,
    "ExecuteTime": {
     "end_time": "2023-11-29T14:28:37.457527205Z",
     "start_time": "2023-11-29T14:28:37.372395232Z"
    }
   },
   "outputs": [
    {
     "data": {
      "text/plain": "True"
     },
     "execution_count": 33,
     "metadata": {},
     "output_type": "execute_result"
    }
   ],
   "source": [
    "np.any(booleana)"
   ]
  },
  {
   "cell_type": "code",
   "execution_count": 34,
   "metadata": {
    "scrolled": true,
    "ExecuteTime": {
     "end_time": "2023-11-29T14:28:40.334276469Z",
     "start_time": "2023-11-29T14:28:40.297052396Z"
    }
   },
   "outputs": [
    {
     "data": {
      "text/plain": "False"
     },
     "execution_count": 34,
     "metadata": {},
     "output_type": "execute_result"
    }
   ],
   "source": [
    "np.all(booleana)"
   ]
  },
  {
   "cell_type": "code",
   "execution_count": 35,
   "metadata": {
    "scrolled": true,
    "ExecuteTime": {
     "end_time": "2023-11-29T14:28:48.918464857Z",
     "start_time": "2023-11-29T14:28:48.882695829Z"
    }
   },
   "outputs": [
    {
     "data": {
      "text/plain": "True"
     },
     "execution_count": 35,
     "metadata": {},
     "output_type": "execute_result"
    }
   ],
   "source": [
    "np.all(booleana[2])"
   ]
  },
  {
   "cell_type": "code",
   "execution_count": 37,
   "metadata": {
    "scrolled": true,
    "ExecuteTime": {
     "end_time": "2023-11-29T14:29:41.541101495Z",
     "start_time": "2023-11-29T14:29:41.471531171Z"
    }
   },
   "outputs": [
    {
     "data": {
      "text/plain": "array([[ True, False, False],\n       [False,  True, False],\n       [False, False, False]])"
     },
     "execution_count": 37,
     "metadata": {},
     "output_type": "execute_result"
    }
   ],
   "source": [
    "np.logical_not(booleana)"
   ]
  },
  {
   "cell_type": "code",
   "execution_count": 38,
   "metadata": {
    "scrolled": true,
    "ExecuteTime": {
     "end_time": "2023-11-29T14:29:49.058515615Z",
     "start_time": "2023-11-29T14:29:48.968192376Z"
    }
   },
   "outputs": [
    {
     "data": {
      "text/plain": "array([[ True,  True,  True],\n       [ True,  True,  True],\n       [ True,  True,  True]])"
     },
     "execution_count": 38,
     "metadata": {},
     "output_type": "execute_result"
    }
   ],
   "source": [
    "np.logical_or(booleana, True)"
   ]
  },
  {
   "cell_type": "code",
   "execution_count": 39,
   "metadata": {
    "scrolled": true,
    "ExecuteTime": {
     "end_time": "2023-11-29T14:29:55.904958739Z",
     "start_time": "2023-11-29T14:29:55.839097309Z"
    }
   },
   "outputs": [],
   "source": [
    "otro_booleano = np.array([1, 0, 2], dtype=np.bool_)"
   ]
  },
  {
   "cell_type": "code",
   "execution_count": 40,
   "metadata": {
    "scrolled": true,
    "ExecuteTime": {
     "end_time": "2023-11-29T14:29:57.810830554Z",
     "start_time": "2023-11-29T14:29:57.774829012Z"
    }
   },
   "outputs": [
    {
     "data": {
      "text/plain": "array([ True, False,  True])"
     },
     "execution_count": 40,
     "metadata": {},
     "output_type": "execute_result"
    }
   ],
   "source": [
    "otro_booleano"
   ]
  },
  {
   "cell_type": "code",
   "execution_count": 41,
   "metadata": {
    "scrolled": true,
    "ExecuteTime": {
     "end_time": "2023-11-29T14:30:05.275683001Z",
     "start_time": "2023-11-29T14:30:05.213736716Z"
    }
   },
   "outputs": [
    {
     "data": {
      "text/plain": "array([[False,  True,  True],\n       [ True, False,  True],\n       [ True,  True,  True]])"
     },
     "execution_count": 41,
     "metadata": {},
     "output_type": "execute_result"
    }
   ],
   "source": [
    "booleana"
   ]
  },
  {
   "cell_type": "code",
   "execution_count": 42,
   "metadata": {
    "scrolled": true,
    "ExecuteTime": {
     "end_time": "2023-11-29T14:30:06.118452904Z",
     "start_time": "2023-11-29T14:30:06.048990396Z"
    }
   },
   "outputs": [
    {
     "data": {
      "text/plain": "array([[False, False,  True],\n       [ True, False,  True],\n       [ True, False,  True]])"
     },
     "execution_count": 42,
     "metadata": {},
     "output_type": "execute_result"
    }
   ],
   "source": [
    "np.logical_and(booleana, otro_booleano)"
   ]
  },
  {
   "cell_type": "markdown",
   "metadata": {},
   "source": [
    "## Funciones polinomiales."
   ]
  },
  {
   "cell_type": "markdown",
   "metadata": {},
   "source": [
    "### La función  ```np.poly1d()```.\n",
    "\n",
    "Esta función define un polinomio con coeficientes:\n",
    "\n",
    "```\n",
    "array[c1, c2, .... cn, c0]\n",
    "```\n",
    "\n",
    "$ c_1x^n + c_2x^{n-1} + ... + c_nx + c_o$"
   ]
  },
  {
   "cell_type": "markdown",
   "metadata": {},
   "source": [
    "**Ejemplo:**"
   ]
  },
  {
   "cell_type": "markdown",
   "metadata": {},
   "source": [
    "* La siguiente celda creará un array que correponde al polinomio: \n",
    "\n",
    "$2x^4 + 4x^3 - 3x^2 + 0.5$"
   ]
  },
  {
   "cell_type": "code",
   "execution_count": null,
   "metadata": {
    "scrolled": true
   },
   "outputs": [],
   "source": [
    "ecuacion = np.poly1d([2, 4, -3, 0, 0.5])"
   ]
  },
  {
   "cell_type": "code",
   "execution_count": null,
   "metadata": {
    "scrolled": true
   },
   "outputs": [],
   "source": [
    "ecuacion"
   ]
  },
  {
   "cell_type": "markdown",
   "metadata": {},
   "source": [
    "La siguiente celda calculará la derivada de ```ecuacion```, la cual da por resultado: \n",
    "\n",
    "$8x^3 + 12x^2 - 6x$"
   ]
  },
  {
   "cell_type": "code",
   "execution_count": null,
   "metadata": {
    "scrolled": true
   },
   "outputs": [],
   "source": [
    "np.polyder(ecuacion)"
   ]
  },
  {
   "cell_type": "markdown",
   "metadata": {},
   "source": [
    "La siguiente celda calculará la integral indefinida de ```ecuacion```, la cual da por resultado: \n",
    "\n",
    "$0.4x^5 + x^4 -x^3 + 0.5x + c$"
   ]
  },
  {
   "cell_type": "code",
   "execution_count": null,
   "metadata": {
    "scrolled": true
   },
   "outputs": [],
   "source": [
    "np.polyint(ecuacion)"
   ]
  },
  {
   "cell_type": "markdown",
   "metadata": {},
   "source": [
    "## Funciones estadísticas.\n",
    "\n",
    "* ```np.amax()```\n",
    "* ```np amin()```\n",
    "* ```np.argmax()```\n",
    "* ```np.argmin()```\n",
    "* ```np.average()```\n",
    "* ```np.correlate()```\n",
    "* ```np.corrcoef()```\n",
    "* ```np.count_nonzero()```\n",
    "* ```np.cov()```\n",
    "* ```np.cumprod()```\n",
    "* ```np.cumsum()```\n",
    "* ```np.histogram()```\n",
    "* ```np.histogram2d()```\n",
    "* ```np.histogram_bin_edges()```\n",
    "* ```np.histogramdd()```\n",
    "* ```np.max()```\n",
    "* ```np.mean()```\n",
    "* ```np.median()```\n",
    "* ```np.min()```\n",
    "* ```np.nanargmax()```\n",
    "* ```np.nanargmin()```\n",
    "* ```np.nancumprod()```\n",
    "* ```np.nancumsum()```\n",
    "* ```np.nanmax()```\n",
    "* ```np.nanmean()```\n",
    "* ```np.nanmedian()```\n",
    "* ```np.nanmin()```\n",
    "* ```np.nanpercentile()```\n",
    "* ```np.nanquantile()```\n",
    "* ```np.nanstd()```\n",
    "* ```np.nansum()```\n",
    "* ```np.nanvar()```\n",
    "* ```np.percentile()```\n",
    "* ```np.quantile()```\n",
    "* ```np.std()```\n",
    "* ```np.var()```"
   ]
  },
  {
   "cell_type": "code",
   "execution_count": null,
   "metadata": {
    "scrolled": true
   },
   "outputs": [],
   "source": [
    "numeros"
   ]
  },
  {
   "cell_type": "code",
   "execution_count": null,
   "metadata": {
    "scrolled": true
   },
   "outputs": [],
   "source": [
    "np.max(numeros)"
   ]
  },
  {
   "cell_type": "code",
   "execution_count": null,
   "metadata": {
    "scrolled": true
   },
   "outputs": [],
   "source": [
    "np.nanmax(numeros)"
   ]
  },
  {
   "cell_type": "code",
   "execution_count": null,
   "metadata": {
    "scrolled": true
   },
   "outputs": [],
   "source": [
    "np.nanmin(numeros)"
   ]
  },
  {
   "cell_type": "code",
   "execution_count": null,
   "metadata": {
    "scrolled": true
   },
   "outputs": [],
   "source": [
    "np.nanmean(numeros)"
   ]
  },
  {
   "cell_type": "code",
   "execution_count": null,
   "metadata": {
    "scrolled": true
   },
   "outputs": [],
   "source": [
    "np.nanmean(numeros[0])"
   ]
  },
  {
   "cell_type": "code",
   "execution_count": null,
   "metadata": {
    "scrolled": true
   },
   "outputs": [],
   "source": [
    "np.nanmean(numeros[2])"
   ]
  },
  {
   "cell_type": "code",
   "execution_count": null,
   "metadata": {
    "scrolled": true
   },
   "outputs": [],
   "source": [
    "np.nanmean(numeros[1])"
   ]
  },
  {
   "cell_type": "code",
   "execution_count": 3,
   "metadata": {
    "scrolled": true
   },
   "outputs": [],
   "source": [
    "aleatorios = np.random.randint(100,size=(20))"
   ]
  },
  {
   "cell_type": "code",
   "execution_count": 4,
   "metadata": {
    "scrolled": true
   },
   "outputs": [
    {
     "data": {
      "text/plain": [
       "array([85, 13, 32,  6, 40, 89, 77, 45, 89, 70, 36, 28, 51,  1, 49, 20, 19,\n",
       "       38, 39, 38])"
      ]
     },
     "execution_count": 4,
     "metadata": {},
     "output_type": "execute_result"
    }
   ],
   "source": [
    "aleatorios"
   ]
  },
  {
   "cell_type": "code",
   "execution_count": 5,
   "metadata": {
    "scrolled": true
   },
   "outputs": [
    {
     "data": {
      "text/plain": [
       "(array([2, 1, 2, 3, 4, 3, 0, 1, 1, 3], dtype=int64),\n",
       " array([ 1. ,  9.8, 18.6, 27.4, 36.2, 45. , 53.8, 62.6, 71.4, 80.2, 89. ]))"
      ]
     },
     "execution_count": 5,
     "metadata": {},
     "output_type": "execute_result"
    }
   ],
   "source": [
    "np.histogram(aleatorios)"
   ]
  }
 ],
 "metadata": {
  "kernelspec": {
   "display_name": "Python 3",
   "language": "python",
   "name": "python3"
  },
  "language_info": {
   "codemirror_mode": {
    "name": "ipython",
    "version": 3
   },
   "file_extension": ".py",
   "mimetype": "text/x-python",
   "name": "python",
   "nbconvert_exporter": "python",
   "pygments_lexer": "ipython3",
   "version": "3.7.7"
  }
 },
 "nbformat": 4,
 "nbformat_minor": 2
}
