{
 "cells": [
  {
   "cell_type": "markdown",
   "metadata": {},
   "source": [
    "# Numpy  \n",
    "\n",
    "Numpy es un paquete especializado en la creación, gestión y operación de arrays de una o varias dimensiones. Incluye funciones matemáticas y estádisticas básicas, así como la generación de números aleatorios.\n",
    "\n",
    "Numpy cuenta con módulos especializados en operaciones de algebra lineal y transformaciones de Fourier entre otros. Incluso existen variedades de Numpy como Gnumpy que están diseñadas para usar la GPU para realizar cálculos.\n",
    "\n",
    "Los tipos de datos y las arrays dmi_array Numpy son fundamentales para el resto de los componentes de Scipy, así como para otras herramientas de cómputo científico.\n",
    "\n",
    "Por convención, cuando se manda a llamar *numpy* se hace con la abreviatura *np*\n"
   ]
  },
  {
   "cell_type": "code",
   "execution_count": 8,
   "metadata": {
    "ExecuteTime": {
     "end_time": "2023-11-20T16:20:12.592421958Z",
     "start_time": "2023-11-20T16:20:09.006459620Z"
    }
   },
   "outputs": [
    {
     "name": "stdout",
     "output_type": "stream",
     "text": [
      "Requirement already satisfied: numpy in /home/zarateadm/.local/lib/python3.8/site-packages (1.24.4)\r\n"
     ]
    }
   ],
   "source": [
    "!pip install numpy"
   ]
  },
  {
   "cell_type": "code",
   "execution_count": 9,
   "metadata": {
    "ExecuteTime": {
     "end_time": "2023-11-20T16:20:12.621892295Z",
     "start_time": "2023-11-20T16:20:12.601607601Z"
    }
   },
   "outputs": [],
   "source": [
    "import numpy as np"
   ]
  },
  {
   "cell_type": "markdown",
   "metadata": {},
   "source": [
    "## Los arrays en Numpy\n",
    "\n",
    "Un array es una colección ordenada e indexable de objetos, todos del mismo tipo.\n",
    "De manera genérica, se construyen con la siguiente sintaxis\n",
    "\n",
    "``nombre_del_array = np.array(\"estructura\")``\n",
    "\n",
    "Los arrays de Numpy son estructuras que a su vez pueden contener arrays en varios niveles o \"dimensiones\".\n",
    "Todos los arrays en una dimensión específica deben de contener el mismo número de elementos. Al número de objetos que contiene un array en cada dimensión se conoce como forma (shape)."
   ]
  },
  {
   "cell_type": "code",
   "execution_count": 10,
   "metadata": {
    "ExecuteTime": {
     "end_time": "2023-11-20T16:20:12.634920006Z",
     "start_time": "2023-11-20T16:20:12.611463388Z"
    }
   },
   "outputs": [
    {
     "data": {
      "text/plain": "array([1, 2, 3])"
     },
     "execution_count": 10,
     "metadata": {},
     "output_type": "execute_result"
    }
   ],
   "source": [
    "# Crearemos un array de dimensión 1\n",
    "array_1d = np.array([1,2,3])\n",
    "array_1d"
   ]
  },
  {
   "cell_type": "code",
   "execution_count": 11,
   "metadata": {
    "ExecuteTime": {
     "end_time": "2023-11-20T16:20:12.690409242Z",
     "start_time": "2023-11-20T16:20:12.663566131Z"
    }
   },
   "outputs": [
    {
     "data": {
      "text/plain": "array([[1, 2, 3],\n       [4, 5, 6]])"
     },
     "execution_count": 11,
     "metadata": {},
     "output_type": "execute_result"
    }
   ],
   "source": [
    "# Crearemos un array de 2 dimensiones\n",
    "array_2d = np.array([[1,2,3],[4,5,6]])\n",
    "array_2d"
   ]
  },
  {
   "cell_type": "markdown",
   "metadata": {},
   "source": [
    "Los arrays cuentan con el atributo *ndim*, el cual indica el número de dimensiones del array."
   ]
  },
  {
   "cell_type": "code",
   "execution_count": 12,
   "metadata": {
    "ExecuteTime": {
     "end_time": "2023-11-20T16:20:12.690901918Z",
     "start_time": "2023-11-20T16:20:12.663982617Z"
    }
   },
   "outputs": [
    {
     "name": "stdout",
     "output_type": "stream",
     "text": [
      "El array array_1d tiene un total de 1 dimensiones, las cuales valen (3,) respectivamente, por lo cual cuenta con 3 elementos\n"
     ]
    }
   ],
   "source": [
    "print(f\"El array array_1d tiene un total de {array_1d.ndim} dimensiones, y su shape es {array_1d.shape} respectivamente, por lo cual cuenta con {array_1d.size} elementos\")\n"
   ]
  },
  {
   "cell_type": "code",
   "execution_count": 13,
   "metadata": {
    "ExecuteTime": {
     "end_time": "2023-11-20T16:20:12.691281333Z",
     "start_time": "2023-11-20T16:20:12.664320156Z"
    }
   },
   "outputs": [
    {
     "name": "stdout",
     "output_type": "stream",
     "text": [
      "El array array_1d tiene un total de 2 dimensiones, las cuales valen (2, 3) respectivamente, por lo cual cuenta con 6 elementos\n"
     ]
    }
   ],
   "source": [
    "print(f\"El array array_1d tiene un total de {array_2d.ndim} dimensiones, y su shape es {array_2d.shape} respectivamente, por lo cual cuenta con {array_2d.size} elementos\")\n"
   ]
  },
  {
   "cell_type": "markdown",
   "metadata": {},
   "source": [
    "También podemos incluir valores nulos con *np.nan*"
   ]
  },
  {
   "cell_type": "code",
   "execution_count": 30,
   "metadata": {
    "ExecuteTime": {
     "end_time": "2023-11-20T16:20:26.258656046Z",
     "start_time": "2023-11-20T16:20:26.245653268Z"
    }
   },
   "outputs": [
    {
     "data": {
      "text/plain": "array([ 2.,  4., nan,  8.])"
     },
     "execution_count": 30,
     "metadata": {},
     "output_type": "execute_result"
    }
   ],
   "source": [
    "array_con_nulos = np.array([2,4,np.nan,8])\n",
    "array_con_nulos"
   ]
  },
  {
   "cell_type": "markdown",
   "metadata": {},
   "source": [
    "E incluso podemos hacer reemplazamientos de los valores nulos por algún otro valor"
   ]
  },
  {
   "cell_type": "code",
   "execution_count": 31,
   "metadata": {
    "ExecuteTime": {
     "end_time": "2023-11-20T16:20:49.044159800Z",
     "start_time": "2023-11-20T16:20:48.996859204Z"
    }
   },
   "outputs": [
    {
     "data": {
      "text/plain": "array([2., 4., 0., 8.])"
     },
     "execution_count": 31,
     "metadata": {},
     "output_type": "execute_result"
    }
   ],
   "source": [
    "array_con_nulos[np.isnan(array_con_nulos)] = 0\n",
    "array_con_nulos"
   ]
  },
  {
   "cell_type": "markdown",
   "metadata": {},
   "source": [
    "## Indexado de arrays\n",
    "\n",
    "Consideremos el siguiente array:\n"
   ]
  },
  {
   "cell_type": "code",
   "execution_count": 33,
   "metadata": {
    "ExecuteTime": {
     "end_time": "2023-11-20T16:22:08.567295686Z",
     "start_time": "2023-11-20T16:22:08.534829637Z"
    }
   },
   "outputs": [
    {
     "data": {
      "text/plain": "array([[ 3,  4,  5,  9],\n       [ 7,  8,  3, 12],\n       [ 0,  3, 23, 20],\n       [ 8, 11,  6, 21]])"
     },
     "execution_count": 33,
     "metadata": {},
     "output_type": "execute_result"
    }
   ],
   "source": [
    "mi_array = np.array([[3,4,5,9],\n",
    "                       [7,8,3,12],\n",
    "                       [0,3,23,20],\n",
    "                       [8,11,6,21]])\n",
    "mi_array"
   ]
  },
  {
   "cell_type": "code",
   "execution_count": 34,
   "metadata": {
    "ExecuteTime": {
     "end_time": "2023-11-20T16:22:11.712878756Z",
     "start_time": "2023-11-20T16:22:11.687830588Z"
    }
   },
   "outputs": [
    {
     "data": {
      "text/plain": "5"
     },
     "execution_count": 34,
     "metadata": {},
     "output_type": "execute_result"
    }
   ],
   "source": [
    "# Accesar al elemento de la fila 1 y columna 3\n",
    "mi_array[0,2]"
   ]
  },
  {
   "cell_type": "code",
   "execution_count": 35,
   "metadata": {
    "ExecuteTime": {
     "end_time": "2023-11-20T16:22:24.439894042Z",
     "start_time": "2023-11-20T16:22:24.413365483Z"
    }
   },
   "outputs": [
    {
     "data": {
      "text/plain": "array([4, 5])"
     },
     "execution_count": 35,
     "metadata": {},
     "output_type": "execute_result"
    }
   ],
   "source": [
    "# Accesar a la fila 1 desde la segunda columna hasta la tercera\n",
    "mi_array[0,1:3]"
   ]
  },
  {
   "cell_type": "code",
   "execution_count": 36,
   "metadata": {
    "ExecuteTime": {
     "end_time": "2023-11-20T16:22:27.198610587Z",
     "start_time": "2023-11-20T16:22:27.170813633Z"
    }
   },
   "outputs": [
    {
     "data": {
      "text/plain": "array([ 7,  8,  3, 12])"
     },
     "execution_count": 36,
     "metadata": {},
     "output_type": "execute_result"
    }
   ],
   "source": [
    "# Accesar a toda la fila 2\n",
    "mi_array[1,:]"
   ]
  },
  {
   "cell_type": "code",
   "execution_count": 38,
   "metadata": {
    "ExecuteTime": {
     "end_time": "2023-11-20T16:22:38.292640913Z",
     "start_time": "2023-11-20T16:22:38.277064646Z"
    }
   },
   "outputs": [
    {
     "data": {
      "text/plain": "array([[ 7,  8,  3, 12],\n       [ 0,  3, 23, 20]])"
     },
     "execution_count": 38,
     "metadata": {},
     "output_type": "execute_result"
    }
   ],
   "source": [
    "# Accesar a las filas 2 y 3\n",
    "mi_array[1:3,:]"
   ]
  },
  {
   "cell_type": "code",
   "execution_count": 39,
   "metadata": {
    "ExecuteTime": {
     "end_time": "2023-11-20T16:22:43.188954184Z",
     "start_time": "2023-11-20T16:22:43.174579006Z"
    }
   },
   "outputs": [
    {
     "data": {
      "text/plain": "array([ 5,  3, 23,  6])"
     },
     "execution_count": 39,
     "metadata": {},
     "output_type": "execute_result"
    }
   ],
   "source": [
    "# Accesar a la columna 3\n",
    "mi_array[:,2]"
   ]
  },
  {
   "cell_type": "code",
   "execution_count": 41,
   "metadata": {
    "ExecuteTime": {
     "end_time": "2023-11-20T16:22:52.166917619Z",
     "start_time": "2023-11-20T16:22:52.130309020Z"
    }
   },
   "outputs": [
    {
     "data": {
      "text/plain": "array([ 9, 12, 20, 21])"
     },
     "execution_count": 41,
     "metadata": {},
     "output_type": "execute_result"
    }
   ],
   "source": [
    "# Accesar a la última columna\n",
    "mi_array[:,-1]"
   ]
  },
  {
   "cell_type": "markdown",
   "metadata": {},
   "source": [
    "## Observación importante sobre los índices\n",
    "\n",
    "Es importante saber que el indexado de arrays puede cambiar el objeto original.\n",
    "\n"
   ]
  },
  {
   "cell_type": "code",
   "execution_count": 43,
   "metadata": {
    "ExecuteTime": {
     "end_time": "2023-11-20T16:23:15.200319890Z",
     "start_time": "2023-11-20T16:23:15.164586442Z"
    }
   },
   "outputs": [
    {
     "data": {
      "text/plain": "array([[ 1,  2,  3,  4],\n       [ 5,  6,  7,  8],\n       [ 9, 10, 11, 12]])"
     },
     "execution_count": 43,
     "metadata": {},
     "output_type": "execute_result"
    }
   ],
   "source": [
    "# Consideremos la siguiente matriz\n",
    "matriz = np.array([[1,2,3,4],[5,6,7,8],[9,10,11,12]])\n",
    "matriz"
   ]
  },
  {
   "cell_type": "code",
   "execution_count": 45,
   "metadata": {
    "ExecuteTime": {
     "end_time": "2023-11-20T16:24:55.785890570Z",
     "start_time": "2023-11-20T16:24:55.748649007Z"
    }
   },
   "outputs": [
    {
     "name": "stdout",
     "output_type": "stream",
     "text": [
      "6\n"
     ]
    },
    {
     "data": {
      "text/plain": "array([[ 1,  2,  3,  4],\n       [ 5,  6,  7,  8],\n       [ 9, 10, 11, 12]])"
     },
     "execution_count": 45,
     "metadata": {},
     "output_type": "execute_result"
    }
   ],
   "source": [
    "seleccion = matriz[1,1]\n",
    "print(seleccion)\n",
    "seleccion = 100\n",
    "matriz"
   ]
  },
  {
   "cell_type": "code",
   "execution_count": 46,
   "metadata": {
    "ExecuteTime": {
     "end_time": "2023-11-20T16:25:09.063407372Z",
     "start_time": "2023-11-20T16:25:09.025674101Z"
    }
   },
   "outputs": [
    {
     "name": "stdout",
     "output_type": "stream",
     "text": [
      "[[1 2 3 4]\n",
      " [5 6 7 8]]\n"
     ]
    }
   ],
   "source": [
    "seccion = matriz[:2,]\n",
    "print(seccion)\n"
   ]
  },
  {
   "cell_type": "code",
   "execution_count": 47,
   "metadata": {
    "ExecuteTime": {
     "end_time": "2023-11-20T16:25:29.749299255Z",
     "start_time": "2023-11-20T16:25:29.696912605Z"
    }
   },
   "outputs": [
    {
     "data": {
      "text/plain": "array([[100,   2,   3,   4],\n       [  5,   6,   7,   8],\n       [  9,  10,  11,  12]])"
     },
     "execution_count": 47,
     "metadata": {},
     "output_type": "execute_result"
    }
   ],
   "source": [
    "seccion[0,0]\n",
    "seccion[0,0] = 100\n",
    "matriz"
   ]
  },
  {
   "cell_type": "markdown",
   "metadata": {},
   "source": [
    "## Filtrados\n",
    "\n",
    "Consideremos la siguiente matriz"
   ]
  },
  {
   "cell_type": "code",
   "execution_count": 48,
   "metadata": {
    "ExecuteTime": {
     "end_time": "2023-11-20T16:25:47.053333611Z",
     "start_time": "2023-11-20T16:25:46.965831940Z"
    }
   },
   "outputs": [
    {
     "data": {
      "text/plain": "array([[1, 4],\n       [2, 4],\n       [5, 0]])"
     },
     "execution_count": 48,
     "metadata": {},
     "output_type": "execute_result"
    }
   ],
   "source": [
    "matriz = np.array([[1,4],[2,4],[5,0]])\n",
    "matriz"
   ]
  },
  {
   "cell_type": "code",
   "execution_count": 49,
   "metadata": {
    "ExecuteTime": {
     "end_time": "2023-11-20T16:25:59.371603918Z",
     "start_time": "2023-11-20T16:25:59.354793884Z"
    }
   },
   "outputs": [
    {
     "data": {
      "text/plain": "array([[False,  True],\n       [ True,  True],\n       [ True, False]])"
     },
     "execution_count": 49,
     "metadata": {},
     "output_type": "execute_result"
    }
   ],
   "source": [
    "# Construir una matriz booleana que nos diga qué elementos son mayores o iguales que 2\n",
    "matriz_filtrada = matriz >= 2\n",
    "matriz_filtrada"
   ]
  },
  {
   "cell_type": "code",
   "execution_count": 50,
   "metadata": {
    "ExecuteTime": {
     "end_time": "2023-11-20T16:26:24.528598750Z",
     "start_time": "2023-11-20T16:26:24.482360489Z"
    }
   },
   "outputs": [
    {
     "data": {
      "text/plain": "array([4, 2, 4, 5])"
     },
     "execution_count": 50,
     "metadata": {},
     "output_type": "execute_result"
    }
   ],
   "source": [
    "matriz[matriz_filtrada]"
   ]
  },
  {
   "cell_type": "code",
   "execution_count": null,
   "outputs": [],
   "source": [],
   "metadata": {
    "collapsed": false
   }
  }
 ],
 "metadata": {
  "kernelspec": {
   "display_name": "Python 3",
   "language": "python",
   "name": "python3"
  },
  "language_info": {
   "codemirror_mode": {
    "name": "ipython",
    "version": 3
   },
   "file_extension": ".py",
   "mimetype": "text/x-python",
   "name": "python",
   "nbconvert_exporter": "python",
   "pygments_lexer": "ipython3",
   "version": "3.7.7"
  }
 },
 "nbformat": 4,
 "nbformat_minor": 4
}
