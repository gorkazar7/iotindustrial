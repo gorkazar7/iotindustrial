{
 "cells": [
  {
   "cell_type": "markdown",
   "metadata": {},
   "source": [
    "    \n",
    "# **Transformaciones**\n",
    "\n",
    "\n"
   ]
  },
  {
   "cell_type": "markdown",
   "metadata": {},
   "source": [
    "## <font color=#003d5c>_As Type_ </font>\n",
    "\n",
    "### Este método nos permite modificar el tipo de dato de los valores de un `array`"
   ]
  },
  {
   "cell_type": "code",
   "execution_count": 1,
   "metadata": {
    "ExecuteTime": {
     "end_time": "2023-11-29T15:08:42.745467913Z",
     "start_time": "2023-11-29T15:08:42.638970859Z"
    }
   },
   "outputs": [
    {
     "data": {
      "text/plain": "array([[79,  1,  3, 74],\n       [88, 23, 16, 88],\n       [26, 46, 79, 35]])"
     },
     "execution_count": 1,
     "metadata": {},
     "output_type": "execute_result"
    }
   ],
   "source": [
    "import numpy as np\n",
    "\n",
    "arr_ent = np.random.randint(100, size=(3,4))\n",
    "arr_ent"
   ]
  },
  {
   "cell_type": "code",
   "execution_count": 2,
   "metadata": {
    "ExecuteTime": {
     "end_time": "2023-11-29T15:10:31.261770877Z",
     "start_time": "2023-11-29T15:10:31.195887274Z"
    }
   },
   "outputs": [
    {
     "data": {
      "text/plain": "array([[79.,  1.,  3., 74.],\n       [88., 23., 16., 88.],\n       [26., 46., 79., 35.]])"
     },
     "execution_count": 2,
     "metadata": {},
     "output_type": "execute_result"
    }
   ],
   "source": [
    "arr_ent.astype(float)"
   ]
  },
  {
   "cell_type": "markdown",
   "metadata": {},
   "source": [
    "## <font color=#003d5c>_Sort_ </font>\n",
    "\n",
    "### Este método nos permite ordenar los valores de un `array`"
   ]
  },
  {
   "cell_type": "code",
   "execution_count": 3,
   "metadata": {
    "ExecuteTime": {
     "end_time": "2023-11-29T15:10:43.513039640Z",
     "start_time": "2023-11-29T15:10:43.482234620Z"
    }
   },
   "outputs": [
    {
     "data": {
      "text/plain": "array([[79,  1,  3, 74],\n       [88, 23, 16, 88],\n       [26, 46, 79, 35]])"
     },
     "execution_count": 3,
     "metadata": {},
     "output_type": "execute_result"
    }
   ],
   "source": [
    "arr_ent"
   ]
  },
  {
   "cell_type": "code",
   "execution_count": 4,
   "metadata": {
    "ExecuteTime": {
     "end_time": "2023-11-29T15:10:50.981131143Z",
     "start_time": "2023-11-29T15:10:50.963356622Z"
    }
   },
   "outputs": [
    {
     "data": {
      "text/plain": "array([[ 1,  3, 74, 79],\n       [16, 23, 88, 88],\n       [26, 35, 46, 79]])"
     },
     "execution_count": 4,
     "metadata": {},
     "output_type": "execute_result"
    }
   ],
   "source": [
    "arr_ent.sort()\n",
    "arr_ent"
   ]
  },
  {
   "cell_type": "code",
   "execution_count": 5,
   "metadata": {
    "ExecuteTime": {
     "end_time": "2023-11-29T15:10:58.009458915Z",
     "start_time": "2023-11-29T15:10:57.994197838Z"
    }
   },
   "outputs": [
    {
     "data": {
      "text/plain": "array([[ 1,  3, 46, 79],\n       [16, 23, 74, 79],\n       [26, 35, 88, 88]])"
     },
     "execution_count": 5,
     "metadata": {},
     "output_type": "execute_result"
    }
   ],
   "source": [
    "arr_ent.sort(axis=0)\n",
    "arr_ent"
   ]
  },
  {
   "cell_type": "markdown",
   "metadata": {},
   "source": [
    "## <font color=#003d5c>_Reshape_ </font>\n",
    "\n",
    "### Este método nos permite modificar las dimensiones de un `array`."
   ]
  },
  {
   "cell_type": "code",
   "execution_count": 6,
   "metadata": {
    "ExecuteTime": {
     "end_time": "2023-11-29T15:11:03.922981398Z",
     "start_time": "2023-11-29T15:11:03.881501163Z"
    }
   },
   "outputs": [
    {
     "data": {
      "text/plain": "array([[ 1,  3, 46, 79],\n       [16, 23, 74, 79],\n       [26, 35, 88, 88]])"
     },
     "execution_count": 6,
     "metadata": {},
     "output_type": "execute_result"
    }
   ],
   "source": [
    "arr_ent"
   ]
  },
  {
   "cell_type": "code",
   "execution_count": 7,
   "metadata": {
    "ExecuteTime": {
     "end_time": "2023-11-29T15:11:11.484599632Z",
     "start_time": "2023-11-29T15:11:11.469464059Z"
    }
   },
   "outputs": [
    {
     "data": {
      "text/plain": "array([[ 1,  3, 46],\n       [79, 16, 23],\n       [74, 79, 26],\n       [35, 88, 88]])"
     },
     "execution_count": 7,
     "metadata": {},
     "output_type": "execute_result"
    }
   ],
   "source": [
    "arr_ent = arr_ent.reshape(4,3)\n",
    "arr_ent"
   ]
  },
  {
   "cell_type": "markdown",
   "metadata": {},
   "source": [
    "## <font color=#003d5c>_Flatten_ </font>\n",
    "\n",
    "### Este método crea un array unidimensional desde el original."
   ]
  },
  {
   "cell_type": "code",
   "execution_count": 8,
   "metadata": {
    "ExecuteTime": {
     "end_time": "2023-11-29T15:11:20.653876970Z",
     "start_time": "2023-11-29T15:11:20.639115411Z"
    }
   },
   "outputs": [
    {
     "name": "stdout",
     "output_type": "stream",
     "text": [
      "[[ 1  3 46]\n",
      " [79 16 23]\n",
      " [74 79 26]\n",
      " [35 88 88]]\n",
      "[ 1  3 46 79 16 23 74 79 26 35 88 88]\n"
     ]
    }
   ],
   "source": [
    "plano_arr = arr_ent.flatten()\n",
    "\n",
    "print(arr_ent)\n",
    "print(plano_arr)"
   ]
  },
  {
   "cell_type": "markdown",
   "metadata": {},
   "source": [
    "## <font color=#003d5c>_To List_ </font>\n",
    "\n",
    "### Este método crea una lista a partir de un array"
   ]
  },
  {
   "cell_type": "code",
   "execution_count": 9,
   "metadata": {
    "ExecuteTime": {
     "end_time": "2023-11-29T15:11:52.461909755Z",
     "start_time": "2023-11-29T15:11:52.417777960Z"
    }
   },
   "outputs": [
    {
     "data": {
      "text/plain": "list"
     },
     "execution_count": 9,
     "metadata": {},
     "output_type": "execute_result"
    }
   ],
   "source": [
    "lista_arr = plano_arr.tolist()\n",
    "lista_arr\n",
    "type(lista_arr)"
   ]
  },
  {
   "cell_type": "markdown",
   "metadata": {},
   "source": [
    "## <font color=#003d5c>_Separar y juntar arrays_ </font>"
   ]
  },
  {
   "cell_type": "code",
   "execution_count": 10,
   "metadata": {
    "ExecuteTime": {
     "end_time": "2023-11-29T15:12:03.602327661Z",
     "start_time": "2023-11-29T15:12:03.555842474Z"
    }
   },
   "outputs": [
    {
     "data": {
      "text/plain": "[array([[ 1,  3, 46]]),\n array([[79, 16, 23]]),\n array([[74, 79, 26]]),\n array([[35, 88, 88]])]"
     },
     "execution_count": 10,
     "metadata": {},
     "output_type": "execute_result"
    }
   ],
   "source": [
    "arrays= np.split(arr_ent,4)\n",
    "arrays"
   ]
  },
  {
   "cell_type": "code",
   "execution_count": 11,
   "metadata": {
    "ExecuteTime": {
     "end_time": "2023-11-29T15:12:08.696760793Z",
     "start_time": "2023-11-29T15:12:08.682483216Z"
    }
   },
   "outputs": [
    {
     "data": {
      "text/plain": "array([[79, 16, 23,  1,  3, 46]])"
     },
     "execution_count": 11,
     "metadata": {},
     "output_type": "execute_result"
    }
   ],
   "source": [
    "np.concatenate((arrays[1],arrays[0]),axis=1)"
   ]
  },
  {
   "cell_type": "markdown",
   "metadata": {},
   "source": [
    "## <font color=#003d5c>_La matriz transpuesta_ </font>"
   ]
  },
  {
   "cell_type": "code",
   "execution_count": 12,
   "metadata": {
    "ExecuteTime": {
     "end_time": "2023-11-29T15:12:14.928414890Z",
     "start_time": "2023-11-29T15:12:14.915873823Z"
    }
   },
   "outputs": [
    {
     "data": {
      "text/plain": "array([[ 1,  3, 46],\n       [79, 16, 23],\n       [74, 79, 26],\n       [35, 88, 88]])"
     },
     "execution_count": 12,
     "metadata": {},
     "output_type": "execute_result"
    }
   ],
   "source": [
    "arr_ent"
   ]
  },
  {
   "cell_type": "code",
   "execution_count": 13,
   "metadata": {
    "ExecuteTime": {
     "end_time": "2023-11-29T15:12:16.566003796Z",
     "start_time": "2023-11-29T15:12:16.532059064Z"
    }
   },
   "outputs": [
    {
     "data": {
      "text/plain": "array([[ 1, 79, 74, 35],\n       [ 3, 16, 79, 88],\n       [46, 23, 26, 88]])"
     },
     "execution_count": 13,
     "metadata": {},
     "output_type": "execute_result"
    }
   ],
   "source": [
    "t_arr = arr_ent.T\n",
    "t_arr"
   ]
  },
  {
   "cell_type": "code",
   "execution_count": null,
   "outputs": [],
   "source": [],
   "metadata": {
    "collapsed": false
   }
  }
 ],
 "metadata": {
  "kernelspec": {
   "display_name": "Python 3",
   "language": "python",
   "name": "python3"
  },
  "language_info": {
   "codemirror_mode": {
    "name": "ipython",
    "version": 3
   },
   "file_extension": ".py",
   "mimetype": "text/x-python",
   "name": "python",
   "nbconvert_exporter": "python",
   "pygments_lexer": "ipython3",
   "version": "3.7.6"
  }
 },
 "nbformat": 4,
 "nbformat_minor": 4
}
