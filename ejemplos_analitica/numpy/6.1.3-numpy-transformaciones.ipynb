{
 "cells": [
  {
   "cell_type": "markdown",
   "metadata": {},
   "source": [
    "    \n",
    "# **Transformaciones**\n",
    "\n",
    "\n"
   ]
  },
  {
   "cell_type": "markdown",
   "metadata": {},
   "source": [
    "## <font color=#003d5c>_As Type_ </font>\n",
    "\n",
    "### Este método nos permite modificar el tipo de dato de los valores de un `array`"
   ]
  },
  {
   "cell_type": "code",
   "metadata": {
    "ExecuteTime": {
     "end_time": "2024-05-06T20:02:25.968711Z",
     "start_time": "2024-05-06T20:02:25.846355Z"
    }
   },
   "source": [
    "import numpy as np\n",
    "\n",
    "arr_ent = np.random.randint(100, size=(3,4))\n",
    "arr_ent"
   ],
   "outputs": [
    {
     "data": {
      "text/plain": [
       "array([[69, 66, 68, 52],\n",
       "       [ 3, 82, 19, 51],\n",
       "       [85,  9,  4, 58]])"
      ]
     },
     "execution_count": 1,
     "metadata": {},
     "output_type": "execute_result"
    }
   ],
   "execution_count": 1
  },
  {
   "cell_type": "code",
   "metadata": {
    "ExecuteTime": {
     "end_time": "2024-05-06T20:02:27.288833Z",
     "start_time": "2024-05-06T20:02:27.276230Z"
    }
   },
   "source": [
    "arr_ent.astype(float)"
   ],
   "outputs": [
    {
     "data": {
      "text/plain": [
       "array([[69., 66., 68., 52.],\n",
       "       [ 3., 82., 19., 51.],\n",
       "       [85.,  9.,  4., 58.]])"
      ]
     },
     "execution_count": 2,
     "metadata": {},
     "output_type": "execute_result"
    }
   ],
   "execution_count": 2
  },
  {
   "cell_type": "markdown",
   "metadata": {},
   "source": [
    "## <font color=#003d5c>_Sort_ </font>\n",
    "\n",
    "### Este método nos permite ordenar los valores de un `array`"
   ]
  },
  {
   "cell_type": "code",
   "metadata": {
    "ExecuteTime": {
     "end_time": "2024-05-06T20:02:34.210297Z",
     "start_time": "2024-05-06T20:02:34.197976Z"
    }
   },
   "source": [
    "arr_ent"
   ],
   "outputs": [
    {
     "data": {
      "text/plain": [
       "array([[69, 66, 68, 52],\n",
       "       [ 3, 82, 19, 51],\n",
       "       [85,  9,  4, 58]])"
      ]
     },
     "execution_count": 3,
     "metadata": {},
     "output_type": "execute_result"
    }
   ],
   "execution_count": 3
  },
  {
   "cell_type": "code",
   "metadata": {
    "ExecuteTime": {
     "end_time": "2024-05-06T20:02:44.855896Z",
     "start_time": "2024-05-06T20:02:44.849481Z"
    }
   },
   "source": [
    "arr_ent.sort()\n",
    "arr_ent"
   ],
   "outputs": [
    {
     "data": {
      "text/plain": [
       "array([[52, 66, 68, 69],\n",
       "       [ 3, 19, 51, 82],\n",
       "       [ 4,  9, 58, 85]])"
      ]
     },
     "execution_count": 4,
     "metadata": {},
     "output_type": "execute_result"
    }
   ],
   "execution_count": 4
  },
  {
   "cell_type": "code",
   "metadata": {
    "ExecuteTime": {
     "end_time": "2024-05-06T20:03:02.868333Z",
     "start_time": "2024-05-06T20:03:02.856755Z"
    }
   },
   "source": [
    "arr_ent.sort(axis=0)\n",
    "arr_ent"
   ],
   "outputs": [
    {
     "data": {
      "text/plain": [
       "array([[ 3,  9, 51, 69],\n",
       "       [ 4, 19, 58, 82],\n",
       "       [52, 66, 68, 85]])"
      ]
     },
     "execution_count": 5,
     "metadata": {},
     "output_type": "execute_result"
    }
   ],
   "execution_count": 5
  },
  {
   "cell_type": "markdown",
   "metadata": {},
   "source": [
    "## <font color=#003d5c>_Flatten_ </font>\n",
    "\n",
    "### Este método crea un array unidimensional desde el original."
   ]
  },
  {
   "cell_type": "code",
   "metadata": {
    "ExecuteTime": {
     "end_time": "2024-05-06T20:07:27.650694Z",
     "start_time": "2024-05-06T20:07:27.644787Z"
    }
   },
   "source": [
    "plano_arr = arr_ent.flatten()\n",
    "\n",
    "print(arr_ent)\n",
    "print(plano_arr)"
   ],
   "outputs": [
    {
     "name": "stdout",
     "output_type": "stream",
     "text": [
      "[[ 3  9 51]\n",
      " [69  4 19]\n",
      " [58 82 52]\n",
      " [66 68 85]]\n",
      "[ 3  9 51 69  4 19 58 82 52 66 68 85]\n"
     ]
    }
   ],
   "execution_count": 9
  },
  {
   "metadata": {
    "ExecuteTime": {
     "end_time": "2024-05-06T20:13:22.818840Z",
     "start_time": "2024-05-06T20:13:22.813228Z"
    }
   },
   "cell_type": "code",
   "source": [
    "rav = np.ravel(arr_ent)\n",
    "print(rav)"
   ],
   "outputs": [
    {
     "name": "stdout",
     "output_type": "stream",
     "text": [
      "[ 3  9 51 69  4 19 58 82 52 66 68 85]\n"
     ]
    }
   ],
   "execution_count": 12
  },
  {
   "cell_type": "markdown",
   "metadata": {},
   "source": [
    "## <font color=#003d5c>_To List_ </font>\n",
    "\n",
    "### Este método crea una lista a partir de un array"
   ]
  },
  {
   "cell_type": "code",
   "metadata": {
    "ExecuteTime": {
     "end_time": "2024-05-06T20:15:42.195447Z",
     "start_time": "2024-05-06T20:15:42.185313Z"
    }
   },
   "source": [
    "lista_arr = plano_arr.tolist()\n",
    "lista_arr\n",
    "print(lista_arr)\n",
    "type(lista_arr)"
   ],
   "outputs": [
    {
     "name": "stdout",
     "output_type": "stream",
     "text": [
      "[3, 9, 51, 69, 4, 19, 58, 82, 52, 66, 68, 85]\n"
     ]
    },
    {
     "data": {
      "text/plain": [
       "list"
      ]
     },
     "execution_count": 14,
     "metadata": {},
     "output_type": "execute_result"
    }
   ],
   "execution_count": 14
  },
  {
   "cell_type": "markdown",
   "metadata": {},
   "source": [
    "## <font color=#003d5c>_Separar y juntar arrays_ </font>"
   ]
  },
  {
   "cell_type": "code",
   "metadata": {
    "ExecuteTime": {
     "end_time": "2024-05-06T20:15:51.823990Z",
     "start_time": "2024-05-06T20:15:51.811749Z"
    }
   },
   "source": [
    "arrays= np.split(arr_ent,4)\n",
    "arrays"
   ],
   "outputs": [
    {
     "data": {
      "text/plain": [
       "[array([[ 3,  9, 51]]),\n",
       " array([[69,  4, 19]]),\n",
       " array([[58, 82, 52]]),\n",
       " array([[66, 68, 85]])]"
      ]
     },
     "execution_count": 15,
     "metadata": {},
     "output_type": "execute_result"
    }
   ],
   "execution_count": 15
  },
  {
   "cell_type": "code",
   "metadata": {
    "ExecuteTime": {
     "end_time": "2024-05-06T20:16:13.005621Z",
     "start_time": "2024-05-06T20:16:12.997158Z"
    }
   },
   "source": [
    "np.concatenate((arrays[1],arrays[0]),axis=1)"
   ],
   "outputs": [
    {
     "data": {
      "text/plain": [
       "array([[69,  4, 19,  3,  9, 51]])"
      ]
     },
     "execution_count": 16,
     "metadata": {},
     "output_type": "execute_result"
    }
   ],
   "execution_count": 16
  }
 ],
 "metadata": {
  "kernelspec": {
   "display_name": "Python 3",
   "language": "python",
   "name": "python3"
  },
  "language_info": {
   "codemirror_mode": {
    "name": "ipython",
    "version": 3
   },
   "file_extension": ".py",
   "mimetype": "text/x-python",
   "name": "python",
   "nbconvert_exporter": "python",
   "pygments_lexer": "ipython3",
   "version": "3.7.6"
  }
 },
 "nbformat": 4,
 "nbformat_minor": 4
}
