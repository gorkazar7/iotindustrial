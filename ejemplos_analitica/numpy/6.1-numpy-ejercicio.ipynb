{
 "cells": [
  {
   "cell_type": "markdown",
   "source": [
    "Crear un array, llamado ar con la siguiente estructura\n",
    "\n",
    "| 1 6 11 | \n",
    "| 2 7 12 | \n",
    "| 3 8 13 | \n",
    "| 4 9 14 | \n",
    "| 5 10 15 |"
   ],
   "metadata": {
    "collapsed": false
   },
   "id": "b0fbfd64d7d87d57"
  },
  {
   "cell_type": "code",
   "execution_count": null,
   "outputs": [],
   "source": [],
   "metadata": {
    "collapsed": false
   },
   "id": "e7910727d77a3525"
  },
  {
   "cell_type": "markdown",
   "source": [
    "Imprime. “Este array tiene X dimensiones y N elementos”. Cambiar X y N por sus valores"
   ],
   "metadata": {
    "collapsed": false
   },
   "id": "a132af7cfad5660a"
  },
  {
   "cell_type": "code",
   "execution_count": null,
   "outputs": [],
   "source": [],
   "metadata": {
    "collapsed": false
   },
   "id": "8522ea3b332ae2da"
  },
  {
   "cell_type": "markdown",
   "source": [
    "Selecciona la columna 2 del array (su primer elemento es el 6)"
   ],
   "metadata": {
    "collapsed": false
   },
   "id": "b6f1fda2fd5251d0"
  },
  {
   "cell_type": "code",
   "execution_count": null,
   "outputs": [],
   "source": [],
   "metadata": {
    "collapsed": false
   },
   "id": "981909c2ea3d1cf4"
  },
  {
   "cell_type": "markdown",
   "source": [
    "Crea un array ar2 con los números del 15 al 54 incluidos (np.arange())"
   ],
   "metadata": {
    "collapsed": false
   },
   "id": "3c1bc28c6af4f9ba"
  },
  {
   "cell_type": "code",
   "execution_count": null,
   "outputs": [],
   "source": [],
   "metadata": {
    "collapsed": false
   },
   "id": "b80dca221b7db451"
  },
  {
   "cell_type": "markdown",
   "source": [
    "Divide ese ar2 en 4 filas con np.shape y crear ar3"
   ],
   "metadata": {
    "collapsed": false
   },
   "id": "29f4c8f58c25d981"
  },
  {
   "cell_type": "code",
   "execution_count": null,
   "outputs": [],
   "source": [],
   "metadata": {
    "collapsed": false
   },
   "id": "b14397c7ddf8bf94"
  },
  {
   "cell_type": "markdown",
   "source": [
    "A partir del ar2, vuelve a crear ar2 escribiendo los valores en orden inverso"
   ],
   "metadata": {
    "collapsed": false
   },
   "id": "6b5189bb3be078fb"
  },
  {
   "cell_type": "code",
   "execution_count": null,
   "outputs": [],
   "source": [],
   "metadata": {
    "collapsed": false
   },
   "id": "3b3aaa98d6b9efb5"
  },
  {
   "cell_type": "markdown",
   "source": [
    "Crea una matriz de 5 filas y 3 columnas cuyos elementos sean números aleatorios entre 0 y 1."
   ],
   "metadata": {
    "collapsed": false
   },
   "id": "855636ac1c26f2cb"
  },
  {
   "cell_type": "code",
   "execution_count": null,
   "outputs": [],
   "source": [],
   "metadata": {
    "collapsed": false
   },
   "id": "18a33c2165497844"
  }
 ],
 "metadata": {
  "kernelspec": {
   "display_name": "Python 3",
   "language": "python",
   "name": "python3"
  },
  "language_info": {
   "codemirror_mode": {
    "name": "ipython",
    "version": 2
   },
   "file_extension": ".py",
   "mimetype": "text/x-python",
   "name": "python",
   "nbconvert_exporter": "python",
   "pygments_lexer": "ipython2",
   "version": "2.7.6"
  }
 },
 "nbformat": 4,
 "nbformat_minor": 5
}
