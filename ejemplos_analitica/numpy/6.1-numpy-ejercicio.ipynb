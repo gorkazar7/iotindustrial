{
 "cells": [
  {
   "cell_type": "markdown",
   "source": [
    "Crear un array, llamado ar con la siguiente estructura\n",
    "\n",
    "| 1 6 11 | \n",
    "| 2 7 12 | \n",
    "| 3 8 13 | \n",
    "| 4 9 14 | \n",
    "| 5 10 15 |"
   ],
   "metadata": {
    "collapsed": false
   },
   "id": "b0fbfd64d7d87d57"
  },
  {
   "cell_type": "code",
   "execution_count": 3,
   "outputs": [
    {
     "data": {
      "text/plain": "array([[ 1,  6, 11],\n       [ 2,  7, 12],\n       [ 3,  8, 13],\n       [ 4,  9, 14],\n       [ 5, 10, 15]])"
     },
     "execution_count": 3,
     "metadata": {},
     "output_type": "execute_result"
    }
   ],
   "source": [
    "import numpy as np\n",
    "# Crear un array con la estructura deseada\n",
    "ar = np.array([[1, 6, 11],\n",
    "               [2, 7, 12],\n",
    "               [3, 8, 13],\n",
    "               [4, 9, 14],\n",
    "               [5, 10, 15]])\n",
    "ar"
   ],
   "metadata": {
    "collapsed": false,
    "ExecuteTime": {
     "end_time": "2023-11-29T14:47:28.376233669Z",
     "start_time": "2023-11-29T14:47:28.276673327Z"
    }
   },
   "id": "e7910727d77a3525"
  },
  {
   "cell_type": "markdown",
   "source": [
    "Imprime. “Este array tiene X dimensiones y N elementos”. Cambiar X y N por sus valores"
   ],
   "metadata": {
    "collapsed": false
   },
   "id": "a132af7cfad5660a"
  },
  {
   "cell_type": "code",
   "execution_count": 8,
   "outputs": [
    {
     "name": "stdout",
     "output_type": "stream",
     "text": [
      "Este array tiene 2 dimensiones y 15 elementos.\n"
     ]
    }
   ],
   "source": [
    "dimensiones = ar.ndim\n",
    "elementos = ar.size\n",
    "\n",
    "print(f\"Este array tiene {dimensiones} dimensiones y {elementos} elementos.\")\n"
   ],
   "metadata": {
    "collapsed": false,
    "ExecuteTime": {
     "end_time": "2023-11-29T14:52:33.207050476Z",
     "start_time": "2023-11-29T14:52:33.175465408Z"
    }
   },
   "id": "8522ea3b332ae2da"
  },
  {
   "cell_type": "markdown",
   "source": [
    "Selecciona la columna 2 del array (su primer elemento es el 6)"
   ],
   "metadata": {
    "collapsed": false
   },
   "id": "b6f1fda2fd5251d0"
  },
  {
   "cell_type": "code",
   "execution_count": 11,
   "outputs": [
    {
     "data": {
      "text/plain": "6"
     },
     "execution_count": 11,
     "metadata": {},
     "output_type": "execute_result"
    }
   ],
   "source": [
    "ar[0,1]"
   ],
   "metadata": {
    "collapsed": false,
    "ExecuteTime": {
     "end_time": "2023-11-29T14:53:49.048222796Z",
     "start_time": "2023-11-29T14:53:49.005318046Z"
    }
   },
   "id": "981909c2ea3d1cf4"
  },
  {
   "cell_type": "markdown",
   "source": [
    "Crea un array ar2 con los números del 15 al 54 incluidos (np.arange())"
   ],
   "metadata": {
    "collapsed": false
   },
   "id": "3c1bc28c6af4f9ba"
  },
  {
   "cell_type": "code",
   "execution_count": 39,
   "outputs": [
    {
     "data": {
      "text/plain": "array([15, 16, 17, 18, 19, 20, 21, 22, 23, 24, 25, 26, 27, 28, 29, 30, 31,\n       32, 33, 34, 35, 36, 37, 38, 39, 40, 41, 42, 43, 44, 45, 46, 47, 48,\n       49, 50, 51, 52, 53, 54])"
     },
     "execution_count": 39,
     "metadata": {},
     "output_type": "execute_result"
    }
   ],
   "source": [
    "ar2 = np.arange(15,55)\n",
    "ar2"
   ],
   "metadata": {
    "collapsed": false,
    "ExecuteTime": {
     "end_time": "2023-11-29T15:07:40.553697415Z",
     "start_time": "2023-11-29T15:07:40.500387847Z"
    }
   },
   "id": "b80dca221b7db451"
  },
  {
   "cell_type": "markdown",
   "source": [
    "Divide ese ar2 en 4 filas con np.shape (reshape) y crear ar3"
   ],
   "metadata": {
    "collapsed": false
   },
   "id": "29f4c8f58c25d981"
  },
  {
   "cell_type": "code",
   "execution_count": 40,
   "outputs": [
    {
     "data": {
      "text/plain": "array([[15, 16, 17, 18, 19, 20, 21, 22, 23, 24],\n       [25, 26, 27, 28, 29, 30, 31, 32, 33, 34],\n       [35, 36, 37, 38, 39, 40, 41, 42, 43, 44],\n       [45, 46, 47, 48, 49, 50, 51, 52, 53, 54]])"
     },
     "execution_count": 40,
     "metadata": {},
     "output_type": "execute_result"
    }
   ],
   "source": [
    "ar3 = np.reshape(ar2, (4, -1))\n",
    "#ar2.shape = (4,10)\n",
    "ar3"
   ],
   "metadata": {
    "collapsed": false,
    "ExecuteTime": {
     "end_time": "2023-11-29T15:07:54.227404814Z",
     "start_time": "2023-11-29T15:07:54.214347257Z"
    }
   },
   "id": "b14397c7ddf8bf94"
  },
  {
   "cell_type": "markdown",
   "source": [
    "A partir del ar2, vuelve a crear ar2 escribiendo los valores en orden inverso"
   ],
   "metadata": {
    "collapsed": false
   },
   "id": "6b5189bb3be078fb"
  },
  {
   "cell_type": "code",
   "execution_count": 34,
   "outputs": [
    {
     "data": {
      "text/plain": "array([54, 53, 52, 51, 50, 49, 48, 47, 46, 45, 44, 43, 42, 41, 40, 39, 38,\n       37, 36, 35, 34, 33, 32, 31, 30, 29, 28, 27, 26, 25, 24, 23, 22, 21,\n       20, 19, 18, 17, 16, 15])"
     },
     "execution_count": 34,
     "metadata": {},
     "output_type": "execute_result"
    }
   ],
   "source": [
    "ar2 = np.flip(ar2)\n",
    "ar2"
   ],
   "metadata": {
    "collapsed": false,
    "ExecuteTime": {
     "end_time": "2023-11-29T15:01:38.277483754Z",
     "start_time": "2023-11-29T15:01:38.229561280Z"
    }
   },
   "id": "3b3aaa98d6b9efb5"
  },
  {
   "cell_type": "markdown",
   "source": [
    "Crea una matriz de 5 filas y 3 columnas cuyos elementos sean números aleatorios entre 0 y 1."
   ],
   "metadata": {
    "collapsed": false
   },
   "id": "855636ac1c26f2cb"
  },
  {
   "cell_type": "code",
   "execution_count": 42,
   "outputs": [
    {
     "data": {
      "text/plain": "array([[0, 1, 0],\n       [1, 1, 0],\n       [0, 1, 0],\n       [0, 0, 1],\n       [0, 1, 1]])"
     },
     "execution_count": 42,
     "metadata": {},
     "output_type": "execute_result"
    }
   ],
   "source": [
    "matriz = np.random.randint(0,2,(5,3))\n",
    "matriz"
   ],
   "metadata": {
    "collapsed": false,
    "ExecuteTime": {
     "end_time": "2023-11-29T15:08:16.201402848Z",
     "start_time": "2023-11-29T15:08:16.186947584Z"
    }
   },
   "id": "18a33c2165497844"
  },
  {
   "cell_type": "code",
   "execution_count": null,
   "outputs": [],
   "source": [],
   "metadata": {
    "collapsed": false
   },
   "id": "a2c02d580d04a77d"
  }
 ],
 "metadata": {
  "kernelspec": {
   "display_name": "Python 3",
   "language": "python",
   "name": "python3"
  },
  "language_info": {
   "codemirror_mode": {
    "name": "ipython",
    "version": 2
   },
   "file_extension": ".py",
   "mimetype": "text/x-python",
   "name": "python",
   "nbconvert_exporter": "python",
   "pygments_lexer": "ipython2",
   "version": "2.7.6"
  }
 },
 "nbformat": 4,
 "nbformat_minor": 5
}
